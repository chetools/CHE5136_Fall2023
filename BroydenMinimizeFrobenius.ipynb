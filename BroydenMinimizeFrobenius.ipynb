{
  "nbformat": 4,
  "nbformat_minor": 0,
  "metadata": {
    "colab": {
      "provenance": [],
      "authorship_tag": "ABX9TyPDVHtL/uL4ttJwxZ1WkN3X",
      "include_colab_link": true
    },
    "kernelspec": {
      "name": "python3",
      "display_name": "Python 3"
    },
    "language_info": {
      "name": "python"
    }
  },
  "cells": [
    {
      "cell_type": "markdown",
      "metadata": {
        "id": "view-in-github",
        "colab_type": "text"
      },
      "source": [
        "<a href=\"https://colab.research.google.com/github/profteachkids/CHE5136_Fall2023/blob/main/BroydenMinimizeFrobenius.ipynb\" target=\"_parent\"><img src=\"https://colab.research.google.com/assets/colab-badge.svg\" alt=\"Open In Colab\"/></a>"
      ]
    },
    {
      "cell_type": "code",
      "execution_count": 25,
      "metadata": {
        "id": "vFbssWGvbv_T"
      },
      "outputs": [],
      "source": [
        "import numpy as np\n",
        "import jax\n",
        "jax.config.update('jax_enable_x64',True)\n",
        "import jax.numpy as jnp\n",
        "from scipy.optimize import minimize"
      ]
    },
    {
      "cell_type": "code",
      "source": [
        "N=3\n",
        "Jold=np.random.uniform(size=(N,N))\n",
        "d = np.random.uniform(size=(N,1))\n",
        "fnew = np.random.uniform(size=(N,1))\n",
        "\n",
        "def obj(x):\n",
        "    Jnew = x.reshape(N,N)\n",
        "    return np.sum((Jnew - Jold)**2)\n",
        "\n",
        "def secant(x):\n",
        "    Jnew = x.reshape(N,N)\n",
        "    return np.squeeze((Jnew - Jold) @ d - fnew)"
      ],
      "metadata": {
        "id": "FFJDdj2oh4lN"
      },
      "execution_count": 33,
      "outputs": []
    },
    {
      "cell_type": "code",
      "source": [
        "res=minimize(obj, Jold.flatten(), constraints=dict(type='eq', fun=secant))\n",
        "res"
      ],
      "metadata": {
        "colab": {
          "base_uri": "https://localhost:8080/"
        },
        "id": "1Efy_gYZh7AH",
        "outputId": "5619e8a4-04a0-4a8a-a09b-698c00ca096c"
      },
      "execution_count": 34,
      "outputs": [
        {
          "output_type": "execute_result",
          "data": {
            "text/plain": [
              " message: Optimization terminated successfully\n",
              " success: True\n",
              "  status: 0\n",
              "     fun: 0.3776167320006847\n",
              "       x: [ 1.234e+00  4.667e-01  4.093e-01  8.565e-01  1.351e-01\n",
              "            5.287e-01  6.170e-01  8.157e-01  4.951e-01]\n",
              "     nit: 3\n",
              "     jac: [ 5.521e-01  2.610e-01  5.948e-01  4.956e-01  2.343e-01\n",
              "            5.340e-01  2.882e-01  1.362e-01  3.105e-01]\n",
              "    nfev: 31\n",
              "    njev: 3"
            ]
          },
          "metadata": {},
          "execution_count": 34
        }
      ]
    },
    {
      "cell_type": "code",
      "source": [
        "res.x.reshape(N,N)"
      ],
      "metadata": {
        "colab": {
          "base_uri": "https://localhost:8080/"
        },
        "id": "C6yPOt38kaWV",
        "outputId": "eb605988-4fca-4acf-aa7d-73960d08a7da"
      },
      "execution_count": 36,
      "outputs": [
        {
          "output_type": "execute_result",
          "data": {
            "text/plain": [
              "array([[1.23404654, 0.46673481, 0.40931621],\n",
              "       [0.85651821, 0.13505822, 0.52867636],\n",
              "       [0.61700841, 0.81568817, 0.4950762 ]])"
            ]
          },
          "metadata": {},
          "execution_count": 36
        }
      ]
    },
    {
      "cell_type": "code",
      "source": [
        "Jold + fnew @ d.T / (d.T @ d)"
      ],
      "metadata": {
        "colab": {
          "base_uri": "https://localhost:8080/"
        },
        "id": "z2_m32PmlHTm",
        "outputId": "6298a691-4dbb-4e26-e911-bbac527f51ae"
      },
      "execution_count": 38,
      "outputs": [
        {
          "output_type": "execute_result",
          "data": {
            "text/plain": [
              "array([[1.23404654, 0.46673481, 0.40931621],\n",
              "       [0.8565182 , 0.13505822, 0.52867636],\n",
              "       [0.61700841, 0.81568818, 0.4950762 ]])"
            ]
          },
          "metadata": {},
          "execution_count": 38
        }
      ]
    },
    {
      "cell_type": "code",
      "source": [],
      "metadata": {
        "id": "AUXG6DKvlH4O"
      },
      "execution_count": 29,
      "outputs": []
    }
  ]
}