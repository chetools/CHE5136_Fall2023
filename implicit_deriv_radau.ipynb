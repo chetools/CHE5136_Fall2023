{
  "nbformat": 4,
  "nbformat_minor": 0,
  "metadata": {
    "colab": {
      "provenance": [],
      "authorship_tag": "ABX9TyMqCN80jf8O+PVGBTvnOSeW",
      "include_colab_link": true
    },
    "kernelspec": {
      "name": "python3",
      "display_name": "Python 3"
    },
    "language_info": {
      "name": "python"
    }
  },
  "cells": [
    {
      "cell_type": "markdown",
      "metadata": {
        "id": "view-in-github",
        "colab_type": "text"
      },
      "source": [
        "<a href=\"https://colab.research.google.com/github/profteachkids/CHE5136_Fall2023/blob/main/implicit_deriv_radau.ipynb\" target=\"_parent\"><img src=\"https://colab.research.google.com/assets/colab-badge.svg\" alt=\"Open In Colab\"/></a>"
      ]
    },
    {
      "cell_type": "code",
      "source": [
        "import numpy as np\n",
        "import numpy.polynomial.polynomial as P\n",
        "import jax.numpy as jnp\n",
        "import jax\n",
        "jax.config.update('jax_enable_x64', True)\n",
        "from plotly.subplots import make_subplots\n",
        "from scipy.integrate import solve_ivp, Radau\n",
        "from numpy.polynomial.legendre import leggauss\n",
        "from scipy.optimize import root\n",
        "from scipy.special import roots_jacobi\n",
        "from functools import partial"
      ],
      "metadata": {
        "id": "ZKSKmtGLNzH_"
      },
      "execution_count": 1,
      "outputs": []
    },
    {
      "cell_type": "code",
      "source": [
        "def rhs(t,y,u):\n",
        "    return jnp.array([y[1], -y[0]+u*jnp.sin(t)])"
      ],
      "metadata": {
        "id": "3ftwdqLocFfY"
      },
      "execution_count": 89,
      "outputs": []
    },
    {
      "cell_type": "code",
      "source": [
        "y0=jnp.array([0., 1.])\n",
        "u=0.05\n",
        "tend=10\n",
        "res=solve_ivp(rhs,(0,tend),y0,method='Radau',jac=jax.jacobian(rhs,1),args=(u,),dense_output=True, atol=1e-7,rtol=1e-5)"
      ],
      "metadata": {
        "id": "I-7vP49_c1xz"
      },
      "execution_count": 80,
      "outputs": []
    },
    {
      "cell_type": "code",
      "source": [
        "@jax.jit\n",
        "def _interpolate(t, ts, hs, y0s, Qs):\n",
        "    t=jnp.atleast_1d(t)\n",
        "    i=jnp.searchsorted(ts,t, side='right')-1\n",
        "    x = (t-ts[i])/hs[i]\n",
        "    p = jnp.cumprod(jnp.tile(x, (3,1)),axis=0)\n",
        "    y= jnp.where(t<ts[-1],jnp.einsum('tyi, it -> yt', jnp.take(Qs, i, 0), p)+jnp.take(y0s,i,1),jnp.take(y0s,i,1))\n",
        "    return jnp.squeeze(y)\n",
        "\n",
        "def get_interp(res):\n",
        "\n",
        "    ts=jnp.array(res.t)\n",
        "    hs=ts[1:]-ts[:-1]\n",
        "    y0s=jnp.array(res.y)\n",
        "    Qs=jnp.stack([s.Q for s in res.sol.interpolants])\n",
        "\n",
        "    return partial(_interpolate, ts=ts, hs=hs, y0s=y0s, Qs=Qs)"
      ],
      "metadata": {
        "id": "73NypX9beajA"
      },
      "execution_count": 81,
      "outputs": []
    },
    {
      "cell_type": "code",
      "source": [
        "x = (np.r_[-1.,leggauss(3)[0],1])/2 + 0.5\n",
        "p = jnp.tile(x, (3,1))\n",
        "p = jnp.cumprod(p,axis=0)\n",
        "dp = p[:-1,:]*jnp.arange(2,4)[:,None]\n",
        "rhs_vec=jnp.vectorize(rhs,signature='(),(2),()->(2)')\n",
        "\n",
        "ts=jnp.array(res.t)\n",
        "hs=ts[1:]-ts[:-1]\n",
        "y0s=jnp.array(res.y)\n",
        "Qs=jnp.stack([s.Q for s in res.sol.interpolants])\n",
        "Nb = Qs.shape[0]\n",
        "\n",
        "interpolate = get_interp(res)\n",
        "jac=jax.jacobian(_interpolate,4)\n",
        "jac(4, ts, hs, y0s, Qs).shape"
      ],
      "metadata": {
        "colab": {
          "base_uri": "https://localhost:8080/"
        },
        "id": "tma_hdIKEiQI",
        "outputId": "850b5a7a-e7f7-4a7e-b9af-3eb536c9d11f"
      },
      "execution_count": 82,
      "outputs": [
        {
          "output_type": "execute_result",
          "data": {
            "text/plain": [
              "(2, 55, 2, 3)"
            ]
          },
          "metadata": {},
          "execution_count": 82
        }
      ]
    },
    {
      "cell_type": "code",
      "source": [
        "@jax.jit\n",
        "def eqs(v,u):\n",
        "    qflat,yb0=v[:Nb*2*3],v[Nb*2*3:]\n",
        "    Qs=jnp.reshape(qflat, (Nb, 2, 3))\n",
        "    yb0=jnp.reshape(yb0,(2,Nb)).T\n",
        "    yb0=jnp.concatenate([y0.reshape(1,2),yb0],axis=0)\n",
        "    qp=jnp.einsum('byi, ix -> byx', Qs, p)\n",
        "    yb=qp[:,:,1:]+yb0[:-1,:,None]\n",
        "    tb=(hs[:,None]*x[None,1:-1]+ts[:-1,None])\n",
        "    ybp=(jnp.einsum('byi, ix -> byx', Qs[:,:,1:] , dp) + Qs[:,:,0][:,:,None])/hs[:,None,None]\n",
        "    ybp=ybp[:,:,1:-1]\n",
        "    end_equality=jnp.ravel(yb[:,:,-1]-yb0[1:,:])\n",
        "    collocation=jnp.ravel(jnp.swapaxes(ybp,1,2)-rhs_vec(tb,jnp.swapaxes(yb[:,:,:-1],1,2),u))\n",
        "    return jnp.concatenate([end_equality, collocation])\n",
        "\n",
        "jacv=jax.jit(jax.jacobian(eqs,0))\n",
        "jacu=jax.jit(jax.jacobian(eqs,1))"
      ],
      "metadata": {
        "id": "fOaJAwZiUggV"
      },
      "execution_count": 83,
      "outputs": []
    },
    {
      "cell_type": "code",
      "source": [
        "flat_res=jnp.concatenate([Qs.ravel(),res.y[:,1:].ravel()])"
      ],
      "metadata": {
        "id": "8hYGz2d68Dzq"
      },
      "execution_count": 84,
      "outputs": []
    },
    {
      "cell_type": "code",
      "source": [
        "solve=root(eqs, jnp.concatenate([Qs.ravel(),res.y[:,1:].ravel()]),jac=jacv,args=(u,))\n",
        "qflat,yb0=solve.x[:Nb*2*3],solve.x[Nb*2*3:]\n",
        "Qs=jnp.reshape(qflat, (Nb, 2, 3))\n",
        "yb0=jnp.concatenate([jnp.reshape(y0,(2,1)),jnp.reshape(yb0,(2,Nb))], axis=1)"
      ],
      "metadata": {
        "id": "S85iG9zQgyyO"
      },
      "execution_count": 85,
      "outputs": []
    },
    {
      "cell_type": "code",
      "source": [
        "tplot = jnp.linspace(0,tend,100)\n",
        "ycol0,ycol1=_interpolate(tplot, ts, hs, yb0, Qs)"
      ],
      "metadata": {
        "id": "o3gOjL9UOQFJ"
      },
      "execution_count": 86,
      "outputs": []
    },
    {
      "cell_type": "code",
      "source": [
        "ycol1"
      ],
      "metadata": {
        "colab": {
          "base_uri": "https://localhost:8080/"
        },
        "id": "P9Bs6TH6AE8F",
        "outputId": "f98cf8f3-261f-465a-bb6d-907cb8276f7d"
      },
      "execution_count": 87,
      "outputs": [
        {
          "output_type": "execute_result",
          "data": {
            "text/plain": [
              "Array([ 1.        ,  0.99565905,  0.98166623,  0.95815277,  0.92533996,\n",
              "        0.88353937,  0.83315143,  0.77465633,  0.7086177 ,  0.63566712,\n",
              "        0.55650875,  0.47190269,  0.38266593,  0.28965774,  0.1937771 ,\n",
              "        0.09594958, -0.00287859, -0.10175114, -0.19971071, -0.29580769,\n",
              "       -0.38910976, -0.4787114 , -0.5637406 , -0.6433714 , -0.71682573,\n",
              "       -0.78338886, -0.84240774, -0.89330617, -0.93558059, -0.96881681,\n",
              "       -0.992681  , -1.00693599, -1.01143227, -1.006118  , -0.99103499,\n",
              "       -0.96631873, -0.93220113, -0.8890006 , -0.83712984, -0.77707944,\n",
              "       -0.70942597, -0.63481515, -0.55396486, -0.46765039, -0.37670463,\n",
              "       -0.28200317, -0.18446122, -0.08502137,  0.01535386,  0.11569162,\n",
              "        0.21501841,  0.31236946,  0.40679714,  0.49738259,  0.58324056,\n",
              "        0.66353362,  0.7374737 ,  0.80433726,  0.86346343,  0.91427135,\n",
              "        0.95625408,  0.98899489,  1.01216212,  1.02551868,  1.02892229,\n",
              "        1.02232483,  1.00577941,  0.9794298 ,  0.9435221 ,  0.89838831,\n",
              "        0.84445731,  0.78223784,  0.71232536,  0.6353856 ,  0.55215854,\n",
              "        0.46344219,  0.37009203,  0.27300818,  0.17312897,  0.07142162,\n",
              "       -0.03112804, -0.13352379, -0.23476955, -0.3338792 , -0.42988469,\n",
              "       -0.52184841, -0.60886783, -0.69009049, -0.76471445, -0.83200555,\n",
              "       -0.89129479, -0.94199398, -0.98359467, -1.01567697, -1.03791398,\n",
              "       -1.05007069, -1.05201498, -1.04370708, -1.02521446, -0.99669698],      dtype=float64)"
            ]
          },
          "metadata": {},
          "execution_count": 87
        }
      ]
    },
    {
      "cell_type": "code",
      "source": [
        "jacu(flat_res,u)"
      ],
      "metadata": {
        "colab": {
          "base_uri": "https://localhost:8080/"
        },
        "id": "brdCYj_LAPkh",
        "outputId": "d038011f-12e7-49dc-966e-57f93dfdbf58"
      },
      "execution_count": 88,
      "outputs": [
        {
          "output_type": "execute_result",
          "data": {
            "text/plain": [
              "Array([ 0.        ,  0.        ,  0.        ,  0.        ,  0.        ,\n",
              "        0.        ,  0.        ,  0.        ,  0.        ,  0.        ,\n",
              "        0.        ,  0.        ,  0.        ,  0.        ,  0.        ,\n",
              "        0.        ,  0.        ,  0.        ,  0.        ,  0.        ,\n",
              "        0.        ,  0.        ,  0.        ,  0.        ,  0.        ,\n",
              "        0.        ,  0.        ,  0.        ,  0.        ,  0.        ,\n",
              "        0.        ,  0.        ,  0.        ,  0.        ,  0.        ,\n",
              "        0.        ,  0.        ,  0.        ,  0.        ,  0.        ,\n",
              "        0.        ,  0.        ,  0.        ,  0.        ,  0.        ,\n",
              "        0.        ,  0.        ,  0.        ,  0.        ,  0.        ,\n",
              "        0.        ,  0.        ,  0.        ,  0.        ,  0.        ,\n",
              "        0.        ,  0.        ,  0.        ,  0.        ,  0.        ,\n",
              "        0.        ,  0.        ,  0.        ,  0.        ,  0.        ,\n",
              "        0.        ,  0.        ,  0.        ,  0.        ,  0.        ,\n",
              "        0.        ,  0.        ,  0.        ,  0.        ,  0.        ,\n",
              "        0.        ,  0.        ,  0.        ,  0.        ,  0.        ,\n",
              "        0.        ,  0.        ,  0.        ,  0.        ,  0.        ,\n",
              "        0.        ,  0.        ,  0.        ,  0.        ,  0.        ,\n",
              "        0.        ,  0.        ,  0.        ,  0.        ,  0.        ,\n",
              "        0.        ,  0.        ,  0.        ,  0.        ,  0.        ,\n",
              "        0.        ,  0.        ,  0.        ,  0.        ,  0.        ,\n",
              "        0.        ,  0.        ,  0.        ,  0.        ,  0.        ,\n",
              "        0.        , -0.10052107,  0.        , -0.10288381,  0.        ,\n",
              "       -0.10524598,  0.        , -0.11280306,  0.        , -0.13636802,\n",
              "        0.        , -0.15985607,  0.        , -0.1876564 ,  0.        ,\n",
              "       -0.25905128,  0.        , -0.32905629,  0.        , -0.36900941,\n",
              "        0.        , -0.43605224,  0.        , -0.50075554,  0.        ,\n",
              "       -0.53719702,  0.        , -0.59749585,  0.        , -0.65458897,\n",
              "        0.        , -0.68621866,  0.        , -0.73762218,  0.        ,\n",
              "       -0.78506817,  0.        , -0.81075759,  0.        , -0.85143183,\n",
              "        0.        , -0.88753793,  0.        , -0.90637053,  0.        ,\n",
              "       -0.93486433,  0.        , -0.95834236,  0.        , -0.96964625,\n",
              "        0.        , -0.98494302,  0.        , -0.99495533,  0.        ,\n",
              "       -0.99832721,  0.        , -0.99988119,  0.        , -0.99607056,\n",
              "        0.        , -0.99139013,  0.        , -0.97914588,  0.        ,\n",
              "       -0.96164827,  0.        , -0.94908252,  0.        , -0.92347689,\n",
              "        0.        , -0.89291657,  0.        , -0.87291381,  0.        ,\n",
              "       -0.83486034,  0.        , -0.79232765,  0.        , -0.76560153,\n",
              "        0.        , -0.71645789,  0.        , -0.66347028,  0.        ,\n",
              "       -0.63097434,  0.        , -0.57249386,  0.        , -0.51094182,\n",
              "        0.        , -0.47383542,  0.        , -0.40810456,  0.        ,\n",
              "       -0.34018411,  0.        , -0.29979114,  0.        , -0.22915502,\n",
              "        0.        , -0.15728941,  0.        , -0.115051  ,  0.        ,\n",
              "       -0.04202975,  0.        ,  0.03121701,  0.        ,  0.0737939 ,\n",
              "        0.        ,  0.14659505,  0.        ,  0.21860968,  0.        ,\n",
              "        0.260006  ,  0.        ,  0.32998967,  0.        ,  0.39820286,\n",
              "        0.        ,  0.43694169,  0.        ,  0.50161101,  0.        ,\n",
              "        0.56358907,  0.        ,  0.59828829,  0.        ,  0.65533602,\n",
              "        0.        ,  0.70886771,  0.        ,  0.73828933,  0.        ,\n",
              "        0.78568013,  0.        ,  0.82885557,  0.        ,  0.8519499 ,\n",
              "        0.        ,  0.88799297,  0.        ,  0.91927175,  0.        ,\n",
              "        0.93521484,  0.        ,  0.95862426,  0.        ,  0.97689042,\n",
              "        0.        ,  0.98511345,  0.        ,  0.99505402,  0.        ,\n",
              "        0.99965588,  0.        ,  0.99986546,  0.        ,  0.99598252,\n",
              "        0.        ,  0.98675589,  0.        ,  0.97894456,  0.        ,\n",
              "        0.96137665,  0.        ,  0.93865071,  0.        ,  0.92309715,\n",
              "        0.        ,  0.89247105,  0.        ,  0.85705662,  0.        ,\n",
              "        0.83431575,  0.        ,  0.79172412,  0.        ,  0.7448847 ,\n",
              "        0.        ,  0.71576787,  0.        ,  0.66273029,  0.        ,\n",
              "        0.606137  ,  0.        ,  0.57168302,  0.        ,  0.51009175,\n",
              "        0.        ,  0.44576372,  0.        ,  0.40720183,  0.        ,\n",
              "        0.33925431,  0.        ,  0.2694866 ,  0.        ,  0.22819261,\n",
              "        0.        ,  0.15631305,  0.        ,  0.08359482,  0.        ,\n",
              "        0.041042  ,  0.        , -0.03220511,  0.        , -0.10527943,\n",
              "        0.        , -0.14757289,  0.        , -0.21957426,  0.        ,\n",
              "       -0.29039755,  0.        , -0.33092273,  0.        , -0.3991095 ,\n",
              "        0.        , -0.46515496,  0.        , -0.50246599,  0.        ,\n",
              "       -0.56440543,  0.        , -0.62331669,  0.        , -0.65608242,\n",
              "        0.        , -0.70956466,  0.        , -0.75923991,  0.        ,\n",
              "       -0.78629133,  0.        , -0.82940825,  0.        , -0.86807519,\n",
              "        0.        , -0.88844715,  0.        , -0.91966044,  0.        ,\n",
              "       -0.94593952,  0.        , -0.95890522,  0.        , -0.97710125,\n",
              "        0.        , -0.9900549 ,  0.        , -0.99515173,  0.        ,\n",
              "       -0.99968132,  0.        , -0.99884738,  0.        , -0.99589351,\n",
              "        0.        , -0.98659505,  0.        , -0.97200326,  0.        ,\n",
              "       -0.96110408,  0.        , -0.93830931,  0.        , -0.91048029,\n",
              "        0.        , -0.89202465,  0.        , -0.85654685,  0.        ,\n",
              "       -0.81647347,  0.        , -0.79111982,  0.        , -0.74422475,\n",
              "        0.        , -0.69333673,  0.        , -0.66198965,  0.        ,\n",
              "       -0.60535041,  0.        , -0.54546333,  0.        , -0.50924119,\n",
              "        0.        , -0.44487855,  0.        , -0.37812904,  0.        ,\n",
              "       -0.33832417,  0.        , -0.26853445,  0.        , -0.19730397,\n",
              "        0.        , -0.15533652,  0.        , -0.08260964,  0.        ,\n",
              "       -0.00943954,  0.        ,  0.03319318,  0.        ,  0.10626248,\n",
              "        0.        ,  0.17876166,  0.        ,  0.22053862,  0.        ,\n",
              "        0.29134341,  0.        ,  0.36058506,  0.        ,  0.40001576,\n",
              "        0.        ,  0.46602986,  0.        ,  0.52954361,  0.        ,\n",
              "        0.55651331,  0.        ,  0.58696255,  0.        ,  0.61660317],      dtype=float64, weak_type=True)"
            ]
          },
          "metadata": {},
          "execution_count": 88
        }
      ]
    },
    {
      "cell_type": "code",
      "source": [],
      "metadata": {
        "id": "8HcvjDtrBC6o"
      },
      "execution_count": null,
      "outputs": []
    }
  ]
}