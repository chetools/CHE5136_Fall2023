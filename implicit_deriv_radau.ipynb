{
  "nbformat": 4,
  "nbformat_minor": 0,
  "metadata": {
    "colab": {
      "provenance": [],
      "authorship_tag": "ABX9TyPauL8kiJNzwsp4jepTO0IR",
      "include_colab_link": true
    },
    "kernelspec": {
      "name": "python3",
      "display_name": "Python 3"
    },
    "language_info": {
      "name": "python"
    }
  },
  "cells": [
    {
      "cell_type": "markdown",
      "metadata": {
        "id": "view-in-github",
        "colab_type": "text"
      },
      "source": [
        "<a href=\"https://colab.research.google.com/github/profteachkids/CHE5136_Fall2023/blob/main/implicit_deriv_radau.ipynb\" target=\"_parent\"><img src=\"https://colab.research.google.com/assets/colab-badge.svg\" alt=\"Open In Colab\"/></a>"
      ]
    },
    {
      "cell_type": "code",
      "source": [
        "import numpy as np\n",
        "import numpy.polynomial.polynomial as P\n",
        "import jax.numpy as jnp\n",
        "import jax\n",
        "jax.config.update('jax_enable_x64', True)\n",
        "from plotly.subplots import make_subplots\n",
        "from scipy.integrate import solve_ivp, Radau\n",
        "from numpy.polynomial.legendre import leggauss\n",
        "from scipy.optimize import root\n",
        "from scipy.special import roots_jacobi\n",
        "from functools import partial"
      ],
      "metadata": {
        "id": "ZKSKmtGLNzH_"
      },
      "execution_count": 1,
      "outputs": []
    },
    {
      "cell_type": "code",
      "source": [
        "def rhs(t,y,u):\n",
        "    return jnp.array([y[1], -y[0]+u[0]*jnp.sin(u[1]*t)])"
      ],
      "metadata": {
        "id": "3ftwdqLocFfY"
      },
      "execution_count": 91,
      "outputs": []
    },
    {
      "cell_type": "code",
      "source": [
        "y0=jnp.array([0., 1.])\n",
        "u=jnp.array([0.05,2.])\n",
        "du=jnp.array([0.002,0.003])\n",
        "tend=10\n",
        "res=solve_ivp(rhs,(0,tend),y0,method='Radau',jac=jax.jacobian(rhs,1),args=(u,),dense_output=True, atol=1e-7,rtol=1e-5)\n",
        "resdu=solve_ivp(rhs,(0,tend),y0,method='Radau',jac=jax.jacobian(rhs,1),args=(u+du,),dense_output=True, atol=1e-7,rtol=1e-5)"
      ],
      "metadata": {
        "id": "I-7vP49_c1xz"
      },
      "execution_count": 151,
      "outputs": []
    },
    {
      "cell_type": "code",
      "source": [
        "@jax.jit\n",
        "def _interpolate(t, ts, hs, y0s, Qs):\n",
        "    t=jnp.atleast_1d(t)\n",
        "    i=jnp.searchsorted(ts,t, side='right')-1\n",
        "    x = (t-ts[i])/hs[i]\n",
        "    p = jnp.cumprod(jnp.tile(x, (3,1)),axis=0)\n",
        "    y= jnp.where(t<ts[-1],jnp.einsum('tyi, it -> yt', jnp.take(Qs, i, 0), p)+jnp.take(y0s,i,1),jnp.take(y0s,i,1))\n",
        "    return jnp.squeeze(y)\n",
        "\n",
        "def get_interp(res):\n",
        "\n",
        "    ts=jnp.array(res.t)\n",
        "    hs=ts[1:]-ts[:-1]\n",
        "    y0s=jnp.array(res.y)\n",
        "    Qs=jnp.stack([s.Q for s in res.sol.interpolants])\n",
        "\n",
        "    return partial(_interpolate, ts=ts, hs=hs, y0s=y0s, Qs=Qs)"
      ],
      "metadata": {
        "id": "73NypX9beajA"
      },
      "execution_count": 93,
      "outputs": []
    },
    {
      "cell_type": "code",
      "source": [
        "x = (np.r_[-1.,leggauss(3)[0],1])/2 + 0.5\n",
        "p = jnp.tile(x, (3,1))\n",
        "p = jnp.cumprod(p,axis=0)\n",
        "dp = p[:-1,:]*jnp.arange(2,4)[:,None]\n",
        "rhs_vec=jnp.vectorize(rhs,signature='(),(2),(2)->(2)')\n",
        "\n",
        "ts=jnp.array(res.t)\n",
        "hs=ts[1:]-ts[:-1]\n",
        "y0s=jnp.array(res.y)\n",
        "Qs=jnp.stack([s.Q for s in res.sol.interpolants])\n",
        "Nb = Qs.shape[0]\n",
        "\n"
      ],
      "metadata": {
        "colab": {
          "base_uri": "https://localhost:8080/"
        },
        "id": "tma_hdIKEiQI",
        "outputId": "7ca96c5f-dc49-4308-caaf-2f249ba9e160"
      },
      "execution_count": 98,
      "outputs": [
        {
          "output_type": "execute_result",
          "data": {
            "text/plain": [
              "(2, 59, 2, 3)"
            ]
          },
          "metadata": {},
          "execution_count": 98
        }
      ]
    },
    {
      "cell_type": "code",
      "source": [
        "@jax.jit\n",
        "def eqs(v,u):\n",
        "    qflat,yb0=v[:Nb*2*3],v[Nb*2*3:]\n",
        "    Qs=jnp.reshape(qflat, (Nb, 2, 3))\n",
        "    yb0=jnp.reshape(yb0,(2,Nb)).T\n",
        "    yb0=jnp.concatenate([y0.reshape(1,2),yb0],axis=0)\n",
        "    qp=jnp.einsum('byi, ix -> byx', Qs, p)\n",
        "    yb=qp[:,:,1:]+yb0[:-1,:,None]\n",
        "    tb=(hs[:,None]*x[None,1:-1]+ts[:-1,None])\n",
        "    ybp=(jnp.einsum('byi, ix -> byx', Qs[:,:,1:] , dp) + Qs[:,:,0][:,:,None])/hs[:,None,None]\n",
        "    ybp=ybp[:,:,1:-1]\n",
        "    end_equality=jnp.ravel(yb[:,:,-1]-yb0[1:,:])\n",
        "    collocation=jnp.ravel(jnp.swapaxes(ybp,1,2)-rhs_vec(tb,jnp.swapaxes(yb[:,:,:-1],1,2),u))\n",
        "    return jnp.concatenate([end_equality, collocation])\n",
        "\n",
        "jacv=jax.jit(jax.jacobian(eqs,0))\n",
        "jacu=jax.jit(jax.jacobian(eqs,1))"
      ],
      "metadata": {
        "id": "fOaJAwZiUggV"
      },
      "execution_count": 99,
      "outputs": []
    },
    {
      "cell_type": "code",
      "source": [
        "flat_res=jnp.concatenate([Qs.ravel(),res.y[:,1:].ravel()])"
      ],
      "metadata": {
        "id": "8hYGz2d68Dzq"
      },
      "execution_count": 100,
      "outputs": []
    },
    {
      "cell_type": "code",
      "source": [
        "solve=root(eqs, jnp.concatenate([Qs.ravel(),res.y[:,1:].ravel()]),jac=jacv,args=(u,))\n",
        "qflat,yb0=solve.x[:Nb*2*3],solve.x[Nb*2*3:]\n",
        "Qs=jnp.reshape(qflat, (Nb, 2, 3))\n",
        "yb0=jnp.concatenate([jnp.reshape(y0,(2,1)),jnp.reshape(yb0,(2,Nb))], axis=1)"
      ],
      "metadata": {
        "id": "S85iG9zQgyyO"
      },
      "execution_count": 101,
      "outputs": []
    },
    {
      "cell_type": "code",
      "source": [
        "tplot = jnp.linspace(0,tend,100)\n",
        "ycol0,ycol1=_interpolate(tplot, ts, hs, yb0, Qs)"
      ],
      "metadata": {
        "id": "o3gOjL9UOQFJ"
      },
      "execution_count": 102,
      "outputs": []
    },
    {
      "cell_type": "code",
      "source": [
        "Hu=jacu(flat_res,u)\n",
        "Hq=jacv(flat_res,u)"
      ],
      "metadata": {
        "id": "brdCYj_LAPkh"
      },
      "execution_count": 111,
      "outputs": []
    },
    {
      "cell_type": "code",
      "source": [
        "dqdu=(jnp.linalg.inv(Hq) @ Hu)"
      ],
      "metadata": {
        "id": "q_Uy8UJbF_cj"
      },
      "execution_count": 132,
      "outputs": []
    },
    {
      "cell_type": "code",
      "source": [
        "\n",
        "def _interpolate(t,v):\n",
        "    qflat,yb0=v[:Nb*2*3],v[Nb*2*3:]\n",
        "    Qs=jnp.reshape(qflat, (Nb, 2, 3))\n",
        "    yb0=jnp.reshape(yb0,(2,Nb))\n",
        "    yb0=jnp.concatenate([y0.reshape(2,1),yb0],axis=1)\n",
        "    t=jnp.atleast_1d(t)\n",
        "    i=jnp.searchsorted(ts,t, side='right')-1\n",
        "    x = (t-ts[i])/hs[i]\n",
        "    p = jnp.cumprod(jnp.tile(x, (3,1)),axis=0)\n",
        "    y= jnp.where(t<ts[-1],jnp.einsum('tyi, it -> yt', jnp.take(Qs, i, 0), p)+jnp.take(yb0,i,1),jnp.take(yb0,i,1))\n",
        "    return jnp.squeeze(y)\n",
        "\n",
        "def eqs(v,u):\n",
        "    qflat,yb0=v[:Nb*2*3],v[Nb*2*3:]\n",
        "    Qs=jnp.reshape(qflat, (Nb, 2, 3))\n",
        "    yb0=jnp.reshape(yb0,(2,Nb)).T\n",
        "    yb0=jnp.concatenate([y0.reshape(1,2),yb0],axis=0)\n",
        "    qp=jnp.einsum('byi, ix -> byx', Qs, p)\n",
        "    yb=qp[:,:,1:]+yb0[:-1,:,None]\n",
        "    tb=(hs[:,None]*x[None,1:-1]+ts[:-1,None])\n",
        "    ybp=(jnp.einsum('byi, ix -> byx', Qs[:,:,1:] , dp) + Qs[:,:,0][:,:,None])/hs[:,None,None]\n",
        "    ybp=ybp[:,:,1:-1]\n",
        "    end_equality=jnp.ravel(yb[:,:,-1]-yb0[1:,:])\n",
        "    collocation=jnp.ravel(jnp.swapaxes(ybp,1,2)-rhs_vec(tb,jnp.swapaxes(yb[:,:,:-1],1,2),u))\n",
        "    return jnp.concatenate([end_equality, collocation])\n",
        "\n",
        "jac=jax.jacobian(_interpolate,1)\n",
        "dydq=jac(tend, flat_res)"
      ],
      "metadata": {
        "id": "QrBztg23IXm4"
      },
      "execution_count": 128,
      "outputs": []
    },
    {
      "cell_type": "code",
      "source": [
        "dydu = dydq @ dqdu"
      ],
      "metadata": {
        "id": "42ROEGYhJM46"
      },
      "execution_count": 134,
      "outputs": []
    },
    {
      "cell_type": "code",
      "source": [
        "dydu @ du"
      ],
      "metadata": {
        "colab": {
          "base_uri": "https://localhost:8080/"
        },
        "id": "mvcyuF_KK8R2",
        "outputId": "13d93d40-4ace-4ba8-9bcb-12ba5c19f3d9"
      },
      "execution_count": 152,
      "outputs": [
        {
          "output_type": "execute_result",
          "data": {
            "text/plain": [
              "Array([0.00143183, 0.000646  ], dtype=float64)"
            ]
          },
          "metadata": {},
          "execution_count": 152
        }
      ]
    },
    {
      "cell_type": "code",
      "source": [
        "resdu.y[:,-1]-res.y[:,-1]"
      ],
      "metadata": {
        "colab": {
          "base_uri": "https://localhost:8080/"
        },
        "id": "QeXntgrXLe0g",
        "outputId": "12fa6ab0-b1b9-41cb-c8bd-0da573a9f9f1"
      },
      "execution_count": 153,
      "outputs": [
        {
          "output_type": "execute_result",
          "data": {
            "text/plain": [
              "array([-0.00142811, -0.00060177])"
            ]
          },
          "metadata": {},
          "execution_count": 153
        }
      ]
    },
    {
      "cell_type": "code",
      "source": [],
      "metadata": {
        "id": "5IEREr4gMRYT"
      },
      "execution_count": null,
      "outputs": []
    }
  ]
}