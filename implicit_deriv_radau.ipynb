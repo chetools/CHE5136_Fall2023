{
  "nbformat": 4,
  "nbformat_minor": 0,
  "metadata": {
    "colab": {
      "provenance": [],
      "authorship_tag": "ABX9TyPyJ331U8inTrMsWTxkG/5g",
      "include_colab_link": true
    },
    "kernelspec": {
      "name": "python3",
      "display_name": "Python 3"
    },
    "language_info": {
      "name": "python"
    }
  },
  "cells": [
    {
      "cell_type": "markdown",
      "metadata": {
        "id": "view-in-github",
        "colab_type": "text"
      },
      "source": [
        "<a href=\"https://colab.research.google.com/github/profteachkids/CHE5136_Fall2023/blob/main/implicit_deriv_radau.ipynb\" target=\"_parent\"><img src=\"https://colab.research.google.com/assets/colab-badge.svg\" alt=\"Open In Colab\"/></a>"
      ]
    },
    {
      "cell_type": "code",
      "source": [
        "import numpy as np\n",
        "import numpy.polynomial.polynomial as P\n",
        "import jax.numpy as jnp\n",
        "import jax\n",
        "jax.config.update('jax_enable_x64', True)\n",
        "from plotly.subplots import make_subplots\n",
        "from scipy.integrate import solve_ivp, Radau\n",
        "from numpy.polynomial.legendre import leggauss\n",
        "from scipy.optimize import root\n",
        "from scipy.special import roots_jacobi\n",
        "from functools import partial"
      ],
      "metadata": {
        "id": "ZKSKmtGLNzH_"
      },
      "execution_count": 1,
      "outputs": []
    },
    {
      "cell_type": "code",
      "source": [
        "def rhs(t,y,u):\n",
        "    return jnp.array([y[1], -y[0]])"
      ],
      "metadata": {
        "id": "3ftwdqLocFfY"
      },
      "execution_count": 30,
      "outputs": []
    },
    {
      "cell_type": "code",
      "source": [
        "y0=jnp.array([0., 1.])\n",
        "u=0.0\n",
        "tend=10\n",
        "res=solve_ivp(rhs,(0,tend),y0,method='Radau',jac=jax.jacobian(rhs,1),args=(u,),dense_output=True, atol=1e-7,rtol=1e-5)"
      ],
      "metadata": {
        "id": "I-7vP49_c1xz"
      },
      "execution_count": 31,
      "outputs": []
    },
    {
      "cell_type": "code",
      "source": [
        "@jax.jit\n",
        "def _interpolate(t, ts, hs, y0s, Qs):\n",
        "    t=jnp.atleast_1d(t)\n",
        "    i=jnp.searchsorted(ts,t, side='right')-1\n",
        "    x = (t-ts[i])/hs[i]\n",
        "    p = jnp.cumprod(jnp.tile(x, (3,1)),axis=0)\n",
        "    y= jnp.where(t<ts[-1],jnp.einsum('tyi, it -> yt', jnp.take(Qs, i, 0), p)+jnp.take(y0s,i,1),jnp.take(y0s,i,1))\n",
        "    return jnp.squeeze(y)\n",
        "\n",
        "def get_interp(res):\n",
        "\n",
        "    ts=jnp.array(res.t)\n",
        "    hs=ts[1:]-ts[:-1]\n",
        "    y0s=jnp.array(res.y)\n",
        "    Qs=jnp.stack([s.Q for s in res.sol.interpolants])\n",
        "\n",
        "    return partial(_interpolate, ts=ts, hs=hs, y0s=y0s, Qs=Qs)"
      ],
      "metadata": {
        "id": "73NypX9beajA"
      },
      "execution_count": 32,
      "outputs": []
    },
    {
      "cell_type": "code",
      "source": [
        "x = (np.r_[-1.,leggauss(3)[0],1])/2 + 0.5\n",
        "p = jnp.tile(x, (3,1))\n",
        "p = jnp.cumprod(p,axis=0)\n",
        "dp = p[:-1,:]*jnp.arange(2,4)[:,None]\n",
        "rhs_vec=jnp.vectorize(rhs,signature='(),(2),()->(2)')\n",
        "\n",
        "ts=jnp.array(res.t)\n",
        "hs=ts[1:]-ts[:-1]\n",
        "y0s=jnp.array(res.y)\n",
        "Qs=jnp.stack([s.Q for s in res.sol.interpolants])\n",
        "Nb = Qs.shape[0]\n",
        "\n",
        "interpolate = get_interp(res)\n",
        "jac=jax.jacobian(_interpolate,4)\n",
        "jac(4, ts, hs, y0s, Qs).shape"
      ],
      "metadata": {
        "colab": {
          "base_uri": "https://localhost:8080/"
        },
        "id": "tma_hdIKEiQI",
        "outputId": "a404f1a0-96af-49fd-8e87-cda91efe5c59"
      },
      "execution_count": 33,
      "outputs": [
        {
          "output_type": "execute_result",
          "data": {
            "text/plain": [
              "(2, 58, 2, 3)"
            ]
          },
          "metadata": {},
          "execution_count": 33
        }
      ]
    },
    {
      "cell_type": "code",
      "source": [
        "@jax.jit\n",
        "def eqs(v):\n",
        "    qflat,yb0=v[:Nb*2*3],v[Nb*2*3:]\n",
        "    Qs=jnp.reshape(qflat, (Nb, 2, 3))\n",
        "    yb0=jnp.reshape(yb0,(2,Nb)).T\n",
        "    yb0=jnp.concatenate([y0.reshape(1,2),yb0],axis=0)\n",
        "    qp=jnp.einsum('byi, ix -> byx', Qs, p)\n",
        "    yb=qp[:,:,1:]+yb0[:-1,:,None]\n",
        "    tb=(hs[:,None]*x[None,1:-1]+ts[:-1,None])\n",
        "    ybp=(jnp.einsum('byi, ix -> byx', Qs[:,:,1:] , dp) + Qs[:,:,0][:,:,None])/hs[:,None,None]\n",
        "    ybp=ybp[:,:,1:-1]\n",
        "    end_equality=jnp.ravel(yb[:,:,-1]-yb0[1:,:])\n",
        "    collocation=jnp.ravel(jnp.swapaxes(ybp,1,2)-rhs_vec(tb,jnp.swapaxes(yb[:,:,:-1],1,2),u))\n",
        "    return jnp.concatenate([end_equality, collocation])\n",
        "\n",
        "jac=jax.jit(jax.jacobian(eqs))"
      ],
      "metadata": {
        "id": "fOaJAwZiUggV"
      },
      "execution_count": 35,
      "outputs": []
    },
    {
      "cell_type": "code",
      "source": [
        "eqs(jnp.concatenate([Qs.ravel(),res.y[:,1:].ravel()]))"
      ],
      "metadata": {
        "id": "8hYGz2d68Dzq"
      },
      "execution_count": null,
      "outputs": []
    },
    {
      "cell_type": "code",
      "source": [
        "solve=root(eqs, jnp.concatenate([Qs.ravel(),res.y[:,1:].ravel()]),jac=jac)\n",
        "qflat,yb0=solve.x[:Nb*2*3],solve.x[Nb*2*3:]\n",
        "Qs=jnp.reshape(qflat, (Nb, 2, 3))\n",
        "yb0=jnp.concatenate([jnp.reshape(y0,(2,1)),jnp.reshape(yb0,(2,Nb))], axis=1)"
      ],
      "metadata": {
        "id": "S85iG9zQgyyO"
      },
      "execution_count": 37,
      "outputs": []
    },
    {
      "cell_type": "code",
      "source": [
        "tplot = jnp.linspace(0,tend,100)\n",
        "ycol0,ycol1=_interpolate(tplot, ts, hs, yb0, Qs)"
      ],
      "metadata": {
        "id": "o3gOjL9UOQFJ"
      },
      "execution_count": 43,
      "outputs": []
    },
    {
      "cell_type": "code",
      "source": [],
      "metadata": {
        "id": "MdiRcMl88SWL"
      },
      "execution_count": null,
      "outputs": []
    }
  ]
}