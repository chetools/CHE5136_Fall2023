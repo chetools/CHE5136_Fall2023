{
  "nbformat": 4,
  "nbformat_minor": 0,
  "metadata": {
    "colab": {
      "provenance": [],
      "authorship_tag": "ABX9TyNxmf/PCD98P4PYjfZwGlTd",
      "include_colab_link": true
    },
    "kernelspec": {
      "name": "python3",
      "display_name": "Python 3"
    },
    "language_info": {
      "name": "python"
    }
  },
  "cells": [
    {
      "cell_type": "markdown",
      "metadata": {
        "id": "view-in-github",
        "colab_type": "text"
      },
      "source": [
        "<a href=\"https://colab.research.google.com/github/profteachkids/CHE5136_Fall2023/blob/main/implicit_deriv_radau.ipynb\" target=\"_parent\"><img src=\"https://colab.research.google.com/assets/colab-badge.svg\" alt=\"Open In Colab\"/></a>"
      ]
    },
    {
      "cell_type": "code",
      "source": [
        "import numpy as np\n",
        "import numpy.polynomial.polynomial as P\n",
        "import jax.numpy as jnp\n",
        "import jax\n",
        "jax.config.update('jax_enable_x64', True)\n",
        "from plotly.subplots import make_subplots\n",
        "from scipy.integrate import solve_ivp, Radau\n",
        "from numpy.polynomial.legendre import leggauss\n",
        "from scipy.optimize import root\n",
        "from scipy.special import roots_jacobi\n",
        "from functools import partial"
      ],
      "metadata": {
        "id": "ZKSKmtGLNzH_"
      },
      "execution_count": 1,
      "outputs": []
    },
    {
      "cell_type": "code",
      "source": [
        "def rhs(t,y,u):\n",
        "    return jnp.array([y[1], -y[0]])"
      ],
      "metadata": {
        "id": "3ftwdqLocFfY"
      },
      "execution_count": 2,
      "outputs": []
    },
    {
      "cell_type": "code",
      "source": [
        "y0=jnp.array([0., 1.])\n",
        "u=0.0\n",
        "tend=10\n",
        "res=solve_ivp(rhs,(0,tend),y0,method='Radau',jac=jax.jacobian(rhs,1),args=(u,),dense_output=True, atol=1e-7,rtol=1e-5)"
      ],
      "metadata": {
        "id": "I-7vP49_c1xz"
      },
      "execution_count": 11,
      "outputs": []
    },
    {
      "cell_type": "code",
      "source": [
        "@jax.jit\n",
        "def _interpolate(t, ts, hs, y0s, Qs):\n",
        "    t=jnp.atleast_1d(t)\n",
        "    i=jnp.searchsorted(ts,t, side='right')-1\n",
        "    x = (t-ts[i])/hs[i]\n",
        "    p = jnp.cumprod(jnp.tile(x, (3,1)),axis=0)\n",
        "    y= jnp.where(t<ts[-1],jnp.einsum('tyi, it -> yt', jnp.take(Qs, i, 0), p)+jnp.take(y0s,i,1),jnp.take(y0s,i,1))\n",
        "    return jnp.squeeze(y)\n",
        "\n",
        "def get_interp(res):\n",
        "\n",
        "    ts=jnp.array(res.t)\n",
        "    hs=ts[1:]-ts[:-1]\n",
        "    y0s=jnp.array(res.y)\n",
        "    Qs=jnp.stack([s.Q for s in res.sol.interpolants])\n",
        "\n",
        "    return partial(_interpolate, ts=ts, hs=hs, y0s=y0s, Qs=Qs)"
      ],
      "metadata": {
        "id": "73NypX9beajA"
      },
      "execution_count": 12,
      "outputs": []
    },
    {
      "cell_type": "code",
      "source": [
        "x = (np.r_[-1.,roots_jacobi(3,0,1)[0],1])/2 + 0.5\n",
        "p = jnp.tile(x, (3,1))\n",
        "p = jnp.cumprod(p,axis=0)\n",
        "dp = p[:-1,:]*jnp.arange(2,4)[:,None]\n",
        "rhs_vec=jnp.vectorize(rhs,signature='(),(2),()->(2)')\n",
        "\n",
        "ts=jnp.array(res.t)\n",
        "hs=ts[1:]-ts[:-1]\n",
        "y0s=jnp.array(res.y)\n",
        "Qs=jnp.stack([s.Q for s in res.sol.interpolants])\n",
        "Nb = Qs.shape[0]\n",
        "\n",
        "interpolate = get_interp(res)\n",
        "jac=jax.jacobian(_interpolate,4)\n",
        "jac(4, ts, hs, y0s, Qs).shape"
      ],
      "metadata": {
        "colab": {
          "base_uri": "https://localhost:8080/"
        },
        "id": "tma_hdIKEiQI",
        "outputId": "7cae766e-86b1-4bdf-9f9f-99c9fa9c71a9"
      },
      "execution_count": 13,
      "outputs": [
        {
          "output_type": "execute_result",
          "data": {
            "text/plain": [
              "(2, 58, 2, 3)"
            ]
          },
          "metadata": {},
          "execution_count": 13
        }
      ]
    },
    {
      "cell_type": "code",
      "source": [
        "@jax.jit\n",
        "def eqs(v):\n",
        "    qflat,yb0=v[:Nb*2*3],v[Nb*2*3:]\n",
        "    Qs=jnp.reshape(qflat, (Nb, 2, 3))\n",
        "    yb0=jnp.reshape(yb0,(2,Nb)).T\n",
        "    yb0=jnp.concatenate([y0.reshape(1,2),yb0],axis=0)\n",
        "    qp=jnp.einsum('byi, ix -> byx', Qs, p)\n",
        "    yb=qp[:,:,1:]+yb0[:-1,:,None]\n",
        "    tb=(hs[:,None]*x[None,1:-1]+ts[:-1,None])\n",
        "    ybp=(jnp.einsum('byi, ix -> byx', Qs[:,:,1:] , dp) + Qs[:,:,0][:,:,None])/hs[:,None,None]\n",
        "    ybp=ybp[:,:,1:-1]\n",
        "    end_equality=jnp.ravel(yb[:,:,-1]-yb0[1:,:])\n",
        "    collocation=jnp.ravel(jnp.swapaxes(ybp,1,2)-rhs_vec(tb,jnp.swapaxes(yb[:,:,:-1],1,2),u))\n",
        "    return jnp.concatenate([end_equality, collocation])\n",
        "\n",
        "jac=jax.jit(jax.jacobian(eqs))"
      ],
      "metadata": {
        "id": "fOaJAwZiUggV"
      },
      "execution_count": 14,
      "outputs": []
    },
    {
      "cell_type": "code",
      "source": [
        "solve=root(eqs, jnp.concatenate([Qs.ravel(),res.y[:,1:].ravel()]),jac=jac)\n",
        "qflat,yb0=solve.x[:Nb*2*3],solve.x[Nb*2*3:]\n",
        "Qs=jnp.reshape(qflat, (Nb, 2, 3))\n",
        "yb0=jnp.concatenate([jnp.reshape(y0,(2,1)),jnp.reshape(yb0,(2,Nb))], axis=1)"
      ],
      "metadata": {
        "id": "S85iG9zQgyyO"
      },
      "execution_count": 15,
      "outputs": []
    },
    {
      "cell_type": "code",
      "source": [
        "tplot = jnp.linspace(0,tend,100)\n",
        "y0,y1=_interpolate(tplot, ts, hs, yb0, Qs)"
      ],
      "metadata": {
        "id": "o3gOjL9UOQFJ"
      },
      "execution_count": 16,
      "outputs": []
    },
    {
      "cell_type": "code",
      "source": [
        "y1"
      ],
      "metadata": {
        "colab": {
          "base_uri": "https://localhost:8080/"
        },
        "id": "SubVBCLFRF0H",
        "outputId": "3ca30c6d-9b9d-4cb0-d12c-9726d865f9f2"
      },
      "execution_count": 17,
      "outputs": [
        {
          "output_type": "execute_result",
          "data": {
            "text/plain": [
              "Array([ 1.        ,  0.99490444,  0.97966431,  0.95443904,  0.91948234,\n",
              "        0.87515286,  0.8219015 ,  0.7602711 ,  0.69089113,  0.61446632,\n",
              "        0.53177851,  0.44366861,  0.35103606,  0.25482466,  0.15601544,\n",
              "        0.05561561, -0.04535129, -0.14585625, -0.24487398, -0.34139594,\n",
              "       -0.43443721, -0.52305019, -0.60633164, -0.68343065, -0.75356426,\n",
              "       -0.81601409, -0.87014655, -0.91540744, -0.95133705, -0.97756908,\n",
              "       -0.99383369, -0.99996898, -0.99590787, -0.98169581, -0.95747473,\n",
              "       -0.92349343, -0.880098  , -0.82772938, -0.76692404, -0.69829856,\n",
              "       -0.62255552, -0.54046501, -0.45286506, -0.36064835, -0.26475473,\n",
              "       -0.16616225, -0.06587548,  0.03508298,  0.13568371,  0.23490161,\n",
              "        0.33172475,  0.42516636,  0.51427447,  0.59813862,  0.67590667,\n",
              "        0.74678297,  0.81004734,  0.86505302,  0.91124081,  0.94813998,\n",
              "        0.97537133,  0.99266164,  0.99983031,  0.99680774,  0.98362233,\n",
              "        0.96041014,  0.92740785,  0.8849494 ,  0.83347128,  0.77349457,\n",
              "        0.70563365,  0.63057844,  0.54909512,  0.46201429,  0.37022275,\n",
              "        0.27465753,  0.17629172,  0.07612879, -0.0248103 , -0.12549673,\n",
              "       -0.22490396, -0.32201827, -0.41585069, -0.50544274, -0.58988336,\n",
              "       -0.66830954, -0.73992351, -0.80399435, -0.85986875, -0.90697881,\n",
              "       -0.94484057, -0.97307238, -0.9913826 , -0.99958739, -0.99760131,\n",
              "       -0.98544579, -0.96324526, -0.93122282, -0.88970841, -0.83912306],      dtype=float64)"
            ]
          },
          "metadata": {},
          "execution_count": 17
        }
      ]
    },
    {
      "cell_type": "code",
      "source": [
        "jnp.cos(tplot)"
      ],
      "metadata": {
        "colab": {
          "base_uri": "https://localhost:8080/"
        },
        "id": "awPfBL02SRzu",
        "outputId": "4a0eee92-c510-4606-bb55-70e7f4d34b4a"
      },
      "execution_count": 18,
      "outputs": [
        {
          "output_type": "execute_result",
          "data": {
            "text/plain": [
              "Array([ 1.        ,  0.99490282,  0.97966323,  0.95443659,  0.91948007,\n",
              "        0.87515004,  0.8218984 ,  0.76026803,  0.69088721,  0.61446323,\n",
              "        0.53177518,  0.44366602,  0.35103397,  0.25482335,  0.15601496,\n",
              "        0.0556161 , -0.04534973, -0.14585325, -0.24486989, -0.34139023,\n",
              "       -0.43443032, -0.52304166, -0.60632092, -0.68341913, -0.75355031,\n",
              "       -0.81599952, -0.87013012, -0.91539031, -0.95131866, -0.97754893,\n",
              "       -0.9938137 , -0.99994717, -0.9958868 , -0.981674  , -0.95745366,\n",
              "       -0.92347268, -0.88007748, -0.82771044, -0.76690542, -0.69828229,\n",
              "       -0.6225406 , -0.54045251, -0.45285485, -0.36064061, -0.26474988,\n",
              "       -0.16616018, -0.06587659,  0.03507857,  0.13567613,  0.23489055,\n",
              "        0.33171042,  0.4251487 ,  0.51425287,  0.59811455,  0.67587883,\n",
              "        0.74675295,  0.8100144 ,  0.86501827,  0.91120382,  0.94810022,\n",
              "        0.97533134,  0.99261957,  0.99978867,  0.99676556,  0.98358105,\n",
              "        0.96036956,  0.9273677 ,  0.88491192,  0.83343502,  0.77346177,\n",
              "        0.70560358,  0.63055219,  0.54907273,  0.46199582,  0.37020915,\n",
              "        0.27464844,  0.17628785,  0.07613012, -0.0248037 , -0.12548467,\n",
              "       -0.2248864 , -0.32199555, -0.41582217, -0.50540974, -0.58984498,\n",
              "       -0.66826712, -0.7398767 , -0.8039437 , -0.859815  , -0.90692104,\n",
              "       -0.94478159, -0.97301068, -0.99132055, -0.99952453, -0.99753899,\n",
              "       -0.98538417, -0.96318398, -0.93116473, -0.88965286, -0.83907153],      dtype=float64)"
            ]
          },
          "metadata": {},
          "execution_count": 18
        }
      ]
    },
    {
      "cell_type": "code",
      "source": [],
      "metadata": {
        "id": "wdLR9obUSSse"
      },
      "execution_count": null,
      "outputs": []
    }
  ]
}