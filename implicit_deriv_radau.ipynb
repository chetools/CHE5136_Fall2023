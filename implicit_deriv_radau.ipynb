{
  "nbformat": 4,
  "nbformat_minor": 0,
  "metadata": {
    "colab": {
      "provenance": [],
      "authorship_tag": "ABX9TyOKn9P/YS+S8HRKtIwgfyPI",
      "include_colab_link": true
    },
    "kernelspec": {
      "name": "python3",
      "display_name": "Python 3"
    },
    "language_info": {
      "name": "python"
    }
  },
  "cells": [
    {
      "cell_type": "markdown",
      "metadata": {
        "id": "view-in-github",
        "colab_type": "text"
      },
      "source": [
        "<a href=\"https://colab.research.google.com/github/profteachkids/CHE5136_Fall2023/blob/main/implicit_deriv_radau.ipynb\" target=\"_parent\"><img src=\"https://colab.research.google.com/assets/colab-badge.svg\" alt=\"Open In Colab\"/></a>"
      ]
    },
    {
      "cell_type": "code",
      "source": [
        "import numpy as np\n",
        "import jax.numpy as jnp\n",
        "import jax\n",
        "jax.config.update('jax_enable_x64', True)\n",
        "from plotly.subplots import make_subplots\n",
        "from scipy.integrate import solve_ivp\n",
        "from numpy.polynomial.legendre import leggauss\n",
        "from scipy.optimize import root\n",
        "from functools import partial"
      ],
      "metadata": {
        "id": "ZKSKmtGLNzH_"
      },
      "execution_count": 1,
      "outputs": []
    },
    {
      "cell_type": "code",
      "source": [
        "def rhs1(t,y,u):\n",
        "    return jnp.array([y[1], -y[0]+u[0]*jnp.sin(u[1]*t)])\n",
        "\n",
        "y0=jnp.array([1.,0.])\n",
        "u0=jnp.array([1.,1.])\n",
        "du=jnp.array([0.001,0.002])\n",
        "u1=u0+du\n",
        "\n",
        "rhs1=jax.jit(rhs1)\n",
        "rhs1_jac=jax.jit(jax.jacobian(rhs1,1))\n",
        "\n",
        "tend=5."
      ],
      "metadata": {
        "id": "3ftwdqLocFfY"
      },
      "execution_count": 196,
      "outputs": []
    },
    {
      "cell_type": "code",
      "source": [
        "res=solve_ivp(rhs1, (0,tend), y0, method='Radau', dense_output=True, jac=jax.jacobian(rhs1,1), args=(u0,))\n",
        "res2=solve_ivp(rhs1, (0,tend), y0, method='Radau', dense_output=True, jac=jax.jacobian(rhs1,1), args=(u1,))"
      ],
      "metadata": {
        "id": "I-7vP49_c1xz"
      },
      "execution_count": 197,
      "outputs": []
    },
    {
      "cell_type": "code",
      "source": [
        "@jax.jit\n",
        "def _interpolate(t, ts, hs, y0s, Qs):\n",
        "    t=jnp.atleast_1d(t)\n",
        "    i=jnp.searchsorted(ts,t, side='right')-1\n",
        "    x = (t-ts[i])/hs[i]\n",
        "    p = jnp.cumprod(jnp.tile(x, (3,1)),axis=0)\n",
        "    y= jnp.where(t<ts[-1],jnp.einsum('tyi, it -> yt', jnp.take(Qs, i, 0), p)+jnp.take(y0s,i,1),jnp.take(y0s,i,1))\n",
        "    return jnp.squeeze(y)\n",
        "\n",
        "def get_interp(res):\n",
        "\n",
        "    ts=jnp.array(res.t)\n",
        "    hs=ts[1:]-ts[:-1]\n",
        "    y0s=jnp.array(res.y)\n",
        "    Qs=jnp.stack([s.Q for s in res.sol.interpolants])\n",
        "\n",
        "    return partial(_interpolate, ts=ts, hs=hs, y0s=y0s, Qs=Qs)"
      ],
      "metadata": {
        "id": "73NypX9beajA"
      },
      "execution_count": 198,
      "outputs": []
    },
    {
      "cell_type": "code",
      "source": [
        "x = (np.r_[leggauss(2)[0],1])/2 + 0.5\n",
        "p = jnp.tile(x, (3,1))\n",
        "p = jnp.cumprod(p,axis=0)\n",
        "dp = p[:-1,:]*jnp.arange(2,4)[:,None]\n",
        "rhs_vec=jnp.vectorize(rhs1,signature='(),(2),(2)->(2)')\n",
        "\n",
        "ts=jnp.array(res.t)\n",
        "hs=ts[1:]-ts[:-1]\n",
        "y0s=jnp.array(res.y)\n",
        "Qs=jnp.stack([s.Q for s in res.sol.interpolants])\n",
        "Nb = Qs.shape[0]\n",
        "\n"
      ],
      "metadata": {
        "id": "tma_hdIKEiQI"
      },
      "execution_count": 199,
      "outputs": []
    },
    {
      "cell_type": "code",
      "source": [
        "@jax.jit\n",
        "def eqs(v,u):\n",
        "    Qs=jnp.reshape(v, (Nb, 2, 3))\n",
        "    qp=jnp.einsum('byi, ix -> byx', Qs, p)\n",
        "    yb0=jnp.cumsum(qp[:,:,-1],axis=0)\n",
        "    yb0=jnp.concatenate([jnp.zeros_like(y0).reshape(1,-1),yb0],axis=0)+y0\n",
        "    yb=qp+yb0[:-1,:,None]\n",
        "    tb=(hs[:,None]*x[None,:]+ts[:-1,None])\n",
        "    ybp=(jnp.einsum('byi, ix -> byx', Qs[:,:,1:] , dp) + Qs[:,:,0][:,:,None])/hs[:,None,None]\n",
        "    collocation=jnp.ravel(jnp.swapaxes(ybp,1,2)-rhs_vec(tb,jnp.swapaxes(yb,1,2),u))\n",
        "    return collocation\n",
        "\n",
        "jacv=jax.jit(jax.jacobian(eqs,0))\n",
        "jacu=jax.jit(jax.jacobian(eqs,1))"
      ],
      "metadata": {
        "id": "fOaJAwZiUggV"
      },
      "execution_count": 200,
      "outputs": []
    },
    {
      "cell_type": "code",
      "source": [
        "solve=root(eqs, Qs.ravel(),jac=jacv,args=(u0,))\n",
        "Qs=jnp.reshape(solve.x, (Nb, 2, 3))\n",
        "flat_res=Qs.ravel()"
      ],
      "metadata": {
        "id": "S85iG9zQgyyO"
      },
      "execution_count": 201,
      "outputs": []
    },
    {
      "cell_type": "code",
      "source": [
        "Hu=jacu(flat_res,u0)\n",
        "Hq=jacv(flat_res,u0)\n",
        "dqdu=-(jnp.linalg.inv(Hq) @ Hu)"
      ],
      "metadata": {
        "id": "brdCYj_LAPkh"
      },
      "execution_count": 202,
      "outputs": []
    },
    {
      "cell_type": "code",
      "source": [
        "def _interpolate(t,v):\n",
        "    x = (np.r_[leggauss(2)[0],1])/2 + 0.5\n",
        "    p = jnp.tile(x, (3,1))\n",
        "    p = jnp.cumprod(p,axis=0)\n",
        "    Qs=jnp.reshape(v, (Nb, 2, 3))\n",
        "    qp=jnp.einsum('byi, ix -> byx', Qs, p)\n",
        "\n",
        "    yb0=jnp.cumsum(qp[:,:,-1],axis=0)\n",
        "    yb0=jnp.concatenate([jnp.zeros_like(y0).reshape(1,-1),yb0],axis=0)+y0\n",
        "    t=jnp.atleast_1d(t)\n",
        "    i=jnp.searchsorted(ts,t, side='right')-1\n",
        "    x = (t-ts[i])/hs[i]\n",
        "    p = jnp.cumprod(jnp.tile(x, (3,1)),axis=0)\n",
        "    y= jnp.where(t<ts[-1],jnp.einsum('tyi, it -> yt', jnp.take(Qs, i, 0), p)+jnp.take(yb0,i,0).T,jnp.take(yb0,i,0).T)\n",
        "    return jnp.squeeze(y)\n",
        "\n",
        "jac=jax.jacobian(_interpolate,1)\n",
        "dydq=jac(tend, flat_res)"
      ],
      "metadata": {
        "id": "QrBztg23IXm4"
      },
      "execution_count": 203,
      "outputs": []
    },
    {
      "cell_type": "code",
      "source": [
        "dydu = dydq @ dqdu"
      ],
      "metadata": {
        "id": "42ROEGYhJM46"
      },
      "execution_count": 204,
      "outputs": []
    },
    {
      "cell_type": "code",
      "source": [
        "dydu"
      ],
      "metadata": {
        "colab": {
          "base_uri": "https://localhost:8080/"
        },
        "id": "mvcyuF_KK8R2",
        "outputId": "65f7bb3c-2099-42a5-a7bf-943f7a5a8e44"
      },
      "execution_count": 205,
      "outputs": [
        {
          "output_type": "execute_result",
          "data": {
            "text/plain": [
              "Array([[-1.18879274, -5.39939367],\n",
              "       [-2.39738523,  0.57452449]], dtype=float64)"
            ]
          },
          "metadata": {},
          "execution_count": 205
        }
      ]
    },
    {
      "cell_type": "code",
      "source": [
        "res.y[:,-1]"
      ],
      "metadata": {
        "colab": {
          "base_uri": "https://localhost:8080/"
        },
        "id": "LM0cH3DByvJB",
        "outputId": "6ec4911a-b7b6-4872-8cec-3319a374a3b0"
      },
      "execution_count": 206,
      "outputs": [
        {
          "output_type": "execute_result",
          "data": {
            "text/plain": [
              "array([-0.9049825 , -1.43835127])"
            ]
          },
          "metadata": {},
          "execution_count": 206
        }
      ]
    },
    {
      "cell_type": "code",
      "source": [
        "res2.y[:,-1]"
      ],
      "metadata": {
        "colab": {
          "base_uri": "https://localhost:8080/"
        },
        "id": "6FM_fqYYygyu",
        "outputId": "1060a633-0466-46d4-fc95-97aa804c0e1c"
      },
      "execution_count": 207,
      "outputs": [
        {
          "output_type": "execute_result",
          "data": {
            "text/plain": [
              "array([-0.91694816, -1.439567  ])"
            ]
          },
          "metadata": {},
          "execution_count": 207
        }
      ]
    },
    {
      "cell_type": "code",
      "source": [
        "res.y[:,-1]+dydu @ du"
      ],
      "metadata": {
        "colab": {
          "base_uri": "https://localhost:8080/"
        },
        "id": "ZiKL25MjylVd",
        "outputId": "628fdc60-77c4-458d-a201-9522c6b56ab2"
      },
      "execution_count": 209,
      "outputs": [
        {
          "output_type": "execute_result",
          "data": {
            "text/plain": [
              "Array([-0.91697008, -1.43959961], dtype=float64)"
            ]
          },
          "metadata": {},
          "execution_count": 209
        }
      ]
    },
    {
      "cell_type": "code",
      "source": [],
      "metadata": {
        "id": "ghXzxBxczCde"
      },
      "execution_count": null,
      "outputs": []
    }
  ]
}