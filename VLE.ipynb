{
  "nbformat": 4,
  "nbformat_minor": 0,
  "metadata": {
    "colab": {
      "provenance": [],
      "authorship_tag": "ABX9TyOXchs9JCwMz9zEMNcdGAHj",
      "include_colab_link": true
    },
    "kernelspec": {
      "name": "python3",
      "display_name": "Python 3"
    },
    "language_info": {
      "name": "python"
    }
  },
  "cells": [
    {
      "cell_type": "markdown",
      "metadata": {
        "id": "view-in-github",
        "colab_type": "text"
      },
      "source": [
        "<a href=\"https://colab.research.google.com/github/profteachkids/CHE5136_Fall2023/blob/main/VLE.ipynb\" target=\"_parent\"><img src=\"https://colab.research.google.com/assets/colab-badge.svg\" alt=\"Open In Colab\"/></a>"
      ]
    },
    {
      "cell_type": "code",
      "execution_count": 1,
      "metadata": {
        "colab": {
          "base_uri": "https://localhost:8080/"
        },
        "id": "AFtFRz8jPsao",
        "outputId": "1e92a1a9-1a83-472e-9b76-fa0c13f90620"
      },
      "outputs": [
        {
          "output_type": "stream",
          "name": "stdout",
          "text": [
            "Collecting importnb\n",
            "  Downloading importnb-2023.1.7-py3-none-any.whl (42 kB)\n",
            "\u001b[2K     \u001b[90m━━━━━━━━━━━━━━━━━━━━━━━━━━━━━━━━━━━━━━━━\u001b[0m \u001b[32m42.9/42.9 kB\u001b[0m \u001b[31m878.7 kB/s\u001b[0m eta \u001b[36m0:00:00\u001b[0m\n",
            "\u001b[?25hInstalling collected packages: importnb\n",
            "Successfully installed importnb-2023.1.7\n"
          ]
        }
      ],
      "source": [
        "!wget -N -q https://raw.githubusercontent.com/profteachkids/chetools/main/tools/che5.ipynb -O che5.ipynb\n",
        "!pip install importnb"
      ]
    },
    {
      "cell_type": "code",
      "source": [
        "from importnb import Notebook\n",
        "with Notebook():\n",
        "    from che5 import Props\n",
        "\n",
        "import numpy as np\n",
        "import jax\n",
        "import jax.numpy as jnp\n",
        "\n",
        "from scipy.optimize import root_scalar"
      ],
      "metadata": {
        "id": "cmh3qZYzUguU"
      },
      "execution_count": 12,
      "outputs": []
    },
    {
      "cell_type": "code",
      "source": [
        "p=Props(['Benzene','Toluene'])\n",
        "z = jnp.array([0.6,0.4])"
      ],
      "metadata": {
        "id": "_eTGoIvkUk2l"
      },
      "execution_count": 24,
      "outputs": []
    },
    {
      "cell_type": "code",
      "source": [
        "def bubblePy_ideal(x, T):\n",
        "    Pi = x*p.Pvap(T)\n",
        "    bubbleP = np.sum(Pi)\n",
        "    return bubbleP, Pi/bubbleP"
      ],
      "metadata": {
        "id": "Vi7Mwb08UriB"
      },
      "execution_count": 7,
      "outputs": []
    },
    {
      "cell_type": "code",
      "source": [
        "@jax.jit\n",
        "def bubbleTy_ideal_eq(x, T, P):\n",
        "    return jnp.sum(x*p.Pvap(T)/P) - 1.\n",
        "\n",
        "bubbleTy_ideal_eq_gradT = jax.jit(jax.grad(bubbleTy_ideal_eq, 1))\n",
        "bubbleTy_ideal_eq_grad2T = jax.jit(jax.grad(bubbleTy_ideal_eq_gradT, 1))\n",
        "\n",
        "\n",
        "\n",
        "def bubbleTy_ideal(x, P):\n",
        "    Tb = p.Tb(P)\n",
        "    Tguess = jnp.sum(x*Tb)\n",
        "\n",
        "    res = root_scalar(lambda T: bubbleTy_ideal_eq(x,T,P), x0=Tguess,\n",
        "                fprime=lambda T: bubbleTy_ideal_eq_gradT(x,T,P),\n",
        "                fprime2=lambda T: bubbleTy_ideal_eq_grad2T(x,T,P),\n",
        "                      method='halley')\n",
        "    if not(res.converged):\n",
        "        print(res)\n",
        "\n",
        "    return res.root\n",
        "\n",
        "def dewPx_ideal(y, T):\n",
        "    y_div_Psat = y/p.Pvap(T)\n",
        "    dewP = 1./jnp.sum(y_div_Psat)\n",
        "    return dewP, y_div_Psat*dewP\n",
        "\n",
        "@jax.jit\n",
        "def dewTx_ideal_eq(y, T, P):\n",
        "    return jnp.sum(y*P/p.Pvap(T)) - 1.\n",
        "\n",
        "dewTx_ideal_eq_gradT = jax.jit(jax.grad(dewTx_ideal_eq, 1))\n",
        "dewTx_ideal_eq_grad2T = jax.jit(jax.grad(dewTx_ideal_eq_gradT, 1))\n",
        "\n",
        "def dewTx_ideal(y, P):\n",
        "    Tb = p.Tb(P)\n",
        "    Tguess = jnp.sum(y*Tb)\n",
        "    res = root_scalar(lambda T: dewTx_ideal_eq(y,T,P), x0=Tguess,\n",
        "                fprime=lambda T: dewTx_ideal_eq_gradT(y,T,P),\n",
        "                fprime2=lambda T: dewTx_ideal_eq_grad2T(y,T,P),\n",
        "                      method='halley')\n",
        "    if not(res.converged):\n",
        "        print(res)\n",
        "\n",
        "    return res.root"
      ],
      "metadata": {
        "id": "GBaPwdWAWG5W"
      },
      "execution_count": 42,
      "outputs": []
    },
    {
      "cell_type": "code",
      "source": [
        "dewTx_ideal(z, 2e5)"
      ],
      "metadata": {
        "colab": {
          "base_uri": "https://localhost:8080/"
        },
        "id": "sO7HJiahWq3C",
        "outputId": "5e346777-a94e-4d4e-b1eb-a1495e0835bd"
      },
      "execution_count": 43,
      "outputs": [
        {
          "output_type": "execute_result",
          "data": {
            "text/plain": [
              "Array(393.56318087, dtype=float64)"
            ]
          },
          "metadata": {},
          "execution_count": 43
        }
      ]
    },
    {
      "cell_type": "code",
      "source": [],
      "metadata": {
        "id": "qQHGu9umbwib"
      },
      "execution_count": null,
      "outputs": []
    }
  ]
}