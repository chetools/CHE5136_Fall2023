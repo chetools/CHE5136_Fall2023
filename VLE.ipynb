{
  "nbformat": 4,
  "nbformat_minor": 0,
  "metadata": {
    "colab": {
      "provenance": [],
      "authorship_tag": "ABX9TyNGnuD40laQT/MJvBWV0BGN",
      "include_colab_link": true
    },
    "kernelspec": {
      "name": "python3",
      "display_name": "Python 3"
    },
    "language_info": {
      "name": "python"
    }
  },
  "cells": [
    {
      "cell_type": "markdown",
      "metadata": {
        "id": "view-in-github",
        "colab_type": "text"
      },
      "source": [
        "<a href=\"https://colab.research.google.com/github/profteachkids/CHE5136_Fall2023/blob/main/VLE.ipynb\" target=\"_parent\"><img src=\"https://colab.research.google.com/assets/colab-badge.svg\" alt=\"Open In Colab\"/></a>"
      ]
    },
    {
      "cell_type": "code",
      "execution_count": 1,
      "metadata": {
        "colab": {
          "base_uri": "https://localhost:8080/"
        },
        "id": "AFtFRz8jPsao",
        "outputId": "454b67e9-6d90-4dab-fb5f-fd047c5b93dc"
      },
      "outputs": [
        {
          "output_type": "stream",
          "name": "stdout",
          "text": [
            "Collecting importnb\n",
            "  Downloading importnb-2023.1.7-py3-none-any.whl (42 kB)\n",
            "\u001b[?25l     \u001b[90m━━━━━━━━━━━━━━━━━━━━━━━━━━━━━━━━━━━━━━━━\u001b[0m \u001b[32m0.0/42.9 kB\u001b[0m \u001b[31m?\u001b[0m eta \u001b[36m-:--:--\u001b[0m\r\u001b[2K     \u001b[90m━━━━━━━━━━━━━━━━━━━━━━━━━━━━━━━━━━━━━━━━\u001b[0m \u001b[32m42.9/42.9 kB\u001b[0m \u001b[31m2.1 MB/s\u001b[0m eta \u001b[36m0:00:00\u001b[0m\n",
            "\u001b[?25hInstalling collected packages: importnb\n",
            "Successfully installed importnb-2023.1.7\n"
          ]
        }
      ],
      "source": [
        "!wget -N -q https://raw.githubusercontent.com/profteachkids/chetools/main/tools/che5.ipynb -O che5.ipynb\n",
        "!pip install importnb"
      ]
    },
    {
      "cell_type": "code",
      "source": [
        "from importnb import Notebook\n",
        "with Notebook():\n",
        "    from che5 import Props\n",
        "\n",
        "import numpy as np\n",
        "import jax\n",
        "import jax.numpy as jnp\n",
        "\n",
        "from scipy.optimize import root_scalar"
      ],
      "metadata": {
        "id": "cmh3qZYzUguU",
        "outputId": "59d85baa-5b4c-425c-f3e5-92c34064b6b2",
        "colab": {
          "base_uri": "https://localhost:8080/"
        }
      },
      "execution_count": 2,
      "outputs": [
        {
          "output_type": "stream",
          "name": "stderr",
          "text": [
            "WARNING:jax._src.xla_bridge:No GPU/TPU found, falling back to CPU. (Set TF_CPP_MIN_LOG_LEVEL=0 and rerun for more info.)\n"
          ]
        }
      ]
    },
    {
      "cell_type": "code",
      "source": [
        "p=Props(['Ethanol','Isopropanol','Water'])\n",
        "z = jnp.array([1/3,1/3,1/3])"
      ],
      "metadata": {
        "id": "_eTGoIvkUk2l"
      },
      "execution_count": 23,
      "outputs": []
    },
    {
      "cell_type": "code",
      "source": [
        "def bubblePy_ideal(x, T):\n",
        "    Pi = x*p.Pvap(T)\n",
        "    bubbleP = np.sum(Pi)\n",
        "    return bubbleP, Pi/bubbleP"
      ],
      "metadata": {
        "id": "Vi7Mwb08UriB"
      },
      "execution_count": 4,
      "outputs": []
    },
    {
      "cell_type": "code",
      "source": [
        "@jax.jit\n",
        "def bubbleTy_ideal_eq(x, T, P):\n",
        "    return jnp.sum(x*p.Pvap(T)/P) - 1.\n",
        "\n",
        "bubbleTy_ideal_eq_gradT = jax.jit(jax.grad(bubbleTy_ideal_eq, 1))\n",
        "bubbleTy_ideal_eq_grad2T = jax.jit(jax.grad(bubbleTy_ideal_eq_gradT, 1))\n",
        "\n",
        "\n",
        "\n",
        "def bubbleTy_ideal(x, P):\n",
        "    Tb = p.Tb(P)\n",
        "    Tguess = jnp.sum(x*Tb)\n",
        "\n",
        "    res = root_scalar(lambda T: bubbleTy_ideal_eq(x,T,P), x0=Tguess,\n",
        "                fprime=lambda T: bubbleTy_ideal_eq_gradT(x,T,P),\n",
        "                fprime2=lambda T: bubbleTy_ideal_eq_grad2T(x,T,P),\n",
        "                      method='halley')\n",
        "    if not(res.converged):\n",
        "        print(res)\n",
        "\n",
        "    return res.root\n",
        "\n",
        "def dewPx_ideal(y, T):\n",
        "    y_div_Psat = y/p.Pvap(T)\n",
        "    dewP = 1./jnp.sum(y_div_Psat)\n",
        "    return dewP, y_div_Psat*dewP\n",
        "\n",
        "@jax.jit\n",
        "def dewTx_ideal_eq(y, T, P):\n",
        "    return jnp.sum(y*P/p.Pvap(T)) - 1.\n",
        "\n",
        "dewTx_ideal_eq_gradT = jax.jit(jax.grad(dewTx_ideal_eq, 1))\n",
        "dewTx_ideal_eq_grad2T = jax.jit(jax.grad(dewTx_ideal_eq_gradT, 1))\n",
        "\n",
        "def dewTx_ideal(y, P):\n",
        "    Tb = p.Tb(P)\n",
        "    Tguess = jnp.sum(y*Tb)\n",
        "    res = root_scalar(lambda T: dewTx_ideal_eq(y,T,P), x0=Tguess,\n",
        "                fprime=lambda T: dewTx_ideal_eq_gradT(y,T,P),\n",
        "                fprime2=lambda T: dewTx_ideal_eq_grad2T(y,T,P),\n",
        "                      method='halley')\n",
        "    if not(res.converged):\n",
        "        print(res)\n",
        "\n",
        "    return res.root"
      ],
      "metadata": {
        "id": "GBaPwdWAWG5W"
      },
      "execution_count": 5,
      "outputs": []
    },
    {
      "cell_type": "code",
      "source": [
        "dewTx_ideal(z, 2e5)"
      ],
      "metadata": {
        "colab": {
          "base_uri": "https://localhost:8080/"
        },
        "id": "sO7HJiahWq3C",
        "outputId": "5f81c9f7-fd03-482c-9db9-bc69393e21be"
      },
      "execution_count": 6,
      "outputs": [
        {
          "output_type": "execute_result",
          "data": {
            "text/plain": [
              "Array(393.56318087, dtype=float64)"
            ]
          },
          "metadata": {},
          "execution_count": 6
        }
      ]
    },
    {
      "cell_type": "code",
      "source": [
        "#NRTL Parameters: Tij = Aij + Bij/T + Cij * Ln(T) + Dij * T (T Deg K)"
      ],
      "metadata": {
        "id": "x3Qzv47Ndscv"
      },
      "execution_count": 8,
      "outputs": []
    },
    {
      "cell_type": "code",
      "source": [
        "def NRTL(x, T):\n",
        "\n",
        "    tau = p.NRTL_A + p.NRTL_B/T + p.NRTL_C*jnp.log(T) + p.NRTL_D*T\n",
        "    G = jnp.exp(- p.NRTL_alpha*tau)\n",
        "    tauG = tau*G\n",
        "\n",
        "    # xG_einsum = np.einsum('k, ki -> i', x, G)\n",
        "    # xtauG_einsum = np.einsum('k, ki -> i', x, tauG)\n",
        "    xG = x @ G\n",
        "    xtauG = x @ tauG\n",
        "    xtauG_xG = xtauG / xG\n",
        "    return np.exp(xtauG_xG +  x@  ((G * (tau - xtauG_xG))/xG).T)\n"
      ],
      "metadata": {
        "id": "XyWCxih4d4iP"
      },
      "execution_count": 38,
      "outputs": []
    },
    {
      "cell_type": "code",
      "source": [
        "def nGexRT(n, T):\n",
        "\n",
        "    x = n/jnp.sum(n)\n",
        "\n",
        "    tau = p.NRTL_A + p.NRTL_B/T + p.NRTL_C*jnp.log(T) + p.NRTL_D*T\n",
        "    G = jnp.exp(- p.NRTL_alpha*tau)\n",
        "    tauG = tau*G\n",
        "    xG = x @ G\n",
        "    xtauG = x @ tauG\n",
        "    xtauG_xG = xtauG / xG\n",
        "\n",
        "    return jnp.sum(x * xtauG_xG)\n"
      ],
      "metadata": {
        "id": "qjCaEQGA8Rl6"
      },
      "execution_count": 51,
      "outputs": []
    },
    {
      "cell_type": "code",
      "source": [
        "nGexRT(z, 373.15)"
      ],
      "metadata": {
        "id": "IbRzshZC9Gxb",
        "outputId": "dd91680e-96fc-4b59-a0c4-3cbd591d1fb5",
        "colab": {
          "base_uri": "https://localhost:8080/"
        }
      },
      "execution_count": 52,
      "outputs": [
        {
          "output_type": "execute_result",
          "data": {
            "text/plain": [
              "Array(0.26756071, dtype=float64)"
            ]
          },
          "metadata": {},
          "execution_count": 52
        }
      ]
    },
    {
      "cell_type": "code",
      "source": [
        "lngamma=jax.grad(nGexRT, 0)"
      ],
      "metadata": {
        "id": "Pd-v8f7R9VAL"
      },
      "execution_count": 53,
      "outputs": []
    },
    {
      "cell_type": "code",
      "source": [
        "jnp.exp(lngamma(z,373.15))"
      ],
      "metadata": {
        "id": "vDCRV2ka9hZ-",
        "outputId": "5c8e0cce-5291-45d0-a56d-6487e7540222",
        "colab": {
          "base_uri": "https://localhost:8080/"
        }
      },
      "execution_count": 54,
      "outputs": [
        {
          "output_type": "execute_result",
          "data": {
            "text/plain": [
              "Array([0.78910768, 0.87039728, 1.45594914], dtype=float64)"
            ]
          },
          "metadata": {},
          "execution_count": 54
        }
      ]
    },
    {
      "cell_type": "code",
      "source": [
        "NRTL(z,373.15)"
      ],
      "metadata": {
        "colab": {
          "base_uri": "https://localhost:8080/"
        },
        "id": "yWiTqMQdeK14",
        "outputId": "7170a6e0-5661-4967-aac3-5b867f41da18"
      },
      "execution_count": 39,
      "outputs": [
        {
          "output_type": "execute_result",
          "data": {
            "text/plain": [
              "array([1.03118458, 1.13741164, 1.90259498])"
            ]
          },
          "metadata": {},
          "execution_count": 39
        }
      ]
    },
    {
      "cell_type": "code",
      "source": [
        "p.NRTL_gamma(z,373.15)"
      ],
      "metadata": {
        "id": "WeIvL84Pel6x",
        "outputId": "f4dd7ff6-2e31-4f24-e6b8-822c986e3f82",
        "colab": {
          "base_uri": "https://localhost:8080/"
        }
      },
      "execution_count": 41,
      "outputs": [
        {
          "output_type": "execute_result",
          "data": {
            "text/plain": [
              "Array([1.03118458, 1.13741164, 1.90259498], dtype=float64)"
            ]
          },
          "metadata": {},
          "execution_count": 41
        }
      ]
    },
    {
      "cell_type": "code",
      "source": [],
      "metadata": {
        "id": "lC27UzIA6U2v"
      },
      "execution_count": null,
      "outputs": []
    }
  ]
}