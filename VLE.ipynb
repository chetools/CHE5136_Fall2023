{
  "nbformat": 4,
  "nbformat_minor": 0,
  "metadata": {
    "colab": {
      "provenance": [],
      "authorship_tag": "ABX9TyPf/rWY3enPvdMhKCT/wYV0",
      "include_colab_link": true
    },
    "kernelspec": {
      "name": "python3",
      "display_name": "Python 3"
    },
    "language_info": {
      "name": "python"
    }
  },
  "cells": [
    {
      "cell_type": "markdown",
      "metadata": {
        "id": "view-in-github",
        "colab_type": "text"
      },
      "source": [
        "<a href=\"https://colab.research.google.com/github/profteachkids/CHE5136_Fall2023/blob/main/VLE.ipynb\" target=\"_parent\"><img src=\"https://colab.research.google.com/assets/colab-badge.svg\" alt=\"Open In Colab\"/></a>"
      ]
    },
    {
      "cell_type": "code",
      "execution_count": 1,
      "metadata": {
        "colab": {
          "base_uri": "https://localhost:8080/"
        },
        "id": "AFtFRz8jPsao",
        "outputId": "dc720083-68ce-4d21-f332-90cc61bb046f"
      },
      "outputs": [
        {
          "output_type": "stream",
          "name": "stdout",
          "text": [
            "Collecting importnb\n",
            "  Downloading importnb-2023.1.7-py3-none-any.whl (42 kB)\n",
            "\u001b[2K     \u001b[90m━━━━━━━━━━━━━━━━━━━━━━━━━━━━━━━━━━━━━━━━\u001b[0m \u001b[32m42.9/42.9 kB\u001b[0m \u001b[31m1.3 MB/s\u001b[0m eta \u001b[36m0:00:00\u001b[0m\n",
            "\u001b[?25hInstalling collected packages: importnb\n",
            "Successfully installed importnb-2023.1.7\n"
          ]
        }
      ],
      "source": [
        "!wget -N -q https://raw.githubusercontent.com/profteachkids/chetools/main/tools/che5.ipynb -O che5.ipynb\n",
        "!pip install importnb"
      ]
    },
    {
      "cell_type": "code",
      "source": [
        "from importnb import Notebook\n",
        "with Notebook():\n",
        "    from che5 import Props\n",
        "\n",
        "import numpy as np\n",
        "import jax\n",
        "import jax.numpy as jnp\n",
        "jax.config.update('jax_enable_x64',True)\n",
        "\n",
        "from scipy.optimize import root_scalar,root"
      ],
      "metadata": {
        "id": "cmh3qZYzUguU"
      },
      "execution_count": 45,
      "outputs": []
    },
    {
      "cell_type": "code",
      "source": [
        "p=Props(['Ethanol','Water'])\n",
        "z = jnp.array([1/2,1/2])"
      ],
      "metadata": {
        "id": "_eTGoIvkUk2l"
      },
      "execution_count": 25,
      "outputs": []
    },
    {
      "cell_type": "code",
      "source": [
        "def bubblePy_ideal(x, T):\n",
        "    Pi = x*p.Pvap(T)\n",
        "    bubbleP = np.sum(Pi)\n",
        "    return bubbleP, Pi/bubbleP"
      ],
      "metadata": {
        "id": "Vi7Mwb08UriB"
      },
      "execution_count": 4,
      "outputs": []
    },
    {
      "cell_type": "code",
      "source": [
        "@jax.jit\n",
        "def bubbleTy_ideal_eq(x, T, P):\n",
        "    return jnp.sum(x*p.Pvap(T)/P) - 1.\n",
        "\n",
        "bubbleTy_ideal_eq_gradT = jax.jit(jax.grad(bubbleTy_ideal_eq, 1))\n",
        "bubbleTy_ideal_eq_grad2T = jax.jit(jax.grad(bubbleTy_ideal_eq_gradT, 1))\n",
        "\n",
        "\n",
        "\n",
        "def bubbleTy_ideal(x, P):\n",
        "    Tb = p.Tb(P)\n",
        "    Tguess = jnp.sum(x*Tb)\n",
        "\n",
        "    res = root_scalar(lambda T: bubbleTy_ideal_eq(x,T,P), x0=Tguess,\n",
        "                fprime=lambda T: bubbleTy_ideal_eq_gradT(x,T,P),\n",
        "                fprime2=lambda T: bubbleTy_ideal_eq_grad2T(x,T,P),\n",
        "                      method='halley')\n",
        "    if not(res.converged):\n",
        "        print(res)\n",
        "    bubbleT = res.root\n",
        "\n",
        "    return bubbleT, x*p.Pvap(bubbleT)/P\n",
        "\n",
        "def dewPx_ideal(y, T):\n",
        "    y_div_Psat = y/p.Pvap(T)\n",
        "    dewP = 1./jnp.sum(y_div_Psat)\n",
        "    return dewP, y_div_Psat*dewP\n",
        "\n",
        "@jax.jit\n",
        "def dewTx_ideal_eq(y, T, P):\n",
        "    return jnp.sum(y*P/p.Pvap(T)) - 1.\n",
        "\n",
        "dewTx_ideal_eq_gradT = jax.jit(jax.grad(dewTx_ideal_eq, 1))\n",
        "dewTx_ideal_eq_grad2T = jax.jit(jax.grad(dewTx_ideal_eq_gradT, 1))\n",
        "\n",
        "def dewTx_ideal(y, P):\n",
        "    Tb = p.Tb(P)\n",
        "    Tguess = jnp.sum(y*Tb)\n",
        "    res = root_scalar(lambda T: dewTx_ideal_eq(y,T,P), x0=Tguess,\n",
        "                fprime=lambda T: dewTx_ideal_eq_gradT(y,T,P),\n",
        "                fprime2=lambda T: dewTx_ideal_eq_grad2T(y,T,P),\n",
        "                      method='halley')\n",
        "    if not(res.converged):\n",
        "        print(res)\n",
        "\n",
        "    dewT = res.root\n",
        "\n",
        "    return dewT, y*P/p.Pvap(dewT)"
      ],
      "metadata": {
        "id": "GBaPwdWAWG5W"
      },
      "execution_count": 27,
      "outputs": []
    },
    {
      "cell_type": "code",
      "source": [
        "dewTx_ideal(z, 2e5)"
      ],
      "metadata": {
        "colab": {
          "base_uri": "https://localhost:8080/"
        },
        "id": "sO7HJiahWq3C",
        "outputId": "181e69fe-a9b9-4865-c2b0-db4eb2f5f441"
      },
      "execution_count": 6,
      "outputs": [
        {
          "output_type": "execute_result",
          "data": {
            "text/plain": [
              "Array(380.78240916, dtype=float64)"
            ]
          },
          "metadata": {},
          "execution_count": 6
        }
      ]
    },
    {
      "cell_type": "code",
      "source": [
        "#NRTL Parameters: Tij = Aij + Bij/T + Cij * Ln(T) + Dij * T (T Deg K)"
      ],
      "metadata": {
        "id": "x3Qzv47Ndscv"
      },
      "execution_count": 7,
      "outputs": []
    },
    {
      "cell_type": "code",
      "source": [
        "def NRTL(x, T):\n",
        "\n",
        "    tau = p.NRTL_A + p.NRTL_B/T + p.NRTL_C*jnp.log(T) + p.NRTL_D*T\n",
        "    G = jnp.exp(- p.NRTL_alpha*tau)\n",
        "    tauG = tau*G\n",
        "\n",
        "    # xG_einsum = np.einsum('k, ki -> i', x, G)\n",
        "    # xtauG_einsum = np.einsum('k, ki -> i', x, tauG)\n",
        "    xG = x @ G\n",
        "    xtauG = x @ tauG\n",
        "    xtauG_xG = xtauG / xG\n",
        "    return jnp.exp(xtauG_xG +  x@  ((G * (tau - xtauG_xG))/xG).T)\n"
      ],
      "metadata": {
        "id": "XyWCxih4d4iP"
      },
      "execution_count": 20,
      "outputs": []
    },
    {
      "cell_type": "code",
      "source": [
        "def nGexRT(n, T):\n",
        "\n",
        "    ntot = jnp.sum(n)\n",
        "    x = n/ntot\n",
        "\n",
        "    tau = p.NRTL_A + p.NRTL_B/T + p.NRTL_C*jnp.log(T) + p.NRTL_D*T\n",
        "    G = jnp.exp(- p.NRTL_alpha*tau)\n",
        "    tauG = tau*G\n",
        "    xG = x @ G\n",
        "    xtauG = x @ tauG\n",
        "    xtauG_xG = xtauG / xG\n",
        "\n",
        "    return ntot*jnp.sum(x * xtauG_xG)\n",
        "\n",
        "lngamma=jax.grad(nGexRT, 0)\n",
        "\n",
        "def NRTL_Gex(z,T):\n",
        "\n",
        "    return jnp.exp(lngamma(z,373.15))\n"
      ],
      "metadata": {
        "id": "qjCaEQGA8Rl6"
      },
      "execution_count": 19,
      "outputs": []
    },
    {
      "cell_type": "code",
      "source": [
        "@jax.jit\n",
        "def bubbleTy_eq(x, T, P):\n",
        "    return jnp.sum(x* NRTL(x,T) * p.Pvap(T)/P) - 1.\n",
        "\n",
        "bubbleTy_eq_gradT = jax.jit(jax.grad(bubbleTy_eq, 1))\n",
        "bubbleTy_eq_grad2T = jax.jit(jax.grad(bubbleTy_eq_gradT, 1))\n",
        "\n",
        "\n",
        "\n",
        "def bubbleTy(x, P):\n",
        "    T_ideal, y_ideal = bubbleTy_ideal(x, P)\n",
        "\n",
        "    res = root_scalar(lambda T: bubbleTy_eq(x,T,P), x0=T_ideal,\n",
        "                fprime=lambda T: bubbleTy_eq_gradT(x,T,P),\n",
        "                fprime2=lambda T: bubbleTy_eq_grad2T(x,T,P),\n",
        "                      method='halley')\n",
        "    if not(res.converged):\n",
        "        print(res)\n",
        "\n",
        "    bubbleT = res.root\n",
        "\n",
        "    return bubbleT, x*NRTL(x,bubbleT)*p.Pvap(bubbleT)/P\n",
        "\n"
      ],
      "metadata": {
        "id": "lC27UzIA6U2v"
      },
      "execution_count": 24,
      "outputs": []
    },
    {
      "cell_type": "code",
      "source": [
        "\n",
        "# @jax.jit\n",
        "def dewTx_eq(y, vec, P):\n",
        "    T = vec[0]\n",
        "    x = vec[1:]**2\n",
        "    return jnp.r_[x*NRTL(x,T)*p.Pvap(T)/P - y, jnp.sum(x)-1]\n",
        "\n",
        "dewTx_eq_jac = jax.jacobian(dewTx_eq, 1 )"
      ],
      "metadata": {
        "id": "3KpnLMq0JgX8"
      },
      "execution_count": 39,
      "outputs": []
    },
    {
      "cell_type": "code",
      "source": [
        "dewTx_eq(z, jnp.array([350, 0.5, 0.5]), 101325.)"
      ],
      "metadata": {
        "id": "d_mZMtfALh1H",
        "outputId": "3a688846-e23c-4a37-9dbb-ad93b1f35c59",
        "colab": {
          "base_uri": "https://localhost:8080/"
        }
      },
      "execution_count": 40,
      "outputs": [
        {
          "output_type": "execute_result",
          "data": {
            "text/plain": [
              "Array([-0.20965995, -0.34660991, -0.5       ], dtype=float64)"
            ]
          },
          "metadata": {},
          "execution_count": 40
        }
      ]
    },
    {
      "cell_type": "code",
      "source": [
        "dewTx_eq_jac(z, jnp.array([350, 0.5, 0.5]), 101325.)"
      ],
      "metadata": {
        "id": "z_YIqQPbOGoW",
        "outputId": "6212e361-72a7-4fde-ba2f-c770ef825278",
        "colab": {
          "base_uri": "https://localhost:8080/"
        }
      },
      "execution_count": 41,
      "outputs": [
        {
          "output_type": "execute_result",
          "data": {
            "text/plain": [
              "Array([[0.01151947, 0.84086405, 0.32049616],\n",
              "       [0.00618735, 0.16932192, 0.44423843],\n",
              "       [0.        , 1.        , 1.        ]], dtype=float64)"
            ]
          },
          "metadata": {},
          "execution_count": 41
        }
      ]
    },
    {
      "cell_type": "code",
      "source": [
        "dewT_ideal, dewx_ideal = dewTx_ideal(z,101325)"
      ],
      "metadata": {
        "id": "tl2-O-BzPu4X"
      },
      "execution_count": 42,
      "outputs": []
    },
    {
      "cell_type": "code",
      "source": [
        "root(lambda vec: dewTx_eq(z, vec, 101325.), jnp.r_[dewT_ideal, dewx_ideal], jac=lambda vec: dewTx_eq_jac(z, vec, 101325.))"
      ],
      "metadata": {
        "id": "4G4qMiJ7P2Eg",
        "outputId": "1c003a1f-2818-4f58-b6a8-6d2ad5691110",
        "colab": {
          "base_uri": "https://localhost:8080/"
        }
      },
      "execution_count": 47,
      "outputs": [
        {
          "output_type": "execute_result",
          "data": {
            "text/plain": [
              " message: The solution converged.\n",
              " success: True\n",
              "  status: 1\n",
              "     fun: [-1.287e-11 -1.316e-11 -9.056e-12]\n",
              "       x: [ 3.575e+02  3.860e-01  9.225e-01]\n",
              "    nfev: 9\n",
              "    njev: 1\n",
              "    fjac: [[-6.688e-01 -7.428e-01 -2.987e-02]\n",
              "           [ 5.478e-01 -5.196e-01  6.557e-01]\n",
              "           [ 5.026e-01 -4.222e-01 -7.544e-01]]\n",
              "       r: [-2.865e-02 -1.084e+00 -9.751e-01  1.125e+00  9.660e-01\n",
              "           -1.486e+00]\n",
              "     qtf: [ 6.369e-09 -3.800e-09  1.587e-09]"
            ]
          },
          "metadata": {},
          "execution_count": 47
        }
      ]
    },
    {
      "cell_type": "code",
      "source": [
        "\n",
        "\n",
        "\n",
        "\n",
        "\n",
        "dewTx_eq_gradT = jax.jit(jax.grad(dewTx_eq, 1))\n",
        "dewTx_eq_grad2T = jax.jit(jax.grad(dewTx_eq_gradT, 1))\n",
        "\n",
        "def dewTx(y, P):\n",
        "    Tb = p.Tb(P)\n",
        "    Tguess = jnp.sum(y*Tb)\n",
        "    res = root_scalar(lambda T: dewTx_eq(y,T,P), x0=Tguess,\n",
        "                fprime=lambda T: dewTx_eq_gradT(y,T,P),\n",
        "                fprime2=lambda T: dewTx_eq_grad2T(y,T,P),\n",
        "                      method='halley')\n",
        "    if not(res.converged):\n",
        "        print(res)\n",
        "\n",
        "    dewT = res.root\n",
        "\n",
        "    return dewT, y*P/p.Pvap(dewT)"
      ],
      "metadata": {
        "id": "pJmg1d6iLeGG"
      },
      "execution_count": null,
      "outputs": []
    },
    {
      "cell_type": "code",
      "source": [
        "bubbleTy(z,101325)"
      ],
      "metadata": {
        "id": "1enTXGjSHXS3",
        "outputId": "291b0813-a064-4e2d-96f7-177ea02407be",
        "colab": {
          "base_uri": "https://localhost:8080/"
        }
      },
      "execution_count": 26,
      "outputs": [
        {
          "output_type": "execute_result",
          "data": {
            "text/plain": [
              "(Array(353.02237618, dtype=float64),\n",
              " Array([0.65386044, 0.34613956], dtype=float64))"
            ]
          },
          "metadata": {},
          "execution_count": 26
        }
      ]
    },
    {
      "cell_type": "code",
      "source": [
        "flash(z, T, P)"
      ],
      "metadata": {
        "id": "aTWX4ygAIXs-"
      },
      "execution_count": null,
      "outputs": []
    }
  ]
}