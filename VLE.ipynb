{
  "nbformat": 4,
  "nbformat_minor": 0,
  "metadata": {
    "colab": {
      "provenance": [],
      "authorship_tag": "ABX9TyOQ1j6Yh38JCCu7ItUPFzSr",
      "include_colab_link": true
    },
    "kernelspec": {
      "name": "python3",
      "display_name": "Python 3"
    },
    "language_info": {
      "name": "python"
    }
  },
  "cells": [
    {
      "cell_type": "markdown",
      "metadata": {
        "id": "view-in-github",
        "colab_type": "text"
      },
      "source": [
        "<a href=\"https://colab.research.google.com/github/profteachkids/CHE5136_Fall2023/blob/main/VLE.ipynb\" target=\"_parent\"><img src=\"https://colab.research.google.com/assets/colab-badge.svg\" alt=\"Open In Colab\"/></a>"
      ]
    },
    {
      "cell_type": "code",
      "execution_count": 233,
      "metadata": {
        "colab": {
          "base_uri": "https://localhost:8080/"
        },
        "id": "AFtFRz8jPsao",
        "outputId": "4c962b73-2a37-433a-9913-9e88338c44d2"
      },
      "outputs": [
        {
          "output_type": "stream",
          "name": "stdout",
          "text": [
            "Requirement already satisfied: importnb in /usr/local/lib/python3.10/dist-packages (2023.1.7)\n"
          ]
        }
      ],
      "source": [
        "!wget -N -q https://raw.githubusercontent.com/profteachkids/chetools/main/tools/che5.ipynb -O che5.ipynb\n",
        "!pip install importnb"
      ]
    },
    {
      "cell_type": "code",
      "source": [
        "from importnb import Notebook\n",
        "with Notebook():\n",
        "    from che5 import Props\n",
        "\n",
        "import numpy as np\n",
        "import jax\n",
        "import jax.numpy as jnp\n",
        "jax.config.update('jax_enable_x64',True)\n",
        "\n",
        "from scipy.optimize import root_scalar,root\n",
        "from plotly.subplots import make_subplots"
      ],
      "metadata": {
        "id": "cmh3qZYzUguU"
      },
      "execution_count": 234,
      "outputs": []
    },
    {
      "cell_type": "code",
      "source": [
        "p=Props(['Ethanol','Water'])\n",
        "z = jnp.array([1/2,1/2])"
      ],
      "metadata": {
        "id": "_eTGoIvkUk2l"
      },
      "execution_count": 235,
      "outputs": []
    },
    {
      "cell_type": "code",
      "source": [
        "def bubblePy_ideal(x, T):\n",
        "    Pi = x*p.Pvap(T)\n",
        "    bubbleP = np.sum(Pi)\n",
        "    return bubbleP, Pi/bubbleP"
      ],
      "metadata": {
        "id": "Vi7Mwb08UriB"
      },
      "execution_count": 236,
      "outputs": []
    },
    {
      "cell_type": "code",
      "source": [
        "@jax.jit\n",
        "def bubbleTy_ideal_eq(x, T, P):\n",
        "    return jnp.sum(x*p.Pvap(T)/P) - 1.\n",
        "\n",
        "bubbleTy_ideal_eq_gradT = jax.jit(jax.grad(bubbleTy_ideal_eq, 1))\n",
        "bubbleTy_ideal_eq_grad2T = jax.jit(jax.grad(bubbleTy_ideal_eq_gradT, 1))\n",
        "\n",
        "\n",
        "\n",
        "def bubbleTy_ideal(x, P):\n",
        "    Tb = p.Tb(P)\n",
        "    Tguess = jnp.sum(x*Tb)\n",
        "\n",
        "    res = root_scalar(lambda T: bubbleTy_ideal_eq(x,T,P), x0=Tguess,\n",
        "                fprime=lambda T: bubbleTy_ideal_eq_gradT(x,T,P),\n",
        "                fprime2=lambda T: bubbleTy_ideal_eq_grad2T(x,T,P),\n",
        "                      method='halley')\n",
        "    if not(res.converged):\n",
        "        print(res)\n",
        "    bubbleT = res.root\n",
        "\n",
        "    return bubbleT, x*p.Pvap(bubbleT)/P\n",
        "\n",
        "def dewPx_ideal(y, T):\n",
        "    y_div_Psat = y/p.Pvap(T)\n",
        "    dewP = 1./jnp.sum(y_div_Psat)\n",
        "    return dewP, y_div_Psat*dewP\n",
        "\n",
        "@jax.jit\n",
        "def dewTx_ideal_eq(y, T, P):\n",
        "    return jnp.sum(y*P/p.Pvap(T)) - 1.\n",
        "\n",
        "dewTx_ideal_eq_gradT = jax.jit(jax.grad(dewTx_ideal_eq, 1))\n",
        "dewTx_ideal_eq_grad2T = jax.jit(jax.grad(dewTx_ideal_eq_gradT, 1))\n",
        "\n",
        "def dewTx_ideal(y, P):\n",
        "    Tb = p.Tb(P)\n",
        "    Tguess = jnp.sum(y*Tb)\n",
        "    res = root_scalar(lambda T: dewTx_ideal_eq(y,T,P), x0=Tguess,\n",
        "                fprime=lambda T: dewTx_ideal_eq_gradT(y,T,P),\n",
        "                fprime2=lambda T: dewTx_ideal_eq_grad2T(y,T,P),\n",
        "                      method='halley')\n",
        "    if not(res.converged):\n",
        "        print(res)\n",
        "\n",
        "    dewT = res.root\n",
        "\n",
        "    return dewT, y*P/p.Pvap(dewT)"
      ],
      "metadata": {
        "id": "GBaPwdWAWG5W"
      },
      "execution_count": 237,
      "outputs": []
    },
    {
      "cell_type": "code",
      "source": [
        "dewTx_ideal(z, 2e5)"
      ],
      "metadata": {
        "colab": {
          "base_uri": "https://localhost:8080/"
        },
        "id": "sO7HJiahWq3C",
        "outputId": "696c36fc-b5c8-45e0-a68f-992244098129"
      },
      "execution_count": 238,
      "outputs": [
        {
          "output_type": "execute_result",
          "data": {
            "text/plain": [
              "(Array(383.6969013, dtype=float64),\n",
              " Array([0.31438693, 0.68561307], dtype=float64))"
            ]
          },
          "metadata": {},
          "execution_count": 238
        }
      ]
    },
    {
      "cell_type": "code",
      "source": [
        "#NRTL Parameters: Tij = Aij + Bij/T + Cij * Ln(T) + Dij * T (T Deg K)"
      ],
      "metadata": {
        "id": "x3Qzv47Ndscv"
      },
      "execution_count": 239,
      "outputs": []
    },
    {
      "cell_type": "code",
      "source": [
        "def NRTL(x, T):\n",
        "\n",
        "    tau = p.NRTL_A + p.NRTL_B/T + p.NRTL_C*jnp.log(T) + p.NRTL_D*T\n",
        "    G = jnp.exp(- p.NRTL_alpha*tau)\n",
        "    tauG = tau*G\n",
        "\n",
        "    # xG_einsum = np.einsum('k, ki -> i', x, G)\n",
        "    # xtauG_einsum = np.einsum('k, ki -> i', x, tauG)\n",
        "    xG = x @ G\n",
        "    xtauG = x @ tauG\n",
        "    xtauG_xG = xtauG / xG\n",
        "    return jnp.exp(xtauG_xG +  x@  ((G * (tau - xtauG_xG))/xG).T)\n"
      ],
      "metadata": {
        "id": "XyWCxih4d4iP"
      },
      "execution_count": 240,
      "outputs": []
    },
    {
      "cell_type": "code",
      "source": [
        "def nGexRT(n, T):\n",
        "\n",
        "    ntot = jnp.sum(n)\n",
        "    x = n/ntot\n",
        "\n",
        "    tau = p.NRTL_A + p.NRTL_B/T + p.NRTL_C*jnp.log(T) + p.NRTL_D*T\n",
        "    G = jnp.exp(- p.NRTL_alpha*tau)\n",
        "    tauG = tau*G\n",
        "    xG = x @ G\n",
        "    xtauG = x @ tauG\n",
        "    xtauG_xG = xtauG / xG\n",
        "\n",
        "    return ntot*jnp.sum(x * xtauG_xG)\n",
        "\n",
        "lngamma=jax.grad(nGexRT, 0)\n",
        "\n",
        "def NRTL_Gex(z,T):\n",
        "\n",
        "    return jnp.exp(lngamma(z,373.15))\n"
      ],
      "metadata": {
        "id": "qjCaEQGA8Rl6"
      },
      "execution_count": 241,
      "outputs": []
    },
    {
      "cell_type": "code",
      "source": [
        "@jax.jit\n",
        "def bubbleTy_eq(x, T, P):\n",
        "    return jnp.sum(x* NRTL(x,T) * p.Pvap(T)/P) - 1.\n",
        "\n",
        "bubbleTy_eq_gradT = jax.jit(jax.grad(bubbleTy_eq, 1))\n",
        "bubbleTy_eq_grad2T = jax.jit(jax.grad(bubbleTy_eq_gradT, 1))\n",
        "\n",
        "\n",
        "\n",
        "def bubbleTy(x, P):\n",
        "    T_ideal, y_ideal = bubbleTy_ideal(x, P)\n",
        "\n",
        "    res = root_scalar(lambda T: bubbleTy_eq(x,T,P), x0=T_ideal,\n",
        "                fprime=lambda T: bubbleTy_eq_gradT(x,T,P),\n",
        "                fprime2=lambda T: bubbleTy_eq_grad2T(x,T,P),\n",
        "                      method='halley')\n",
        "    if not(res.converged):\n",
        "        print(res)\n",
        "\n",
        "    bubbleT = res.root\n",
        "\n",
        "    return bubbleT, x*NRTL(x,bubbleT)*p.Pvap(bubbleT)/P\n",
        "\n"
      ],
      "metadata": {
        "id": "lC27UzIA6U2v"
      },
      "execution_count": 242,
      "outputs": []
    },
    {
      "cell_type": "code",
      "source": [
        "\n",
        "# @jax.jit\n",
        "def dewTx_eq(y, vec, P):\n",
        "    T = vec[0]\n",
        "    x = vec[1:]**2\n",
        "    return jnp.r_[x*NRTL(x,T)*p.Pvap(T)/P - y, jnp.sum(x)-1]\n",
        "\n",
        "dewTx_eq_jac = jax.jacobian(dewTx_eq, 1 )"
      ],
      "metadata": {
        "id": "3KpnLMq0JgX8"
      },
      "execution_count": 243,
      "outputs": []
    },
    {
      "cell_type": "code",
      "source": [
        "def dewTx(y, P, guess=None):\n",
        "\n",
        "    if guess is None:\n",
        "        dewT_guess, dewx_guess = dewTx_ideal(y,P)\n",
        "    else:\n",
        "        dewT_guess, dewx_guess = guess\n",
        "\n",
        "    res=root(lambda vec: dewTx_eq(y, vec, P),\n",
        "        jnp.r_[dewT_guess, dewx_guess],\n",
        "        jac=lambda vec: dewTx_eq_jac(y, vec, P))\n",
        "\n",
        "    if not(res.success):\n",
        "        print(res)\n",
        "    # print(res)\n",
        "\n",
        "    dewT = res.x[0]\n",
        "    dewx = res.x[1:]**2\n",
        "\n",
        "    return dewT, dewx"
      ],
      "metadata": {
        "id": "pJmg1d6iLeGG"
      },
      "execution_count": 244,
      "outputs": []
    },
    {
      "cell_type": "code",
      "source": [
        "y1 = np.linspace(0,1.,25)\n",
        "ys = np.c_[y1, 1-y1]\n",
        "dewTs = []\n",
        "dewxs = []"
      ],
      "metadata": {
        "id": "w5q_5Qi8ZI6P"
      },
      "execution_count": 245,
      "outputs": []
    },
    {
      "cell_type": "code",
      "source": [
        "guess = None\n",
        "for y in ys:\n",
        "    dewT, dewx = dewTx(y, 101325, guess)\n",
        "    guess = (dewT, dewx)\n",
        "    print(y, dewT, dewx)\n",
        "    dewTs.append(dewT)\n",
        "    dewxs.append(dewx)"
      ],
      "metadata": {
        "id": "mZ41tVnva6Bs",
        "outputId": "1fc27f5d-c95a-49a3-8fe8-9415b3a3a7b3",
        "colab": {
          "base_uri": "https://localhost:8080/"
        }
      },
      "execution_count": 246,
      "outputs": [
        {
          "output_type": "stream",
          "name": "stdout",
          "text": [
            "[0. 1.] 373.1478177065466 [0. 1.]\n",
            "[0.04166667 0.95833333] 372.06438916945154 [0.00384654 0.99615346]\n",
            "[0.08333333 0.91666667] 370.94616492415344 [0.00815908 0.99184092]\n",
            "[0.125 0.875] 369.7909221359241 [0.01303852 0.98696148]\n",
            "[0.16666667 0.83333333] 368.596320567221 [0.01861859 0.98138141]\n",
            "[0.20833333 0.79166667] 367.3599509907055 [0.02508081 0.97491919]\n",
            "[0.25 0.75] 366.0794341521504 [0.0326786 0.9673214]\n",
            "[0.29166667 0.70833333] 364.75261317718395 [0.04177797 0.95822203]\n",
            "[0.33333333 0.66666667] 363.37792564032776 [0.05292971 0.94707029]\n",
            "[0.375 0.625] 361.9551350183087 [0.06700617 0.93299383]\n",
            "[0.41666667 0.58333333] 360.48682274344833 [0.08547979 0.91452021]\n",
            "[0.45833333 0.54166667] 358.9816042304736 [0.11103904 0.88896096]\n",
            "[0.5 0.5] 357.46152607673855 [0.14903094 0.85096906]\n",
            "[0.54166667 0.45833333] 355.97937152693805 [0.21029961 0.78970039]\n",
            "[0.58333333 0.41666667] 354.6454608328755 [0.30787477 0.69212523]\n",
            "[0.625 0.375] 353.5853916923284 [0.42503266 0.57496734]\n",
            "[0.66666667 0.33333333] 352.81155210084336 [0.53051226 0.46948774]\n",
            "[0.70833333 0.29166667] 352.26234454078303 [0.61908928 0.38091072]\n",
            "[0.75 0.25] 351.88026588574866 [0.69442736 0.30557264]\n",
            "[0.79166667 0.20833333] 351.6242226188302 [0.75990422 0.24009578]\n",
            "[0.83333333 0.16666667] 351.46534981512406 [0.8178491 0.1821509]\n",
            "[0.875 0.125] 351.38289791283574 [0.86985232 0.13014768]\n",
            "[0.91666667 0.08333333] 351.3615437258437 [0.91703404 0.08296596]\n",
            "[0.95833333 0.04166667] 351.38969497846057 [0.96021145 0.03978855]\n",
            "[1. 0.] 351.45840044162395 [1.00000000e+00 9.69437092e-17]\n"
          ]
        }
      ]
    },
    {
      "cell_type": "code",
      "source": [
        "dewxs=np.vstack(dewxs)"
      ],
      "metadata": {
        "id": "2ZmJb00yePuJ"
      },
      "execution_count": 247,
      "outputs": []
    },
    {
      "cell_type": "code",
      "source": [
        "fig = make_subplots()\n",
        "fig.add_scatter(x=dewxs[:,0], y=y1, mode='lines')\n",
        "fig.add_scatter(x=[0,1],y=[0,1],mode='lines')\n",
        "fig.update_layout(width=600, height=600, template='plotly_dark')"
      ],
      "metadata": {
        "id": "Ym1vfolibGfT",
        "outputId": "61390e8f-fcb0-4ab8-d221-46e9a62709fe",
        "colab": {
          "base_uri": "https://localhost:8080/",
          "height": 617
        }
      },
      "execution_count": 248,
      "outputs": [
        {
          "output_type": "display_data",
          "data": {
            "text/html": [
              "<html>\n",
              "<head><meta charset=\"utf-8\" /></head>\n",
              "<body>\n",
              "    <div>            <script src=\"https://cdnjs.cloudflare.com/ajax/libs/mathjax/2.7.5/MathJax.js?config=TeX-AMS-MML_SVG\"></script><script type=\"text/javascript\">if (window.MathJax && window.MathJax.Hub && window.MathJax.Hub.Config) {window.MathJax.Hub.Config({SVG: {font: \"STIX-Web\"}});}</script>                <script type=\"text/javascript\">window.PlotlyConfig = {MathJaxConfig: 'local'};</script>\n",
              "        <script charset=\"utf-8\" src=\"https://cdn.plot.ly/plotly-2.24.1.min.js\"></script>                <div id=\"f880a7a2-66b3-45d9-a915-a5bcc62a4ae5\" class=\"plotly-graph-div\" style=\"height:600px; width:600px;\"></div>            <script type=\"text/javascript\">                                    window.PLOTLYENV=window.PLOTLYENV || {};                                    if (document.getElementById(\"f880a7a2-66b3-45d9-a915-a5bcc62a4ae5\")) {                    Plotly.newPlot(                        \"f880a7a2-66b3-45d9-a915-a5bcc62a4ae5\",                        [{\"mode\":\"lines\",\"x\":[0.0,0.0038465419175731817,0.008159082385890358,0.013038522289145886,0.018618588613114453,0.02508080792527639,0.032678604457440426,0.04177797003076476,0.052929712173950254,0.06700616752399416,0.08547979093329587,0.1110390397882244,0.14903094169015557,0.21029961178261963,0.30787477011310294,0.4250326644334539,0.5305122552795507,0.619089279010154,0.694427359351191,0.7599042226573373,0.8178490977531694,0.8698523217761046,0.9170340356803167,0.9602114458997908,1.0],\"y\":[0.0,0.041666666666666664,0.08333333333333333,0.125,0.16666666666666666,0.20833333333333331,0.25,0.29166666666666663,0.3333333333333333,0.375,0.41666666666666663,0.4583333333333333,0.5,0.5416666666666666,0.5833333333333333,0.625,0.6666666666666666,0.7083333333333333,0.75,0.7916666666666666,0.8333333333333333,0.875,0.9166666666666666,0.9583333333333333,1.0],\"type\":\"scatter\"},{\"mode\":\"lines\",\"x\":[0,1],\"y\":[0,1],\"type\":\"scatter\"}],                        {\"template\":{\"data\":{\"barpolar\":[{\"marker\":{\"line\":{\"color\":\"rgb(17,17,17)\",\"width\":0.5},\"pattern\":{\"fillmode\":\"overlay\",\"size\":10,\"solidity\":0.2}},\"type\":\"barpolar\"}],\"bar\":[{\"error_x\":{\"color\":\"#f2f5fa\"},\"error_y\":{\"color\":\"#f2f5fa\"},\"marker\":{\"line\":{\"color\":\"rgb(17,17,17)\",\"width\":0.5},\"pattern\":{\"fillmode\":\"overlay\",\"size\":10,\"solidity\":0.2}},\"type\":\"bar\"}],\"carpet\":[{\"aaxis\":{\"endlinecolor\":\"#A2B1C6\",\"gridcolor\":\"#506784\",\"linecolor\":\"#506784\",\"minorgridcolor\":\"#506784\",\"startlinecolor\":\"#A2B1C6\"},\"baxis\":{\"endlinecolor\":\"#A2B1C6\",\"gridcolor\":\"#506784\",\"linecolor\":\"#506784\",\"minorgridcolor\":\"#506784\",\"startlinecolor\":\"#A2B1C6\"},\"type\":\"carpet\"}],\"choropleth\":[{\"colorbar\":{\"outlinewidth\":0,\"ticks\":\"\"},\"type\":\"choropleth\"}],\"contourcarpet\":[{\"colorbar\":{\"outlinewidth\":0,\"ticks\":\"\"},\"type\":\"contourcarpet\"}],\"contour\":[{\"colorbar\":{\"outlinewidth\":0,\"ticks\":\"\"},\"colorscale\":[[0.0,\"#0d0887\"],[0.1111111111111111,\"#46039f\"],[0.2222222222222222,\"#7201a8\"],[0.3333333333333333,\"#9c179e\"],[0.4444444444444444,\"#bd3786\"],[0.5555555555555556,\"#d8576b\"],[0.6666666666666666,\"#ed7953\"],[0.7777777777777778,\"#fb9f3a\"],[0.8888888888888888,\"#fdca26\"],[1.0,\"#f0f921\"]],\"type\":\"contour\"}],\"heatmapgl\":[{\"colorbar\":{\"outlinewidth\":0,\"ticks\":\"\"},\"colorscale\":[[0.0,\"#0d0887\"],[0.1111111111111111,\"#46039f\"],[0.2222222222222222,\"#7201a8\"],[0.3333333333333333,\"#9c179e\"],[0.4444444444444444,\"#bd3786\"],[0.5555555555555556,\"#d8576b\"],[0.6666666666666666,\"#ed7953\"],[0.7777777777777778,\"#fb9f3a\"],[0.8888888888888888,\"#fdca26\"],[1.0,\"#f0f921\"]],\"type\":\"heatmapgl\"}],\"heatmap\":[{\"colorbar\":{\"outlinewidth\":0,\"ticks\":\"\"},\"colorscale\":[[0.0,\"#0d0887\"],[0.1111111111111111,\"#46039f\"],[0.2222222222222222,\"#7201a8\"],[0.3333333333333333,\"#9c179e\"],[0.4444444444444444,\"#bd3786\"],[0.5555555555555556,\"#d8576b\"],[0.6666666666666666,\"#ed7953\"],[0.7777777777777778,\"#fb9f3a\"],[0.8888888888888888,\"#fdca26\"],[1.0,\"#f0f921\"]],\"type\":\"heatmap\"}],\"histogram2dcontour\":[{\"colorbar\":{\"outlinewidth\":0,\"ticks\":\"\"},\"colorscale\":[[0.0,\"#0d0887\"],[0.1111111111111111,\"#46039f\"],[0.2222222222222222,\"#7201a8\"],[0.3333333333333333,\"#9c179e\"],[0.4444444444444444,\"#bd3786\"],[0.5555555555555556,\"#d8576b\"],[0.6666666666666666,\"#ed7953\"],[0.7777777777777778,\"#fb9f3a\"],[0.8888888888888888,\"#fdca26\"],[1.0,\"#f0f921\"]],\"type\":\"histogram2dcontour\"}],\"histogram2d\":[{\"colorbar\":{\"outlinewidth\":0,\"ticks\":\"\"},\"colorscale\":[[0.0,\"#0d0887\"],[0.1111111111111111,\"#46039f\"],[0.2222222222222222,\"#7201a8\"],[0.3333333333333333,\"#9c179e\"],[0.4444444444444444,\"#bd3786\"],[0.5555555555555556,\"#d8576b\"],[0.6666666666666666,\"#ed7953\"],[0.7777777777777778,\"#fb9f3a\"],[0.8888888888888888,\"#fdca26\"],[1.0,\"#f0f921\"]],\"type\":\"histogram2d\"}],\"histogram\":[{\"marker\":{\"pattern\":{\"fillmode\":\"overlay\",\"size\":10,\"solidity\":0.2}},\"type\":\"histogram\"}],\"mesh3d\":[{\"colorbar\":{\"outlinewidth\":0,\"ticks\":\"\"},\"type\":\"mesh3d\"}],\"parcoords\":[{\"line\":{\"colorbar\":{\"outlinewidth\":0,\"ticks\":\"\"}},\"type\":\"parcoords\"}],\"pie\":[{\"automargin\":true,\"type\":\"pie\"}],\"scatter3d\":[{\"line\":{\"colorbar\":{\"outlinewidth\":0,\"ticks\":\"\"}},\"marker\":{\"colorbar\":{\"outlinewidth\":0,\"ticks\":\"\"}},\"type\":\"scatter3d\"}],\"scattercarpet\":[{\"marker\":{\"colorbar\":{\"outlinewidth\":0,\"ticks\":\"\"}},\"type\":\"scattercarpet\"}],\"scattergeo\":[{\"marker\":{\"colorbar\":{\"outlinewidth\":0,\"ticks\":\"\"}},\"type\":\"scattergeo\"}],\"scattergl\":[{\"marker\":{\"line\":{\"color\":\"#283442\"}},\"type\":\"scattergl\"}],\"scattermapbox\":[{\"marker\":{\"colorbar\":{\"outlinewidth\":0,\"ticks\":\"\"}},\"type\":\"scattermapbox\"}],\"scatterpolargl\":[{\"marker\":{\"colorbar\":{\"outlinewidth\":0,\"ticks\":\"\"}},\"type\":\"scatterpolargl\"}],\"scatterpolar\":[{\"marker\":{\"colorbar\":{\"outlinewidth\":0,\"ticks\":\"\"}},\"type\":\"scatterpolar\"}],\"scatter\":[{\"marker\":{\"line\":{\"color\":\"#283442\"}},\"type\":\"scatter\"}],\"scatterternary\":[{\"marker\":{\"colorbar\":{\"outlinewidth\":0,\"ticks\":\"\"}},\"type\":\"scatterternary\"}],\"surface\":[{\"colorbar\":{\"outlinewidth\":0,\"ticks\":\"\"},\"colorscale\":[[0.0,\"#0d0887\"],[0.1111111111111111,\"#46039f\"],[0.2222222222222222,\"#7201a8\"],[0.3333333333333333,\"#9c179e\"],[0.4444444444444444,\"#bd3786\"],[0.5555555555555556,\"#d8576b\"],[0.6666666666666666,\"#ed7953\"],[0.7777777777777778,\"#fb9f3a\"],[0.8888888888888888,\"#fdca26\"],[1.0,\"#f0f921\"]],\"type\":\"surface\"}],\"table\":[{\"cells\":{\"fill\":{\"color\":\"#506784\"},\"line\":{\"color\":\"rgb(17,17,17)\"}},\"header\":{\"fill\":{\"color\":\"#2a3f5f\"},\"line\":{\"color\":\"rgb(17,17,17)\"}},\"type\":\"table\"}]},\"layout\":{\"annotationdefaults\":{\"arrowcolor\":\"#f2f5fa\",\"arrowhead\":0,\"arrowwidth\":1},\"autotypenumbers\":\"strict\",\"coloraxis\":{\"colorbar\":{\"outlinewidth\":0,\"ticks\":\"\"}},\"colorscale\":{\"diverging\":[[0,\"#8e0152\"],[0.1,\"#c51b7d\"],[0.2,\"#de77ae\"],[0.3,\"#f1b6da\"],[0.4,\"#fde0ef\"],[0.5,\"#f7f7f7\"],[0.6,\"#e6f5d0\"],[0.7,\"#b8e186\"],[0.8,\"#7fbc41\"],[0.9,\"#4d9221\"],[1,\"#276419\"]],\"sequential\":[[0.0,\"#0d0887\"],[0.1111111111111111,\"#46039f\"],[0.2222222222222222,\"#7201a8\"],[0.3333333333333333,\"#9c179e\"],[0.4444444444444444,\"#bd3786\"],[0.5555555555555556,\"#d8576b\"],[0.6666666666666666,\"#ed7953\"],[0.7777777777777778,\"#fb9f3a\"],[0.8888888888888888,\"#fdca26\"],[1.0,\"#f0f921\"]],\"sequentialminus\":[[0.0,\"#0d0887\"],[0.1111111111111111,\"#46039f\"],[0.2222222222222222,\"#7201a8\"],[0.3333333333333333,\"#9c179e\"],[0.4444444444444444,\"#bd3786\"],[0.5555555555555556,\"#d8576b\"],[0.6666666666666666,\"#ed7953\"],[0.7777777777777778,\"#fb9f3a\"],[0.8888888888888888,\"#fdca26\"],[1.0,\"#f0f921\"]]},\"colorway\":[\"#636efa\",\"#EF553B\",\"#00cc96\",\"#ab63fa\",\"#FFA15A\",\"#19d3f3\",\"#FF6692\",\"#B6E880\",\"#FF97FF\",\"#FECB52\"],\"font\":{\"color\":\"#f2f5fa\"},\"geo\":{\"bgcolor\":\"rgb(17,17,17)\",\"lakecolor\":\"rgb(17,17,17)\",\"landcolor\":\"rgb(17,17,17)\",\"showlakes\":true,\"showland\":true,\"subunitcolor\":\"#506784\"},\"hoverlabel\":{\"align\":\"left\"},\"hovermode\":\"closest\",\"mapbox\":{\"style\":\"dark\"},\"paper_bgcolor\":\"rgb(17,17,17)\",\"plot_bgcolor\":\"rgb(17,17,17)\",\"polar\":{\"angularaxis\":{\"gridcolor\":\"#506784\",\"linecolor\":\"#506784\",\"ticks\":\"\"},\"bgcolor\":\"rgb(17,17,17)\",\"radialaxis\":{\"gridcolor\":\"#506784\",\"linecolor\":\"#506784\",\"ticks\":\"\"}},\"scene\":{\"xaxis\":{\"backgroundcolor\":\"rgb(17,17,17)\",\"gridcolor\":\"#506784\",\"gridwidth\":2,\"linecolor\":\"#506784\",\"showbackground\":true,\"ticks\":\"\",\"zerolinecolor\":\"#C8D4E3\"},\"yaxis\":{\"backgroundcolor\":\"rgb(17,17,17)\",\"gridcolor\":\"#506784\",\"gridwidth\":2,\"linecolor\":\"#506784\",\"showbackground\":true,\"ticks\":\"\",\"zerolinecolor\":\"#C8D4E3\"},\"zaxis\":{\"backgroundcolor\":\"rgb(17,17,17)\",\"gridcolor\":\"#506784\",\"gridwidth\":2,\"linecolor\":\"#506784\",\"showbackground\":true,\"ticks\":\"\",\"zerolinecolor\":\"#C8D4E3\"}},\"shapedefaults\":{\"line\":{\"color\":\"#f2f5fa\"}},\"sliderdefaults\":{\"bgcolor\":\"#C8D4E3\",\"bordercolor\":\"rgb(17,17,17)\",\"borderwidth\":1,\"tickwidth\":0},\"ternary\":{\"aaxis\":{\"gridcolor\":\"#506784\",\"linecolor\":\"#506784\",\"ticks\":\"\"},\"baxis\":{\"gridcolor\":\"#506784\",\"linecolor\":\"#506784\",\"ticks\":\"\"},\"bgcolor\":\"rgb(17,17,17)\",\"caxis\":{\"gridcolor\":\"#506784\",\"linecolor\":\"#506784\",\"ticks\":\"\"}},\"title\":{\"x\":0.05},\"updatemenudefaults\":{\"bgcolor\":\"#506784\",\"borderwidth\":0},\"xaxis\":{\"automargin\":true,\"gridcolor\":\"#283442\",\"linecolor\":\"#506784\",\"ticks\":\"\",\"title\":{\"standoff\":15},\"zerolinecolor\":\"#283442\",\"zerolinewidth\":2},\"yaxis\":{\"automargin\":true,\"gridcolor\":\"#283442\",\"linecolor\":\"#506784\",\"ticks\":\"\",\"title\":{\"standoff\":15},\"zerolinecolor\":\"#283442\",\"zerolinewidth\":2}}},\"xaxis\":{\"anchor\":\"y\",\"domain\":[0.0,1.0]},\"yaxis\":{\"anchor\":\"x\",\"domain\":[0.0,1.0]},\"width\":600,\"height\":600},                        {\"responsive\": true}                    ).then(function(){\n",
              "                            \n",
              "var gd = document.getElementById('f880a7a2-66b3-45d9-a915-a5bcc62a4ae5');\n",
              "var x = new MutationObserver(function (mutations, observer) {{\n",
              "        var display = window.getComputedStyle(gd).display;\n",
              "        if (!display || display === 'none') {{\n",
              "            console.log([gd, 'removed!']);\n",
              "            Plotly.purge(gd);\n",
              "            observer.disconnect();\n",
              "        }}\n",
              "}});\n",
              "\n",
              "// Listen for the removal of the full notebook cells\n",
              "var notebookContainer = gd.closest('#notebook-container');\n",
              "if (notebookContainer) {{\n",
              "    x.observe(notebookContainer, {childList: true});\n",
              "}}\n",
              "\n",
              "// Listen for the clearing of the current output cell\n",
              "var outputEl = gd.closest('.output');\n",
              "if (outputEl) {{\n",
              "    x.observe(outputEl, {childList: true});\n",
              "}}\n",
              "\n",
              "                        })                };                            </script>        </div>\n",
              "</body>\n",
              "</html>"
            ]
          },
          "metadata": {}
        }
      ]
    },
    {
      "cell_type": "code",
      "source": [
        "fig2 = make_subplots()\n",
        "fig2.add_scatter(x=dewxs[:,0], y=dewTs, mode='lines')\n",
        "fig2.add_scatter(x=y1, y=dewTs, mode='lines')\n",
        "fig2.update_layout(width=600, height=600, template='plotly_dark')"
      ],
      "metadata": {
        "id": "8JWbSOGqednv",
        "outputId": "a35bc859-26e8-4cd8-e549-646b0d93687c",
        "colab": {
          "base_uri": "https://localhost:8080/",
          "height": 617
        }
      },
      "execution_count": 249,
      "outputs": [
        {
          "output_type": "display_data",
          "data": {
            "text/html": [
              "<html>\n",
              "<head><meta charset=\"utf-8\" /></head>\n",
              "<body>\n",
              "    <div>            <script src=\"https://cdnjs.cloudflare.com/ajax/libs/mathjax/2.7.5/MathJax.js?config=TeX-AMS-MML_SVG\"></script><script type=\"text/javascript\">if (window.MathJax && window.MathJax.Hub && window.MathJax.Hub.Config) {window.MathJax.Hub.Config({SVG: {font: \"STIX-Web\"}});}</script>                <script type=\"text/javascript\">window.PlotlyConfig = {MathJaxConfig: 'local'};</script>\n",
              "        <script charset=\"utf-8\" src=\"https://cdn.plot.ly/plotly-2.24.1.min.js\"></script>                <div id=\"77c44184-7efe-4214-8500-3d812af11503\" class=\"plotly-graph-div\" style=\"height:600px; width:600px;\"></div>            <script type=\"text/javascript\">                                    window.PLOTLYENV=window.PLOTLYENV || {};                                    if (document.getElementById(\"77c44184-7efe-4214-8500-3d812af11503\")) {                    Plotly.newPlot(                        \"77c44184-7efe-4214-8500-3d812af11503\",                        [{\"mode\":\"lines\",\"x\":[0.0,0.0038465419175731817,0.008159082385890358,0.013038522289145886,0.018618588613114453,0.02508080792527639,0.032678604457440426,0.04177797003076476,0.052929712173950254,0.06700616752399416,0.08547979093329587,0.1110390397882244,0.14903094169015557,0.21029961178261963,0.30787477011310294,0.4250326644334539,0.5305122552795507,0.619089279010154,0.694427359351191,0.7599042226573373,0.8178490977531694,0.8698523217761046,0.9170340356803167,0.9602114458997908,1.0],\"y\":[373.1478177065466,372.06438916945154,370.94616492415344,369.7909221359241,368.596320567221,367.3599509907055,366.0794341521504,364.75261317718395,363.37792564032776,361.9551350183087,360.48682274344833,358.9816042304736,357.46152607673855,355.97937152693805,354.6454608328755,353.5853916923284,352.81155210084336,352.26234454078303,351.88026588574866,351.6242226188302,351.46534981512406,351.38289791283574,351.3615437258437,351.38969497846057,351.45840044162395],\"type\":\"scatter\"},{\"mode\":\"lines\",\"x\":[0.0,0.041666666666666664,0.08333333333333333,0.125,0.16666666666666666,0.20833333333333331,0.25,0.29166666666666663,0.3333333333333333,0.375,0.41666666666666663,0.4583333333333333,0.5,0.5416666666666666,0.5833333333333333,0.625,0.6666666666666666,0.7083333333333333,0.75,0.7916666666666666,0.8333333333333333,0.875,0.9166666666666666,0.9583333333333333,1.0],\"y\":[373.1478177065466,372.06438916945154,370.94616492415344,369.7909221359241,368.596320567221,367.3599509907055,366.0794341521504,364.75261317718395,363.37792564032776,361.9551350183087,360.48682274344833,358.9816042304736,357.46152607673855,355.97937152693805,354.6454608328755,353.5853916923284,352.81155210084336,352.26234454078303,351.88026588574866,351.6242226188302,351.46534981512406,351.38289791283574,351.3615437258437,351.38969497846057,351.45840044162395],\"type\":\"scatter\"}],                        {\"template\":{\"data\":{\"barpolar\":[{\"marker\":{\"line\":{\"color\":\"rgb(17,17,17)\",\"width\":0.5},\"pattern\":{\"fillmode\":\"overlay\",\"size\":10,\"solidity\":0.2}},\"type\":\"barpolar\"}],\"bar\":[{\"error_x\":{\"color\":\"#f2f5fa\"},\"error_y\":{\"color\":\"#f2f5fa\"},\"marker\":{\"line\":{\"color\":\"rgb(17,17,17)\",\"width\":0.5},\"pattern\":{\"fillmode\":\"overlay\",\"size\":10,\"solidity\":0.2}},\"type\":\"bar\"}],\"carpet\":[{\"aaxis\":{\"endlinecolor\":\"#A2B1C6\",\"gridcolor\":\"#506784\",\"linecolor\":\"#506784\",\"minorgridcolor\":\"#506784\",\"startlinecolor\":\"#A2B1C6\"},\"baxis\":{\"endlinecolor\":\"#A2B1C6\",\"gridcolor\":\"#506784\",\"linecolor\":\"#506784\",\"minorgridcolor\":\"#506784\",\"startlinecolor\":\"#A2B1C6\"},\"type\":\"carpet\"}],\"choropleth\":[{\"colorbar\":{\"outlinewidth\":0,\"ticks\":\"\"},\"type\":\"choropleth\"}],\"contourcarpet\":[{\"colorbar\":{\"outlinewidth\":0,\"ticks\":\"\"},\"type\":\"contourcarpet\"}],\"contour\":[{\"colorbar\":{\"outlinewidth\":0,\"ticks\":\"\"},\"colorscale\":[[0.0,\"#0d0887\"],[0.1111111111111111,\"#46039f\"],[0.2222222222222222,\"#7201a8\"],[0.3333333333333333,\"#9c179e\"],[0.4444444444444444,\"#bd3786\"],[0.5555555555555556,\"#d8576b\"],[0.6666666666666666,\"#ed7953\"],[0.7777777777777778,\"#fb9f3a\"],[0.8888888888888888,\"#fdca26\"],[1.0,\"#f0f921\"]],\"type\":\"contour\"}],\"heatmapgl\":[{\"colorbar\":{\"outlinewidth\":0,\"ticks\":\"\"},\"colorscale\":[[0.0,\"#0d0887\"],[0.1111111111111111,\"#46039f\"],[0.2222222222222222,\"#7201a8\"],[0.3333333333333333,\"#9c179e\"],[0.4444444444444444,\"#bd3786\"],[0.5555555555555556,\"#d8576b\"],[0.6666666666666666,\"#ed7953\"],[0.7777777777777778,\"#fb9f3a\"],[0.8888888888888888,\"#fdca26\"],[1.0,\"#f0f921\"]],\"type\":\"heatmapgl\"}],\"heatmap\":[{\"colorbar\":{\"outlinewidth\":0,\"ticks\":\"\"},\"colorscale\":[[0.0,\"#0d0887\"],[0.1111111111111111,\"#46039f\"],[0.2222222222222222,\"#7201a8\"],[0.3333333333333333,\"#9c179e\"],[0.4444444444444444,\"#bd3786\"],[0.5555555555555556,\"#d8576b\"],[0.6666666666666666,\"#ed7953\"],[0.7777777777777778,\"#fb9f3a\"],[0.8888888888888888,\"#fdca26\"],[1.0,\"#f0f921\"]],\"type\":\"heatmap\"}],\"histogram2dcontour\":[{\"colorbar\":{\"outlinewidth\":0,\"ticks\":\"\"},\"colorscale\":[[0.0,\"#0d0887\"],[0.1111111111111111,\"#46039f\"],[0.2222222222222222,\"#7201a8\"],[0.3333333333333333,\"#9c179e\"],[0.4444444444444444,\"#bd3786\"],[0.5555555555555556,\"#d8576b\"],[0.6666666666666666,\"#ed7953\"],[0.7777777777777778,\"#fb9f3a\"],[0.8888888888888888,\"#fdca26\"],[1.0,\"#f0f921\"]],\"type\":\"histogram2dcontour\"}],\"histogram2d\":[{\"colorbar\":{\"outlinewidth\":0,\"ticks\":\"\"},\"colorscale\":[[0.0,\"#0d0887\"],[0.1111111111111111,\"#46039f\"],[0.2222222222222222,\"#7201a8\"],[0.3333333333333333,\"#9c179e\"],[0.4444444444444444,\"#bd3786\"],[0.5555555555555556,\"#d8576b\"],[0.6666666666666666,\"#ed7953\"],[0.7777777777777778,\"#fb9f3a\"],[0.8888888888888888,\"#fdca26\"],[1.0,\"#f0f921\"]],\"type\":\"histogram2d\"}],\"histogram\":[{\"marker\":{\"pattern\":{\"fillmode\":\"overlay\",\"size\":10,\"solidity\":0.2}},\"type\":\"histogram\"}],\"mesh3d\":[{\"colorbar\":{\"outlinewidth\":0,\"ticks\":\"\"},\"type\":\"mesh3d\"}],\"parcoords\":[{\"line\":{\"colorbar\":{\"outlinewidth\":0,\"ticks\":\"\"}},\"type\":\"parcoords\"}],\"pie\":[{\"automargin\":true,\"type\":\"pie\"}],\"scatter3d\":[{\"line\":{\"colorbar\":{\"outlinewidth\":0,\"ticks\":\"\"}},\"marker\":{\"colorbar\":{\"outlinewidth\":0,\"ticks\":\"\"}},\"type\":\"scatter3d\"}],\"scattercarpet\":[{\"marker\":{\"colorbar\":{\"outlinewidth\":0,\"ticks\":\"\"}},\"type\":\"scattercarpet\"}],\"scattergeo\":[{\"marker\":{\"colorbar\":{\"outlinewidth\":0,\"ticks\":\"\"}},\"type\":\"scattergeo\"}],\"scattergl\":[{\"marker\":{\"line\":{\"color\":\"#283442\"}},\"type\":\"scattergl\"}],\"scattermapbox\":[{\"marker\":{\"colorbar\":{\"outlinewidth\":0,\"ticks\":\"\"}},\"type\":\"scattermapbox\"}],\"scatterpolargl\":[{\"marker\":{\"colorbar\":{\"outlinewidth\":0,\"ticks\":\"\"}},\"type\":\"scatterpolargl\"}],\"scatterpolar\":[{\"marker\":{\"colorbar\":{\"outlinewidth\":0,\"ticks\":\"\"}},\"type\":\"scatterpolar\"}],\"scatter\":[{\"marker\":{\"line\":{\"color\":\"#283442\"}},\"type\":\"scatter\"}],\"scatterternary\":[{\"marker\":{\"colorbar\":{\"outlinewidth\":0,\"ticks\":\"\"}},\"type\":\"scatterternary\"}],\"surface\":[{\"colorbar\":{\"outlinewidth\":0,\"ticks\":\"\"},\"colorscale\":[[0.0,\"#0d0887\"],[0.1111111111111111,\"#46039f\"],[0.2222222222222222,\"#7201a8\"],[0.3333333333333333,\"#9c179e\"],[0.4444444444444444,\"#bd3786\"],[0.5555555555555556,\"#d8576b\"],[0.6666666666666666,\"#ed7953\"],[0.7777777777777778,\"#fb9f3a\"],[0.8888888888888888,\"#fdca26\"],[1.0,\"#f0f921\"]],\"type\":\"surface\"}],\"table\":[{\"cells\":{\"fill\":{\"color\":\"#506784\"},\"line\":{\"color\":\"rgb(17,17,17)\"}},\"header\":{\"fill\":{\"color\":\"#2a3f5f\"},\"line\":{\"color\":\"rgb(17,17,17)\"}},\"type\":\"table\"}]},\"layout\":{\"annotationdefaults\":{\"arrowcolor\":\"#f2f5fa\",\"arrowhead\":0,\"arrowwidth\":1},\"autotypenumbers\":\"strict\",\"coloraxis\":{\"colorbar\":{\"outlinewidth\":0,\"ticks\":\"\"}},\"colorscale\":{\"diverging\":[[0,\"#8e0152\"],[0.1,\"#c51b7d\"],[0.2,\"#de77ae\"],[0.3,\"#f1b6da\"],[0.4,\"#fde0ef\"],[0.5,\"#f7f7f7\"],[0.6,\"#e6f5d0\"],[0.7,\"#b8e186\"],[0.8,\"#7fbc41\"],[0.9,\"#4d9221\"],[1,\"#276419\"]],\"sequential\":[[0.0,\"#0d0887\"],[0.1111111111111111,\"#46039f\"],[0.2222222222222222,\"#7201a8\"],[0.3333333333333333,\"#9c179e\"],[0.4444444444444444,\"#bd3786\"],[0.5555555555555556,\"#d8576b\"],[0.6666666666666666,\"#ed7953\"],[0.7777777777777778,\"#fb9f3a\"],[0.8888888888888888,\"#fdca26\"],[1.0,\"#f0f921\"]],\"sequentialminus\":[[0.0,\"#0d0887\"],[0.1111111111111111,\"#46039f\"],[0.2222222222222222,\"#7201a8\"],[0.3333333333333333,\"#9c179e\"],[0.4444444444444444,\"#bd3786\"],[0.5555555555555556,\"#d8576b\"],[0.6666666666666666,\"#ed7953\"],[0.7777777777777778,\"#fb9f3a\"],[0.8888888888888888,\"#fdca26\"],[1.0,\"#f0f921\"]]},\"colorway\":[\"#636efa\",\"#EF553B\",\"#00cc96\",\"#ab63fa\",\"#FFA15A\",\"#19d3f3\",\"#FF6692\",\"#B6E880\",\"#FF97FF\",\"#FECB52\"],\"font\":{\"color\":\"#f2f5fa\"},\"geo\":{\"bgcolor\":\"rgb(17,17,17)\",\"lakecolor\":\"rgb(17,17,17)\",\"landcolor\":\"rgb(17,17,17)\",\"showlakes\":true,\"showland\":true,\"subunitcolor\":\"#506784\"},\"hoverlabel\":{\"align\":\"left\"},\"hovermode\":\"closest\",\"mapbox\":{\"style\":\"dark\"},\"paper_bgcolor\":\"rgb(17,17,17)\",\"plot_bgcolor\":\"rgb(17,17,17)\",\"polar\":{\"angularaxis\":{\"gridcolor\":\"#506784\",\"linecolor\":\"#506784\",\"ticks\":\"\"},\"bgcolor\":\"rgb(17,17,17)\",\"radialaxis\":{\"gridcolor\":\"#506784\",\"linecolor\":\"#506784\",\"ticks\":\"\"}},\"scene\":{\"xaxis\":{\"backgroundcolor\":\"rgb(17,17,17)\",\"gridcolor\":\"#506784\",\"gridwidth\":2,\"linecolor\":\"#506784\",\"showbackground\":true,\"ticks\":\"\",\"zerolinecolor\":\"#C8D4E3\"},\"yaxis\":{\"backgroundcolor\":\"rgb(17,17,17)\",\"gridcolor\":\"#506784\",\"gridwidth\":2,\"linecolor\":\"#506784\",\"showbackground\":true,\"ticks\":\"\",\"zerolinecolor\":\"#C8D4E3\"},\"zaxis\":{\"backgroundcolor\":\"rgb(17,17,17)\",\"gridcolor\":\"#506784\",\"gridwidth\":2,\"linecolor\":\"#506784\",\"showbackground\":true,\"ticks\":\"\",\"zerolinecolor\":\"#C8D4E3\"}},\"shapedefaults\":{\"line\":{\"color\":\"#f2f5fa\"}},\"sliderdefaults\":{\"bgcolor\":\"#C8D4E3\",\"bordercolor\":\"rgb(17,17,17)\",\"borderwidth\":1,\"tickwidth\":0},\"ternary\":{\"aaxis\":{\"gridcolor\":\"#506784\",\"linecolor\":\"#506784\",\"ticks\":\"\"},\"baxis\":{\"gridcolor\":\"#506784\",\"linecolor\":\"#506784\",\"ticks\":\"\"},\"bgcolor\":\"rgb(17,17,17)\",\"caxis\":{\"gridcolor\":\"#506784\",\"linecolor\":\"#506784\",\"ticks\":\"\"}},\"title\":{\"x\":0.05},\"updatemenudefaults\":{\"bgcolor\":\"#506784\",\"borderwidth\":0},\"xaxis\":{\"automargin\":true,\"gridcolor\":\"#283442\",\"linecolor\":\"#506784\",\"ticks\":\"\",\"title\":{\"standoff\":15},\"zerolinecolor\":\"#283442\",\"zerolinewidth\":2},\"yaxis\":{\"automargin\":true,\"gridcolor\":\"#283442\",\"linecolor\":\"#506784\",\"ticks\":\"\",\"title\":{\"standoff\":15},\"zerolinecolor\":\"#283442\",\"zerolinewidth\":2}}},\"xaxis\":{\"anchor\":\"y\",\"domain\":[0.0,1.0]},\"yaxis\":{\"anchor\":\"x\",\"domain\":[0.0,1.0]},\"width\":600,\"height\":600},                        {\"responsive\": true}                    ).then(function(){\n",
              "                            \n",
              "var gd = document.getElementById('77c44184-7efe-4214-8500-3d812af11503');\n",
              "var x = new MutationObserver(function (mutations, observer) {{\n",
              "        var display = window.getComputedStyle(gd).display;\n",
              "        if (!display || display === 'none') {{\n",
              "            console.log([gd, 'removed!']);\n",
              "            Plotly.purge(gd);\n",
              "            observer.disconnect();\n",
              "        }}\n",
              "}});\n",
              "\n",
              "// Listen for the removal of the full notebook cells\n",
              "var notebookContainer = gd.closest('#notebook-container');\n",
              "if (notebookContainer) {{\n",
              "    x.observe(notebookContainer, {childList: true});\n",
              "}}\n",
              "\n",
              "// Listen for the clearing of the current output cell\n",
              "var outputEl = gd.closest('.output');\n",
              "if (outputEl) {{\n",
              "    x.observe(outputEl, {childList: true});\n",
              "}}\n",
              "\n",
              "                        })                };                            </script>        </div>\n",
              "</body>\n",
              "</html>"
            ]
          },
          "metadata": {}
        }
      ]
    },
    {
      "cell_type": "code",
      "source": [
        "#Flash Calculation\n",
        "F = np.array([60., 40.])\n",
        "flashP = 101325\n",
        "bubbleT = bubbleTy(z,flashP)[0]\n",
        "dewT = dewTx(z,flashP)[0]\n",
        "\n",
        "flashT = (bubbleT + dewT)/2  #set our flash drum to middle of 2 phase region temperature wise\n",
        "\n"
      ],
      "metadata": {
        "id": "ByxKdwLFfQ4J"
      },
      "execution_count": 250,
      "outputs": []
    },
    {
      "cell_type": "code",
      "source": [
        "def flash_eq(vec, T, P, F):\n",
        "    Ftotal = jnp.sum(F)\n",
        "    L,V = jnp.split(vec**2,2)\n",
        "    x = L/jnp.sum(L)\n",
        "    y= V/jnp.sum(V)\n",
        "\n",
        "    return jnp.r_[x*NRTL(x,T)*p.Pvap(T)/P - y, (L+V - F)/Ftotal]\n",
        "\n",
        "flash_eq_jac=jax.jacobian(flash_eq,0)"
      ],
      "metadata": {
        "id": "S7rmvUXFhZ6N"
      },
      "execution_count": 253,
      "outputs": []
    },
    {
      "cell_type": "code",
      "source": [
        "guess= np.r_[F/2, F/2]\n",
        "root(lambda vec: flash_eq(vec, flashT, flashP, F), guess, jac=lambda vec: flash_eq_jac(vec, flashT, flashP, F))"
      ],
      "metadata": {
        "id": "OQZHBk-piuq0",
        "outputId": "bdabaf5b-7caf-4c4b-afb2-f52cfa0ed7c8",
        "colab": {
          "base_uri": "https://localhost:8080/"
        }
      },
      "execution_count": 255,
      "outputs": [
        {
          "output_type": "execute_result",
          "data": {
            "text/plain": [
              " message: The iteration is not making good progress, as measured by the \n",
              "            improvement from the last five Jacobian evaluations.\n",
              " success: False\n",
              "  status: 4\n",
              "     fun: [ 7.665e-03  1.982e-02 -2.246e-03  6.399e-03]\n",
              "       x: [-3.026e-02 -4.430e-02 -7.731e+00 -6.375e+00]\n",
              "    nfev: 53\n",
              "    njev: 11\n",
              "    fjac: [[-9.505e-01  3.106e-01 -7.211e-05  0.000e+00]\n",
              "           [ 2.879e-05 -9.408e-06 -4.201e-01 -9.075e-01]\n",
              "           [-8.479e-02 -2.597e-01 -8.730e-01  4.041e-01]\n",
              "           [ 2.988e-01  9.144e-01 -2.479e-01  1.148e-01]]\n",
              "       r: [ 8.759e+00 -5.959e+00 -7.854e-02  9.534e-02  1.023e-03\n",
              "            6.498e-02  1.157e-01  1.459e-01 -6.472e-02  3.191e-02]\n",
              "     qtf: [ 4.083e-04 -4.719e-03 -1.728e-03  2.179e-02]"
            ]
          },
          "metadata": {},
          "execution_count": 255
        }
      ]
    },
    {
      "cell_type": "code",
      "source": [],
      "metadata": {
        "id": "4E8l_S7Wi9sO"
      },
      "execution_count": 252,
      "outputs": []
    }
  ]
}