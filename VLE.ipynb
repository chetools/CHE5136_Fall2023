{
  "nbformat": 4,
  "nbformat_minor": 0,
  "metadata": {
    "colab": {
      "provenance": [],
      "authorship_tag": "ABX9TyN4KtwuInQ+2JXcHhwBDzA7",
      "include_colab_link": true
    },
    "kernelspec": {
      "name": "python3",
      "display_name": "Python 3"
    },
    "language_info": {
      "name": "python"
    }
  },
  "cells": [
    {
      "cell_type": "markdown",
      "metadata": {
        "id": "view-in-github",
        "colab_type": "text"
      },
      "source": [
        "<a href=\"https://colab.research.google.com/github/profteachkids/CHE5136_Fall2023/blob/main/VLE.ipynb\" target=\"_parent\"><img src=\"https://colab.research.google.com/assets/colab-badge.svg\" alt=\"Open In Colab\"/></a>"
      ]
    },
    {
      "cell_type": "code",
      "execution_count": 1,
      "metadata": {
        "colab": {
          "base_uri": "https://localhost:8080/"
        },
        "id": "AFtFRz8jPsao",
        "outputId": "3d895e48-5430-4b26-dcb4-b7f748d6f5ee"
      },
      "outputs": [
        {
          "output_type": "stream",
          "name": "stdout",
          "text": [
            "Collecting importnb\n",
            "  Downloading importnb-2023.1.7-py3-none-any.whl (42 kB)\n",
            "\u001b[?25l     \u001b[90m━━━━━━━━━━━━━━━━━━━━━━━━━━━━━━━━━━━━━━━━\u001b[0m \u001b[32m0.0/42.9 kB\u001b[0m \u001b[31m?\u001b[0m eta \u001b[36m-:--:--\u001b[0m\r\u001b[2K     \u001b[90m━━━━━━━━━━━━━━━━━━━━━━━━━━━━━━━━━━━━━━━━\u001b[0m \u001b[32m42.9/42.9 kB\u001b[0m \u001b[31m2.0 MB/s\u001b[0m eta \u001b[36m0:00:00\u001b[0m\n",
            "\u001b[?25hInstalling collected packages: importnb\n",
            "Successfully installed importnb-2023.1.7\n"
          ]
        }
      ],
      "source": [
        "!wget -N -q https://raw.githubusercontent.com/profteachkids/chetools/main/tools/che5.ipynb -O che5.ipynb\n",
        "!pip install importnb"
      ]
    },
    {
      "cell_type": "code",
      "source": [
        "from importnb import Notebook\n",
        "with Notebook():\n",
        "    from che5 import Props\n",
        "\n",
        "import numpy as np\n",
        "import jax\n",
        "import jax.numpy as jnp\n",
        "jax.config.update('jax_enable_x64',True)\n",
        "\n",
        "from scipy.optimize import root_scalar,root\n",
        "from plotly.subplots import make_subplots"
      ],
      "metadata": {
        "id": "cmh3qZYzUguU",
        "colab": {
          "base_uri": "https://localhost:8080/"
        },
        "outputId": "1becd4ce-80e1-4dee-d8b7-936dfc663a51"
      },
      "execution_count": 2,
      "outputs": [
        {
          "output_type": "stream",
          "name": "stderr",
          "text": [
            "WARNING:jax._src.xla_bridge:No GPU/TPU found, falling back to CPU. (Set TF_CPP_MIN_LOG_LEVEL=0 and rerun for more info.)\n"
          ]
        }
      ]
    },
    {
      "cell_type": "code",
      "source": [
        "p=Props(['Ethanol','Water'])\n",
        "z = jnp.array([1/2,1/2])"
      ],
      "metadata": {
        "id": "_eTGoIvkUk2l"
      },
      "execution_count": 3,
      "outputs": []
    },
    {
      "cell_type": "code",
      "source": [
        "def bubblePy_ideal(x, T):\n",
        "    Pi = x*p.Pvap(T)\n",
        "    bubbleP = np.sum(Pi)\n",
        "    return bubbleP, Pi/bubbleP"
      ],
      "metadata": {
        "id": "Vi7Mwb08UriB"
      },
      "execution_count": 4,
      "outputs": []
    },
    {
      "cell_type": "code",
      "source": [
        "@jax.jit\n",
        "def bubbleTy_ideal_eq(x, T, P):\n",
        "    return jnp.sum(x*p.Pvap(T)/P) - 1.\n",
        "\n",
        "bubbleTy_ideal_eq_gradT = jax.jit(jax.grad(bubbleTy_ideal_eq, 1))\n",
        "bubbleTy_ideal_eq_grad2T = jax.jit(jax.grad(bubbleTy_ideal_eq_gradT, 1))\n",
        "\n",
        "\n",
        "\n",
        "def bubbleTy_ideal(x, P):\n",
        "    Tb = p.Tb(P)\n",
        "    Tguess = jnp.sum(x*Tb)\n",
        "\n",
        "    res = root_scalar(lambda T: bubbleTy_ideal_eq(x,T,P), x0=Tguess,\n",
        "                fprime=lambda T: bubbleTy_ideal_eq_gradT(x,T,P),\n",
        "                fprime2=lambda T: bubbleTy_ideal_eq_grad2T(x,T,P),\n",
        "                      method='halley')\n",
        "    if not(res.converged):\n",
        "        print(res)\n",
        "    bubbleT = res.root\n",
        "\n",
        "    return bubbleT, x*p.Pvap(bubbleT)/P\n",
        "\n",
        "def dewPx_ideal(y, T):\n",
        "    y_div_Psat = y/p.Pvap(T)\n",
        "    dewP = 1./jnp.sum(y_div_Psat)\n",
        "    return dewP, y_div_Psat*dewP\n",
        "\n",
        "@jax.jit\n",
        "def dewTx_ideal_eq(y, T, P):\n",
        "    return jnp.sum(y*P/p.Pvap(T)) - 1.\n",
        "\n",
        "dewTx_ideal_eq_gradT = jax.jit(jax.grad(dewTx_ideal_eq, 1))\n",
        "dewTx_ideal_eq_grad2T = jax.jit(jax.grad(dewTx_ideal_eq_gradT, 1))\n",
        "\n",
        "def dewTx_ideal(y, P):\n",
        "    Tb = p.Tb(P)\n",
        "    Tguess = jnp.sum(y*Tb)\n",
        "    res = root_scalar(lambda T: dewTx_ideal_eq(y,T,P), x0=Tguess,\n",
        "                fprime=lambda T: dewTx_ideal_eq_gradT(y,T,P),\n",
        "                fprime2=lambda T: dewTx_ideal_eq_grad2T(y,T,P),\n",
        "                      method='halley')\n",
        "    if not(res.converged):\n",
        "        print(res)\n",
        "\n",
        "    dewT = res.root\n",
        "\n",
        "    return dewT, y*P/p.Pvap(dewT)"
      ],
      "metadata": {
        "id": "GBaPwdWAWG5W"
      },
      "execution_count": 5,
      "outputs": []
    },
    {
      "cell_type": "code",
      "source": [
        "dewTx_ideal(z, 2e5)"
      ],
      "metadata": {
        "colab": {
          "base_uri": "https://localhost:8080/"
        },
        "id": "sO7HJiahWq3C",
        "outputId": "7b37f1dd-aefb-40ee-a6c1-c34e3940b676"
      },
      "execution_count": 6,
      "outputs": [
        {
          "output_type": "execute_result",
          "data": {
            "text/plain": [
              "(Array(383.6969013, dtype=float64),\n",
              " Array([0.31438693, 0.68561307], dtype=float64))"
            ]
          },
          "metadata": {},
          "execution_count": 6
        }
      ]
    },
    {
      "cell_type": "code",
      "source": [
        "#NRTL Parameters: Tij = Aij + Bij/T + Cij * Ln(T) + Dij * T (T Deg K)"
      ],
      "metadata": {
        "id": "x3Qzv47Ndscv"
      },
      "execution_count": 7,
      "outputs": []
    },
    {
      "cell_type": "code",
      "source": [
        "def NRTL(x, T):\n",
        "\n",
        "    tau = p.NRTL_A + p.NRTL_B/T + p.NRTL_C*jnp.log(T) + p.NRTL_D*T\n",
        "    G = jnp.exp(- p.NRTL_alpha*tau)\n",
        "    tauG = tau*G\n",
        "\n",
        "    # xG_einsum = np.einsum('k, ki -> i', x, G)\n",
        "    # xtauG_einsum = np.einsum('k, ki -> i', x, tauG)\n",
        "    xG = x @ G\n",
        "    xtauG = x @ tauG\n",
        "    xtauG_xG = xtauG / xG\n",
        "    return jnp.exp(xtauG_xG +  x@  ((G * (tau - xtauG_xG))/xG).T)\n"
      ],
      "metadata": {
        "id": "XyWCxih4d4iP"
      },
      "execution_count": 8,
      "outputs": []
    },
    {
      "cell_type": "code",
      "source": [
        "def nGexRT(n, T):\n",
        "\n",
        "    ntot = jnp.sum(n)\n",
        "    x = n/ntot\n",
        "\n",
        "    tau = p.NRTL_A + p.NRTL_B/T + p.NRTL_C*jnp.log(T) + p.NRTL_D*T\n",
        "    G = jnp.exp(- p.NRTL_alpha*tau)\n",
        "    tauG = tau*G\n",
        "    xG = x @ G\n",
        "    xtauG = x @ tauG\n",
        "    xtauG_xG = xtauG / xG\n",
        "\n",
        "    return ntot*jnp.sum(x * xtauG_xG)\n",
        "\n",
        "lngamma=jax.grad(nGexRT, 0)\n",
        "\n",
        "def NRTL_Gex(z,T):\n",
        "\n",
        "    return jnp.exp(lngamma(z,373.15))\n"
      ],
      "metadata": {
        "id": "qjCaEQGA8Rl6"
      },
      "execution_count": 9,
      "outputs": []
    },
    {
      "cell_type": "code",
      "source": [
        "@jax.jit\n",
        "def bubbleTy_eq(x, T, P):\n",
        "    return jnp.sum(x* NRTL(x,T) * p.Pvap(T)/P) - 1.\n",
        "\n",
        "bubbleTy_eq_gradT = jax.jit(jax.grad(bubbleTy_eq, 1))\n",
        "bubbleTy_eq_grad2T = jax.jit(jax.grad(bubbleTy_eq_gradT, 1))\n",
        "\n",
        "\n",
        "\n",
        "def bubbleTy(x, P):\n",
        "    T_ideal, y_ideal = bubbleTy_ideal(x, P)\n",
        "\n",
        "    res = root_scalar(lambda T: bubbleTy_eq(x,T,P), x0=T_ideal,\n",
        "                fprime=lambda T: bubbleTy_eq_gradT(x,T,P),\n",
        "                fprime2=lambda T: bubbleTy_eq_grad2T(x,T,P),\n",
        "                      method='halley')\n",
        "    if not(res.converged):\n",
        "        print(res)\n",
        "\n",
        "    bubbleT = res.root\n",
        "\n",
        "    return bubbleT, x*NRTL(x,bubbleT)*p.Pvap(bubbleT)/P\n",
        "\n"
      ],
      "metadata": {
        "id": "lC27UzIA6U2v"
      },
      "execution_count": 10,
      "outputs": []
    },
    {
      "cell_type": "code",
      "source": [
        "\n",
        "# @jax.jit\n",
        "def dewTx_eq(y, vec, P):\n",
        "    T = vec[0]\n",
        "    x = vec[1:]**2\n",
        "    return jnp.r_[x*NRTL(x,T)*p.Pvap(T)/P - y, jnp.sum(x)-1]\n",
        "\n",
        "dewTx_eq_jac = jax.jacobian(dewTx_eq, 1 )"
      ],
      "metadata": {
        "id": "3KpnLMq0JgX8"
      },
      "execution_count": 11,
      "outputs": []
    },
    {
      "cell_type": "code",
      "source": [
        "def dewTx(y, P, guess=None):\n",
        "\n",
        "    if guess is None:\n",
        "        dewT_guess, dewx_guess = dewTx_ideal(y,P)\n",
        "    else:\n",
        "        dewT_guess, dewx_guess = guess\n",
        "\n",
        "    res=root(lambda vec: dewTx_eq(y, vec, P),\n",
        "        jnp.r_[dewT_guess, dewx_guess],\n",
        "        jac=lambda vec: dewTx_eq_jac(y, vec, P))\n",
        "\n",
        "    if not(res.success):\n",
        "        print(res)\n",
        "    # print(res)\n",
        "\n",
        "    dewT = res.x[0]\n",
        "    dewx = res.x[1:]**2\n",
        "\n",
        "    return dewT, dewx"
      ],
      "metadata": {
        "id": "pJmg1d6iLeGG"
      },
      "execution_count": 12,
      "outputs": []
    },
    {
      "cell_type": "code",
      "source": [
        "y1 = np.linspace(0,1.,25)\n",
        "ys = np.c_[y1, 1-y1]\n",
        "dewTs = []\n",
        "dewxs = []"
      ],
      "metadata": {
        "id": "w5q_5Qi8ZI6P"
      },
      "execution_count": 13,
      "outputs": []
    },
    {
      "cell_type": "code",
      "source": [
        "guess = None\n",
        "for y in ys:\n",
        "    dewT, dewx = dewTx(y, 101325, guess)\n",
        "    guess = (dewT, dewx)\n",
        "    print(y, dewT, dewx)\n",
        "    dewTs.append(dewT)\n",
        "    dewxs.append(dewx)"
      ],
      "metadata": {
        "id": "mZ41tVnva6Bs",
        "outputId": "d1412387-cd27-41c9-9540-cde466544044",
        "colab": {
          "base_uri": "https://localhost:8080/"
        }
      },
      "execution_count": 14,
      "outputs": [
        {
          "output_type": "stream",
          "name": "stdout",
          "text": [
            "[0. 1.] 373.1478177065466 [0. 1.]\n",
            "[0.04166667 0.95833333] 372.06438916945154 [0.00384654 0.99615346]\n",
            "[0.08333333 0.91666667] 370.94616492415344 [0.00815908 0.99184092]\n",
            "[0.125 0.875] 369.7909221359241 [0.01303852 0.98696148]\n",
            "[0.16666667 0.83333333] 368.596320567221 [0.01861859 0.98138141]\n",
            "[0.20833333 0.79166667] 367.3599509907055 [0.02508081 0.97491919]\n",
            "[0.25 0.75] 366.0794341521504 [0.0326786 0.9673214]\n",
            "[0.29166667 0.70833333] 364.75261317718395 [0.04177797 0.95822203]\n",
            "[0.33333333 0.66666667] 363.37792564032776 [0.05292971 0.94707029]\n",
            "[0.375 0.625] 361.9551350183087 [0.06700617 0.93299383]\n",
            "[0.41666667 0.58333333] 360.48682274344833 [0.08547979 0.91452021]\n",
            "[0.45833333 0.54166667] 358.9816042304736 [0.11103904 0.88896096]\n",
            "[0.5 0.5] 357.46152607673855 [0.14903094 0.85096906]\n",
            "[0.54166667 0.45833333] 355.97937152693805 [0.21029961 0.78970039]\n",
            "[0.58333333 0.41666667] 354.6454608328755 [0.30787477 0.69212523]\n",
            "[0.625 0.375] 353.5853916923284 [0.42503266 0.57496734]\n",
            "[0.66666667 0.33333333] 352.81155210084336 [0.53051226 0.46948774]\n",
            "[0.70833333 0.29166667] 352.26234454078303 [0.61908928 0.38091072]\n",
            "[0.75 0.25] 351.88026588574866 [0.69442736 0.30557264]\n",
            "[0.79166667 0.20833333] 351.6242226188302 [0.75990422 0.24009578]\n",
            "[0.83333333 0.16666667] 351.46534981512406 [0.8178491 0.1821509]\n",
            "[0.875 0.125] 351.38289791283574 [0.86985232 0.13014768]\n",
            "[0.91666667 0.08333333] 351.3615437258437 [0.91703404 0.08296596]\n",
            "[0.95833333 0.04166667] 351.38969497846057 [0.96021145 0.03978855]\n",
            "[1. 0.] 351.45840044162395 [1.00000000e+00 9.69437092e-17]\n"
          ]
        }
      ]
    },
    {
      "cell_type": "code",
      "source": [
        "dewxs=np.vstack(dewxs)"
      ],
      "metadata": {
        "id": "2ZmJb00yePuJ"
      },
      "execution_count": 15,
      "outputs": []
    },
    {
      "cell_type": "code",
      "source": [
        "fig = make_subplots()\n",
        "fig.add_scatter(x=dewxs[:,0], y=y1, mode='lines')\n",
        "fig.add_scatter(x=[0,1],y=[0,1],mode='lines')\n",
        "fig.update_layout(width=600, height=600, template='plotly_dark')"
      ],
      "metadata": {
        "id": "Ym1vfolibGfT",
        "outputId": "bf293975-d483-4cf8-89ee-cd6052054911",
        "colab": {
          "base_uri": "https://localhost:8080/",
          "height": 617
        }
      },
      "execution_count": 16,
      "outputs": [
        {
          "output_type": "display_data",
          "data": {
            "text/html": [
              "<html>\n",
              "<head><meta charset=\"utf-8\" /></head>\n",
              "<body>\n",
              "    <div>            <script src=\"https://cdnjs.cloudflare.com/ajax/libs/mathjax/2.7.5/MathJax.js?config=TeX-AMS-MML_SVG\"></script><script type=\"text/javascript\">if (window.MathJax && window.MathJax.Hub && window.MathJax.Hub.Config) {window.MathJax.Hub.Config({SVG: {font: \"STIX-Web\"}});}</script>                <script type=\"text/javascript\">window.PlotlyConfig = {MathJaxConfig: 'local'};</script>\n",
              "        <script charset=\"utf-8\" src=\"https://cdn.plot.ly/plotly-2.24.1.min.js\"></script>                <div id=\"c15dad38-8ffb-4380-a3d4-999844d5aba7\" class=\"plotly-graph-div\" style=\"height:600px; width:600px;\"></div>            <script type=\"text/javascript\">                                    window.PLOTLYENV=window.PLOTLYENV || {};                                    if (document.getElementById(\"c15dad38-8ffb-4380-a3d4-999844d5aba7\")) {                    Plotly.newPlot(                        \"c15dad38-8ffb-4380-a3d4-999844d5aba7\",                        [{\"mode\":\"lines\",\"x\":[0.0,0.0038465419175731817,0.008159082385890358,0.013038522289145886,0.018618588613114453,0.02508080792527639,0.032678604457440426,0.04177797003076476,0.052929712173950254,0.06700616752399416,0.08547979093329587,0.1110390397882244,0.14903094169015557,0.21029961178261963,0.30787477011310294,0.4250326644334539,0.5305122552795507,0.619089279010154,0.694427359351191,0.7599042226573373,0.8178490977531694,0.8698523217761046,0.9170340356803167,0.9602114458997908,1.0],\"y\":[0.0,0.041666666666666664,0.08333333333333333,0.125,0.16666666666666666,0.20833333333333331,0.25,0.29166666666666663,0.3333333333333333,0.375,0.41666666666666663,0.4583333333333333,0.5,0.5416666666666666,0.5833333333333333,0.625,0.6666666666666666,0.7083333333333333,0.75,0.7916666666666666,0.8333333333333333,0.875,0.9166666666666666,0.9583333333333333,1.0],\"type\":\"scatter\"},{\"mode\":\"lines\",\"x\":[0,1],\"y\":[0,1],\"type\":\"scatter\"}],                        {\"template\":{\"data\":{\"barpolar\":[{\"marker\":{\"line\":{\"color\":\"rgb(17,17,17)\",\"width\":0.5},\"pattern\":{\"fillmode\":\"overlay\",\"size\":10,\"solidity\":0.2}},\"type\":\"barpolar\"}],\"bar\":[{\"error_x\":{\"color\":\"#f2f5fa\"},\"error_y\":{\"color\":\"#f2f5fa\"},\"marker\":{\"line\":{\"color\":\"rgb(17,17,17)\",\"width\":0.5},\"pattern\":{\"fillmode\":\"overlay\",\"size\":10,\"solidity\":0.2}},\"type\":\"bar\"}],\"carpet\":[{\"aaxis\":{\"endlinecolor\":\"#A2B1C6\",\"gridcolor\":\"#506784\",\"linecolor\":\"#506784\",\"minorgridcolor\":\"#506784\",\"startlinecolor\":\"#A2B1C6\"},\"baxis\":{\"endlinecolor\":\"#A2B1C6\",\"gridcolor\":\"#506784\",\"linecolor\":\"#506784\",\"minorgridcolor\":\"#506784\",\"startlinecolor\":\"#A2B1C6\"},\"type\":\"carpet\"}],\"choropleth\":[{\"colorbar\":{\"outlinewidth\":0,\"ticks\":\"\"},\"type\":\"choropleth\"}],\"contourcarpet\":[{\"colorbar\":{\"outlinewidth\":0,\"ticks\":\"\"},\"type\":\"contourcarpet\"}],\"contour\":[{\"colorbar\":{\"outlinewidth\":0,\"ticks\":\"\"},\"colorscale\":[[0.0,\"#0d0887\"],[0.1111111111111111,\"#46039f\"],[0.2222222222222222,\"#7201a8\"],[0.3333333333333333,\"#9c179e\"],[0.4444444444444444,\"#bd3786\"],[0.5555555555555556,\"#d8576b\"],[0.6666666666666666,\"#ed7953\"],[0.7777777777777778,\"#fb9f3a\"],[0.8888888888888888,\"#fdca26\"],[1.0,\"#f0f921\"]],\"type\":\"contour\"}],\"heatmapgl\":[{\"colorbar\":{\"outlinewidth\":0,\"ticks\":\"\"},\"colorscale\":[[0.0,\"#0d0887\"],[0.1111111111111111,\"#46039f\"],[0.2222222222222222,\"#7201a8\"],[0.3333333333333333,\"#9c179e\"],[0.4444444444444444,\"#bd3786\"],[0.5555555555555556,\"#d8576b\"],[0.6666666666666666,\"#ed7953\"],[0.7777777777777778,\"#fb9f3a\"],[0.8888888888888888,\"#fdca26\"],[1.0,\"#f0f921\"]],\"type\":\"heatmapgl\"}],\"heatmap\":[{\"colorbar\":{\"outlinewidth\":0,\"ticks\":\"\"},\"colorscale\":[[0.0,\"#0d0887\"],[0.1111111111111111,\"#46039f\"],[0.2222222222222222,\"#7201a8\"],[0.3333333333333333,\"#9c179e\"],[0.4444444444444444,\"#bd3786\"],[0.5555555555555556,\"#d8576b\"],[0.6666666666666666,\"#ed7953\"],[0.7777777777777778,\"#fb9f3a\"],[0.8888888888888888,\"#fdca26\"],[1.0,\"#f0f921\"]],\"type\":\"heatmap\"}],\"histogram2dcontour\":[{\"colorbar\":{\"outlinewidth\":0,\"ticks\":\"\"},\"colorscale\":[[0.0,\"#0d0887\"],[0.1111111111111111,\"#46039f\"],[0.2222222222222222,\"#7201a8\"],[0.3333333333333333,\"#9c179e\"],[0.4444444444444444,\"#bd3786\"],[0.5555555555555556,\"#d8576b\"],[0.6666666666666666,\"#ed7953\"],[0.7777777777777778,\"#fb9f3a\"],[0.8888888888888888,\"#fdca26\"],[1.0,\"#f0f921\"]],\"type\":\"histogram2dcontour\"}],\"histogram2d\":[{\"colorbar\":{\"outlinewidth\":0,\"ticks\":\"\"},\"colorscale\":[[0.0,\"#0d0887\"],[0.1111111111111111,\"#46039f\"],[0.2222222222222222,\"#7201a8\"],[0.3333333333333333,\"#9c179e\"],[0.4444444444444444,\"#bd3786\"],[0.5555555555555556,\"#d8576b\"],[0.6666666666666666,\"#ed7953\"],[0.7777777777777778,\"#fb9f3a\"],[0.8888888888888888,\"#fdca26\"],[1.0,\"#f0f921\"]],\"type\":\"histogram2d\"}],\"histogram\":[{\"marker\":{\"pattern\":{\"fillmode\":\"overlay\",\"size\":10,\"solidity\":0.2}},\"type\":\"histogram\"}],\"mesh3d\":[{\"colorbar\":{\"outlinewidth\":0,\"ticks\":\"\"},\"type\":\"mesh3d\"}],\"parcoords\":[{\"line\":{\"colorbar\":{\"outlinewidth\":0,\"ticks\":\"\"}},\"type\":\"parcoords\"}],\"pie\":[{\"automargin\":true,\"type\":\"pie\"}],\"scatter3d\":[{\"line\":{\"colorbar\":{\"outlinewidth\":0,\"ticks\":\"\"}},\"marker\":{\"colorbar\":{\"outlinewidth\":0,\"ticks\":\"\"}},\"type\":\"scatter3d\"}],\"scattercarpet\":[{\"marker\":{\"colorbar\":{\"outlinewidth\":0,\"ticks\":\"\"}},\"type\":\"scattercarpet\"}],\"scattergeo\":[{\"marker\":{\"colorbar\":{\"outlinewidth\":0,\"ticks\":\"\"}},\"type\":\"scattergeo\"}],\"scattergl\":[{\"marker\":{\"line\":{\"color\":\"#283442\"}},\"type\":\"scattergl\"}],\"scattermapbox\":[{\"marker\":{\"colorbar\":{\"outlinewidth\":0,\"ticks\":\"\"}},\"type\":\"scattermapbox\"}],\"scatterpolargl\":[{\"marker\":{\"colorbar\":{\"outlinewidth\":0,\"ticks\":\"\"}},\"type\":\"scatterpolargl\"}],\"scatterpolar\":[{\"marker\":{\"colorbar\":{\"outlinewidth\":0,\"ticks\":\"\"}},\"type\":\"scatterpolar\"}],\"scatter\":[{\"marker\":{\"line\":{\"color\":\"#283442\"}},\"type\":\"scatter\"}],\"scatterternary\":[{\"marker\":{\"colorbar\":{\"outlinewidth\":0,\"ticks\":\"\"}},\"type\":\"scatterternary\"}],\"surface\":[{\"colorbar\":{\"outlinewidth\":0,\"ticks\":\"\"},\"colorscale\":[[0.0,\"#0d0887\"],[0.1111111111111111,\"#46039f\"],[0.2222222222222222,\"#7201a8\"],[0.3333333333333333,\"#9c179e\"],[0.4444444444444444,\"#bd3786\"],[0.5555555555555556,\"#d8576b\"],[0.6666666666666666,\"#ed7953\"],[0.7777777777777778,\"#fb9f3a\"],[0.8888888888888888,\"#fdca26\"],[1.0,\"#f0f921\"]],\"type\":\"surface\"}],\"table\":[{\"cells\":{\"fill\":{\"color\":\"#506784\"},\"line\":{\"color\":\"rgb(17,17,17)\"}},\"header\":{\"fill\":{\"color\":\"#2a3f5f\"},\"line\":{\"color\":\"rgb(17,17,17)\"}},\"type\":\"table\"}]},\"layout\":{\"annotationdefaults\":{\"arrowcolor\":\"#f2f5fa\",\"arrowhead\":0,\"arrowwidth\":1},\"autotypenumbers\":\"strict\",\"coloraxis\":{\"colorbar\":{\"outlinewidth\":0,\"ticks\":\"\"}},\"colorscale\":{\"diverging\":[[0,\"#8e0152\"],[0.1,\"#c51b7d\"],[0.2,\"#de77ae\"],[0.3,\"#f1b6da\"],[0.4,\"#fde0ef\"],[0.5,\"#f7f7f7\"],[0.6,\"#e6f5d0\"],[0.7,\"#b8e186\"],[0.8,\"#7fbc41\"],[0.9,\"#4d9221\"],[1,\"#276419\"]],\"sequential\":[[0.0,\"#0d0887\"],[0.1111111111111111,\"#46039f\"],[0.2222222222222222,\"#7201a8\"],[0.3333333333333333,\"#9c179e\"],[0.4444444444444444,\"#bd3786\"],[0.5555555555555556,\"#d8576b\"],[0.6666666666666666,\"#ed7953\"],[0.7777777777777778,\"#fb9f3a\"],[0.8888888888888888,\"#fdca26\"],[1.0,\"#f0f921\"]],\"sequentialminus\":[[0.0,\"#0d0887\"],[0.1111111111111111,\"#46039f\"],[0.2222222222222222,\"#7201a8\"],[0.3333333333333333,\"#9c179e\"],[0.4444444444444444,\"#bd3786\"],[0.5555555555555556,\"#d8576b\"],[0.6666666666666666,\"#ed7953\"],[0.7777777777777778,\"#fb9f3a\"],[0.8888888888888888,\"#fdca26\"],[1.0,\"#f0f921\"]]},\"colorway\":[\"#636efa\",\"#EF553B\",\"#00cc96\",\"#ab63fa\",\"#FFA15A\",\"#19d3f3\",\"#FF6692\",\"#B6E880\",\"#FF97FF\",\"#FECB52\"],\"font\":{\"color\":\"#f2f5fa\"},\"geo\":{\"bgcolor\":\"rgb(17,17,17)\",\"lakecolor\":\"rgb(17,17,17)\",\"landcolor\":\"rgb(17,17,17)\",\"showlakes\":true,\"showland\":true,\"subunitcolor\":\"#506784\"},\"hoverlabel\":{\"align\":\"left\"},\"hovermode\":\"closest\",\"mapbox\":{\"style\":\"dark\"},\"paper_bgcolor\":\"rgb(17,17,17)\",\"plot_bgcolor\":\"rgb(17,17,17)\",\"polar\":{\"angularaxis\":{\"gridcolor\":\"#506784\",\"linecolor\":\"#506784\",\"ticks\":\"\"},\"bgcolor\":\"rgb(17,17,17)\",\"radialaxis\":{\"gridcolor\":\"#506784\",\"linecolor\":\"#506784\",\"ticks\":\"\"}},\"scene\":{\"xaxis\":{\"backgroundcolor\":\"rgb(17,17,17)\",\"gridcolor\":\"#506784\",\"gridwidth\":2,\"linecolor\":\"#506784\",\"showbackground\":true,\"ticks\":\"\",\"zerolinecolor\":\"#C8D4E3\"},\"yaxis\":{\"backgroundcolor\":\"rgb(17,17,17)\",\"gridcolor\":\"#506784\",\"gridwidth\":2,\"linecolor\":\"#506784\",\"showbackground\":true,\"ticks\":\"\",\"zerolinecolor\":\"#C8D4E3\"},\"zaxis\":{\"backgroundcolor\":\"rgb(17,17,17)\",\"gridcolor\":\"#506784\",\"gridwidth\":2,\"linecolor\":\"#506784\",\"showbackground\":true,\"ticks\":\"\",\"zerolinecolor\":\"#C8D4E3\"}},\"shapedefaults\":{\"line\":{\"color\":\"#f2f5fa\"}},\"sliderdefaults\":{\"bgcolor\":\"#C8D4E3\",\"bordercolor\":\"rgb(17,17,17)\",\"borderwidth\":1,\"tickwidth\":0},\"ternary\":{\"aaxis\":{\"gridcolor\":\"#506784\",\"linecolor\":\"#506784\",\"ticks\":\"\"},\"baxis\":{\"gridcolor\":\"#506784\",\"linecolor\":\"#506784\",\"ticks\":\"\"},\"bgcolor\":\"rgb(17,17,17)\",\"caxis\":{\"gridcolor\":\"#506784\",\"linecolor\":\"#506784\",\"ticks\":\"\"}},\"title\":{\"x\":0.05},\"updatemenudefaults\":{\"bgcolor\":\"#506784\",\"borderwidth\":0},\"xaxis\":{\"automargin\":true,\"gridcolor\":\"#283442\",\"linecolor\":\"#506784\",\"ticks\":\"\",\"title\":{\"standoff\":15},\"zerolinecolor\":\"#283442\",\"zerolinewidth\":2},\"yaxis\":{\"automargin\":true,\"gridcolor\":\"#283442\",\"linecolor\":\"#506784\",\"ticks\":\"\",\"title\":{\"standoff\":15},\"zerolinecolor\":\"#283442\",\"zerolinewidth\":2}}},\"xaxis\":{\"anchor\":\"y\",\"domain\":[0.0,1.0]},\"yaxis\":{\"anchor\":\"x\",\"domain\":[0.0,1.0]},\"width\":600,\"height\":600},                        {\"responsive\": true}                    ).then(function(){\n",
              "                            \n",
              "var gd = document.getElementById('c15dad38-8ffb-4380-a3d4-999844d5aba7');\n",
              "var x = new MutationObserver(function (mutations, observer) {{\n",
              "        var display = window.getComputedStyle(gd).display;\n",
              "        if (!display || display === 'none') {{\n",
              "            console.log([gd, 'removed!']);\n",
              "            Plotly.purge(gd);\n",
              "            observer.disconnect();\n",
              "        }}\n",
              "}});\n",
              "\n",
              "// Listen for the removal of the full notebook cells\n",
              "var notebookContainer = gd.closest('#notebook-container');\n",
              "if (notebookContainer) {{\n",
              "    x.observe(notebookContainer, {childList: true});\n",
              "}}\n",
              "\n",
              "// Listen for the clearing of the current output cell\n",
              "var outputEl = gd.closest('.output');\n",
              "if (outputEl) {{\n",
              "    x.observe(outputEl, {childList: true});\n",
              "}}\n",
              "\n",
              "                        })                };                            </script>        </div>\n",
              "</body>\n",
              "</html>"
            ]
          },
          "metadata": {}
        }
      ]
    },
    {
      "cell_type": "code",
      "source": [
        "fig2 = make_subplots()\n",
        "fig2.add_scatter(x=dewxs[:,0], y=dewTs, mode='lines')\n",
        "fig2.add_scatter(x=y1, y=dewTs, mode='lines')\n",
        "fig2.update_layout(width=600, height=600, template='plotly_dark')"
      ],
      "metadata": {
        "id": "8JWbSOGqednv",
        "outputId": "f3a0a9fb-8b1e-45a4-dee6-6d9f4b4856c3",
        "colab": {
          "base_uri": "https://localhost:8080/",
          "height": 617
        }
      },
      "execution_count": 17,
      "outputs": [
        {
          "output_type": "display_data",
          "data": {
            "text/html": [
              "<html>\n",
              "<head><meta charset=\"utf-8\" /></head>\n",
              "<body>\n",
              "    <div>            <script src=\"https://cdnjs.cloudflare.com/ajax/libs/mathjax/2.7.5/MathJax.js?config=TeX-AMS-MML_SVG\"></script><script type=\"text/javascript\">if (window.MathJax && window.MathJax.Hub && window.MathJax.Hub.Config) {window.MathJax.Hub.Config({SVG: {font: \"STIX-Web\"}});}</script>                <script type=\"text/javascript\">window.PlotlyConfig = {MathJaxConfig: 'local'};</script>\n",
              "        <script charset=\"utf-8\" src=\"https://cdn.plot.ly/plotly-2.24.1.min.js\"></script>                <div id=\"1519eadc-71be-4cfb-b879-e05894327213\" class=\"plotly-graph-div\" style=\"height:600px; width:600px;\"></div>            <script type=\"text/javascript\">                                    window.PLOTLYENV=window.PLOTLYENV || {};                                    if (document.getElementById(\"1519eadc-71be-4cfb-b879-e05894327213\")) {                    Plotly.newPlot(                        \"1519eadc-71be-4cfb-b879-e05894327213\",                        [{\"mode\":\"lines\",\"x\":[0.0,0.0038465419175731817,0.008159082385890358,0.013038522289145886,0.018618588613114453,0.02508080792527639,0.032678604457440426,0.04177797003076476,0.052929712173950254,0.06700616752399416,0.08547979093329587,0.1110390397882244,0.14903094169015557,0.21029961178261963,0.30787477011310294,0.4250326644334539,0.5305122552795507,0.619089279010154,0.694427359351191,0.7599042226573373,0.8178490977531694,0.8698523217761046,0.9170340356803167,0.9602114458997908,1.0],\"y\":[373.1478177065466,372.06438916945154,370.94616492415344,369.7909221359241,368.596320567221,367.3599509907055,366.0794341521504,364.75261317718395,363.37792564032776,361.9551350183087,360.48682274344833,358.9816042304736,357.46152607673855,355.97937152693805,354.6454608328755,353.5853916923284,352.81155210084336,352.26234454078303,351.88026588574866,351.6242226188302,351.46534981512406,351.38289791283574,351.3615437258437,351.38969497846057,351.45840044162395],\"type\":\"scatter\"},{\"mode\":\"lines\",\"x\":[0.0,0.041666666666666664,0.08333333333333333,0.125,0.16666666666666666,0.20833333333333331,0.25,0.29166666666666663,0.3333333333333333,0.375,0.41666666666666663,0.4583333333333333,0.5,0.5416666666666666,0.5833333333333333,0.625,0.6666666666666666,0.7083333333333333,0.75,0.7916666666666666,0.8333333333333333,0.875,0.9166666666666666,0.9583333333333333,1.0],\"y\":[373.1478177065466,372.06438916945154,370.94616492415344,369.7909221359241,368.596320567221,367.3599509907055,366.0794341521504,364.75261317718395,363.37792564032776,361.9551350183087,360.48682274344833,358.9816042304736,357.46152607673855,355.97937152693805,354.6454608328755,353.5853916923284,352.81155210084336,352.26234454078303,351.88026588574866,351.6242226188302,351.46534981512406,351.38289791283574,351.3615437258437,351.38969497846057,351.45840044162395],\"type\":\"scatter\"}],                        {\"template\":{\"data\":{\"barpolar\":[{\"marker\":{\"line\":{\"color\":\"rgb(17,17,17)\",\"width\":0.5},\"pattern\":{\"fillmode\":\"overlay\",\"size\":10,\"solidity\":0.2}},\"type\":\"barpolar\"}],\"bar\":[{\"error_x\":{\"color\":\"#f2f5fa\"},\"error_y\":{\"color\":\"#f2f5fa\"},\"marker\":{\"line\":{\"color\":\"rgb(17,17,17)\",\"width\":0.5},\"pattern\":{\"fillmode\":\"overlay\",\"size\":10,\"solidity\":0.2}},\"type\":\"bar\"}],\"carpet\":[{\"aaxis\":{\"endlinecolor\":\"#A2B1C6\",\"gridcolor\":\"#506784\",\"linecolor\":\"#506784\",\"minorgridcolor\":\"#506784\",\"startlinecolor\":\"#A2B1C6\"},\"baxis\":{\"endlinecolor\":\"#A2B1C6\",\"gridcolor\":\"#506784\",\"linecolor\":\"#506784\",\"minorgridcolor\":\"#506784\",\"startlinecolor\":\"#A2B1C6\"},\"type\":\"carpet\"}],\"choropleth\":[{\"colorbar\":{\"outlinewidth\":0,\"ticks\":\"\"},\"type\":\"choropleth\"}],\"contourcarpet\":[{\"colorbar\":{\"outlinewidth\":0,\"ticks\":\"\"},\"type\":\"contourcarpet\"}],\"contour\":[{\"colorbar\":{\"outlinewidth\":0,\"ticks\":\"\"},\"colorscale\":[[0.0,\"#0d0887\"],[0.1111111111111111,\"#46039f\"],[0.2222222222222222,\"#7201a8\"],[0.3333333333333333,\"#9c179e\"],[0.4444444444444444,\"#bd3786\"],[0.5555555555555556,\"#d8576b\"],[0.6666666666666666,\"#ed7953\"],[0.7777777777777778,\"#fb9f3a\"],[0.8888888888888888,\"#fdca26\"],[1.0,\"#f0f921\"]],\"type\":\"contour\"}],\"heatmapgl\":[{\"colorbar\":{\"outlinewidth\":0,\"ticks\":\"\"},\"colorscale\":[[0.0,\"#0d0887\"],[0.1111111111111111,\"#46039f\"],[0.2222222222222222,\"#7201a8\"],[0.3333333333333333,\"#9c179e\"],[0.4444444444444444,\"#bd3786\"],[0.5555555555555556,\"#d8576b\"],[0.6666666666666666,\"#ed7953\"],[0.7777777777777778,\"#fb9f3a\"],[0.8888888888888888,\"#fdca26\"],[1.0,\"#f0f921\"]],\"type\":\"heatmapgl\"}],\"heatmap\":[{\"colorbar\":{\"outlinewidth\":0,\"ticks\":\"\"},\"colorscale\":[[0.0,\"#0d0887\"],[0.1111111111111111,\"#46039f\"],[0.2222222222222222,\"#7201a8\"],[0.3333333333333333,\"#9c179e\"],[0.4444444444444444,\"#bd3786\"],[0.5555555555555556,\"#d8576b\"],[0.6666666666666666,\"#ed7953\"],[0.7777777777777778,\"#fb9f3a\"],[0.8888888888888888,\"#fdca26\"],[1.0,\"#f0f921\"]],\"type\":\"heatmap\"}],\"histogram2dcontour\":[{\"colorbar\":{\"outlinewidth\":0,\"ticks\":\"\"},\"colorscale\":[[0.0,\"#0d0887\"],[0.1111111111111111,\"#46039f\"],[0.2222222222222222,\"#7201a8\"],[0.3333333333333333,\"#9c179e\"],[0.4444444444444444,\"#bd3786\"],[0.5555555555555556,\"#d8576b\"],[0.6666666666666666,\"#ed7953\"],[0.7777777777777778,\"#fb9f3a\"],[0.8888888888888888,\"#fdca26\"],[1.0,\"#f0f921\"]],\"type\":\"histogram2dcontour\"}],\"histogram2d\":[{\"colorbar\":{\"outlinewidth\":0,\"ticks\":\"\"},\"colorscale\":[[0.0,\"#0d0887\"],[0.1111111111111111,\"#46039f\"],[0.2222222222222222,\"#7201a8\"],[0.3333333333333333,\"#9c179e\"],[0.4444444444444444,\"#bd3786\"],[0.5555555555555556,\"#d8576b\"],[0.6666666666666666,\"#ed7953\"],[0.7777777777777778,\"#fb9f3a\"],[0.8888888888888888,\"#fdca26\"],[1.0,\"#f0f921\"]],\"type\":\"histogram2d\"}],\"histogram\":[{\"marker\":{\"pattern\":{\"fillmode\":\"overlay\",\"size\":10,\"solidity\":0.2}},\"type\":\"histogram\"}],\"mesh3d\":[{\"colorbar\":{\"outlinewidth\":0,\"ticks\":\"\"},\"type\":\"mesh3d\"}],\"parcoords\":[{\"line\":{\"colorbar\":{\"outlinewidth\":0,\"ticks\":\"\"}},\"type\":\"parcoords\"}],\"pie\":[{\"automargin\":true,\"type\":\"pie\"}],\"scatter3d\":[{\"line\":{\"colorbar\":{\"outlinewidth\":0,\"ticks\":\"\"}},\"marker\":{\"colorbar\":{\"outlinewidth\":0,\"ticks\":\"\"}},\"type\":\"scatter3d\"}],\"scattercarpet\":[{\"marker\":{\"colorbar\":{\"outlinewidth\":0,\"ticks\":\"\"}},\"type\":\"scattercarpet\"}],\"scattergeo\":[{\"marker\":{\"colorbar\":{\"outlinewidth\":0,\"ticks\":\"\"}},\"type\":\"scattergeo\"}],\"scattergl\":[{\"marker\":{\"line\":{\"color\":\"#283442\"}},\"type\":\"scattergl\"}],\"scattermapbox\":[{\"marker\":{\"colorbar\":{\"outlinewidth\":0,\"ticks\":\"\"}},\"type\":\"scattermapbox\"}],\"scatterpolargl\":[{\"marker\":{\"colorbar\":{\"outlinewidth\":0,\"ticks\":\"\"}},\"type\":\"scatterpolargl\"}],\"scatterpolar\":[{\"marker\":{\"colorbar\":{\"outlinewidth\":0,\"ticks\":\"\"}},\"type\":\"scatterpolar\"}],\"scatter\":[{\"marker\":{\"line\":{\"color\":\"#283442\"}},\"type\":\"scatter\"}],\"scatterternary\":[{\"marker\":{\"colorbar\":{\"outlinewidth\":0,\"ticks\":\"\"}},\"type\":\"scatterternary\"}],\"surface\":[{\"colorbar\":{\"outlinewidth\":0,\"ticks\":\"\"},\"colorscale\":[[0.0,\"#0d0887\"],[0.1111111111111111,\"#46039f\"],[0.2222222222222222,\"#7201a8\"],[0.3333333333333333,\"#9c179e\"],[0.4444444444444444,\"#bd3786\"],[0.5555555555555556,\"#d8576b\"],[0.6666666666666666,\"#ed7953\"],[0.7777777777777778,\"#fb9f3a\"],[0.8888888888888888,\"#fdca26\"],[1.0,\"#f0f921\"]],\"type\":\"surface\"}],\"table\":[{\"cells\":{\"fill\":{\"color\":\"#506784\"},\"line\":{\"color\":\"rgb(17,17,17)\"}},\"header\":{\"fill\":{\"color\":\"#2a3f5f\"},\"line\":{\"color\":\"rgb(17,17,17)\"}},\"type\":\"table\"}]},\"layout\":{\"annotationdefaults\":{\"arrowcolor\":\"#f2f5fa\",\"arrowhead\":0,\"arrowwidth\":1},\"autotypenumbers\":\"strict\",\"coloraxis\":{\"colorbar\":{\"outlinewidth\":0,\"ticks\":\"\"}},\"colorscale\":{\"diverging\":[[0,\"#8e0152\"],[0.1,\"#c51b7d\"],[0.2,\"#de77ae\"],[0.3,\"#f1b6da\"],[0.4,\"#fde0ef\"],[0.5,\"#f7f7f7\"],[0.6,\"#e6f5d0\"],[0.7,\"#b8e186\"],[0.8,\"#7fbc41\"],[0.9,\"#4d9221\"],[1,\"#276419\"]],\"sequential\":[[0.0,\"#0d0887\"],[0.1111111111111111,\"#46039f\"],[0.2222222222222222,\"#7201a8\"],[0.3333333333333333,\"#9c179e\"],[0.4444444444444444,\"#bd3786\"],[0.5555555555555556,\"#d8576b\"],[0.6666666666666666,\"#ed7953\"],[0.7777777777777778,\"#fb9f3a\"],[0.8888888888888888,\"#fdca26\"],[1.0,\"#f0f921\"]],\"sequentialminus\":[[0.0,\"#0d0887\"],[0.1111111111111111,\"#46039f\"],[0.2222222222222222,\"#7201a8\"],[0.3333333333333333,\"#9c179e\"],[0.4444444444444444,\"#bd3786\"],[0.5555555555555556,\"#d8576b\"],[0.6666666666666666,\"#ed7953\"],[0.7777777777777778,\"#fb9f3a\"],[0.8888888888888888,\"#fdca26\"],[1.0,\"#f0f921\"]]},\"colorway\":[\"#636efa\",\"#EF553B\",\"#00cc96\",\"#ab63fa\",\"#FFA15A\",\"#19d3f3\",\"#FF6692\",\"#B6E880\",\"#FF97FF\",\"#FECB52\"],\"font\":{\"color\":\"#f2f5fa\"},\"geo\":{\"bgcolor\":\"rgb(17,17,17)\",\"lakecolor\":\"rgb(17,17,17)\",\"landcolor\":\"rgb(17,17,17)\",\"showlakes\":true,\"showland\":true,\"subunitcolor\":\"#506784\"},\"hoverlabel\":{\"align\":\"left\"},\"hovermode\":\"closest\",\"mapbox\":{\"style\":\"dark\"},\"paper_bgcolor\":\"rgb(17,17,17)\",\"plot_bgcolor\":\"rgb(17,17,17)\",\"polar\":{\"angularaxis\":{\"gridcolor\":\"#506784\",\"linecolor\":\"#506784\",\"ticks\":\"\"},\"bgcolor\":\"rgb(17,17,17)\",\"radialaxis\":{\"gridcolor\":\"#506784\",\"linecolor\":\"#506784\",\"ticks\":\"\"}},\"scene\":{\"xaxis\":{\"backgroundcolor\":\"rgb(17,17,17)\",\"gridcolor\":\"#506784\",\"gridwidth\":2,\"linecolor\":\"#506784\",\"showbackground\":true,\"ticks\":\"\",\"zerolinecolor\":\"#C8D4E3\"},\"yaxis\":{\"backgroundcolor\":\"rgb(17,17,17)\",\"gridcolor\":\"#506784\",\"gridwidth\":2,\"linecolor\":\"#506784\",\"showbackground\":true,\"ticks\":\"\",\"zerolinecolor\":\"#C8D4E3\"},\"zaxis\":{\"backgroundcolor\":\"rgb(17,17,17)\",\"gridcolor\":\"#506784\",\"gridwidth\":2,\"linecolor\":\"#506784\",\"showbackground\":true,\"ticks\":\"\",\"zerolinecolor\":\"#C8D4E3\"}},\"shapedefaults\":{\"line\":{\"color\":\"#f2f5fa\"}},\"sliderdefaults\":{\"bgcolor\":\"#C8D4E3\",\"bordercolor\":\"rgb(17,17,17)\",\"borderwidth\":1,\"tickwidth\":0},\"ternary\":{\"aaxis\":{\"gridcolor\":\"#506784\",\"linecolor\":\"#506784\",\"ticks\":\"\"},\"baxis\":{\"gridcolor\":\"#506784\",\"linecolor\":\"#506784\",\"ticks\":\"\"},\"bgcolor\":\"rgb(17,17,17)\",\"caxis\":{\"gridcolor\":\"#506784\",\"linecolor\":\"#506784\",\"ticks\":\"\"}},\"title\":{\"x\":0.05},\"updatemenudefaults\":{\"bgcolor\":\"#506784\",\"borderwidth\":0},\"xaxis\":{\"automargin\":true,\"gridcolor\":\"#283442\",\"linecolor\":\"#506784\",\"ticks\":\"\",\"title\":{\"standoff\":15},\"zerolinecolor\":\"#283442\",\"zerolinewidth\":2},\"yaxis\":{\"automargin\":true,\"gridcolor\":\"#283442\",\"linecolor\":\"#506784\",\"ticks\":\"\",\"title\":{\"standoff\":15},\"zerolinecolor\":\"#283442\",\"zerolinewidth\":2}}},\"xaxis\":{\"anchor\":\"y\",\"domain\":[0.0,1.0]},\"yaxis\":{\"anchor\":\"x\",\"domain\":[0.0,1.0]},\"width\":600,\"height\":600},                        {\"responsive\": true}                    ).then(function(){\n",
              "                            \n",
              "var gd = document.getElementById('1519eadc-71be-4cfb-b879-e05894327213');\n",
              "var x = new MutationObserver(function (mutations, observer) {{\n",
              "        var display = window.getComputedStyle(gd).display;\n",
              "        if (!display || display === 'none') {{\n",
              "            console.log([gd, 'removed!']);\n",
              "            Plotly.purge(gd);\n",
              "            observer.disconnect();\n",
              "        }}\n",
              "}});\n",
              "\n",
              "// Listen for the removal of the full notebook cells\n",
              "var notebookContainer = gd.closest('#notebook-container');\n",
              "if (notebookContainer) {{\n",
              "    x.observe(notebookContainer, {childList: true});\n",
              "}}\n",
              "\n",
              "// Listen for the clearing of the current output cell\n",
              "var outputEl = gd.closest('.output');\n",
              "if (outputEl) {{\n",
              "    x.observe(outputEl, {childList: true});\n",
              "}}\n",
              "\n",
              "                        })                };                            </script>        </div>\n",
              "</body>\n",
              "</html>"
            ]
          },
          "metadata": {}
        }
      ]
    },
    {
      "cell_type": "code",
      "source": [
        "#Flash Calculation\n",
        "F = np.array([60., 40.])\n",
        "z= F/np.sum(F)\n",
        "flashP = 101325\n",
        "bubbleT = bubbleTy(z,flashP)[0]\n",
        "dewT = dewTx(z,flashP)[0]\n",
        "\n",
        "flashT = (bubbleT + dewT)/2  #set our flash drum to middle of 2 phase region temperature wise"
      ],
      "metadata": {
        "id": "ByxKdwLFfQ4J"
      },
      "execution_count": 28,
      "outputs": []
    },
    {
      "cell_type": "code",
      "source": [
        "def flashTP_eq(vec, T, P, F):\n",
        "    Ftotal = jnp.sum(F)\n",
        "    L,V = jnp.split(vec**2,2)\n",
        "    x = L/jnp.sum(L)\n",
        "    y= V/jnp.sum(V)\n",
        "\n",
        "    return jnp.r_[x*NRTL(x,T)*p.Pvap(T)/P - y, (L+V - F)/Ftotal]\n",
        "\n",
        "flashTP_eq_jac=jax.jacobian(flashTP_eq,0)\n",
        "\n",
        "def flashTP(F, T, P):\n",
        "    guess= np.r_[F/2, F/2]\n",
        "    res=root(lambda vec: flashTP_eq(vec, flashT, flashP, F), guess, jac=lambda vec: flashTP_eq_jac(vec, flashT, flashP, F))\n",
        "    if not(res.success):\n",
        "        res\n",
        "    return jnp.split(res.x**2,2)"
      ],
      "metadata": {
        "id": "S7rmvUXFhZ6N"
      },
      "execution_count": 48,
      "outputs": []
    },
    {
      "cell_type": "code",
      "source": [
        "flashTP(F, flashT, flashP)"
      ],
      "metadata": {
        "id": "OQZHBk-piuq0",
        "outputId": "3dd89bf0-18a5-4595-b347-d61eb68b45ad",
        "colab": {
          "base_uri": "https://localhost:8080/"
        }
      },
      "execution_count": 49,
      "outputs": [
        {
          "output_type": "execute_result",
          "data": {
            "text/plain": [
              "[Array([10.59305956, 12.1971728 ], dtype=float64),\n",
              " Array([49.40694043, 27.8028272 ], dtype=float64)]"
            ]
          },
          "metadata": {},
          "execution_count": 49
        }
      ]
    },
    {
      "cell_type": "code",
      "source": [],
      "metadata": {
        "id": "1JiwQeJ_OAq1"
      },
      "execution_count": null,
      "outputs": []
    },
    {
      "cell_type": "code",
      "source": [
        "def flashPQ_eq(vec, P, Q, F, enthalpyF):\n",
        "    Ftotal = jnp.sum(F)\n",
        "    T = vec[0]**2\n",
        "    L,V = jnp.split(vec[1:]**2,2)\n",
        "    x = L/jnp.sum(L)\n",
        "    y= V/jnp.sum(V)\n",
        "\n",
        "    return jnp.r_[x*NRTL(x,T)*p.Pvap(T)/P - y,   (L+V - F)/Ftotal, (p.Hl(L, T) + p.Hv(V,T) - enthalpyF - Q)/enthalpyF]\n",
        "\n",
        "flashPQ_eq_jac = jax.jacobian(flashPQ_eq, 0)\n",
        "\n",
        "def flashPQ(F, feedT, feedP, flashP, Q=0.):\n",
        "    feedL, feedV = flashTP(F, feedT, feedP)\n",
        "    enthalpyF = p.Hl(feedL, feedT) + p.Hv(feedV, feedT)\n",
        "    guess = np.sqrt(np.r_[feedT, F/2, F/2])\n",
        "    res=root(lambda vec: flashPQ_eq(vec, flashP, Q, F, enthalpyF), guess,\n",
        "        jac=lambda vec: flashPQ_eq_jac(vec, flashP, 0., F, enthalpyF))\n",
        "\n",
        "    if not(res.success):\n",
        "        print(res)\n",
        "\n",
        "    return res.x[0]**2, np.split(res.x[1:]**2,2)\n"
      ],
      "metadata": {
        "id": "ElbBO08-HKIH"
      },
      "execution_count": 71,
      "outputs": []
    },
    {
      "cell_type": "code",
      "source": [
        "#Flash Calculation\n",
        "p=Props(['Acetone', 'Ethanol','Isopropanol', 'Water'])\n",
        "F = np.array([25, 25, 30., 40.])\n",
        "z= F/np.sum(F)\n",
        "feedP = 3e5\n",
        "bubbleT = bubbleTy(z,feedP)[0]\n",
        "dewT = dewTx(z,feedP)[0]\n",
        "feedT= (bubbleT+dewT)/2\n",
        "feedL, feedV = flashTP(F, feedT, feedP)\n",
        "enthalpyF = p.Hl(feedL, feedT) + p.Hv(feedV, feedT)\n",
        "flashP = 1e5"
      ],
      "metadata": {
        "id": "LVnRpeR-OlM9"
      },
      "execution_count": 74,
      "outputs": []
    },
    {
      "cell_type": "code",
      "source": [
        "flashPQ(F, feedT, feedP, flashP, 0.)"
      ],
      "metadata": {
        "colab": {
          "base_uri": "https://localhost:8080/"
        },
        "id": "Kdyb00STQL6u",
        "outputId": "efa9f6fb-3782-4ebd-9b62-735fc44bf83a"
      },
      "execution_count": 75,
      "outputs": [
        {
          "output_type": "stream",
          "name": "stdout",
          "text": [
            " message: The iteration is not making good progress, as measured by the \n",
            "            improvement from the last five Jacobian evaluations.\n",
            " success: False\n",
            "  status: 4\n",
            "     fun: [ 2.979e-04  1.200e-03  6.455e-04  1.494e-03 -5.877e-03\n",
            "           -4.558e-03 -4.607e-03 -3.711e-03  4.422e-03]\n",
            "       x: [ 1.869e+01  9.453e-03  1.863e-02  1.979e-02  3.335e-02\n",
            "            4.929e+00  4.945e+00  5.426e+00  6.289e+00]\n",
            "    nfev: 46\n",
            "    njev: 12\n",
            "    fjac: [[-2.970e-01 -4.157e-01 ...  0.000e+00  1.331e-02]\n",
            "           [ 9.523e-01 -1.648e-01 ...  0.000e+00  2.429e-03]\n",
            "           ...\n",
            "           [ 1.623e-04  6.217e-04 ... -4.934e-01  1.130e-01]\n",
            "           [-6.078e-04 -2.337e-03 ...  5.455e-01 -4.122e-01]]\n",
            "       r: [-7.444e-01 -5.932e+00 ... -3.964e-02  1.314e-02]\n",
            "     qtf: [-1.929e-03 -1.156e-03 -1.029e-03 -4.216e-04 -9.615e-04\n",
            "           -2.458e-03 -7.666e-04 -4.527e-04 -1.012e-02]\n"
          ]
        },
        {
          "output_type": "execute_result",
          "data": {
            "text/plain": [
              "(349.3374368959457,\n",
              " [array([8.93574216e-05, 3.47142890e-04, 3.91496917e-04, 1.11204530e-03]),\n",
              "  array([24.29465408, 24.45269207, 29.44680923, 39.55354043])])"
            ]
          },
          "metadata": {},
          "execution_count": 75
        }
      ]
    },
    {
      "cell_type": "code",
      "source": [],
      "metadata": {
        "id": "toQuEbZ7RRvY"
      },
      "execution_count": null,
      "outputs": []
    }
  ]
}