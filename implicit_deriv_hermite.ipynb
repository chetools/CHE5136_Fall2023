{
  "nbformat": 4,
  "nbformat_minor": 0,
  "metadata": {
    "colab": {
      "provenance": [],
      "authorship_tag": "ABX9TyPL2koBzFdmUgiXxayzOGiV",
      "include_colab_link": true
    },
    "kernelspec": {
      "name": "python3",
      "display_name": "Python 3"
    },
    "language_info": {
      "name": "python"
    }
  },
  "cells": [
    {
      "cell_type": "markdown",
      "metadata": {
        "id": "view-in-github",
        "colab_type": "text"
      },
      "source": [
        "<a href=\"https://colab.research.google.com/github/profteachkids/CHE5136_Fall2023/blob/main/implicit_deriv_hermite.ipynb\" target=\"_parent\"><img src=\"https://colab.research.google.com/assets/colab-badge.svg\" alt=\"Open In Colab\"/></a>"
      ]
    },
    {
      "cell_type": "code",
      "source": [
        "import numpy as np\n",
        "import jax.numpy as jnp\n",
        "import jax\n",
        "jax.config.update('jax_enable_x64', True)\n",
        "from plotly.subplots import make_subplots\n",
        "from scipy.integrate import solve_ivp\n",
        "from numpy.polynomial.legendre import leggauss\n",
        "from scipy.optimize import root\n",
        "from functools import partial"
      ],
      "metadata": {
        "id": "ZKSKmtGLNzH_"
      },
      "execution_count": 1,
      "outputs": []
    },
    {
      "cell_type": "code",
      "source": [
        "np.set_printoptions(linewidth=200)"
      ],
      "metadata": {
        "id": "JcIOqd8SSjxZ"
      },
      "execution_count": 151,
      "outputs": []
    },
    {
      "cell_type": "code",
      "source": [
        "def rhs(t,y,u):\n",
        "    return jnp.array([y[1], -y[0]+u[0]*jnp.sin(u[1]*t)])\n",
        "\n",
        "y0=jnp.array([1.,0.])\n",
        "u0=jnp.array([1.,1.])\n",
        "Ny=y0.size\n",
        "Nu=u0.size\n",
        "\n",
        "du=jnp.array([0.001,0.002])\n",
        "u1=u0+du\n",
        "\n",
        "rhs=jax.jit(rhs)\n",
        "rhs_jac=jax.jit(jax.jacobian(rhs,1))\n",
        "\n",
        "tend=5.\n",
        "\n",
        "rhs_vec=jax.vmap(rhs, (0,1,None), 1)"
      ],
      "metadata": {
        "id": "3ftwdqLocFfY"
      },
      "execution_count": 272,
      "outputs": []
    },
    {
      "cell_type": "code",
      "source": [
        "res0=solve_ivp(rhs, (0,tend), y0, method='Radau', dense_output=True, jac=jax.jacobian(rhs,1), args=(u0,))\n",
        "res1=solve_ivp(rhs, (0,tend), y0, method='Radau', dense_output=True, jac=jax.jacobian(rhs,1), args=(u1,))"
      ],
      "metadata": {
        "id": "I-7vP49_c1xz"
      },
      "execution_count": 273,
      "outputs": []
    },
    {
      "cell_type": "code",
      "source": [
        "def get_interpolate(rhs_vec, res):\n",
        "\n",
        "    ts=res.t\n",
        "    Nb=res.t.size\n",
        "    hs=res.t[1:]-res.t[:-1]\n",
        "\n",
        "    def interpolate(t,y,u):\n",
        "\n",
        "        t=jnp.atleast_1d(t)\n",
        "        i=jnp.searchsorted(ts,t, side='right')-1   #this precludes JIT\n",
        "        i=jnp.where(i>=Nb-1,i-1,i)\n",
        "        x = jnp.where(t<ts[-1], (t-ts[i])/hs[i], 1.)\n",
        "        p0 = y[:,i]\n",
        "        p1 = y[:,i+1]\n",
        "        m0 = rhs_vec(ts[i],p0,u)\n",
        "        m1 = rhs_vec(ts[i+1],p1,u)\n",
        "        h00 = 2*x**3-3*x**2+1\n",
        "        h10 = x**3 - 2*x**2 + x\n",
        "        h01 = -2*x**3 + 3*x**2\n",
        "        h11 = x**3 - x**2\n",
        "\n",
        "        h00d = 6*x**2-6*x\n",
        "        h10d = 3*x**2-4*x + 1\n",
        "        h01d = -6*x**2 + 6*x\n",
        "        h11d = 3*x**2 - 2*x\n",
        "        return jnp.squeeze(h00*p0 + h10*hs[i]*m0 + h01*p1 + h11*hs[i]*m1), jnp.squeeze((h00d*p0/hs[i] + h10d*m0 + h01d*p1/hs[i] + h11d*m1))\n",
        "\n",
        "    return interpolate"
      ],
      "metadata": {
        "id": "qngAU4vgG0OU"
      },
      "execution_count": 274,
      "outputs": []
    },
    {
      "cell_type": "code",
      "source": [
        "def get_collocation(rhs_vec, res, jit=False):\n",
        "\n",
        "    Nb=res.t.size\n",
        "    hs=res.t[1:]-res.t[:-1]\n",
        "    tmid = (res.t[1:]+res.t[:-1])/2\n",
        "\n",
        "    x = 0.5\n",
        "\n",
        "    h00 = 2*x**3-3*x**2+1\n",
        "    h10 = x**3 - 2*x**2 + x\n",
        "    h01 = -2*x**3 + 3*x**2\n",
        "    h11 = x**3 - x**2\n",
        "\n",
        "    h00d = 6*x**2-6*x\n",
        "    h10d = 3*x**2-4*x + 1\n",
        "    h01d = -6*x**2 + 6*x\n",
        "    h11d = 3*x**2 - 2*x\n",
        "\n",
        "    def collocation(y,u):\n",
        "        y=jnp.concatenate([res.y[:,0].reshape(Ny,1), y.reshape(Ny,-1)],axis=1)\n",
        "        m0 = rhs_vec(res.t[:-1],y[:,:-1],u)\n",
        "        m1 = rhs_vec(res.t[1:],y[:,1:],u)\n",
        "\n",
        "        ymid=jnp.squeeze(h00*y[:,:-1] + h10*hs*m0 + h01*y[:,1:] + h11*hs*m1)\n",
        "        ypmid=jnp.squeeze((h00d*y[:,:-1]/hs + h10d*m0 + h01d*y[:,1:]/hs + h11d*m1))\n",
        "\n",
        "        return (ypmid-rhs_vec(tmid, ymid, u)).ravel()\n",
        "\n",
        "    def interpolate(t,y,u):\n",
        "        y=jnp.concatenate([res.y[:,0].reshape(Ny,1), y.reshape(Ny,-1)],axis=1)\n",
        "        t=jnp.atleast_1d(t)\n",
        "        i=jnp.searchsorted(res.t,t, side='right')-1   #this precludes JIT\n",
        "        i=jnp.where(i>=Nb-1,i-1,i)\n",
        "        x = jnp.where(t<res.t[-1], (t-res.t[i])/hs[i], 1.)\n",
        "        p0 = y[:,i]\n",
        "        p1 = y[:,i+1]\n",
        "        m0 = rhs_vec(res.t[i],p0,u)\n",
        "        m1 = rhs_vec(res.t[i+1],p1,u)\n",
        "        h00 = 2*x**3-3*x**2+1\n",
        "        h10 = x**3 - 2*x**2 + x\n",
        "        h01 = -2*x**3 + 3*x**2\n",
        "        h11 = x**3 - x**2\n",
        "        return jnp.squeeze(h00*p0 + h10*hs[i]*m0 + h01*p1 + h11*hs[i]*m1)\n",
        "\n",
        "    if jit:\n",
        "        return jax.jit(collocation), jax.jit(jax.jacobian(collocation,0)), jax.jit(jax.jacobian(collocation,1)), interpolate\n",
        "    else:\n",
        "        return collocation, jax.jacobian(collocation,0), jax.jacobian(collocation,1), interpolate"
      ],
      "metadata": {
        "id": "rEhW4fwNbndE"
      },
      "execution_count": 404,
      "outputs": []
    },
    {
      "cell_type": "code",
      "source": [
        "collocation, jacy, jacu, interpolate = get_collocation(rhs_vec, res0, jit=True)"
      ],
      "metadata": {
        "id": "k29X8axNUDHm"
      },
      "execution_count": 405,
      "outputs": []
    },
    {
      "cell_type": "code",
      "source": [
        "collocation(res0.y[:,1:].ravel(),u0)"
      ],
      "metadata": {
        "colab": {
          "base_uri": "https://localhost:8080/"
        },
        "id": "pMFPvP6gdEAx",
        "outputId": "a3a6a0a3-ec03-4e3e-9b65-ab421a915f7e"
      },
      "execution_count": 406,
      "outputs": [
        {
          "output_type": "execute_result",
          "data": {
            "text/plain": [
              "Array([-1.15080146e-13, -4.16390715e-11, -4.28181340e-07, -3.43446973e-05, -9.23492167e-05, -6.81894703e-05, -3.06915856e-05,  4.61364137e-05,  1.42483594e-05,  1.95632238e-05,  2.27625328e-05,\n",
              "        2.34939622e-05,  2.16457660e-05,  4.52922165e-05,  4.40695237e-05, -5.59378561e-05, -1.58861880e-04, -1.66533454e-15, -2.04882777e-11, -1.80481962e-07, -7.21175151e-06,  9.24596984e-06,\n",
              "        3.68097133e-05,  5.34625832e-05,  1.38016374e-04,  1.08019965e-05,  6.57834230e-06,  1.34721545e-06, -4.30503722e-06, -9.73712801e-06, -4.13338450e-05, -1.34906790e-04, -1.25633041e-04,\n",
              "        8.89311012e-05], dtype=float64)"
            ]
          },
          "metadata": {},
          "execution_count": 406
        }
      ]
    },
    {
      "cell_type": "code",
      "source": [
        "solve=root(collocation, res0.y[:,1:].ravel(),args=(u0,))"
      ],
      "metadata": {
        "id": "S85iG9zQgyyO"
      },
      "execution_count": 407,
      "outputs": []
    },
    {
      "cell_type": "code",
      "source": [
        "t=jnp.linspace(0,tend,10)\n",
        "interpolate(tend, solve.x,u0)"
      ],
      "metadata": {
        "colab": {
          "base_uri": "https://localhost:8080/"
        },
        "id": "JbZ9Ll_qh-y4",
        "outputId": "e143ec5e-dde3-4abd-df58-437c840544a2"
      },
      "execution_count": 408,
      "outputs": [
        {
          "output_type": "execute_result",
          "data": {
            "text/plain": [
              "Array([-0.90486299, -1.43818692], dtype=float64)"
            ]
          },
          "metadata": {},
          "execution_count": 408
        }
      ]
    },
    {
      "cell_type": "code",
      "source": [
        "Hu=jacu(solve.x,u0)\n",
        "Hy=jacy(solve.x,u0)\n",
        "dy_du=-(jnp.linalg.inv(Hy) @ Hu)"
      ],
      "metadata": {
        "id": "brdCYj_LAPkh"
      },
      "execution_count": 414,
      "outputs": []
    },
    {
      "cell_type": "code",
      "source": [
        "jac=jax.jacobian(interpolate,1)\n",
        "dyend_dy=jac(tend, solve.x,u0)"
      ],
      "metadata": {
        "id": "stNci_clnIIf"
      },
      "execution_count": 415,
      "outputs": []
    },
    {
      "cell_type": "code",
      "source": [
        "dyend_du = dyend_dy @ dy_du"
      ],
      "metadata": {
        "id": "42ROEGYhJM46"
      },
      "execution_count": 417,
      "outputs": []
    },
    {
      "cell_type": "code",
      "source": [
        "res0.y[:,-1]"
      ],
      "metadata": {
        "colab": {
          "base_uri": "https://localhost:8080/"
        },
        "id": "LM0cH3DByvJB",
        "outputId": "a8ff7055-a4f5-49b7-bf67-7fd2d15eddde"
      },
      "execution_count": 418,
      "outputs": [
        {
          "output_type": "execute_result",
          "data": {
            "text/plain": [
              "array([-0.9049825 , -1.43835127])"
            ]
          },
          "metadata": {},
          "execution_count": 418
        }
      ]
    },
    {
      "cell_type": "code",
      "source": [
        "res1.y[:,-1]"
      ],
      "metadata": {
        "colab": {
          "base_uri": "https://localhost:8080/"
        },
        "id": "6FM_fqYYygyu",
        "outputId": "929232ca-1be8-40a2-d587-2f836342a175"
      },
      "execution_count": 419,
      "outputs": [
        {
          "output_type": "execute_result",
          "data": {
            "text/plain": [
              "array([-0.91694816, -1.439567  ])"
            ]
          },
          "metadata": {},
          "execution_count": 419
        }
      ]
    },
    {
      "cell_type": "code",
      "source": [
        "res0.y[:,-1]+dyend_du @ du"
      ],
      "metadata": {
        "colab": {
          "base_uri": "https://localhost:8080/"
        },
        "id": "ZiKL25MjylVd",
        "outputId": "1f9cdd70-9852-434a-ae87-bfc54834076f"
      },
      "execution_count": 420,
      "outputs": [
        {
          "output_type": "execute_result",
          "data": {
            "text/plain": [
              "Array([-0.91696745, -1.43960056], dtype=float64)"
            ]
          },
          "metadata": {},
          "execution_count": 420
        }
      ]
    },
    {
      "cell_type": "code",
      "source": [],
      "metadata": {
        "id": "ghXzxBxczCde"
      },
      "execution_count": null,
      "outputs": []
    }
  ]
}