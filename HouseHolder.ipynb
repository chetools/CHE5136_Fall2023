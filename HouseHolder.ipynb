{
  "nbformat": 4,
  "nbformat_minor": 0,
  "metadata": {
    "colab": {
      "provenance": [],
      "authorship_tag": "ABX9TyN1DjeZwfTMtWDrIykXa95C",
      "include_colab_link": true
    },
    "kernelspec": {
      "name": "python3",
      "display_name": "Python 3"
    },
    "language_info": {
      "name": "python"
    }
  },
  "cells": [
    {
      "cell_type": "markdown",
      "metadata": {
        "id": "view-in-github",
        "colab_type": "text"
      },
      "source": [
        "<a href=\"https://colab.research.google.com/github/profteachkids/CHE5136_Fall2023/blob/main/HouseHolder.ipynb\" target=\"_parent\"><img src=\"https://colab.research.google.com/assets/colab-badge.svg\" alt=\"Open In Colab\"/></a>"
      ]
    },
    {
      "cell_type": "code",
      "execution_count": null,
      "metadata": {
        "id": "jk2l5j2fD7Wh"
      },
      "outputs": [],
      "source": [
        "import numpy as np\n",
        "import scipy as sp\n",
        "np.set_printoptions(precision=5, linewidth=200)"
      ]
    },
    {
      "cell_type": "code",
      "source": [
        "rnd=np.random.RandomState(123)\n",
        "N=5\n",
        "A = rnd.normal(size=(N,N))\n",
        "I=np.eye(N)"
      ],
      "metadata": {
        "id": "QK6h2V3jD9on"
      },
      "execution_count": null,
      "outputs": []
    },
    {
      "cell_type": "code",
      "source": [
        "A"
      ],
      "metadata": {
        "colab": {
          "base_uri": "https://localhost:8080/"
        },
        "id": "HhngqQnBEGmv",
        "outputId": "ea1e27f0-6ceb-4927-b789-5189d2700f89"
      },
      "execution_count": null,
      "outputs": [
        {
          "output_type": "execute_result",
          "data": {
            "text/plain": [
              "array([[-1.08563,  0.99735,  0.28298, -1.50629, -0.5786 ],\n",
              "       [ 1.65144, -2.42668, -0.42891,  1.26594, -0.86674],\n",
              "       [-0.67889, -0.09471,  1.49139, -0.6389 , -0.44398],\n",
              "       [-0.43435,  2.20593,  2.18679,  1.00405,  0.38619],\n",
              "       [ 0.73737,  1.49073, -0.93583,  1.17583, -1.25388]])"
            ]
          },
          "metadata": {},
          "execution_count": 19
        }
      ]
    },
    {
      "cell_type": "code",
      "source": [
        "def householder(u,k):\n",
        "    e=np.zeros_like(u)\n",
        "    e[k]=np.linalg.norm(u[k:])\n",
        "    v = u - e\n",
        "    v[:k]=0\n",
        "    v=(v/np.linalg.norm(v)).reshape(-1,1)\n",
        "    return np.eye(e.size)-2*(v@v.T)"
      ],
      "metadata": {
        "id": "Nsh3j4EfaMzp"
      },
      "execution_count": null,
      "outputs": []
    },
    {
      "cell_type": "code",
      "source": [
        "h=householder(A[:,0],0)\n",
        "M1= h @ A\n",
        "M1"
      ],
      "metadata": {
        "colab": {
          "base_uri": "https://localhost:8080/"
        },
        "id": "d_HahDjCE2el",
        "outputId": "eb6a299b-fbd2-432d-fe7a-678e2a264dc5"
      },
      "execution_count": null,
      "outputs": [
        {
          "output_type": "execute_result",
          "data": {
            "text/plain": [
              "array([[ 2.25812e+00, -2.16326e+00, -1.62432e+00,  2.03291e+00, -7.05951e-01],\n",
              "       [-6.88810e-17, -8.65696e-01,  5.13078e-01, -4.82032e-01, -8.03844e-01],\n",
              "       [-6.80798e-17, -7.36411e-01,  1.10415e+00,  7.96672e-02, -4.69838e-01],\n",
              "       [-2.94837e-17,  1.79537e+00,  1.93903e+00,  1.46379e+00,  3.69644e-01],\n",
              "       [-9.50643e-17,  2.18771e+00, -5.15234e-01,  3.95359e-01, -1.22580e+00]])"
            ]
          },
          "metadata": {},
          "execution_count": 32
        }
      ]
    },
    {
      "cell_type": "code",
      "source": [
        "h=householder(M1[0,:],1)\n",
        "M2=M1@ h\n",
        "M2"
      ],
      "metadata": {
        "colab": {
          "base_uri": "https://localhost:8080/"
        },
        "id": "sQ3nPUx_n7HB",
        "outputId": "0c332bc5-34e2-4b20-e323-cd6cf86d40bf"
      },
      "execution_count": null,
      "outputs": [
        {
          "output_type": "execute_result",
          "data": {
            "text/plain": [
              "array([[ 2.25812e+00,  3.45676e+00, -2.02065e-18, -6.24837e-17, -7.54941e-17],\n",
              "       [-6.88810e-17,  1.81346e-01,  8.15699e-01, -8.60775e-01, -6.72321e-01],\n",
              "       [-6.80798e-17,  8.48179e-02,  1.34150e+00, -2.17393e-01, -3.66681e-01],\n",
              "       [-2.94837e-17, -1.24933e+00,  1.05904e+00,  2.56514e+00, -1.28128e-02],\n",
              "       [-9.50643e-17, -6.44130e-01, -1.33370e+00,  1.41971e+00, -1.58152e+00]])"
            ]
          },
          "metadata": {},
          "execution_count": 33
        }
      ]
    },
    {
      "cell_type": "code",
      "source": [
        "h=householder(M2[:,1],1)\n",
        "M3= h @ M2\n",
        "M3"
      ],
      "metadata": {
        "colab": {
          "base_uri": "https://localhost:8080/"
        },
        "id": "-egD1nH6oVC1",
        "outputId": "9c5d9fac-abba-46f6-a124-24c451020f1f"
      },
      "execution_count": null,
      "outputs": [
        {
          "output_type": "execute_result",
          "data": {
            "text/plain": [
              "array([[ 2.25812e+00,  3.45676e+00, -2.02065e-18, -6.24837e-17, -7.54941e-17],\n",
              "       [ 5.62075e-17,  1.41979e+00, -1.42488e-01, -3.02419e+00,  6.20995e-01],\n",
              "       [-7.66467e-17, -1.07091e-17,  1.40713e+00, -6.92262e-02, -4.55256e-01],\n",
              "       [ 9.67041e-17,  2.17830e-16,  9.24289e-02,  3.82711e-01,  1.29187e+00],\n",
              "       [-3.00045e-17,  8.35481e-17, -1.83207e+00,  2.94495e-01, -9.08849e-01]])"
            ]
          },
          "metadata": {},
          "execution_count": 35
        }
      ]
    },
    {
      "cell_type": "code",
      "source": [
        "h=householder(M3[1,:],2)\n",
        "M4=M3@ h\n",
        "M4"
      ],
      "metadata": {
        "colab": {
          "base_uri": "https://localhost:8080/"
        },
        "id": "jhssJ6WYk69T",
        "outputId": "bde5020b-12b9-4a30-83e5-184e5945c5a7"
      },
      "execution_count": null,
      "outputs": [
        {
          "output_type": "execute_result",
          "data": {
            "text/plain": [
              "array([[ 2.25812e+00,  3.45676e+00,  4.60655e-17, -1.75041e-17, -8.47303e-17],\n",
              "       [ 5.62075e-17,  1.41979e+00,  3.09058e+00, -1.39481e-16,  1.65860e-17],\n",
              "       [-7.66467e-17, -1.07091e-17, -8.86102e-02, -1.46833e+00, -1.67961e-01],\n",
              "       [ 9.67041e-17,  2.17830e-16, -1.19174e-01,  1.84778e-01,  1.33251e+00],\n",
              "       [-3.00045e-17,  8.35481e-17, -3.86320e-01,  1.64684e+00, -1.18654e+00]])"
            ]
          },
          "metadata": {},
          "execution_count": 36
        }
      ]
    },
    {
      "cell_type": "code",
      "source": [
        "h=householder(M4[:,2],2)\n",
        "M5= h @ M4\n",
        "M5"
      ],
      "metadata": {
        "colab": {
          "base_uri": "https://localhost:8080/"
        },
        "id": "m2SAP-7zlF4u",
        "outputId": "18f49a4a-9de7-49cd-f390-96af85b2fa4a"
      },
      "execution_count": null,
      "outputs": [
        {
          "output_type": "execute_result",
          "data": {
            "text/plain": [
              "array([[ 2.25812e+00,  3.45676e+00,  4.60655e-17, -1.75041e-17, -8.47303e-17],\n",
              "       [ 5.62075e-17,  1.41979e+00,  3.09058e+00, -1.39481e-16,  1.65860e-17],\n",
              "       [ 1.65709e-17, -1.38415e-16,  4.13880e-01, -1.27602e+00,  7.59799e-01],\n",
              "       [ 1.18812e-16,  1.87542e-16, -3.66744e-17,  2.30389e-01,  1.55255e+00],\n",
              "       [ 4.16621e-17, -1.46331e-17, -1.21530e-16,  1.79469e+00, -4.73271e-01]])"
            ]
          },
          "metadata": {},
          "execution_count": 37
        }
      ]
    },
    {
      "cell_type": "code",
      "source": [
        "h=householder(M5[2,:],3)\n",
        "M6=M5@ h\n",
        "M6"
      ],
      "metadata": {
        "colab": {
          "base_uri": "https://localhost:8080/"
        },
        "id": "y0hkNRS9lcSV",
        "outputId": "a62f674c-99a3-46a5-b03c-7d4e9efa012f"
      },
      "execution_count": null,
      "outputs": [
        {
          "output_type": "execute_result",
          "data": {
            "text/plain": [
              "array([[ 2.25812e+00,  3.45676e+00,  4.60655e-17, -2.83096e-17, -8.17568e-17],\n",
              "       [ 5.62075e-17,  1.41979e+00,  3.09058e+00,  1.28329e-16, -5.71097e-17],\n",
              "       [ 1.65709e-17, -1.38415e-16,  4.13880e-01,  1.48510e+00,  2.54875e-16],\n",
              "       [ 1.18812e-16,  1.87542e-16, -3.66744e-17,  5.96355e-01,  1.45184e+00],\n",
              "       [ 4.16621e-17, -1.46331e-17, -1.21530e-16, -1.78416e+00,  5.11552e-01]])"
            ]
          },
          "metadata": {},
          "execution_count": 38
        }
      ]
    },
    {
      "cell_type": "code",
      "source": [
        "h=householder(M6[:,3],3)\n",
        "M7= h @ M6\n",
        "M7"
      ],
      "metadata": {
        "colab": {
          "base_uri": "https://localhost:8080/"
        },
        "id": "Low1zjYylhfv",
        "outputId": "e3fa4db4-f245-4473-9499-34ce864bea8e"
      },
      "execution_count": null,
      "outputs": [
        {
          "output_type": "execute_result",
          "data": {
            "text/plain": [
              "array([[ 2.25812e+00,  3.45676e+00,  4.60655e-17, -2.83096e-17, -8.17568e-17],\n",
              "       [ 5.62075e-17,  1.41979e+00,  3.09058e+00,  1.28329e-16, -5.71097e-17],\n",
              "       [ 1.65709e-17, -1.38415e-16,  4.13880e-01,  1.48510e+00,  2.54875e-16],\n",
              "       [-1.84854e-18,  7.33312e-17,  1.03635e-16,  1.88119e+00, -2.49190e-02],\n",
              "       [-1.25891e-16, -1.73231e-16,  7.33090e-17,  2.06151e-16, -1.53913e+00]])"
            ]
          },
          "metadata": {},
          "execution_count": 47
        }
      ]
    },
    {
      "cell_type": "code",
      "source": [
        "M7[np.abs(M7)<1e-15]=0\n",
        "M7"
      ],
      "metadata": {
        "colab": {
          "base_uri": "https://localhost:8080/"
        },
        "id": "AXUQAipXluGG",
        "outputId": "7c429126-fd76-47b8-faab-ae7407f9c895"
      },
      "execution_count": null,
      "outputs": [
        {
          "output_type": "execute_result",
          "data": {
            "text/plain": [
              "array([[ 2.25812,  3.45676,  0.     ,  0.     ,  0.     ],\n",
              "       [ 0.     ,  1.41979,  3.09058,  0.     ,  0.     ],\n",
              "       [ 0.     ,  0.     ,  0.41388,  1.4851 ,  0.     ],\n",
              "       [ 0.     ,  0.     ,  0.     ,  1.88119, -0.02492],\n",
              "       [ 0.     ,  0.     ,  0.     ,  0.     , -1.53913]])"
            ]
          },
          "metadata": {},
          "execution_count": 48
        }
      ]
    },
    {
      "cell_type": "code",
      "source": [],
      "metadata": {
        "id": "dJNV1kYvma1s"
      },
      "execution_count": null,
      "outputs": []
    }
  ]
}