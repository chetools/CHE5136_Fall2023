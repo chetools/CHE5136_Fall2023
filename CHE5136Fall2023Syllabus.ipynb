{
  "nbformat": 4,
  "nbformat_minor": 0,
  "metadata": {
    "colab": {
      "provenance": [],
      "include_colab_link": true
    },
    "kernelspec": {
      "display_name": "Python 3",
      "language": "python",
      "name": "python3"
    },
    "language_info": {
      "codemirror_mode": {
        "name": "ipython",
        "version": 3
      },
      "file_extension": ".py",
      "mimetype": "text/x-python",
      "name": "python",
      "nbconvert_exporter": "python",
      "pygments_lexer": "ipython3",
      "version": "3.7.3"
    }
  },
  "cells": [
    {
      "cell_type": "markdown",
      "metadata": {
        "id": "view-in-github",
        "colab_type": "text"
      },
      "source": [
        "<a href=\"https://colab.research.google.com/github/profteachkids/CHE5136_Fall2023/blob/main/CHE5136Fall2023Syllabus.ipynb\" target=\"_parent\"><img src=\"https://colab.research.google.com/assets/colab-badge.svg\" alt=\"Open In Colab\"/></a>"
      ]
    },
    {
      "cell_type": "markdown",
      "metadata": {
        "id": "55XK9Emr1IHK"
      },
      "source": [
        "### CHE 5136/6036 Computational Methods"
      ]
    },
    {
      "cell_type": "markdown",
      "metadata": {
        "id": "3wh_6mq51Tiu"
      },
      "source": [
        "Instructor: Carlos Co  \n",
        "e-mail: carlos.co@uc.edu\n",
        "\n"
      ]
    },
    {
      "cell_type": "markdown",
      "metadata": {
        "id": "M1Br-tn7F8EQ"
      },
      "source": [
        "### Textbook: None\n",
        "\n",
        "### Prerequisites\n",
        "\n",
        "CHE2064 Mass and Energy Balances  \n",
        "CHE3022 Transport 1 (Momentum and Heat Transfer)  \n",
        "Determination to learn and tenacity to find bugs"
      ]
    },
    {
      "cell_type": "markdown",
      "metadata": {
        "id": "5fSyIvHK2RPU"
      },
      "source": [
        "### Description\n",
        "\n",
        "This course is a hands-on course in solving computational problems.  In most Chemical Engineering courses the emphasis has been on how to approach problems from first principles, derive, then solve specific equations.  In this class, we return to these problems from the real-life perspective where one has some data and want to make best use of it.  Unlike traditional theory laden courses, this course will offer a less mathematical, yet intuitively appealing explanation and hands-on approach to a variety of computational strategies.  The ideal title of this course, if permissible, would have been \"Chemical Engineering for Hackers\".\n",
        "\n",
        "We choose to teach this course using Python based on RedMonk Programming Language Rankings.\n",
        "\n",
        "![](https://redmonk.com/sogrady/files/2019/07/lang.rank_.619.png)\n",
        "\n",
        "Compared to Javascript, Java, C#, and C++, Python combines extensive numerical and scientific libraries with programming ease to facilitate engineering computation.  As a result, Python has gained almost lingua franca status in Data Science/Machine Learning/Artificial Intelligence.\n",
        "\n",
        "In most courses you have taken, the emphasis has been on how to approach problems from first principles, derive, then solve specific equations.  In this class, we return to these problems from the real-life perspective where you now have some experimental data and want to make best use of it.  Unlike traditional theory laden courses, this course will offer a less mathematical, yet intuitively appealing explanation and hands-on approach to a variety of computational strategies.\n",
        "\n",
        "### Topics\n",
        "\n",
        "Either through student chosen project discussions or instructor initiated lectures we will seek to cover the following topics:\n",
        "\n",
        "0.  Raw data.  (Real life data is often a collection of information in different formats spread across multiple files and directories because they were collected by different people with different ideas of what looks right.  Learning how to deal with this will also serve as an introduction to Python data structures, flow control, functions, classes, regular expressions, web-scraping, xpath, and hashing).   \n",
        "\n",
        "1.  Linear systems of equations\n",
        "\n",
        "2.  Nonlinear algebraic systems of equations and optimization (gradient descent, Newton's method, Broyden's method - Jacobian estimates, algorithmic differentiation)\n",
        "\n",
        "3.  Regression - Linear/MultiLinear and also Orthogonal Distance Regression for when there are experimental errors in both x and y data points.\n",
        "\n",
        "4.  Non-linear regression (Parameter estimation for models, penalty functions, cubic spline smoothing)\n",
        "\n",
        "5.  Integration (quadrature)\n",
        "\n",
        "6.  Initial value ordinary differential equations (PID-control, Cascade control)\n",
        "\n",
        "7.  Boundary value problems (shooting method and orthogonal collocation)\n",
        "\n",
        "8.  Maximum entropy approaches to dealing with uncertainty (it is a lot simpler and useful than it sounds!)"
      ]
    },
    {
      "cell_type": "markdown",
      "metadata": {
        "id": "4SM7XHXteEHq"
      },
      "source": [
        "### Resources\n",
        "\n",
        "There are numerous outstanding guides and tutorials for using Python available online.  The following are highly recommended:\n",
        "\n",
        "* [W3 Schools](https://www.w3schools.com/PYTHON/)\n",
        "\n",
        "* [Whirlwind Tour of Python](https://jakevdp.github.io/WhirlwindTourOfPython/)\n",
        "\n",
        "* [Python Data Science Handbook](https://jakevdp.github.io/PythonDataScienceHandbook/)\n",
        "\n",
        "* [Real Python - Introduction to Python](https://realpython.com/python-data-types/)\n",
        "\n",
        "* [Introduction to Python for Science](http://www.physics.nyu.edu/pine/pymanual/html/pymanMaster.html)\n",
        "\n",
        "* [Dive Into Python 3](http://www.diveintopython3.net)\n",
        "\n",
        "* [Automate the Boring Stuff with Python](https://automatetheboringstuff.com)\n",
        "\n",
        "* [101 Numpy Exercises for Data Analysis](https://www.machinelearningplus.com/python/101-numpy-exercises-python/)\n",
        "\n",
        "* [101 Pandas Exercises for Data Analysis](https://www.machinelearningplus.com/python/101-pandas-exercises-python/)\n",
        "\n",
        "* [Modern Idiomatic Pandas](http://tomaugspurger.github.io/modern-1-intro.html)\n",
        "\n",
        "\n",
        "\n",
        "\n"
      ]
    },
    {
      "cell_type": "markdown",
      "metadata": {
        "id": "32R_QTeN-PfA"
      },
      "source": [
        "##Grading\n",
        "\n",
        "Attendance, class participation with a webcam, and responding when called upon to answer a question are MANDATORY.   If you are absent for a good reason (coop interview, medical, military, etc.) send me an email (carlos.co@uc.edu).  5 or more unexcused absences will result in an unpredictable grade.\n",
        "\n",
        "In the real world, there are no 2 hour exams.  While there are deadlines, no boss will prevent you from working extra at night or weekends on a project.  Success as an engineer comes from persistent attention to detail, hard work, desire to learn, and communication skills.\n",
        "\n",
        "Grading in this course will try to reflect this reality as closely as possible.  There will be ~5 homework problems that require submission of Youtube videos where you present (without looking at notes) solution to problems and write Python code (live) to complete the calculations.<br>\n",
        "\n",
        "You will have ~1.5 weeks to complete each of these multipart videos submitted as YouTube playlists that would average between 30 to 60 minutes long.  Do note that because you are presenting on camera and not allowed to look at notes while you present and write the code, it will take MANY attempts to make a video worthy of submission.  Make your first recording attempt no later than the 3rd day after the HW is assigned.  It will be much harder than you think - do not procrastinate.  Your camera angles should provide <u>irrefutable</u> evidence that the work is not merely being copied and read aloud."
      ]
    }
  ]
}