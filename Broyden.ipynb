{
  "nbformat": 4,
  "nbformat_minor": 0,
  "metadata": {
    "colab": {
      "provenance": [],
      "authorship_tag": "ABX9TyNwSF+Xc5MamxuipsL7PjSr",
      "include_colab_link": true
    },
    "kernelspec": {
      "name": "python3",
      "display_name": "Python 3"
    },
    "language_info": {
      "name": "python"
    }
  },
  "cells": [
    {
      "cell_type": "markdown",
      "metadata": {
        "id": "view-in-github",
        "colab_type": "text"
      },
      "source": [
        "<a href=\"https://colab.research.google.com/github/profteachkids/CHE5136_Fall2023/blob/main/Broyden.ipynb\" target=\"_parent\"><img src=\"https://colab.research.google.com/assets/colab-badge.svg\" alt=\"Open In Colab\"/></a>"
      ]
    },
    {
      "cell_type": "code",
      "execution_count": 1,
      "metadata": {
        "id": "mahIDDopWC45"
      },
      "outputs": [],
      "source": [
        "import numpy as np\n",
        "import jax\n",
        "jax.config.update('jax_enable_x64',True)\n",
        "import jax.numpy as jnp\n",
        "from plotly.subplots import make_subplots"
      ]
    },
    {
      "cell_type": "code",
      "source": [
        "def f(x):\n",
        "    return 0.3*(x-0.9)*(x-0.3)*(x+0.5)*(x+0.8)"
      ],
      "metadata": {
        "id": "BjfNBm7fclWl"
      },
      "execution_count": 2,
      "outputs": []
    },
    {
      "cell_type": "code",
      "source": [
        "xplot = np.linspace(-1,1,100)\n",
        "fig=make_subplots()\n",
        "fig.add_scatter(x=xplot, y=f(xplot), mode='lines')\n",
        "fig.update_layout(width=600, height=400, template='plotly_dark')"
      ],
      "metadata": {
        "colab": {
          "base_uri": "https://localhost:8080/",
          "height": 417
        },
        "id": "QMFv2e-Icx3Q",
        "outputId": "a98de7b5-113e-4d9f-b462-d07354becfe3"
      },
      "execution_count": 3,
      "outputs": [
        {
          "output_type": "display_data",
          "data": {
            "text/html": [
              "<html>\n",
              "<head><meta charset=\"utf-8\" /></head>\n",
              "<body>\n",
              "    <div>            <script src=\"https://cdnjs.cloudflare.com/ajax/libs/mathjax/2.7.5/MathJax.js?config=TeX-AMS-MML_SVG\"></script><script type=\"text/javascript\">if (window.MathJax && window.MathJax.Hub && window.MathJax.Hub.Config) {window.MathJax.Hub.Config({SVG: {font: \"STIX-Web\"}});}</script>                <script type=\"text/javascript\">window.PlotlyConfig = {MathJaxConfig: 'local'};</script>\n",
              "        <script charset=\"utf-8\" src=\"https://cdn.plot.ly/plotly-2.24.1.min.js\"></script>                <div id=\"2c3d5f4f-f695-4240-9391-ec6261adae05\" class=\"plotly-graph-div\" style=\"height:400px; width:600px;\"></div>            <script type=\"text/javascript\">                                    window.PLOTLYENV=window.PLOTLYENV || {};                                    if (document.getElementById(\"2c3d5f4f-f695-4240-9391-ec6261adae05\")) {                    Plotly.newPlot(                        \"2c3d5f4f-f695-4240-9391-ec6261adae05\",                        [{\"mode\":\"lines\",\"x\":[-1.0,-0.9797979797979798,-0.9595959595959596,-0.9393939393939394,-0.9191919191919192,-0.898989898989899,-0.8787878787878788,-0.8585858585858586,-0.8383838383838383,-0.8181818181818181,-0.797979797979798,-0.7777777777777778,-0.7575757575757576,-0.7373737373737373,-0.7171717171717171,-0.696969696969697,-0.6767676767676767,-0.6565656565656566,-0.6363636363636364,-0.6161616161616161,-0.5959595959595959,-0.5757575757575757,-0.5555555555555556,-0.5353535353535352,-0.5151515151515151,-0.4949494949494949,-0.4747474747474747,-0.4545454545454545,-0.43434343434343425,-0.41414141414141414,-0.3939393939393939,-0.3737373737373737,-0.3535353535353535,-0.33333333333333326,-0.31313131313131304,-0.2929292929292928,-0.2727272727272727,-0.2525252525252525,-0.23232323232323226,-0.21212121212121204,-0.19191919191919182,-0.1717171717171716,-0.1515151515151515,-0.13131313131313127,-0.11111111111111105,-0.09090909090909083,-0.07070707070707061,-0.050505050505050386,-0.030303030303030276,-0.010101010101010055,0.010101010101010166,0.030303030303030498,0.05050505050505061,0.07070707070707072,0.09090909090909105,0.11111111111111116,0.1313131313131315,0.1515151515151516,0.1717171717171717,0.19191919191919204,0.21212121212121215,0.2323232323232325,0.2525252525252526,0.27272727272727293,0.29292929292929304,0.31313131313131315,0.3333333333333335,0.3535353535353536,0.3737373737373739,0.39393939393939403,0.41414141414141437,0.4343434343434345,0.4545454545454546,0.4747474747474749,0.49494949494949503,0.5151515151515154,0.5353535353535355,0.5555555555555556,0.5757575757575759,0.595959595959596,0.6161616161616164,0.6363636363636365,0.6565656565656568,0.6767676767676769,0.696969696969697,0.7171717171717173,0.7373737373737375,0.7575757575757578,0.7777777777777779,0.7979797979797982,0.8181818181818183,0.8383838383838385,0.8585858585858588,0.8787878787878789,0.8989898989898992,0.9191919191919193,0.9393939393939394,0.9595959595959598,0.9797979797979799,1.0],\"y\":[0.07409999999999999,0.06226114113778172,0.05154294177111975,0.04188932171704524,0.03324540004803892,0.02555749509203145,0.018773124432403154,0.01284100490798414,0.007711052613054245,0.003334382897343058,-0.00033668963397006214,-0.003348651120256063,-0.0057467884454360865,-0.0075751892379815385,-0.008876741870914086,-0.009693135461805637,-0.010064859872778366,-0.01003120571050467,-0.009630264326207227,-0.00889892781565895,-0.007872889019182995,-0.0065866415216527885,-0.005073479652492001,-0.003365498485674526,-0.0014935938397245673,0.0005125377222834844,0.0026243988927249504,0.00481469161942491,0.007057317105658195,0.00932737581014937,0.011601167447072782,0.01385619098605251,0.016071144652162365,0.018225925925925934,0.020301631543316538,0.022280557495757254,0.024146199030120902,0.02588325064873006,0.027477606109357053,0.028916358425223943,0.030187799865002574,0.03128142195281449,0.03218791546823102,0.032899170446273246,0.03340827617741198,0.03370952120756779,0.033798393338110994,0.033671579625861654,0.033326966383089594,0.03276363917751438,0.03198188283230533,0.03098318142608149,0.029770218292911706,0.028346876022314522,0.026718236459258235,0.024890580704160944,0.02287138911289042,0.020669341296764274,0.01829431612254979,0.015757391712463997,0.013070845444173763,0.010248153950795586,0.007303993120895836,0.004254238098490508,0.0011159632830454729,-0.0020925576705237456,-0.005351851851851878,-0.008641247095123797,-0.011938871979074775,-0.01522165582699018,-0.018465328706705784,-0.021644421430607467,-0.02473226555563146,-0.027700993383264236,-0.03052153795954244,-0.03316363307505309,-0.035595813264933315,-0.037785413808870606,-0.03969857073110268,-0.041300220800417446,-0.042554101530153154,-0.04342275117819822,-0.043867508746991364,-0.04384851398352154,-0.04332470737932797,-0.04225383017050008,-0.04059242433767761,-0.03829583260605046,-0.035318198445358925,-0.03161246606989338,-0.0271303804384946,-0.02182248725455354,-0.015638132966011322,-0.00852546476535955,-0.00043143058963977153,0.008698220879555869,0.018918940216085235,0.03028737724925601,0.0428613810638252,0.056699999999999987],\"type\":\"scatter\"}],                        {\"template\":{\"data\":{\"barpolar\":[{\"marker\":{\"line\":{\"color\":\"rgb(17,17,17)\",\"width\":0.5},\"pattern\":{\"fillmode\":\"overlay\",\"size\":10,\"solidity\":0.2}},\"type\":\"barpolar\"}],\"bar\":[{\"error_x\":{\"color\":\"#f2f5fa\"},\"error_y\":{\"color\":\"#f2f5fa\"},\"marker\":{\"line\":{\"color\":\"rgb(17,17,17)\",\"width\":0.5},\"pattern\":{\"fillmode\":\"overlay\",\"size\":10,\"solidity\":0.2}},\"type\":\"bar\"}],\"carpet\":[{\"aaxis\":{\"endlinecolor\":\"#A2B1C6\",\"gridcolor\":\"#506784\",\"linecolor\":\"#506784\",\"minorgridcolor\":\"#506784\",\"startlinecolor\":\"#A2B1C6\"},\"baxis\":{\"endlinecolor\":\"#A2B1C6\",\"gridcolor\":\"#506784\",\"linecolor\":\"#506784\",\"minorgridcolor\":\"#506784\",\"startlinecolor\":\"#A2B1C6\"},\"type\":\"carpet\"}],\"choropleth\":[{\"colorbar\":{\"outlinewidth\":0,\"ticks\":\"\"},\"type\":\"choropleth\"}],\"contourcarpet\":[{\"colorbar\":{\"outlinewidth\":0,\"ticks\":\"\"},\"type\":\"contourcarpet\"}],\"contour\":[{\"colorbar\":{\"outlinewidth\":0,\"ticks\":\"\"},\"colorscale\":[[0.0,\"#0d0887\"],[0.1111111111111111,\"#46039f\"],[0.2222222222222222,\"#7201a8\"],[0.3333333333333333,\"#9c179e\"],[0.4444444444444444,\"#bd3786\"],[0.5555555555555556,\"#d8576b\"],[0.6666666666666666,\"#ed7953\"],[0.7777777777777778,\"#fb9f3a\"],[0.8888888888888888,\"#fdca26\"],[1.0,\"#f0f921\"]],\"type\":\"contour\"}],\"heatmapgl\":[{\"colorbar\":{\"outlinewidth\":0,\"ticks\":\"\"},\"colorscale\":[[0.0,\"#0d0887\"],[0.1111111111111111,\"#46039f\"],[0.2222222222222222,\"#7201a8\"],[0.3333333333333333,\"#9c179e\"],[0.4444444444444444,\"#bd3786\"],[0.5555555555555556,\"#d8576b\"],[0.6666666666666666,\"#ed7953\"],[0.7777777777777778,\"#fb9f3a\"],[0.8888888888888888,\"#fdca26\"],[1.0,\"#f0f921\"]],\"type\":\"heatmapgl\"}],\"heatmap\":[{\"colorbar\":{\"outlinewidth\":0,\"ticks\":\"\"},\"colorscale\":[[0.0,\"#0d0887\"],[0.1111111111111111,\"#46039f\"],[0.2222222222222222,\"#7201a8\"],[0.3333333333333333,\"#9c179e\"],[0.4444444444444444,\"#bd3786\"],[0.5555555555555556,\"#d8576b\"],[0.6666666666666666,\"#ed7953\"],[0.7777777777777778,\"#fb9f3a\"],[0.8888888888888888,\"#fdca26\"],[1.0,\"#f0f921\"]],\"type\":\"heatmap\"}],\"histogram2dcontour\":[{\"colorbar\":{\"outlinewidth\":0,\"ticks\":\"\"},\"colorscale\":[[0.0,\"#0d0887\"],[0.1111111111111111,\"#46039f\"],[0.2222222222222222,\"#7201a8\"],[0.3333333333333333,\"#9c179e\"],[0.4444444444444444,\"#bd3786\"],[0.5555555555555556,\"#d8576b\"],[0.6666666666666666,\"#ed7953\"],[0.7777777777777778,\"#fb9f3a\"],[0.8888888888888888,\"#fdca26\"],[1.0,\"#f0f921\"]],\"type\":\"histogram2dcontour\"}],\"histogram2d\":[{\"colorbar\":{\"outlinewidth\":0,\"ticks\":\"\"},\"colorscale\":[[0.0,\"#0d0887\"],[0.1111111111111111,\"#46039f\"],[0.2222222222222222,\"#7201a8\"],[0.3333333333333333,\"#9c179e\"],[0.4444444444444444,\"#bd3786\"],[0.5555555555555556,\"#d8576b\"],[0.6666666666666666,\"#ed7953\"],[0.7777777777777778,\"#fb9f3a\"],[0.8888888888888888,\"#fdca26\"],[1.0,\"#f0f921\"]],\"type\":\"histogram2d\"}],\"histogram\":[{\"marker\":{\"pattern\":{\"fillmode\":\"overlay\",\"size\":10,\"solidity\":0.2}},\"type\":\"histogram\"}],\"mesh3d\":[{\"colorbar\":{\"outlinewidth\":0,\"ticks\":\"\"},\"type\":\"mesh3d\"}],\"parcoords\":[{\"line\":{\"colorbar\":{\"outlinewidth\":0,\"ticks\":\"\"}},\"type\":\"parcoords\"}],\"pie\":[{\"automargin\":true,\"type\":\"pie\"}],\"scatter3d\":[{\"line\":{\"colorbar\":{\"outlinewidth\":0,\"ticks\":\"\"}},\"marker\":{\"colorbar\":{\"outlinewidth\":0,\"ticks\":\"\"}},\"type\":\"scatter3d\"}],\"scattercarpet\":[{\"marker\":{\"colorbar\":{\"outlinewidth\":0,\"ticks\":\"\"}},\"type\":\"scattercarpet\"}],\"scattergeo\":[{\"marker\":{\"colorbar\":{\"outlinewidth\":0,\"ticks\":\"\"}},\"type\":\"scattergeo\"}],\"scattergl\":[{\"marker\":{\"line\":{\"color\":\"#283442\"}},\"type\":\"scattergl\"}],\"scattermapbox\":[{\"marker\":{\"colorbar\":{\"outlinewidth\":0,\"ticks\":\"\"}},\"type\":\"scattermapbox\"}],\"scatterpolargl\":[{\"marker\":{\"colorbar\":{\"outlinewidth\":0,\"ticks\":\"\"}},\"type\":\"scatterpolargl\"}],\"scatterpolar\":[{\"marker\":{\"colorbar\":{\"outlinewidth\":0,\"ticks\":\"\"}},\"type\":\"scatterpolar\"}],\"scatter\":[{\"marker\":{\"line\":{\"color\":\"#283442\"}},\"type\":\"scatter\"}],\"scatterternary\":[{\"marker\":{\"colorbar\":{\"outlinewidth\":0,\"ticks\":\"\"}},\"type\":\"scatterternary\"}],\"surface\":[{\"colorbar\":{\"outlinewidth\":0,\"ticks\":\"\"},\"colorscale\":[[0.0,\"#0d0887\"],[0.1111111111111111,\"#46039f\"],[0.2222222222222222,\"#7201a8\"],[0.3333333333333333,\"#9c179e\"],[0.4444444444444444,\"#bd3786\"],[0.5555555555555556,\"#d8576b\"],[0.6666666666666666,\"#ed7953\"],[0.7777777777777778,\"#fb9f3a\"],[0.8888888888888888,\"#fdca26\"],[1.0,\"#f0f921\"]],\"type\":\"surface\"}],\"table\":[{\"cells\":{\"fill\":{\"color\":\"#506784\"},\"line\":{\"color\":\"rgb(17,17,17)\"}},\"header\":{\"fill\":{\"color\":\"#2a3f5f\"},\"line\":{\"color\":\"rgb(17,17,17)\"}},\"type\":\"table\"}]},\"layout\":{\"annotationdefaults\":{\"arrowcolor\":\"#f2f5fa\",\"arrowhead\":0,\"arrowwidth\":1},\"autotypenumbers\":\"strict\",\"coloraxis\":{\"colorbar\":{\"outlinewidth\":0,\"ticks\":\"\"}},\"colorscale\":{\"diverging\":[[0,\"#8e0152\"],[0.1,\"#c51b7d\"],[0.2,\"#de77ae\"],[0.3,\"#f1b6da\"],[0.4,\"#fde0ef\"],[0.5,\"#f7f7f7\"],[0.6,\"#e6f5d0\"],[0.7,\"#b8e186\"],[0.8,\"#7fbc41\"],[0.9,\"#4d9221\"],[1,\"#276419\"]],\"sequential\":[[0.0,\"#0d0887\"],[0.1111111111111111,\"#46039f\"],[0.2222222222222222,\"#7201a8\"],[0.3333333333333333,\"#9c179e\"],[0.4444444444444444,\"#bd3786\"],[0.5555555555555556,\"#d8576b\"],[0.6666666666666666,\"#ed7953\"],[0.7777777777777778,\"#fb9f3a\"],[0.8888888888888888,\"#fdca26\"],[1.0,\"#f0f921\"]],\"sequentialminus\":[[0.0,\"#0d0887\"],[0.1111111111111111,\"#46039f\"],[0.2222222222222222,\"#7201a8\"],[0.3333333333333333,\"#9c179e\"],[0.4444444444444444,\"#bd3786\"],[0.5555555555555556,\"#d8576b\"],[0.6666666666666666,\"#ed7953\"],[0.7777777777777778,\"#fb9f3a\"],[0.8888888888888888,\"#fdca26\"],[1.0,\"#f0f921\"]]},\"colorway\":[\"#636efa\",\"#EF553B\",\"#00cc96\",\"#ab63fa\",\"#FFA15A\",\"#19d3f3\",\"#FF6692\",\"#B6E880\",\"#FF97FF\",\"#FECB52\"],\"font\":{\"color\":\"#f2f5fa\"},\"geo\":{\"bgcolor\":\"rgb(17,17,17)\",\"lakecolor\":\"rgb(17,17,17)\",\"landcolor\":\"rgb(17,17,17)\",\"showlakes\":true,\"showland\":true,\"subunitcolor\":\"#506784\"},\"hoverlabel\":{\"align\":\"left\"},\"hovermode\":\"closest\",\"mapbox\":{\"style\":\"dark\"},\"paper_bgcolor\":\"rgb(17,17,17)\",\"plot_bgcolor\":\"rgb(17,17,17)\",\"polar\":{\"angularaxis\":{\"gridcolor\":\"#506784\",\"linecolor\":\"#506784\",\"ticks\":\"\"},\"bgcolor\":\"rgb(17,17,17)\",\"radialaxis\":{\"gridcolor\":\"#506784\",\"linecolor\":\"#506784\",\"ticks\":\"\"}},\"scene\":{\"xaxis\":{\"backgroundcolor\":\"rgb(17,17,17)\",\"gridcolor\":\"#506784\",\"gridwidth\":2,\"linecolor\":\"#506784\",\"showbackground\":true,\"ticks\":\"\",\"zerolinecolor\":\"#C8D4E3\"},\"yaxis\":{\"backgroundcolor\":\"rgb(17,17,17)\",\"gridcolor\":\"#506784\",\"gridwidth\":2,\"linecolor\":\"#506784\",\"showbackground\":true,\"ticks\":\"\",\"zerolinecolor\":\"#C8D4E3\"},\"zaxis\":{\"backgroundcolor\":\"rgb(17,17,17)\",\"gridcolor\":\"#506784\",\"gridwidth\":2,\"linecolor\":\"#506784\",\"showbackground\":true,\"ticks\":\"\",\"zerolinecolor\":\"#C8D4E3\"}},\"shapedefaults\":{\"line\":{\"color\":\"#f2f5fa\"}},\"sliderdefaults\":{\"bgcolor\":\"#C8D4E3\",\"bordercolor\":\"rgb(17,17,17)\",\"borderwidth\":1,\"tickwidth\":0},\"ternary\":{\"aaxis\":{\"gridcolor\":\"#506784\",\"linecolor\":\"#506784\",\"ticks\":\"\"},\"baxis\":{\"gridcolor\":\"#506784\",\"linecolor\":\"#506784\",\"ticks\":\"\"},\"bgcolor\":\"rgb(17,17,17)\",\"caxis\":{\"gridcolor\":\"#506784\",\"linecolor\":\"#506784\",\"ticks\":\"\"}},\"title\":{\"x\":0.05},\"updatemenudefaults\":{\"bgcolor\":\"#506784\",\"borderwidth\":0},\"xaxis\":{\"automargin\":true,\"gridcolor\":\"#283442\",\"linecolor\":\"#506784\",\"ticks\":\"\",\"title\":{\"standoff\":15},\"zerolinecolor\":\"#283442\",\"zerolinewidth\":2},\"yaxis\":{\"automargin\":true,\"gridcolor\":\"#283442\",\"linecolor\":\"#506784\",\"ticks\":\"\",\"title\":{\"standoff\":15},\"zerolinecolor\":\"#283442\",\"zerolinewidth\":2}}},\"xaxis\":{\"anchor\":\"y\",\"domain\":[0.0,1.0]},\"yaxis\":{\"anchor\":\"x\",\"domain\":[0.0,1.0]},\"width\":600,\"height\":400},                        {\"responsive\": true}                    ).then(function(){\n",
              "                            \n",
              "var gd = document.getElementById('2c3d5f4f-f695-4240-9391-ec6261adae05');\n",
              "var x = new MutationObserver(function (mutations, observer) {{\n",
              "        var display = window.getComputedStyle(gd).display;\n",
              "        if (!display || display === 'none') {{\n",
              "            console.log([gd, 'removed!']);\n",
              "            Plotly.purge(gd);\n",
              "            observer.disconnect();\n",
              "        }}\n",
              "}});\n",
              "\n",
              "// Listen for the removal of the full notebook cells\n",
              "var notebookContainer = gd.closest('#notebook-container');\n",
              "if (notebookContainer) {{\n",
              "    x.observe(notebookContainer, {childList: true});\n",
              "}}\n",
              "\n",
              "// Listen for the clearing of the current output cell\n",
              "var outputEl = gd.closest('.output');\n",
              "if (outputEl) {{\n",
              "    x.observe(outputEl, {childList: true});\n",
              "}}\n",
              "\n",
              "                        })                };                            </script>        </div>\n",
              "</body>\n",
              "</html>"
            ]
          },
          "metadata": {}
        }
      ]
    },
    {
      "cell_type": "code",
      "source": [
        "def newton(f, xguess, maxiter=100, tol=1e-10):\n",
        "\n",
        "    fprime = jax.grad(f)\n",
        "    x1=xguess\n",
        "    for i in range(maxiter):\n",
        "        x2 = x1 - f(x1)/fprime(x1)\n",
        "        if jnp.abs(f(x2))<tol:\n",
        "            break\n",
        "        x1 = x2\n",
        "\n",
        "    return x2"
      ],
      "metadata": {
        "id": "zz6v7yxJdHSy"
      },
      "execution_count": 4,
      "outputs": []
    },
    {
      "cell_type": "code",
      "source": [
        "newton(f, 0.)"
      ],
      "metadata": {
        "colab": {
          "base_uri": "https://localhost:8080/"
        },
        "id": "xMVlyyr7eBKQ",
        "outputId": "435f1457-b0db-4507-c50a-d270e8bdc9d6"
      },
      "execution_count": 5,
      "outputs": [
        {
          "output_type": "stream",
          "name": "stderr",
          "text": [
            "WARNING:jax._src.xla_bridge:No GPU/TPU found, falling back to CPU. (Set TF_CPP_MIN_LOG_LEVEL=0 and rerun for more info.)\n"
          ]
        },
        {
          "output_type": "execute_result",
          "data": {
            "text/plain": [
              "Array(0.9, dtype=float64, weak_type=True)"
            ]
          },
          "metadata": {},
          "execution_count": 5
        }
      ]
    },
    {
      "cell_type": "code",
      "source": [
        "@jax.jit\n",
        "def f2(x):\n",
        "    return jnp.array([x[0]  + 0.5 * (x[0] - x[1])**3 - 1.0,\n",
        "            0.5 * (x[1] - x[0])**3 + x[1]])"
      ],
      "metadata": {
        "id": "M57aHq2LetxF"
      },
      "execution_count": 6,
      "outputs": []
    },
    {
      "cell_type": "code",
      "source": [
        "def newton_Nd(f, xguess, maxiter=100, tol=1e-10):\n",
        "\n",
        "    J = jax.jit(jax.jacobian(f))\n",
        "    x1=xguess\n",
        "    for i in range(maxiter):\n",
        "        x2 = x1 - jnp.linalg.inv(J(x1)) @ f(x1)\n",
        "        print(i, f(x2))\n",
        "        if jnp.linalg.norm(f(x2))<tol:\n",
        "            break\n",
        "        x1 = x2\n",
        "\n",
        "    return x2"
      ],
      "metadata": {
        "id": "dPgZZKnnfDtm"
      },
      "execution_count": 7,
      "outputs": []
    },
    {
      "cell_type": "code",
      "source": [
        "guess = jnp.array([0.,0.])\n",
        "newton_Nd(f2, guess)"
      ],
      "metadata": {
        "colab": {
          "base_uri": "https://localhost:8080/"
        },
        "id": "6rLUxn1TiTle",
        "outputId": "7079b7ba-b0cd-4787-c635-cbe99be01a65"
      },
      "execution_count": 9,
      "outputs": [
        {
          "output_type": "stream",
          "name": "stdout",
          "text": [
            "0 [ 0.5 -0.5]\n",
            "1 [ 0.0859375 -0.0859375]\n",
            "2 [ 0.00447052 -0.00447052]\n",
            "3 [ 1.41153108e-05 -1.41153108e-05]\n",
            "4 [ 1.41997303e-10 -1.41997386e-10]\n",
            "5 [ 0.00000000e+00 -5.55111512e-17]\n"
          ]
        },
        {
          "output_type": "execute_result",
          "data": {
            "text/plain": [
              "Array([0.8411639, 0.1588361], dtype=float64)"
            ]
          },
          "metadata": {},
          "execution_count": 9
        }
      ]
    },
    {
      "cell_type": "code",
      "source": [],
      "metadata": {
        "id": "FsR_QGfhiFxW"
      },
      "execution_count": null,
      "outputs": []
    }
  ]
}