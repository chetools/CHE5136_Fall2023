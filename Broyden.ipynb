{
  "nbformat": 4,
  "nbformat_minor": 0,
  "metadata": {
    "colab": {
      "provenance": [],
      "authorship_tag": "ABX9TyMqxRX4K1ggAZDMriPLUJ1s",
      "include_colab_link": true
    },
    "kernelspec": {
      "name": "python3",
      "display_name": "Python 3"
    },
    "language_info": {
      "name": "python"
    }
  },
  "cells": [
    {
      "cell_type": "markdown",
      "metadata": {
        "id": "view-in-github",
        "colab_type": "text"
      },
      "source": [
        "<a href=\"https://colab.research.google.com/github/profteachkids/CHE5136_Fall2023/blob/main/Broyden.ipynb\" target=\"_parent\"><img src=\"https://colab.research.google.com/assets/colab-badge.svg\" alt=\"Open In Colab\"/></a>"
      ]
    },
    {
      "cell_type": "code",
      "execution_count": 1,
      "metadata": {
        "id": "mahIDDopWC45"
      },
      "outputs": [],
      "source": [
        "import numpy as np\n",
        "import jax\n",
        "jax.config.update('jax_enable_x64',True)\n",
        "import jax.numpy as jnp\n",
        "from plotly.subplots import make_subplots\n",
        "from scipy.optimize import minimize"
      ]
    },
    {
      "cell_type": "code",
      "source": [
        "def f(x):\n",
        "    return 0.3*(x-0.9)*(x-0.3)*(x+0.5)*(x+0.8)"
      ],
      "metadata": {
        "id": "BjfNBm7fclWl"
      },
      "execution_count": 2,
      "outputs": []
    },
    {
      "cell_type": "code",
      "source": [
        "xplot = np.linspace(-1,1,100)\n",
        "fig=make_subplots()\n",
        "fig.add_scatter(x=xplot, y=f(xplot), mode='lines')\n",
        "fig.update_layout(width=600, height=400, template='plotly_dark')"
      ],
      "metadata": {
        "colab": {
          "base_uri": "https://localhost:8080/",
          "height": 417
        },
        "id": "QMFv2e-Icx3Q",
        "outputId": "07b984ec-50ab-4778-bed7-0820b84b782b"
      },
      "execution_count": 3,
      "outputs": [
        {
          "output_type": "display_data",
          "data": {
            "text/html": [
              "<html>\n",
              "<head><meta charset=\"utf-8\" /></head>\n",
              "<body>\n",
              "    <div>            <script src=\"https://cdnjs.cloudflare.com/ajax/libs/mathjax/2.7.5/MathJax.js?config=TeX-AMS-MML_SVG\"></script><script type=\"text/javascript\">if (window.MathJax && window.MathJax.Hub && window.MathJax.Hub.Config) {window.MathJax.Hub.Config({SVG: {font: \"STIX-Web\"}});}</script>                <script type=\"text/javascript\">window.PlotlyConfig = {MathJaxConfig: 'local'};</script>\n",
              "        <script charset=\"utf-8\" src=\"https://cdn.plot.ly/plotly-2.24.1.min.js\"></script>                <div id=\"555390bf-266c-421c-a9fd-21025abef9cf\" class=\"plotly-graph-div\" style=\"height:400px; width:600px;\"></div>            <script type=\"text/javascript\">                                    window.PLOTLYENV=window.PLOTLYENV || {};                                    if (document.getElementById(\"555390bf-266c-421c-a9fd-21025abef9cf\")) {                    Plotly.newPlot(                        \"555390bf-266c-421c-a9fd-21025abef9cf\",                        [{\"mode\":\"lines\",\"x\":[-1.0,-0.9797979797979798,-0.9595959595959596,-0.9393939393939394,-0.9191919191919192,-0.898989898989899,-0.8787878787878788,-0.8585858585858586,-0.8383838383838383,-0.8181818181818181,-0.797979797979798,-0.7777777777777778,-0.7575757575757576,-0.7373737373737373,-0.7171717171717171,-0.696969696969697,-0.6767676767676767,-0.6565656565656566,-0.6363636363636364,-0.6161616161616161,-0.5959595959595959,-0.5757575757575757,-0.5555555555555556,-0.5353535353535352,-0.5151515151515151,-0.4949494949494949,-0.4747474747474747,-0.4545454545454545,-0.43434343434343425,-0.41414141414141414,-0.3939393939393939,-0.3737373737373737,-0.3535353535353535,-0.33333333333333326,-0.31313131313131304,-0.2929292929292928,-0.2727272727272727,-0.2525252525252525,-0.23232323232323226,-0.21212121212121204,-0.19191919191919182,-0.1717171717171716,-0.1515151515151515,-0.13131313131313127,-0.11111111111111105,-0.09090909090909083,-0.07070707070707061,-0.050505050505050386,-0.030303030303030276,-0.010101010101010055,0.010101010101010166,0.030303030303030498,0.05050505050505061,0.07070707070707072,0.09090909090909105,0.11111111111111116,0.1313131313131315,0.1515151515151516,0.1717171717171717,0.19191919191919204,0.21212121212121215,0.2323232323232325,0.2525252525252526,0.27272727272727293,0.29292929292929304,0.31313131313131315,0.3333333333333335,0.3535353535353536,0.3737373737373739,0.39393939393939403,0.41414141414141437,0.4343434343434345,0.4545454545454546,0.4747474747474749,0.49494949494949503,0.5151515151515154,0.5353535353535355,0.5555555555555556,0.5757575757575759,0.595959595959596,0.6161616161616164,0.6363636363636365,0.6565656565656568,0.6767676767676769,0.696969696969697,0.7171717171717173,0.7373737373737375,0.7575757575757578,0.7777777777777779,0.7979797979797982,0.8181818181818183,0.8383838383838385,0.8585858585858588,0.8787878787878789,0.8989898989898992,0.9191919191919193,0.9393939393939394,0.9595959595959598,0.9797979797979799,1.0],\"y\":[0.07409999999999999,0.06226114113778172,0.05154294177111975,0.04188932171704524,0.03324540004803892,0.02555749509203145,0.018773124432403154,0.01284100490798414,0.007711052613054245,0.003334382897343058,-0.00033668963397006214,-0.003348651120256063,-0.0057467884454360865,-0.0075751892379815385,-0.008876741870914086,-0.009693135461805637,-0.010064859872778366,-0.01003120571050467,-0.009630264326207227,-0.00889892781565895,-0.007872889019182995,-0.0065866415216527885,-0.005073479652492001,-0.003365498485674526,-0.0014935938397245673,0.0005125377222834844,0.0026243988927249504,0.00481469161942491,0.007057317105658195,0.00932737581014937,0.011601167447072782,0.01385619098605251,0.016071144652162365,0.018225925925925934,0.020301631543316538,0.022280557495757254,0.024146199030120902,0.02588325064873006,0.027477606109357053,0.028916358425223943,0.030187799865002574,0.03128142195281449,0.03218791546823102,0.032899170446273246,0.03340827617741198,0.03370952120756779,0.033798393338110994,0.033671579625861654,0.033326966383089594,0.03276363917751438,0.03198188283230533,0.03098318142608149,0.029770218292911706,0.028346876022314522,0.026718236459258235,0.024890580704160944,0.02287138911289042,0.020669341296764274,0.01829431612254979,0.015757391712463997,0.013070845444173763,0.010248153950795586,0.007303993120895836,0.004254238098490508,0.0011159632830454729,-0.0020925576705237456,-0.005351851851851878,-0.008641247095123797,-0.011938871979074775,-0.01522165582699018,-0.018465328706705784,-0.021644421430607467,-0.02473226555563146,-0.027700993383264236,-0.03052153795954244,-0.03316363307505309,-0.035595813264933315,-0.037785413808870606,-0.03969857073110268,-0.041300220800417446,-0.042554101530153154,-0.04342275117819822,-0.043867508746991364,-0.04384851398352154,-0.04332470737932797,-0.04225383017050008,-0.04059242433767761,-0.03829583260605046,-0.035318198445358925,-0.03161246606989338,-0.0271303804384946,-0.02182248725455354,-0.015638132966011322,-0.00852546476535955,-0.00043143058963977153,0.008698220879555869,0.018918940216085235,0.03028737724925601,0.0428613810638252,0.056699999999999987],\"type\":\"scatter\"}],                        {\"template\":{\"data\":{\"barpolar\":[{\"marker\":{\"line\":{\"color\":\"rgb(17,17,17)\",\"width\":0.5},\"pattern\":{\"fillmode\":\"overlay\",\"size\":10,\"solidity\":0.2}},\"type\":\"barpolar\"}],\"bar\":[{\"error_x\":{\"color\":\"#f2f5fa\"},\"error_y\":{\"color\":\"#f2f5fa\"},\"marker\":{\"line\":{\"color\":\"rgb(17,17,17)\",\"width\":0.5},\"pattern\":{\"fillmode\":\"overlay\",\"size\":10,\"solidity\":0.2}},\"type\":\"bar\"}],\"carpet\":[{\"aaxis\":{\"endlinecolor\":\"#A2B1C6\",\"gridcolor\":\"#506784\",\"linecolor\":\"#506784\",\"minorgridcolor\":\"#506784\",\"startlinecolor\":\"#A2B1C6\"},\"baxis\":{\"endlinecolor\":\"#A2B1C6\",\"gridcolor\":\"#506784\",\"linecolor\":\"#506784\",\"minorgridcolor\":\"#506784\",\"startlinecolor\":\"#A2B1C6\"},\"type\":\"carpet\"}],\"choropleth\":[{\"colorbar\":{\"outlinewidth\":0,\"ticks\":\"\"},\"type\":\"choropleth\"}],\"contourcarpet\":[{\"colorbar\":{\"outlinewidth\":0,\"ticks\":\"\"},\"type\":\"contourcarpet\"}],\"contour\":[{\"colorbar\":{\"outlinewidth\":0,\"ticks\":\"\"},\"colorscale\":[[0.0,\"#0d0887\"],[0.1111111111111111,\"#46039f\"],[0.2222222222222222,\"#7201a8\"],[0.3333333333333333,\"#9c179e\"],[0.4444444444444444,\"#bd3786\"],[0.5555555555555556,\"#d8576b\"],[0.6666666666666666,\"#ed7953\"],[0.7777777777777778,\"#fb9f3a\"],[0.8888888888888888,\"#fdca26\"],[1.0,\"#f0f921\"]],\"type\":\"contour\"}],\"heatmapgl\":[{\"colorbar\":{\"outlinewidth\":0,\"ticks\":\"\"},\"colorscale\":[[0.0,\"#0d0887\"],[0.1111111111111111,\"#46039f\"],[0.2222222222222222,\"#7201a8\"],[0.3333333333333333,\"#9c179e\"],[0.4444444444444444,\"#bd3786\"],[0.5555555555555556,\"#d8576b\"],[0.6666666666666666,\"#ed7953\"],[0.7777777777777778,\"#fb9f3a\"],[0.8888888888888888,\"#fdca26\"],[1.0,\"#f0f921\"]],\"type\":\"heatmapgl\"}],\"heatmap\":[{\"colorbar\":{\"outlinewidth\":0,\"ticks\":\"\"},\"colorscale\":[[0.0,\"#0d0887\"],[0.1111111111111111,\"#46039f\"],[0.2222222222222222,\"#7201a8\"],[0.3333333333333333,\"#9c179e\"],[0.4444444444444444,\"#bd3786\"],[0.5555555555555556,\"#d8576b\"],[0.6666666666666666,\"#ed7953\"],[0.7777777777777778,\"#fb9f3a\"],[0.8888888888888888,\"#fdca26\"],[1.0,\"#f0f921\"]],\"type\":\"heatmap\"}],\"histogram2dcontour\":[{\"colorbar\":{\"outlinewidth\":0,\"ticks\":\"\"},\"colorscale\":[[0.0,\"#0d0887\"],[0.1111111111111111,\"#46039f\"],[0.2222222222222222,\"#7201a8\"],[0.3333333333333333,\"#9c179e\"],[0.4444444444444444,\"#bd3786\"],[0.5555555555555556,\"#d8576b\"],[0.6666666666666666,\"#ed7953\"],[0.7777777777777778,\"#fb9f3a\"],[0.8888888888888888,\"#fdca26\"],[1.0,\"#f0f921\"]],\"type\":\"histogram2dcontour\"}],\"histogram2d\":[{\"colorbar\":{\"outlinewidth\":0,\"ticks\":\"\"},\"colorscale\":[[0.0,\"#0d0887\"],[0.1111111111111111,\"#46039f\"],[0.2222222222222222,\"#7201a8\"],[0.3333333333333333,\"#9c179e\"],[0.4444444444444444,\"#bd3786\"],[0.5555555555555556,\"#d8576b\"],[0.6666666666666666,\"#ed7953\"],[0.7777777777777778,\"#fb9f3a\"],[0.8888888888888888,\"#fdca26\"],[1.0,\"#f0f921\"]],\"type\":\"histogram2d\"}],\"histogram\":[{\"marker\":{\"pattern\":{\"fillmode\":\"overlay\",\"size\":10,\"solidity\":0.2}},\"type\":\"histogram\"}],\"mesh3d\":[{\"colorbar\":{\"outlinewidth\":0,\"ticks\":\"\"},\"type\":\"mesh3d\"}],\"parcoords\":[{\"line\":{\"colorbar\":{\"outlinewidth\":0,\"ticks\":\"\"}},\"type\":\"parcoords\"}],\"pie\":[{\"automargin\":true,\"type\":\"pie\"}],\"scatter3d\":[{\"line\":{\"colorbar\":{\"outlinewidth\":0,\"ticks\":\"\"}},\"marker\":{\"colorbar\":{\"outlinewidth\":0,\"ticks\":\"\"}},\"type\":\"scatter3d\"}],\"scattercarpet\":[{\"marker\":{\"colorbar\":{\"outlinewidth\":0,\"ticks\":\"\"}},\"type\":\"scattercarpet\"}],\"scattergeo\":[{\"marker\":{\"colorbar\":{\"outlinewidth\":0,\"ticks\":\"\"}},\"type\":\"scattergeo\"}],\"scattergl\":[{\"marker\":{\"line\":{\"color\":\"#283442\"}},\"type\":\"scattergl\"}],\"scattermapbox\":[{\"marker\":{\"colorbar\":{\"outlinewidth\":0,\"ticks\":\"\"}},\"type\":\"scattermapbox\"}],\"scatterpolargl\":[{\"marker\":{\"colorbar\":{\"outlinewidth\":0,\"ticks\":\"\"}},\"type\":\"scatterpolargl\"}],\"scatterpolar\":[{\"marker\":{\"colorbar\":{\"outlinewidth\":0,\"ticks\":\"\"}},\"type\":\"scatterpolar\"}],\"scatter\":[{\"marker\":{\"line\":{\"color\":\"#283442\"}},\"type\":\"scatter\"}],\"scatterternary\":[{\"marker\":{\"colorbar\":{\"outlinewidth\":0,\"ticks\":\"\"}},\"type\":\"scatterternary\"}],\"surface\":[{\"colorbar\":{\"outlinewidth\":0,\"ticks\":\"\"},\"colorscale\":[[0.0,\"#0d0887\"],[0.1111111111111111,\"#46039f\"],[0.2222222222222222,\"#7201a8\"],[0.3333333333333333,\"#9c179e\"],[0.4444444444444444,\"#bd3786\"],[0.5555555555555556,\"#d8576b\"],[0.6666666666666666,\"#ed7953\"],[0.7777777777777778,\"#fb9f3a\"],[0.8888888888888888,\"#fdca26\"],[1.0,\"#f0f921\"]],\"type\":\"surface\"}],\"table\":[{\"cells\":{\"fill\":{\"color\":\"#506784\"},\"line\":{\"color\":\"rgb(17,17,17)\"}},\"header\":{\"fill\":{\"color\":\"#2a3f5f\"},\"line\":{\"color\":\"rgb(17,17,17)\"}},\"type\":\"table\"}]},\"layout\":{\"annotationdefaults\":{\"arrowcolor\":\"#f2f5fa\",\"arrowhead\":0,\"arrowwidth\":1},\"autotypenumbers\":\"strict\",\"coloraxis\":{\"colorbar\":{\"outlinewidth\":0,\"ticks\":\"\"}},\"colorscale\":{\"diverging\":[[0,\"#8e0152\"],[0.1,\"#c51b7d\"],[0.2,\"#de77ae\"],[0.3,\"#f1b6da\"],[0.4,\"#fde0ef\"],[0.5,\"#f7f7f7\"],[0.6,\"#e6f5d0\"],[0.7,\"#b8e186\"],[0.8,\"#7fbc41\"],[0.9,\"#4d9221\"],[1,\"#276419\"]],\"sequential\":[[0.0,\"#0d0887\"],[0.1111111111111111,\"#46039f\"],[0.2222222222222222,\"#7201a8\"],[0.3333333333333333,\"#9c179e\"],[0.4444444444444444,\"#bd3786\"],[0.5555555555555556,\"#d8576b\"],[0.6666666666666666,\"#ed7953\"],[0.7777777777777778,\"#fb9f3a\"],[0.8888888888888888,\"#fdca26\"],[1.0,\"#f0f921\"]],\"sequentialminus\":[[0.0,\"#0d0887\"],[0.1111111111111111,\"#46039f\"],[0.2222222222222222,\"#7201a8\"],[0.3333333333333333,\"#9c179e\"],[0.4444444444444444,\"#bd3786\"],[0.5555555555555556,\"#d8576b\"],[0.6666666666666666,\"#ed7953\"],[0.7777777777777778,\"#fb9f3a\"],[0.8888888888888888,\"#fdca26\"],[1.0,\"#f0f921\"]]},\"colorway\":[\"#636efa\",\"#EF553B\",\"#00cc96\",\"#ab63fa\",\"#FFA15A\",\"#19d3f3\",\"#FF6692\",\"#B6E880\",\"#FF97FF\",\"#FECB52\"],\"font\":{\"color\":\"#f2f5fa\"},\"geo\":{\"bgcolor\":\"rgb(17,17,17)\",\"lakecolor\":\"rgb(17,17,17)\",\"landcolor\":\"rgb(17,17,17)\",\"showlakes\":true,\"showland\":true,\"subunitcolor\":\"#506784\"},\"hoverlabel\":{\"align\":\"left\"},\"hovermode\":\"closest\",\"mapbox\":{\"style\":\"dark\"},\"paper_bgcolor\":\"rgb(17,17,17)\",\"plot_bgcolor\":\"rgb(17,17,17)\",\"polar\":{\"angularaxis\":{\"gridcolor\":\"#506784\",\"linecolor\":\"#506784\",\"ticks\":\"\"},\"bgcolor\":\"rgb(17,17,17)\",\"radialaxis\":{\"gridcolor\":\"#506784\",\"linecolor\":\"#506784\",\"ticks\":\"\"}},\"scene\":{\"xaxis\":{\"backgroundcolor\":\"rgb(17,17,17)\",\"gridcolor\":\"#506784\",\"gridwidth\":2,\"linecolor\":\"#506784\",\"showbackground\":true,\"ticks\":\"\",\"zerolinecolor\":\"#C8D4E3\"},\"yaxis\":{\"backgroundcolor\":\"rgb(17,17,17)\",\"gridcolor\":\"#506784\",\"gridwidth\":2,\"linecolor\":\"#506784\",\"showbackground\":true,\"ticks\":\"\",\"zerolinecolor\":\"#C8D4E3\"},\"zaxis\":{\"backgroundcolor\":\"rgb(17,17,17)\",\"gridcolor\":\"#506784\",\"gridwidth\":2,\"linecolor\":\"#506784\",\"showbackground\":true,\"ticks\":\"\",\"zerolinecolor\":\"#C8D4E3\"}},\"shapedefaults\":{\"line\":{\"color\":\"#f2f5fa\"}},\"sliderdefaults\":{\"bgcolor\":\"#C8D4E3\",\"bordercolor\":\"rgb(17,17,17)\",\"borderwidth\":1,\"tickwidth\":0},\"ternary\":{\"aaxis\":{\"gridcolor\":\"#506784\",\"linecolor\":\"#506784\",\"ticks\":\"\"},\"baxis\":{\"gridcolor\":\"#506784\",\"linecolor\":\"#506784\",\"ticks\":\"\"},\"bgcolor\":\"rgb(17,17,17)\",\"caxis\":{\"gridcolor\":\"#506784\",\"linecolor\":\"#506784\",\"ticks\":\"\"}},\"title\":{\"x\":0.05},\"updatemenudefaults\":{\"bgcolor\":\"#506784\",\"borderwidth\":0},\"xaxis\":{\"automargin\":true,\"gridcolor\":\"#283442\",\"linecolor\":\"#506784\",\"ticks\":\"\",\"title\":{\"standoff\":15},\"zerolinecolor\":\"#283442\",\"zerolinewidth\":2},\"yaxis\":{\"automargin\":true,\"gridcolor\":\"#283442\",\"linecolor\":\"#506784\",\"ticks\":\"\",\"title\":{\"standoff\":15},\"zerolinecolor\":\"#283442\",\"zerolinewidth\":2}}},\"xaxis\":{\"anchor\":\"y\",\"domain\":[0.0,1.0]},\"yaxis\":{\"anchor\":\"x\",\"domain\":[0.0,1.0]},\"width\":600,\"height\":400},                        {\"responsive\": true}                    ).then(function(){\n",
              "                            \n",
              "var gd = document.getElementById('555390bf-266c-421c-a9fd-21025abef9cf');\n",
              "var x = new MutationObserver(function (mutations, observer) {{\n",
              "        var display = window.getComputedStyle(gd).display;\n",
              "        if (!display || display === 'none') {{\n",
              "            console.log([gd, 'removed!']);\n",
              "            Plotly.purge(gd);\n",
              "            observer.disconnect();\n",
              "        }}\n",
              "}});\n",
              "\n",
              "// Listen for the removal of the full notebook cells\n",
              "var notebookContainer = gd.closest('#notebook-container');\n",
              "if (notebookContainer) {{\n",
              "    x.observe(notebookContainer, {childList: true});\n",
              "}}\n",
              "\n",
              "// Listen for the clearing of the current output cell\n",
              "var outputEl = gd.closest('.output');\n",
              "if (outputEl) {{\n",
              "    x.observe(outputEl, {childList: true});\n",
              "}}\n",
              "\n",
              "                        })                };                            </script>        </div>\n",
              "</body>\n",
              "</html>"
            ]
          },
          "metadata": {}
        }
      ]
    },
    {
      "cell_type": "code",
      "source": [
        "def newton(f, xguess, maxiter=100, tol=1e-10):\n",
        "\n",
        "    fprime = jax.grad(f)\n",
        "    x1=xguess\n",
        "    for i in range(maxiter):\n",
        "        x2 = x1 - f(x1)/fprime(x1)\n",
        "        if jnp.abs(f(x2))<tol:\n",
        "            break\n",
        "        x1 = x2\n",
        "\n",
        "    return x2"
      ],
      "metadata": {
        "id": "zz6v7yxJdHSy"
      },
      "execution_count": 4,
      "outputs": []
    },
    {
      "cell_type": "code",
      "source": [
        "newton(f, 0.)"
      ],
      "metadata": {
        "colab": {
          "base_uri": "https://localhost:8080/"
        },
        "id": "xMVlyyr7eBKQ",
        "outputId": "1e0e4649-1898-4637-9c93-85c310028e54"
      },
      "execution_count": 5,
      "outputs": [
        {
          "output_type": "stream",
          "name": "stderr",
          "text": [
            "WARNING:jax._src.xla_bridge:No GPU/TPU found, falling back to CPU. (Set TF_CPP_MIN_LOG_LEVEL=0 and rerun for more info.)\n"
          ]
        },
        {
          "output_type": "execute_result",
          "data": {
            "text/plain": [
              "Array(0.9, dtype=float64, weak_type=True)"
            ]
          },
          "metadata": {},
          "execution_count": 5
        }
      ]
    },
    {
      "cell_type": "code",
      "source": [
        "@jax.jit\n",
        "def f2(x):\n",
        "    return jnp.array([x[0]  + 0.5 * (x[0] - x[1])**3 - 1.0,\n",
        "            0.5 * (x[1] - x[0])**3 + x[1]])"
      ],
      "metadata": {
        "id": "M57aHq2LetxF"
      },
      "execution_count": 6,
      "outputs": []
    },
    {
      "cell_type": "code",
      "source": [
        "def newton_Nd(f, xguess, maxiter=100, tol=1e-10):\n",
        "\n",
        "    J = jax.jit(jax.jacobian(f))\n",
        "    x1=xguess\n",
        "    for i in range(maxiter):\n",
        "        x2 = x1 - jnp.linalg.inv(J(x1)) @ f(x1)\n",
        "        print(i, f(x2))\n",
        "        if jnp.linalg.norm(f(x2))<tol:\n",
        "            break\n",
        "        x1 = x2\n",
        "\n",
        "    return x2"
      ],
      "metadata": {
        "id": "dPgZZKnnfDtm"
      },
      "execution_count": 7,
      "outputs": []
    },
    {
      "cell_type": "code",
      "source": [
        "guess = jnp.array([0.,0.])\n",
        "newton_Nd(f2, guess)"
      ],
      "metadata": {
        "colab": {
          "base_uri": "https://localhost:8080/"
        },
        "id": "6rLUxn1TiTle",
        "outputId": "1b76f3d4-f893-4814-f140-251abf50ea8f"
      },
      "execution_count": 8,
      "outputs": [
        {
          "output_type": "stream",
          "name": "stdout",
          "text": [
            "0 [ 0.5 -0.5]\n",
            "1 [ 0.0859375 -0.0859375]\n",
            "2 [ 0.00447052 -0.00447052]\n",
            "3 [ 1.41153108e-05 -1.41153108e-05]\n",
            "4 [ 1.41997303e-10 -1.41997386e-10]\n",
            "5 [ 0.00000000e+00 -5.55111512e-17]\n"
          ]
        },
        {
          "output_type": "execute_result",
          "data": {
            "text/plain": [
              "Array([0.8411639, 0.1588361], dtype=float64)"
            ]
          },
          "metadata": {},
          "execution_count": 8
        }
      ]
    },
    {
      "cell_type": "code",
      "source": [
        "def broyden(f, x1, maxiter=100, tol=1e-10):\n",
        "\n",
        "    fval1=f(x1)\n",
        "    fval1_norm = jnp.linalg.norm(fval1)\n",
        "    Jinv = np.eye(x1.size)\n",
        "    for i in range(maxiter):\n",
        "        dx= - Jinv @ fval1\n",
        "        for j in range(10):\n",
        "            x2 = x1 + dx\n",
        "            fval2 = f(x2)\n",
        "            fval2_norm = jnp.linalg.norm(fval2)\n",
        "            if fval2_norm < fval1_norm:\n",
        "                break\n",
        "            dx /=2\n",
        "        print(i, x2, fval2_norm)\n",
        "        if jnp.linalg.norm(fval2)<tol:\n",
        "            break\n",
        "        dx = dx.reshape(-1,1)\n",
        "        df = (fval2 - fval1).reshape(-1,1)\n",
        "        Jinv = Jinv + (dx - Jinv@df) @ dx.T @ Jinv/ (dx.T @ Jinv @ df)\n",
        "        x1 = x2\n",
        "        fval1 = fval2\n",
        "\n",
        "    return x2"
      ],
      "metadata": {
        "id": "FsR_QGfhiFxW"
      },
      "execution_count": 23,
      "outputs": []
    },
    {
      "cell_type": "code",
      "source": [
        "def rosen(v):\n",
        "    x,y = v\n",
        "    return (1-x)**2 + 100.*(y-x**2)**2"
      ],
      "metadata": {
        "id": "ylOrgT3tAmXF"
      },
      "execution_count": 24,
      "outputs": []
    },
    {
      "cell_type": "code",
      "source": [
        "def constraint(v):\n",
        "    x,y = v\n",
        "    return (x-1.)**2 + (y-1.)**2 - 0.5**2"
      ],
      "metadata": {
        "id": "RrNIvh85O8fv"
      },
      "execution_count": 25,
      "outputs": []
    },
    {
      "cell_type": "code",
      "source": [
        "xguess = jnp.array([0.,0.])\n",
        "res=minimize(rosen, xguess, constraints=dict(type='eq', fun=constraint))\n",
        "res"
      ],
      "metadata": {
        "colab": {
          "base_uri": "https://localhost:8080/"
        },
        "id": "9eLsfPzcPOMp",
        "outputId": "2cee1c8b-d6af-46e0-b029-3f64f2ca6325"
      },
      "execution_count": 26,
      "outputs": [
        {
          "output_type": "execute_result",
          "data": {
            "text/plain": [
              " message: Optimization terminated successfully\n",
              " success: True\n",
              "  status: 0\n",
              "     fun: 0.06128195914165823\n",
              "       x: [ 7.528e-01  5.654e-01]\n",
              "     nit: 10\n",
              "     jac: [-1.197e-01 -2.489e-01]\n",
              "    nfev: 35\n",
              "    njev: 10"
            ]
          },
          "metadata": {},
          "execution_count": 26
        }
      ]
    },
    {
      "cell_type": "code",
      "source": [
        "constraint(res.x)"
      ],
      "metadata": {
        "id": "jNmxLS5uPscV",
        "outputId": "1ff40346-e851-4790-ae78-f978be2d0eea",
        "colab": {
          "base_uri": "https://localhost:8080/"
        }
      },
      "execution_count": 27,
      "outputs": [
        {
          "output_type": "execute_result",
          "data": {
            "text/plain": [
              "1.0398111749410077e-07"
            ]
          },
          "metadata": {},
          "execution_count": 27
        }
      ]
    },
    {
      "cell_type": "code",
      "source": [
        "rosen_jac = jax.jacobian(rosen)"
      ],
      "metadata": {
        "id": "kKitnyKCJH5u"
      },
      "execution_count": 28,
      "outputs": []
    },
    {
      "cell_type": "code",
      "source": [
        "broyden(rosen_jac, xguess)"
      ],
      "metadata": {
        "id": "vCbDFWwOJfnC"
      },
      "execution_count": null,
      "outputs": []
    },
    {
      "cell_type": "code",
      "source": [
        "#Lagrangian of Rosenbrock Function with a Constraint on Circle centered at 1,1 radius 0.5\n",
        "def lagrange(v):\n",
        "    L = v[-1]\n",
        "    return rosen(v[:2]) + L*constraint(v[:2])"
      ],
      "metadata": {
        "id": "QHlYEwfVKZ-Z"
      },
      "execution_count": 30,
      "outputs": []
    },
    {
      "cell_type": "code",
      "source": [
        "lagrange_jac = jax.jacobian(lagrange)"
      ],
      "metadata": {
        "id": "onxLedbFdhd0"
      },
      "execution_count": 31,
      "outputs": []
    },
    {
      "cell_type": "code",
      "source": [
        "jnp.r_[xguess, 1.]"
      ],
      "metadata": {
        "colab": {
          "base_uri": "https://localhost:8080/"
        },
        "id": "uO_9gUq4dxdS",
        "outputId": "28e29225-ed37-4780-945c-8218aee782c9"
      },
      "execution_count": 32,
      "outputs": [
        {
          "output_type": "execute_result",
          "data": {
            "text/plain": [
              "Array([0., 0., 1.], dtype=float64)"
            ]
          },
          "metadata": {},
          "execution_count": 32
        }
      ]
    },
    {
      "cell_type": "code",
      "source": [
        "broyden(lagrange_jac, jnp.r_[xguess, 1.])"
      ],
      "metadata": {
        "id": "Ub-nT6AOdoZu"
      },
      "execution_count": null,
      "outputs": []
    },
    {
      "cell_type": "code",
      "source": [
        "#parabolic inequality constraint\n",
        "def parabola_constraint(v):\n",
        "    x,y,s = v\n",
        "    return y-x**2 - s**2"
      ],
      "metadata": {
        "id": "lgYrqwyDd3g5"
      },
      "execution_count": 37,
      "outputs": []
    },
    {
      "cell_type": "code",
      "source": [
        "#Lagrangian of Rosenbrock Function with a Constraint on Circle centered at 1,1 radius 0.5\n",
        "# and an inequality constraint y > x**2\n",
        "def lagrange2(v):\n",
        "    L1, L2 = v[-2:]\n",
        "    return rosen(v[:2]) + L1*constraint(v[:2]) + L2*parabola_constraint(v[:3])"
      ],
      "metadata": {
        "id": "Ch4qjGbcfYEs"
      },
      "execution_count": 38,
      "outputs": []
    },
    {
      "cell_type": "code",
      "source": [
        "lagrange2_jac = jax.jacobian(lagrange2)"
      ],
      "metadata": {
        "id": "qeThu6QVfZtL"
      },
      "execution_count": 39,
      "outputs": []
    },
    {
      "cell_type": "code",
      "source": [
        "broyden(lagrange2_jac, jnp.r_[xguess, 0.1, 1.,1.])"
      ],
      "metadata": {
        "colab": {
          "base_uri": "https://localhost:8080/"
        },
        "id": "Sa-KnKSqgWYB",
        "outputId": "0441f531-9758-4411-b5bf-e2c64f3b647e"
      },
      "execution_count": 40,
      "outputs": [
        {
          "output_type": "stream",
          "name": "stdout",
          "text": [
            "0 [0.25     0.0625   0.1125   0.890625 1.000625] 3.6123150061440215\n",
            "1 [0.26288025 0.05918255 0.11545834 0.89563156 1.00082843] 3.7085345366763853\n",
            "2 [0.26477779 0.06945628 0.11685641 0.89679417 1.00097888] 3.54875801763982\n",
            "3 [0.24815104 0.05166616 0.08897419 0.82796663 0.99798483] 3.6253000468789076\n",
            "4 [0.27523805 0.06013933 0.00908654 0.71826703 0.98985882] 3.90013204249985\n",
            "5 [ 0.31016713  0.07780855 -0.04969049  0.70178862  0.98736541] 4.185305955543495\n",
            "6 [ 0.32768285  0.08841656 -0.07783315  0.72348621  0.99065589] 4.277865846119309\n",
            "7 [ 0.3262072   0.08630204 -0.06637135  0.7007806   0.98673464] 4.45189301563122\n",
            "8 [ 0.32733326  0.08686143 -0.06544423  0.69904145  0.98654875] 4.479450059307884\n",
            "9 [ 0.32797418  0.08723989 -0.06518355  0.69890056  0.98660472] 4.485617854573112\n",
            "10 [ 0.35202848  0.10382335 -0.06095285  0.72057239  0.9938417 ] 4.428921986963451\n",
            "11 [ 0.37602063  0.12135101 -0.05635568  0.74577158  1.00147452] 4.4145943686548375\n",
            "12 [ 0.39829508  0.13891477 -0.05195915  0.77279979  1.00897041] 4.357452607994946\n",
            "13 [ 0.43841977  0.1729595  -0.04424626  0.8243346   1.02234991] 4.28084662791131\n",
            "14 [ 0.4733663   0.20522386 -0.03772791  0.87179856  1.03393964] 4.2209692035567965\n",
            "15 [ 0.53449356  0.26707004 -0.02677582  0.95905157  1.05414102] 4.232744062355598\n",
            "16 [ 0.58311977  0.32268962 -0.01829005  1.03919474  1.07172117] 3.976735245580638\n",
            "17 [ 0.65040742  0.40833871 -0.00865332  1.14112372  1.09350959] 3.3275908983294515\n",
            "18 [ 0.71647337  0.50356731 -0.00274633  1.19621661  1.10546944] 2.0372770152370245\n",
            "19 [ 0.71173707  0.49993054 -0.00578246  1.12804585  1.09187595] 1.6315395709419882\n",
            "20 [7.37020286e-01 5.46257105e-01 3.29870342e-04 1.32196606e+00\n",
            " 1.13062407e+00] 3.8281618164412863\n",
            "21 [ 0.72578518  0.52225098 -0.00481544  0.97839577  1.06287428] 1.529416887231577\n",
            "22 [ 0.73525467  0.5366976  -0.00407193  0.66514771  1.00306137] 1.272122925590376\n",
            "23 [ 7.65986388e-01  5.79586336e-01 -2.89226854e-04 -8.15177392e-01\n",
            "  7.27853288e-01] 0.989139512822438\n",
            "24 [ 7.53590330e-01  5.63606098e-01 -6.60855766e-04 -2.04286195e-01\n",
            "  8.46330821e-01] 0.4091574419525438\n",
            "25 [ 7.55362351e-01  5.65371398e-01 -1.40099867e-04 -3.40183764e-01\n",
            "  8.25489043e-01] 0.0812100999458776\n",
            "26 [ 7.54813935e-01  5.64327510e-01 -2.86513425e-07 -3.19041875e-01\n",
            "  8.34232824e-01] 0.05135645395641852\n",
            "27 [ 7.56187490e-01  5.66226256e-01 -1.75381228e-04 -4.30297813e-01\n",
            "  7.94528326e-01] 0.2181010800443695\n",
            "28 [ 7.54386485e-01  5.63749453e-01  1.24693003e-04 -2.77717694e-01\n",
            "  8.54890877e-01] 0.04121081782192632\n",
            "29 [ 7.54461304e-01  5.63833781e-01  1.50043707e-04 -2.81567668e-01\n",
            "  8.59400111e-01] 0.039987576448027924\n",
            "30 [ 7.54628195e-01  5.63903521e-01  2.40707406e-04 -2.86826558e-01\n",
            "  8.93144037e-01] 0.037338422801352536\n",
            "31 [ 7.54874664e-01  5.63690372e-01  3.41672201e-04 -2.82670798e-01\n",
            "  1.01789524e+00] 0.04874252428767075\n",
            "32 [ 7.53978113e-01  5.64099783e-01  1.38575535e-04 -2.77853188e-01\n",
            "  6.57323558e-01] 0.03391144014424149\n",
            "33 [ 7.51379215e-01  5.65796664e-01 -8.30500522e-05 -2.67466237e-01\n",
            " -4.93399676e-01] 0.018233257833187563\n",
            "34 [ 7.51930586e-01  5.65715861e-01 -8.77286305e-05 -2.70448264e-01\n",
            " -3.05441904e-01] 0.007639346258633351\n",
            "35 [ 7.51973367e-01  5.65819184e-01 -1.11985951e-04 -2.71746159e-01\n",
            " -3.10012184e-01] 0.003541942607985059\n",
            "36 [ 7.51983135e-01  5.65808992e-01 -1.09052944e-04 -2.71617930e-01\n",
            " -3.04692146e-01] 0.0036837543501085884\n",
            "37 [ 7.51966945e-01  5.65910460e-01 -1.60055180e-04 -2.74170798e-01\n",
            " -3.32160442e-01] 0.003714354009479216\n",
            "38 [ 7.51999537e-01  5.65896452e-01 -1.72902086e-04 -2.74632040e-01\n",
            " -3.19498531e-01] 0.003499919331959563\n",
            "39 [ 7.51683834e-01  5.66161893e-01 -6.45132703e-05 -2.73872977e-01\n",
            " -4.70917015e-01] 0.009410867029941655\n",
            "40 [ 7.52172822e-01  5.65750933e-01 -2.75047575e-04 -2.74986772e-01\n",
            " -2.36576389e-01] 0.000591123851142224\n",
            "41 [ 7.52179032e-01  5.65744622e-01 -3.18525066e-04 -2.74873936e-01\n",
            " -2.33109412e-01] 0.00021191748963847316\n",
            "42 [ 7.52173810e-01  5.65749960e-01 -3.25757969e-04 -2.74889107e-01\n",
            " -2.35848499e-01] 0.00026086827089140554\n",
            "43 [ 7.52166155e-01  5.65760344e-01 -3.89028156e-04 -2.74932592e-01\n",
            " -2.40515048e-01] 0.0006972987821601543\n",
            "44 [ 7.52169563e-01  5.65758437e-01 -4.24925104e-04 -2.74906338e-01\n",
            " -2.39082433e-01] 0.0006679836190395521\n",
            "45 [ 7.52171883e-01  5.65759443e-01 -5.01581615e-04 -2.74872651e-01\n",
            " -2.38625376e-01] 0.0007582849993622207\n",
            "46 [ 7.52173099e-01  5.65761277e-01 -5.68761801e-04 -2.74848682e-01\n",
            " -2.38677884e-01] 0.0008630739256122933\n",
            "47 [ 0.75211035  0.56567174  0.00273958 -0.27599322 -0.23714286] 0.00424680418063772\n",
            "48 [ 0.75220893  0.56580841 -0.0023568  -0.2742451  -0.23869081] 0.0036474349276052597\n",
            "49 [ 0.75232734  0.56596024 -0.00821082 -0.27221697 -0.2376811 ] 0.012399539285811327\n",
            "50 [ 0.75220186  0.56579636 -0.00195172 -0.27436135 -0.23802618] 0.002900530741855659\n",
            "51 [ 7.52165034e-01  5.65747514e-01 -5.32465201e-05 -2.75061041e-01\n",
            " -2.38153967e-01] 0.00041025373155848086\n",
            "52 [ 0.75218743  0.56577571 -0.00119572 -0.27460409 -0.23761346] 0.0016528090220953749\n",
            "53 [ 7.52175598e-01  5.65760070e-01 -5.95994995e-04 -2.74811943e-01\n",
            " -2.37613981e-01] 0.0007653934006324001\n",
            "54 [ 0.75213495  0.56570895  0.00140643 -0.27551148 -0.23820331] 0.0021677763962029387\n",
            "55 [ 0.75213769  0.56571492  0.00119994 -0.27543178 -0.23866947] 0.0019472521925940935\n",
            "56 [ 0.75220923  0.56578372 -0.00180963 -0.27429921 -0.23284305] 0.002186825000259084\n",
            "57 [ 0.75213624  0.56565721  0.00251562 -0.27551822 -0.22531268] 0.00604747678312085\n",
            "58 [ 7.52155549e-01  5.65725122e-01  5.84579171e-04 -2.75139353e-01\n",
            " -2.35455629e-01] 0.001585938722096899\n",
            "59 [ 7.52161281e-01  5.65749207e-01 -7.93346747e-05 -2.75044176e-01\n",
            " -2.39458648e-01] 0.00011580929215669646\n",
            "60 [ 7.52160839e-01  5.65747068e-01 -9.55656712e-06 -2.75065088e-01\n",
            " -2.39188337e-01] 0.0001530213485070668\n",
            "61 [ 7.52160153e-01  5.65748159e-01 -2.15580180e-05 -2.75083297e-01\n",
            " -2.39682219e-01] 0.0002772770758407627\n",
            "62 [ 7.52161490e-01  5.65745542e-01  1.57833973e-05 -2.75040227e-01\n",
            " -2.38579225e-01] 4.2114316156252034e-05\n",
            "63 [ 7.52161435e-01  5.65745975e-01  8.49607828e-06 -2.75039646e-01\n",
            " -2.38692058e-01] 2.466345834864879e-05\n",
            "64 [ 7.52161267e-01  5.65746684e-01 -6.25166381e-07 -2.75040572e-01\n",
            " -2.38898694e-01] 1.750896922825031e-06\n",
            "65 [ 7.52161286e-01  5.65746712e-01 -1.25364915e-06 -2.75040855e-01\n",
            " -2.38899014e-01] 2.689355843907701e-06\n",
            "66 [ 7.52161287e-01  5.65746707e-01 -1.16848587e-06 -2.75040898e-01\n",
            " -2.38897594e-01] 2.5240932882559805e-06\n",
            "67 [ 7.52161325e-01  5.65746593e-01  6.70537918e-07 -2.75041675e-01\n",
            " -2.38861135e-01] 1.6202819433452845e-06\n",
            "68 [ 7.52161307e-01  5.65746645e-01 -1.37795284e-07 -2.75041380e-01\n",
            " -2.38878236e-01] 3.3114735998932225e-07\n",
            "69 [ 7.52161310e-01  5.65746636e-01 -1.74266997e-10 -2.75041430e-01\n",
            " -2.38875336e-01] 1.0384327550444497e-09\n",
            "70 [ 7.52161310e-01  5.65746636e-01  7.76480443e-10 -2.75041430e-01\n",
            " -2.38875316e-01] 1.8013835669509192e-09\n",
            "71 [ 7.52161310e-01  5.65746636e-01  3.74488753e-10 -2.75041429e-01\n",
            " -2.38875324e-01] 8.686873408381551e-10\n",
            "72 [ 7.52161310e-01  5.65746636e-01 -9.38500726e-13 -2.75041429e-01\n",
            " -2.38875332e-01] 1.947430650212833e-12\n"
          ]
        },
        {
          "output_type": "execute_result",
          "data": {
            "text/plain": [
              "Array([ 7.52161310e-01,  5.65746636e-01, -9.38500726e-13, -2.75041429e-01,\n",
              "       -2.38875332e-01], dtype=float64)"
            ]
          },
          "metadata": {},
          "execution_count": 40
        }
      ]
    },
    {
      "cell_type": "code",
      "source": [
        "(7.52161310e-01)**2"
      ],
      "metadata": {
        "colab": {
          "base_uri": "https://localhost:8080/"
        },
        "id": "8BHuBorZgcoy",
        "outputId": "29f21d84-a9c3-4d3f-ef23-fc7fb14ce9a1"
      },
      "execution_count": 41,
      "outputs": [
        {
          "output_type": "execute_result",
          "data": {
            "text/plain": [
              "0.565746636260916"
            ]
          },
          "metadata": {},
          "execution_count": 41
        }
      ]
    },
    {
      "cell_type": "code",
      "source": [],
      "metadata": {
        "id": "8KJ9806jglZh"
      },
      "execution_count": null,
      "outputs": []
    }
  ]
}