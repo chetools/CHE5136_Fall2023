{
  "nbformat": 4,
  "nbformat_minor": 0,
  "metadata": {
    "colab": {
      "provenance": [],
      "authorship_tag": "ABX9TyMwlaPQ2g8afxEo0kmx3C77",
      "include_colab_link": true
    },
    "kernelspec": {
      "name": "python3",
      "display_name": "Python 3"
    },
    "language_info": {
      "name": "python"
    }
  },
  "cells": [
    {
      "cell_type": "markdown",
      "metadata": {
        "id": "view-in-github",
        "colab_type": "text"
      },
      "source": [
        "<a href=\"https://colab.research.google.com/github/profteachkids/CHE5136_Fall2023/blob/main/Broyden.ipynb\" target=\"_parent\"><img src=\"https://colab.research.google.com/assets/colab-badge.svg\" alt=\"Open In Colab\"/></a>"
      ]
    },
    {
      "cell_type": "code",
      "execution_count": 58,
      "metadata": {
        "id": "mahIDDopWC45"
      },
      "outputs": [],
      "source": [
        "import numpy as np\n",
        "import jax\n",
        "jax.config.update('jax_enable_x64',True)\n",
        "import jax.numpy as jnp\n",
        "from plotly.subplots import make_subplots\n",
        "from scipy.optimize import minimize"
      ]
    },
    {
      "cell_type": "code",
      "source": [
        "def f(x):\n",
        "    return 0.3*(x-0.9)*(x-0.3)*(x+0.5)*(x+0.8)"
      ],
      "metadata": {
        "id": "BjfNBm7fclWl"
      },
      "execution_count": 2,
      "outputs": []
    },
    {
      "cell_type": "code",
      "source": [
        "xplot = np.linspace(-1,1,100)\n",
        "fig=make_subplots()\n",
        "fig.add_scatter(x=xplot, y=f(xplot), mode='lines')\n",
        "fig.update_layout(width=600, height=400, template='plotly_dark')"
      ],
      "metadata": {
        "colab": {
          "base_uri": "https://localhost:8080/",
          "height": 417
        },
        "id": "QMFv2e-Icx3Q",
        "outputId": "f84ff22a-93f9-41a2-d716-5a554da2746d"
      },
      "execution_count": 3,
      "outputs": [
        {
          "output_type": "display_data",
          "data": {
            "text/html": [
              "<html>\n",
              "<head><meta charset=\"utf-8\" /></head>\n",
              "<body>\n",
              "    <div>            <script src=\"https://cdnjs.cloudflare.com/ajax/libs/mathjax/2.7.5/MathJax.js?config=TeX-AMS-MML_SVG\"></script><script type=\"text/javascript\">if (window.MathJax && window.MathJax.Hub && window.MathJax.Hub.Config) {window.MathJax.Hub.Config({SVG: {font: \"STIX-Web\"}});}</script>                <script type=\"text/javascript\">window.PlotlyConfig = {MathJaxConfig: 'local'};</script>\n",
              "        <script charset=\"utf-8\" src=\"https://cdn.plot.ly/plotly-2.24.1.min.js\"></script>                <div id=\"84e70f43-7d17-4df2-9b65-f50251e3381d\" class=\"plotly-graph-div\" style=\"height:400px; width:600px;\"></div>            <script type=\"text/javascript\">                                    window.PLOTLYENV=window.PLOTLYENV || {};                                    if (document.getElementById(\"84e70f43-7d17-4df2-9b65-f50251e3381d\")) {                    Plotly.newPlot(                        \"84e70f43-7d17-4df2-9b65-f50251e3381d\",                        [{\"mode\":\"lines\",\"x\":[-1.0,-0.9797979797979798,-0.9595959595959596,-0.9393939393939394,-0.9191919191919192,-0.898989898989899,-0.8787878787878788,-0.8585858585858586,-0.8383838383838383,-0.8181818181818181,-0.797979797979798,-0.7777777777777778,-0.7575757575757576,-0.7373737373737373,-0.7171717171717171,-0.696969696969697,-0.6767676767676767,-0.6565656565656566,-0.6363636363636364,-0.6161616161616161,-0.5959595959595959,-0.5757575757575757,-0.5555555555555556,-0.5353535353535352,-0.5151515151515151,-0.4949494949494949,-0.4747474747474747,-0.4545454545454545,-0.43434343434343425,-0.41414141414141414,-0.3939393939393939,-0.3737373737373737,-0.3535353535353535,-0.33333333333333326,-0.31313131313131304,-0.2929292929292928,-0.2727272727272727,-0.2525252525252525,-0.23232323232323226,-0.21212121212121204,-0.19191919191919182,-0.1717171717171716,-0.1515151515151515,-0.13131313131313127,-0.11111111111111105,-0.09090909090909083,-0.07070707070707061,-0.050505050505050386,-0.030303030303030276,-0.010101010101010055,0.010101010101010166,0.030303030303030498,0.05050505050505061,0.07070707070707072,0.09090909090909105,0.11111111111111116,0.1313131313131315,0.1515151515151516,0.1717171717171717,0.19191919191919204,0.21212121212121215,0.2323232323232325,0.2525252525252526,0.27272727272727293,0.29292929292929304,0.31313131313131315,0.3333333333333335,0.3535353535353536,0.3737373737373739,0.39393939393939403,0.41414141414141437,0.4343434343434345,0.4545454545454546,0.4747474747474749,0.49494949494949503,0.5151515151515154,0.5353535353535355,0.5555555555555556,0.5757575757575759,0.595959595959596,0.6161616161616164,0.6363636363636365,0.6565656565656568,0.6767676767676769,0.696969696969697,0.7171717171717173,0.7373737373737375,0.7575757575757578,0.7777777777777779,0.7979797979797982,0.8181818181818183,0.8383838383838385,0.8585858585858588,0.8787878787878789,0.8989898989898992,0.9191919191919193,0.9393939393939394,0.9595959595959598,0.9797979797979799,1.0],\"y\":[0.07409999999999999,0.06226114113778172,0.05154294177111975,0.04188932171704524,0.03324540004803892,0.02555749509203145,0.018773124432403154,0.01284100490798414,0.007711052613054245,0.003334382897343058,-0.00033668963397006214,-0.003348651120256063,-0.0057467884454360865,-0.0075751892379815385,-0.008876741870914086,-0.009693135461805637,-0.010064859872778366,-0.01003120571050467,-0.009630264326207227,-0.00889892781565895,-0.007872889019182995,-0.0065866415216527885,-0.005073479652492001,-0.003365498485674526,-0.0014935938397245673,0.0005125377222834844,0.0026243988927249504,0.00481469161942491,0.007057317105658195,0.00932737581014937,0.011601167447072782,0.01385619098605251,0.016071144652162365,0.018225925925925934,0.020301631543316538,0.022280557495757254,0.024146199030120902,0.02588325064873006,0.027477606109357053,0.028916358425223943,0.030187799865002574,0.03128142195281449,0.03218791546823102,0.032899170446273246,0.03340827617741198,0.03370952120756779,0.033798393338110994,0.033671579625861654,0.033326966383089594,0.03276363917751438,0.03198188283230533,0.03098318142608149,0.029770218292911706,0.028346876022314522,0.026718236459258235,0.024890580704160944,0.02287138911289042,0.020669341296764274,0.01829431612254979,0.015757391712463997,0.013070845444173763,0.010248153950795586,0.007303993120895836,0.004254238098490508,0.0011159632830454729,-0.0020925576705237456,-0.005351851851851878,-0.008641247095123797,-0.011938871979074775,-0.01522165582699018,-0.018465328706705784,-0.021644421430607467,-0.02473226555563146,-0.027700993383264236,-0.03052153795954244,-0.03316363307505309,-0.035595813264933315,-0.037785413808870606,-0.03969857073110268,-0.041300220800417446,-0.042554101530153154,-0.04342275117819822,-0.043867508746991364,-0.04384851398352154,-0.04332470737932797,-0.04225383017050008,-0.04059242433767761,-0.03829583260605046,-0.035318198445358925,-0.03161246606989338,-0.0271303804384946,-0.02182248725455354,-0.015638132966011322,-0.00852546476535955,-0.00043143058963977153,0.008698220879555869,0.018918940216085235,0.03028737724925601,0.0428613810638252,0.056699999999999987],\"type\":\"scatter\"}],                        {\"template\":{\"data\":{\"barpolar\":[{\"marker\":{\"line\":{\"color\":\"rgb(17,17,17)\",\"width\":0.5},\"pattern\":{\"fillmode\":\"overlay\",\"size\":10,\"solidity\":0.2}},\"type\":\"barpolar\"}],\"bar\":[{\"error_x\":{\"color\":\"#f2f5fa\"},\"error_y\":{\"color\":\"#f2f5fa\"},\"marker\":{\"line\":{\"color\":\"rgb(17,17,17)\",\"width\":0.5},\"pattern\":{\"fillmode\":\"overlay\",\"size\":10,\"solidity\":0.2}},\"type\":\"bar\"}],\"carpet\":[{\"aaxis\":{\"endlinecolor\":\"#A2B1C6\",\"gridcolor\":\"#506784\",\"linecolor\":\"#506784\",\"minorgridcolor\":\"#506784\",\"startlinecolor\":\"#A2B1C6\"},\"baxis\":{\"endlinecolor\":\"#A2B1C6\",\"gridcolor\":\"#506784\",\"linecolor\":\"#506784\",\"minorgridcolor\":\"#506784\",\"startlinecolor\":\"#A2B1C6\"},\"type\":\"carpet\"}],\"choropleth\":[{\"colorbar\":{\"outlinewidth\":0,\"ticks\":\"\"},\"type\":\"choropleth\"}],\"contourcarpet\":[{\"colorbar\":{\"outlinewidth\":0,\"ticks\":\"\"},\"type\":\"contourcarpet\"}],\"contour\":[{\"colorbar\":{\"outlinewidth\":0,\"ticks\":\"\"},\"colorscale\":[[0.0,\"#0d0887\"],[0.1111111111111111,\"#46039f\"],[0.2222222222222222,\"#7201a8\"],[0.3333333333333333,\"#9c179e\"],[0.4444444444444444,\"#bd3786\"],[0.5555555555555556,\"#d8576b\"],[0.6666666666666666,\"#ed7953\"],[0.7777777777777778,\"#fb9f3a\"],[0.8888888888888888,\"#fdca26\"],[1.0,\"#f0f921\"]],\"type\":\"contour\"}],\"heatmapgl\":[{\"colorbar\":{\"outlinewidth\":0,\"ticks\":\"\"},\"colorscale\":[[0.0,\"#0d0887\"],[0.1111111111111111,\"#46039f\"],[0.2222222222222222,\"#7201a8\"],[0.3333333333333333,\"#9c179e\"],[0.4444444444444444,\"#bd3786\"],[0.5555555555555556,\"#d8576b\"],[0.6666666666666666,\"#ed7953\"],[0.7777777777777778,\"#fb9f3a\"],[0.8888888888888888,\"#fdca26\"],[1.0,\"#f0f921\"]],\"type\":\"heatmapgl\"}],\"heatmap\":[{\"colorbar\":{\"outlinewidth\":0,\"ticks\":\"\"},\"colorscale\":[[0.0,\"#0d0887\"],[0.1111111111111111,\"#46039f\"],[0.2222222222222222,\"#7201a8\"],[0.3333333333333333,\"#9c179e\"],[0.4444444444444444,\"#bd3786\"],[0.5555555555555556,\"#d8576b\"],[0.6666666666666666,\"#ed7953\"],[0.7777777777777778,\"#fb9f3a\"],[0.8888888888888888,\"#fdca26\"],[1.0,\"#f0f921\"]],\"type\":\"heatmap\"}],\"histogram2dcontour\":[{\"colorbar\":{\"outlinewidth\":0,\"ticks\":\"\"},\"colorscale\":[[0.0,\"#0d0887\"],[0.1111111111111111,\"#46039f\"],[0.2222222222222222,\"#7201a8\"],[0.3333333333333333,\"#9c179e\"],[0.4444444444444444,\"#bd3786\"],[0.5555555555555556,\"#d8576b\"],[0.6666666666666666,\"#ed7953\"],[0.7777777777777778,\"#fb9f3a\"],[0.8888888888888888,\"#fdca26\"],[1.0,\"#f0f921\"]],\"type\":\"histogram2dcontour\"}],\"histogram2d\":[{\"colorbar\":{\"outlinewidth\":0,\"ticks\":\"\"},\"colorscale\":[[0.0,\"#0d0887\"],[0.1111111111111111,\"#46039f\"],[0.2222222222222222,\"#7201a8\"],[0.3333333333333333,\"#9c179e\"],[0.4444444444444444,\"#bd3786\"],[0.5555555555555556,\"#d8576b\"],[0.6666666666666666,\"#ed7953\"],[0.7777777777777778,\"#fb9f3a\"],[0.8888888888888888,\"#fdca26\"],[1.0,\"#f0f921\"]],\"type\":\"histogram2d\"}],\"histogram\":[{\"marker\":{\"pattern\":{\"fillmode\":\"overlay\",\"size\":10,\"solidity\":0.2}},\"type\":\"histogram\"}],\"mesh3d\":[{\"colorbar\":{\"outlinewidth\":0,\"ticks\":\"\"},\"type\":\"mesh3d\"}],\"parcoords\":[{\"line\":{\"colorbar\":{\"outlinewidth\":0,\"ticks\":\"\"}},\"type\":\"parcoords\"}],\"pie\":[{\"automargin\":true,\"type\":\"pie\"}],\"scatter3d\":[{\"line\":{\"colorbar\":{\"outlinewidth\":0,\"ticks\":\"\"}},\"marker\":{\"colorbar\":{\"outlinewidth\":0,\"ticks\":\"\"}},\"type\":\"scatter3d\"}],\"scattercarpet\":[{\"marker\":{\"colorbar\":{\"outlinewidth\":0,\"ticks\":\"\"}},\"type\":\"scattercarpet\"}],\"scattergeo\":[{\"marker\":{\"colorbar\":{\"outlinewidth\":0,\"ticks\":\"\"}},\"type\":\"scattergeo\"}],\"scattergl\":[{\"marker\":{\"line\":{\"color\":\"#283442\"}},\"type\":\"scattergl\"}],\"scattermapbox\":[{\"marker\":{\"colorbar\":{\"outlinewidth\":0,\"ticks\":\"\"}},\"type\":\"scattermapbox\"}],\"scatterpolargl\":[{\"marker\":{\"colorbar\":{\"outlinewidth\":0,\"ticks\":\"\"}},\"type\":\"scatterpolargl\"}],\"scatterpolar\":[{\"marker\":{\"colorbar\":{\"outlinewidth\":0,\"ticks\":\"\"}},\"type\":\"scatterpolar\"}],\"scatter\":[{\"marker\":{\"line\":{\"color\":\"#283442\"}},\"type\":\"scatter\"}],\"scatterternary\":[{\"marker\":{\"colorbar\":{\"outlinewidth\":0,\"ticks\":\"\"}},\"type\":\"scatterternary\"}],\"surface\":[{\"colorbar\":{\"outlinewidth\":0,\"ticks\":\"\"},\"colorscale\":[[0.0,\"#0d0887\"],[0.1111111111111111,\"#46039f\"],[0.2222222222222222,\"#7201a8\"],[0.3333333333333333,\"#9c179e\"],[0.4444444444444444,\"#bd3786\"],[0.5555555555555556,\"#d8576b\"],[0.6666666666666666,\"#ed7953\"],[0.7777777777777778,\"#fb9f3a\"],[0.8888888888888888,\"#fdca26\"],[1.0,\"#f0f921\"]],\"type\":\"surface\"}],\"table\":[{\"cells\":{\"fill\":{\"color\":\"#506784\"},\"line\":{\"color\":\"rgb(17,17,17)\"}},\"header\":{\"fill\":{\"color\":\"#2a3f5f\"},\"line\":{\"color\":\"rgb(17,17,17)\"}},\"type\":\"table\"}]},\"layout\":{\"annotationdefaults\":{\"arrowcolor\":\"#f2f5fa\",\"arrowhead\":0,\"arrowwidth\":1},\"autotypenumbers\":\"strict\",\"coloraxis\":{\"colorbar\":{\"outlinewidth\":0,\"ticks\":\"\"}},\"colorscale\":{\"diverging\":[[0,\"#8e0152\"],[0.1,\"#c51b7d\"],[0.2,\"#de77ae\"],[0.3,\"#f1b6da\"],[0.4,\"#fde0ef\"],[0.5,\"#f7f7f7\"],[0.6,\"#e6f5d0\"],[0.7,\"#b8e186\"],[0.8,\"#7fbc41\"],[0.9,\"#4d9221\"],[1,\"#276419\"]],\"sequential\":[[0.0,\"#0d0887\"],[0.1111111111111111,\"#46039f\"],[0.2222222222222222,\"#7201a8\"],[0.3333333333333333,\"#9c179e\"],[0.4444444444444444,\"#bd3786\"],[0.5555555555555556,\"#d8576b\"],[0.6666666666666666,\"#ed7953\"],[0.7777777777777778,\"#fb9f3a\"],[0.8888888888888888,\"#fdca26\"],[1.0,\"#f0f921\"]],\"sequentialminus\":[[0.0,\"#0d0887\"],[0.1111111111111111,\"#46039f\"],[0.2222222222222222,\"#7201a8\"],[0.3333333333333333,\"#9c179e\"],[0.4444444444444444,\"#bd3786\"],[0.5555555555555556,\"#d8576b\"],[0.6666666666666666,\"#ed7953\"],[0.7777777777777778,\"#fb9f3a\"],[0.8888888888888888,\"#fdca26\"],[1.0,\"#f0f921\"]]},\"colorway\":[\"#636efa\",\"#EF553B\",\"#00cc96\",\"#ab63fa\",\"#FFA15A\",\"#19d3f3\",\"#FF6692\",\"#B6E880\",\"#FF97FF\",\"#FECB52\"],\"font\":{\"color\":\"#f2f5fa\"},\"geo\":{\"bgcolor\":\"rgb(17,17,17)\",\"lakecolor\":\"rgb(17,17,17)\",\"landcolor\":\"rgb(17,17,17)\",\"showlakes\":true,\"showland\":true,\"subunitcolor\":\"#506784\"},\"hoverlabel\":{\"align\":\"left\"},\"hovermode\":\"closest\",\"mapbox\":{\"style\":\"dark\"},\"paper_bgcolor\":\"rgb(17,17,17)\",\"plot_bgcolor\":\"rgb(17,17,17)\",\"polar\":{\"angularaxis\":{\"gridcolor\":\"#506784\",\"linecolor\":\"#506784\",\"ticks\":\"\"},\"bgcolor\":\"rgb(17,17,17)\",\"radialaxis\":{\"gridcolor\":\"#506784\",\"linecolor\":\"#506784\",\"ticks\":\"\"}},\"scene\":{\"xaxis\":{\"backgroundcolor\":\"rgb(17,17,17)\",\"gridcolor\":\"#506784\",\"gridwidth\":2,\"linecolor\":\"#506784\",\"showbackground\":true,\"ticks\":\"\",\"zerolinecolor\":\"#C8D4E3\"},\"yaxis\":{\"backgroundcolor\":\"rgb(17,17,17)\",\"gridcolor\":\"#506784\",\"gridwidth\":2,\"linecolor\":\"#506784\",\"showbackground\":true,\"ticks\":\"\",\"zerolinecolor\":\"#C8D4E3\"},\"zaxis\":{\"backgroundcolor\":\"rgb(17,17,17)\",\"gridcolor\":\"#506784\",\"gridwidth\":2,\"linecolor\":\"#506784\",\"showbackground\":true,\"ticks\":\"\",\"zerolinecolor\":\"#C8D4E3\"}},\"shapedefaults\":{\"line\":{\"color\":\"#f2f5fa\"}},\"sliderdefaults\":{\"bgcolor\":\"#C8D4E3\",\"bordercolor\":\"rgb(17,17,17)\",\"borderwidth\":1,\"tickwidth\":0},\"ternary\":{\"aaxis\":{\"gridcolor\":\"#506784\",\"linecolor\":\"#506784\",\"ticks\":\"\"},\"baxis\":{\"gridcolor\":\"#506784\",\"linecolor\":\"#506784\",\"ticks\":\"\"},\"bgcolor\":\"rgb(17,17,17)\",\"caxis\":{\"gridcolor\":\"#506784\",\"linecolor\":\"#506784\",\"ticks\":\"\"}},\"title\":{\"x\":0.05},\"updatemenudefaults\":{\"bgcolor\":\"#506784\",\"borderwidth\":0},\"xaxis\":{\"automargin\":true,\"gridcolor\":\"#283442\",\"linecolor\":\"#506784\",\"ticks\":\"\",\"title\":{\"standoff\":15},\"zerolinecolor\":\"#283442\",\"zerolinewidth\":2},\"yaxis\":{\"automargin\":true,\"gridcolor\":\"#283442\",\"linecolor\":\"#506784\",\"ticks\":\"\",\"title\":{\"standoff\":15},\"zerolinecolor\":\"#283442\",\"zerolinewidth\":2}}},\"xaxis\":{\"anchor\":\"y\",\"domain\":[0.0,1.0]},\"yaxis\":{\"anchor\":\"x\",\"domain\":[0.0,1.0]},\"width\":600,\"height\":400},                        {\"responsive\": true}                    ).then(function(){\n",
              "                            \n",
              "var gd = document.getElementById('84e70f43-7d17-4df2-9b65-f50251e3381d');\n",
              "var x = new MutationObserver(function (mutations, observer) {{\n",
              "        var display = window.getComputedStyle(gd).display;\n",
              "        if (!display || display === 'none') {{\n",
              "            console.log([gd, 'removed!']);\n",
              "            Plotly.purge(gd);\n",
              "            observer.disconnect();\n",
              "        }}\n",
              "}});\n",
              "\n",
              "// Listen for the removal of the full notebook cells\n",
              "var notebookContainer = gd.closest('#notebook-container');\n",
              "if (notebookContainer) {{\n",
              "    x.observe(notebookContainer, {childList: true});\n",
              "}}\n",
              "\n",
              "// Listen for the clearing of the current output cell\n",
              "var outputEl = gd.closest('.output');\n",
              "if (outputEl) {{\n",
              "    x.observe(outputEl, {childList: true});\n",
              "}}\n",
              "\n",
              "                        })                };                            </script>        </div>\n",
              "</body>\n",
              "</html>"
            ]
          },
          "metadata": {}
        }
      ]
    },
    {
      "cell_type": "code",
      "source": [
        "def newton(f, xguess, maxiter=100, tol=1e-10):\n",
        "\n",
        "    fprime = jax.grad(f)\n",
        "    x1=xguess\n",
        "    for i in range(maxiter):\n",
        "        x2 = x1 - f(x1)/fprime(x1)\n",
        "        if jnp.abs(f(x2))<tol:\n",
        "            break\n",
        "        x1 = x2\n",
        "\n",
        "    return x2"
      ],
      "metadata": {
        "id": "zz6v7yxJdHSy"
      },
      "execution_count": 4,
      "outputs": []
    },
    {
      "cell_type": "code",
      "source": [
        "newton(f, 0.)"
      ],
      "metadata": {
        "colab": {
          "base_uri": "https://localhost:8080/"
        },
        "id": "xMVlyyr7eBKQ",
        "outputId": "1de505b9-0669-4cfc-d2f7-6cc8588c8e5b"
      },
      "execution_count": 5,
      "outputs": [
        {
          "output_type": "stream",
          "name": "stderr",
          "text": [
            "WARNING:jax._src.xla_bridge:No GPU/TPU found, falling back to CPU. (Set TF_CPP_MIN_LOG_LEVEL=0 and rerun for more info.)\n"
          ]
        },
        {
          "output_type": "execute_result",
          "data": {
            "text/plain": [
              "Array(0.9, dtype=float64, weak_type=True)"
            ]
          },
          "metadata": {},
          "execution_count": 5
        }
      ]
    },
    {
      "cell_type": "code",
      "source": [
        "@jax.jit\n",
        "def f2(x):\n",
        "    return jnp.array([x[0]  + 0.5 * (x[0] - x[1])**3 - 1.0,\n",
        "            0.5 * (x[1] - x[0])**3 + x[1]])"
      ],
      "metadata": {
        "id": "M57aHq2LetxF"
      },
      "execution_count": 6,
      "outputs": []
    },
    {
      "cell_type": "code",
      "source": [
        "def newton_Nd(f, xguess, maxiter=100, tol=1e-10):\n",
        "\n",
        "    J = jax.jit(jax.jacobian(f))\n",
        "    x1=xguess\n",
        "    for i in range(maxiter):\n",
        "        x2 = x1 - jnp.linalg.inv(J(x1)) @ f(x1)\n",
        "        print(i, f(x2))\n",
        "        if jnp.linalg.norm(f(x2))<tol:\n",
        "            break\n",
        "        x1 = x2\n",
        "\n",
        "    return x2"
      ],
      "metadata": {
        "id": "dPgZZKnnfDtm"
      },
      "execution_count": 7,
      "outputs": []
    },
    {
      "cell_type": "code",
      "source": [
        "guess = jnp.array([0.,0.])\n",
        "newton_Nd(f2, guess)"
      ],
      "metadata": {
        "colab": {
          "base_uri": "https://localhost:8080/"
        },
        "id": "6rLUxn1TiTle",
        "outputId": "f0316bc6-ee03-4aab-cf9f-4a816a31f2bf"
      },
      "execution_count": 8,
      "outputs": [
        {
          "output_type": "stream",
          "name": "stdout",
          "text": [
            "0 [ 0.5 -0.5]\n",
            "1 [ 0.0859375 -0.0859375]\n",
            "2 [ 0.00447052 -0.00447052]\n",
            "3 [ 1.41153108e-05 -1.41153108e-05]\n",
            "4 [ 1.41997303e-10 -1.41997386e-10]\n",
            "5 [ 0.00000000e+00 -5.55111512e-17]\n"
          ]
        },
        {
          "output_type": "execute_result",
          "data": {
            "text/plain": [
              "Array([0.8411639, 0.1588361], dtype=float64)"
            ]
          },
          "metadata": {},
          "execution_count": 8
        }
      ]
    },
    {
      "cell_type": "code",
      "source": [
        "def broyden(f, x1, maxiter=100, tol=1e-10):\n",
        "\n",
        "    fval1=f(x1)\n",
        "    fval1_norm = jnp.linalg.norm(fval1)\n",
        "    Jinv = np.eye(x1.size)\n",
        "    for i in range(maxiter):\n",
        "        dx= - Jinv @ fval1\n",
        "        for j in range(10):\n",
        "            x2 = x1 + dx\n",
        "            fval2 = f(x2)\n",
        "            fval2_norm = jnp.linalg.norm(fval2)\n",
        "            if fval2_norm < fval1_norm:\n",
        "                break\n",
        "            dx /= 2\n",
        "        print(i, x2, fval2_norm)\n",
        "        if jnp.linalg.norm(fval2)<tol:\n",
        "            break\n",
        "        dx = dx.reshape(-1,1)\n",
        "        df = (fval2 - fval1).reshape(-1,1)\n",
        "        Jinv = Jinv + (dx - Jinv@df) @ dx.T @ Jinv/ (dx.T @ Jinv @ df)\n",
        "        x1 = x2\n",
        "        fval1 = fval2\n",
        "\n",
        "    return x2"
      ],
      "metadata": {
        "id": "FsR_QGfhiFxW"
      },
      "execution_count": 53,
      "outputs": []
    },
    {
      "cell_type": "code",
      "source": [
        "def rosen(v):\n",
        "    x,y = v\n",
        "    return (1-x)**2 + 100.*(y-x**2)**2"
      ],
      "metadata": {
        "id": "ylOrgT3tAmXF"
      },
      "execution_count": 54,
      "outputs": []
    },
    {
      "cell_type": "code",
      "source": [
        "def constraint(v):\n",
        "    x,y = v\n",
        "    return (x-1.)**2 + (y-1.)**2 - 0.5**2"
      ],
      "metadata": {
        "id": "RrNIvh85O8fv"
      },
      "execution_count": 57,
      "outputs": []
    },
    {
      "cell_type": "code",
      "source": [
        "xguess = jnp.array([0.,0.])\n",
        "res=minimize(rosen, xguess, constraints=dict(type='eq', fun=constraint))\n",
        "res"
      ],
      "metadata": {
        "colab": {
          "base_uri": "https://localhost:8080/"
        },
        "id": "9eLsfPzcPOMp",
        "outputId": "5e927351-bc09-4ea1-d9ce-14055085b884"
      },
      "execution_count": 60,
      "outputs": [
        {
          "output_type": "execute_result",
          "data": {
            "text/plain": [
              " message: Optimization terminated successfully\n",
              " success: True\n",
              "  status: 0\n",
              "     fun: 0.06128195914165823\n",
              "       x: [ 7.528e-01  5.654e-01]\n",
              "     nit: 10\n",
              "     jac: [-1.197e-01 -2.489e-01]\n",
              "    nfev: 35\n",
              "    njev: 10"
            ]
          },
          "metadata": {},
          "execution_count": 60
        }
      ]
    },
    {
      "cell_type": "code",
      "source": [
        "constraint(res.x)"
      ],
      "metadata": {
        "colab": {
          "base_uri": "https://localhost:8080/"
        },
        "id": "jNmxLS5uPscV",
        "outputId": "572e67a5-76bf-4179-a153-6ffbdef47a26"
      },
      "execution_count": 61,
      "outputs": [
        {
          "output_type": "execute_result",
          "data": {
            "text/plain": [
              "1.0398111749410077e-07"
            ]
          },
          "metadata": {},
          "execution_count": 61
        }
      ]
    },
    {
      "cell_type": "code",
      "source": [
        "rosen_jac = jax.jacobian(rosen)"
      ],
      "metadata": {
        "id": "kKitnyKCJH5u"
      },
      "execution_count": 55,
      "outputs": []
    },
    {
      "cell_type": "code",
      "source": [
        "broyden(rosen_jac, xguess)"
      ],
      "metadata": {
        "colab": {
          "base_uri": "https://localhost:8080/"
        },
        "id": "vCbDFWwOJfnC",
        "outputId": "09b466f1-30a0-4b6c-ecd7-7c89d4cfb39d"
      },
      "execution_count": 56,
      "outputs": [
        {
          "output_type": "stream",
          "name": "stdout",
          "text": [
            "0 [0.0625 0.    ] 1.9414691262453962\n",
            "1 [0.06347442 0.01370614] 2.869666864893233\n",
            "2 [0.12270822 0.01107265] 1.7508832903664424\n",
            "3 [0.13700356 0.01215966] 1.8993771713859868\n",
            "4 [0.14755163 0.0141538 ] 1.9740649652903446\n",
            "5 [0.15328993 0.01564233] 1.9841082174606424\n",
            "6 [0.16677257 0.01968447] 1.9765656874064566\n",
            "7 [0.18068134 0.02426756] 1.9685294774461997\n",
            "8 [0.20623822 0.03348335] 1.9959418355652714\n",
            "9 [0.21598372 0.03743634] 1.9977664690406087\n",
            "10 [0.23492013 0.0459107 ] 1.9687254417278823\n",
            "11 [0.25381406 0.05503692] 1.9529529252865176\n",
            "12 [0.28545597 0.0717264 ] 1.9769684912126209\n",
            "13 [0.30606593 0.08411987] 1.9236783172342664\n",
            "14 [0.3528506  0.11477275] 1.947765168585583\n",
            "15 [0.37964706 0.13823151] 1.2293843071883834\n",
            "16 [0.33305311 0.10551092] 1.2440372951992476\n",
            "17 [0.40199537 0.15605275] 1.1503922045015966\n",
            "18 [0.42751206 0.17566174] 1.4226874337500652\n",
            "19 [0.43509633 0.18641768] 0.8526559520876754\n",
            "20 [0.42214773 0.17549019] 0.8837115374925402\n",
            "21 [0.50162598 0.24421994] 1.5605934289178163\n",
            "22 [0.48171685 0.23138692] 0.9182431606580742\n",
            "23 [0.49590745 0.24434077] 0.7629238795045692\n",
            "24 [0.55398877 0.30122913] 1.192260215874914\n",
            "25 [0.54288413 0.29402309] 0.7749578835251285\n",
            "26 [0.55078972 0.30226811] 0.6918020109369226\n",
            "27 [0.61282574 0.37025609] 1.1826151892386683\n",
            "28 [0.5937208  0.35252451] 0.8173474780558443\n",
            "29 [0.60652502 0.36724655] 0.6472891066270943\n",
            "30 [0.66157845 0.43332543] 0.9940997173559283\n",
            "31 [0.64454617 0.41558504] 0.7489278066059228\n",
            "32 [0.65586073 0.42978033] 0.595126251466574\n",
            "33 [0.70694956 0.4962043 ] 0.8311801574450194\n",
            "34 [0.69118539 0.47799316] 0.6902850952275773\n",
            "35 [0.70172409 0.49221818] 0.5422841138306171\n",
            "36 [0.74754323 0.55601494] 0.6531166139044549\n",
            "37 [0.73489359 0.54032359] 0.6073188524212593\n",
            "38 [0.74361991 0.552874  ] 0.48441902128774905\n",
            "39 [0.78443767 0.61320534] 0.4899241548899852\n",
            "40 [0.77528129 0.60127665] 0.5180856269664661\n",
            "41 [0.78189871 0.61133226] 0.42583202543701765\n",
            "42 [0.81799033 0.6675228 ] 0.35280825037608715\n",
            "43 [0.81236642 0.66009376] 0.426611861631275\n",
            "44 [0.81662637 0.66688511] 0.36886473223810645\n",
            "45 [0.84861586 0.71898915] 0.24911987261599117\n",
            "46 [0.84603978 0.71587647] 0.3399577377278319\n",
            "47 [0.84799222 0.719122  ] 0.3146570477433888\n",
            "48 [0.8766991  0.76774538] 0.1793711445226944\n",
            "49 [0.87631866 0.76798017] 0.2635682769253064\n",
            "50 [0.86371869 0.74625841] 0.3618203143453435\n",
            "51 [0.9351144  0.87035989] 1.616885053532942\n",
            "52 [0.94446728 0.89135821] 0.1912587082523465\n",
            "53 [0.92592534 0.85752825] 0.22200386961763113\n",
            "54 [0.97356543 0.94654976] 0.5138472348137775\n",
            "55 [0.97441687 0.94953296] 0.06917878313291771\n",
            "56 [0.97279817 0.94645953] 0.10529052616269072\n",
            "57 [0.9883301  0.97663458] 0.05193958345837207\n",
            "58 [0.99428751 0.98850435] 0.03614571973788227\n",
            "59 [0.99845917 0.99688467] 0.013418826929711476\n",
            "60 [0.99954521 0.99908684] 0.0009690844888304117\n",
            "61 [1.00071713 1.00142887] 0.003982278810994327\n",
            "62 [0.99989475 0.99979028] 0.0005383926084644585\n",
            "63 [0.99999809 0.99999626] 4.032189828041579e-05\n",
            "64 [1.00000144 1.00000287] 5.790266894629973e-06\n",
            "65 [1.00000046 1.00000092] 1.806951381026362e-06\n",
            "66 [1.         1.00000001] 1.4480536153128157e-08\n",
            "67 [1. 1.] 5.6357877152790065e-11\n"
          ]
        },
        {
          "output_type": "execute_result",
          "data": {
            "text/plain": [
              "Array([1., 1.], dtype=float64)"
            ]
          },
          "metadata": {},
          "execution_count": 56
        }
      ]
    },
    {
      "cell_type": "code",
      "source": [],
      "metadata": {
        "id": "QHlYEwfVKZ-Z"
      },
      "execution_count": null,
      "outputs": []
    }
  ]
}