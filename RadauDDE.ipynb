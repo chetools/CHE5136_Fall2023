{
  "nbformat": 4,
  "nbformat_minor": 0,
  "metadata": {
    "colab": {
      "provenance": [],
      "authorship_tag": "ABX9TyNKIMYSQTFn55AoYGK49qxm",
      "include_colab_link": true
    },
    "kernelspec": {
      "name": "python3",
      "display_name": "Python 3"
    },
    "language_info": {
      "name": "python"
    }
  },
  "cells": [
    {
      "cell_type": "markdown",
      "metadata": {
        "id": "view-in-github",
        "colab_type": "text"
      },
      "source": [
        "<a href=\"https://colab.research.google.com/github/profteachkids/CHE5136_Fall2023/blob/main/RadauDDE.ipynb\" target=\"_parent\"><img src=\"https://colab.research.google.com/assets/colab-badge.svg\" alt=\"Open In Colab\"/></a>"
      ]
    },
    {
      "cell_type": "code",
      "execution_count": null,
      "metadata": {
        "id": "MzCFhg5-KpFZ"
      },
      "outputs": [],
      "source": [
        "import numpy as np\n",
        "import jax.numpy as jnp\n",
        "import jax\n",
        "jax.config.update('jax_enable_x64', True)\n",
        "from plotly.subplots import make_subplots\n",
        "from scipy.integrate import solve_ivp, Radau\n",
        "from functools import partial"
      ]
    },
    {
      "cell_type": "code",
      "source": [
        "tau=20\n",
        "n=10\n",
        "beta=0.25\n",
        "gamma=0.1\n",
        "\n",
        "@jax.jit\n",
        "def rhs2(t,y, ts,tf,ys,Qs):\n",
        "    yold=interpolate(t-tau, ts, tf, ys, Qs)\n",
        "    return beta*yold/(1+yold**n-gamma*y)\n",
        "\n",
        "@jax.jit\n",
        "def rhs3(t,y, ts,tf,ys,Qs):\n",
        "    yold=interpolate(t-tau, ts, tf, ys, Qs)\n",
        "    return jnp.sin(yold)\n",
        "\n",
        "\n",
        "\n",
        "t0=0.\n",
        "y0=jnp.array([0.00010001])\n",
        "tf=300\n",
        "\n",
        "size=10000\n",
        "neq= y0.size\n",
        "ts=jnp.full(size,jnp.inf)\n",
        "ts=ts.at[0].set(t0)\n",
        "ys=jnp.full((size,neq),jnp.inf)\n",
        "ys=ys.at[0].set(y0)\n",
        "Qs=jnp.zeros((size,neq,3))"
      ],
      "metadata": {
        "id": "TBL4pjyJKrOf"
      },
      "execution_count": null,
      "outputs": []
    },
    {
      "cell_type": "code",
      "source": [
        "@jax.jit\n",
        "def interpolate(t, ts, tf, ys, Qs):\n",
        "\n",
        "    def before0(t,ts,tf,ys,Qs):\n",
        "        return y0\n",
        "\n",
        "    def after0(t,ts,tf,ys,Qs):\n",
        "        i=jnp.searchsorted(ts,t, side='right')-1\n",
        "        h=ts[i+1]-ts[i]\n",
        "        x = (t-ts[i])/h\n",
        "        p = x**np.arange(1,4)\n",
        "        y= jnp.where(t<tf,Qs[i+1]@p+ys[i],ys[i])\n",
        "\n",
        "        return y\n",
        "\n",
        "    return jax.lax.cond(t<0,before0,after0, t,ts,tf,ys,Qs)"
      ],
      "metadata": {
        "id": "3YL_9FcEM727"
      },
      "execution_count": null,
      "outputs": []
    },
    {
      "cell_type": "code",
      "source": [
        "def dde_Radau(rhs, trange, y0, rtol=1e-6, atol=1e-8, hist_N=int(10000)):\n",
        "    t0,tf = trange\n",
        "    neq= len(y0)\n",
        "\n",
        "\n",
        "\n",
        "    def solve():\n",
        "\n",
        "        ts=jnp.full(hist_N,jnp.inf)\n",
        "        ts=ts.at[0].set(t0)\n",
        "        ys=jnp.full((hist_N,neq),jnp.inf)\n",
        "        ys=ys.at[0].set(y0)\n",
        "        Qs=jnp.zeros((hist_N,neq,3))\n",
        "\n",
        "        def yold(t):\n",
        "\n",
        "            def before0(t):\n",
        "                return y0\n",
        "\n",
        "            def after0(t):\n",
        "                i=jnp.searchsorted(ts,t, side='right')-1\n",
        "                h=ts[i+1]-ts[i]\n",
        "                x = (t-ts[i])/h\n",
        "                p = x**np.arange(1,4)\n",
        "                y= jnp.where(t<tf,Qs[i+1]@p+ys[i],ys[i])\n",
        "\n",
        "                return y\n",
        "\n",
        "            return jax.lax.cond(t<0,before0,after0, t)\n",
        "\n",
        "        jac=jax.jit(jax.jacobian(rhs,1), static_argnums=2)\n",
        "        solver=Radau(lambda t,y: rhs(t,y, yold), t0, y0, tf,\n",
        "                     jac=lambda t,y: jac(t,y, yold), rtol=1e-6,atol=1e-8)\n",
        "        t=t0\n",
        "        nstep=0\n",
        "        while t<tf:\n",
        "            solver.max_step=tau\n",
        "            solver.step()\n",
        "            nstep+=1\n",
        "            t=solver.t\n",
        "            ts=ts.at[nstep].set(solver.t)\n",
        "            ys=ys.at[nstep].set(solver.y)\n",
        "            Qs=Qs.at[nstep].set(solver.sol.Q)\n",
        "        return yold\n",
        "\n",
        "    return solve"
      ],
      "metadata": {
        "id": "ASLSQzvaNJsa"
      },
      "execution_count": null,
      "outputs": []
    },
    {
      "cell_type": "code",
      "source": [
        "@partial(jax.jit, static_argnums=2)\n",
        "def rhs(t,y, yold):\n",
        "    return jnp.array([y[1], -y[0]+yold(t-0.01)[0]])"
      ],
      "metadata": {
        "id": "3zj8NNekP6TX"
      },
      "execution_count": null,
      "outputs": []
    },
    {
      "cell_type": "code",
      "source": [
        "solver=dde_Radau(rhs, (0,10), jnp.array([1., 1.]))"
      ],
      "metadata": {
        "id": "x85MrBHzP6OG"
      },
      "execution_count": null,
      "outputs": []
    },
    {
      "cell_type": "code",
      "source": [
        "sol=solver()"
      ],
      "metadata": {
        "id": "nmtstxlqP6LW"
      },
      "execution_count": null,
      "outputs": []
    },
    {
      "cell_type": "code",
      "source": [
        "tplot=jnp.linspace(0,10,11)\n",
        "sol_vec = jax.vmap(sol, 0, 0)"
      ],
      "metadata": {
        "id": "_aLJzyDIi0Ah"
      },
      "execution_count": null,
      "outputs": []
    },
    {
      "cell_type": "code",
      "source": [
        "sol_vec(tplot)"
      ],
      "metadata": {
        "colab": {
          "base_uri": "https://localhost:8080/"
        },
        "id": "SrUsKD_7j2ml",
        "outputId": "d8888132-cc14-49b1-f88f-3e9ffd087d48"
      },
      "execution_count": null,
      "outputs": [
        {
          "output_type": "execute_result",
          "data": {
            "text/plain": [
              "Array([[ 1.        ,  1.        ],\n",
              "       [ 1.84147106,  0.54030235],\n",
              "       [ 1.90929756, -0.41614691],\n",
              "       [ 1.14112001, -0.98999254],\n",
              "       [ 0.24319754, -0.65364359],\n",
              "       [ 0.04107574,  0.28366218],\n",
              "       [ 0.72058449,  0.96017035],\n",
              "       [ 1.65698658,  0.75390223],\n",
              "       [ 1.98935812, -0.14550002],\n",
              "       [ 1.41211843, -0.91113014],\n",
              "       [ 0.4559789 , -0.83907151]], dtype=float64)"
            ]
          },
          "metadata": {},
          "execution_count": 108
        }
      ]
    },
    {
      "cell_type": "code",
      "source": [
        "t=t0\n",
        "nstep=0\n",
        "jac=jax.jit(jax.jacobian(rhs3,1))\n",
        "solver=Radau(lambda t,y: rhs3(t,y,ts,tf,ys,Qs), t0, y0, tf, jac=lambda t,y: jac(t,y,ts,tf,ys,Qs),rtol=1e-6,atol=1e-8)\n",
        "while t<tf:\n",
        "    solver.max_step=tau\n",
        "    solver.step()\n",
        "    nstep+=1\n",
        "    t=solver.t\n",
        "    ts=ts.at[nstep].set(solver.t)\n",
        "    ys=ys.at[nstep].set(solver.y)\n",
        "    Qs=Qs.at[nstep].set(solver.sol.Q)\n",
        "print(nstep, solver.t, solver.y)"
      ],
      "metadata": {
        "id": "wdlmRMgEK2k_"
      },
      "execution_count": null,
      "outputs": []
    },
    {
      "cell_type": "code",
      "source": [],
      "metadata": {
        "id": "Z844cSDbMIVe"
      },
      "execution_count": null,
      "outputs": []
    }
  ]
}