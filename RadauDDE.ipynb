{
  "nbformat": 4,
  "nbformat_minor": 0,
  "metadata": {
    "colab": {
      "provenance": [],
      "authorship_tag": "ABX9TyMUH/Y3WrCI+9u9RDDCEIo4",
      "include_colab_link": true
    },
    "kernelspec": {
      "name": "python3",
      "display_name": "Python 3"
    },
    "language_info": {
      "name": "python"
    }
  },
  "cells": [
    {
      "cell_type": "markdown",
      "metadata": {
        "id": "view-in-github",
        "colab_type": "text"
      },
      "source": [
        "<a href=\"https://colab.research.google.com/github/profteachkids/CHE5136_Fall2023/blob/main/RadauDDE.ipynb\" target=\"_parent\"><img src=\"https://colab.research.google.com/assets/colab-badge.svg\" alt=\"Open In Colab\"/></a>"
      ]
    },
    {
      "cell_type": "code",
      "execution_count": 9,
      "metadata": {
        "id": "MzCFhg5-KpFZ"
      },
      "outputs": [],
      "source": [
        "import numpy as np\n",
        "import jax.numpy as jnp\n",
        "import jax\n",
        "jax.config.update('jax_enable_x64', True)\n",
        "from plotly.subplots import make_subplots\n",
        "from scipy.integrate import Radau\n",
        "from functools import partial"
      ]
    },
    {
      "cell_type": "code",
      "source": [
        "def dde_Radau(rhs, trange, y0, tau, rtol=1e-6, atol=1e-8, hist_N=int(10000)):\n",
        "    t0,tf = trange\n",
        "    neq= len(y0)\n",
        "\n",
        "    def solve():\n",
        "\n",
        "        ts=jnp.full(hist_N,jnp.inf)\n",
        "        ts=ts.at[0].set(t0)\n",
        "        ys=jnp.full((hist_N,neq),jnp.inf)\n",
        "        ys=ys.at[0].set(y0)\n",
        "        Qs=jnp.zeros((hist_N,neq,3))\n",
        "\n",
        "        @jax.jit\n",
        "        def yold(t, ts, ys, Qs):\n",
        "\n",
        "            def before0(t):\n",
        "                return y0\n",
        "\n",
        "            def after0(t):\n",
        "                i=jnp.searchsorted(ts,t, side='right')-1\n",
        "                h=ts[i+1]-ts[i]\n",
        "                x = (t-ts[i])/h\n",
        "                p = x**np.arange(1,4)\n",
        "                y= jnp.where(t<tf,Qs[i+1]@p+ys[i],ys[i])\n",
        "\n",
        "                return y\n",
        "\n",
        "            return jax.lax.cond(t<0,before0,after0, t)\n",
        "\n",
        "        @jax.jit\n",
        "        def rhs2(t,y, ts, ys, Qs):\n",
        "            return rhs(t,y, lambda t: yold(t,ts,ys,Qs))\n",
        "\n",
        "        jac=jax.jit(jax.jacobian(rhs2,1))\n",
        "        solver=Radau(lambda t,y: rhs2(t,y, ts, ys, Qs), t0, y0, tf,\n",
        "                     jac=lambda t,y: jac(t,y,ts,ys, Qs), rtol=1e-6,atol=1e-8)\n",
        "        t=t0\n",
        "        nstep=0\n",
        "        while t<tf:\n",
        "            solver.max_step=tau\n",
        "            solver.step()\n",
        "            nstep+=1\n",
        "            t=solver.t\n",
        "            ts=ts.at[nstep].set(solver.t)\n",
        "            ys=ys.at[nstep].set(solver.y)\n",
        "            Qs=Qs.at[nstep].set(solver.sol.Q)\n",
        "        return jnp.vectorize(lambda t: yold(t, ts, ys, Qs), signature='()->(n)')\n",
        "\n",
        "    return solve"
      ],
      "metadata": {
        "id": "ASLSQzvaNJsa"
      },
      "execution_count": 121,
      "outputs": []
    },
    {
      "cell_type": "code",
      "source": [
        "def rhs(t,y, yold):\n",
        "    return jnp.array([y[1], -y[0]+yold(t-0.1)[0]])"
      ],
      "metadata": {
        "id": "3zj8NNekP6TX"
      },
      "execution_count": 122,
      "outputs": []
    },
    {
      "cell_type": "code",
      "source": [
        "solver=dde_Radau(rhs, (0,10), jnp.array([1., 1.]), tau=0.1)"
      ],
      "metadata": {
        "id": "x85MrBHzP6OG"
      },
      "execution_count": 124,
      "outputs": []
    },
    {
      "cell_type": "code",
      "source": [
        "sol=solver()"
      ],
      "metadata": {
        "id": "nmtstxlqP6LW"
      },
      "execution_count": 125,
      "outputs": []
    },
    {
      "cell_type": "code",
      "source": [
        "tplot=jnp.linspace(0,10,11)\n",
        "sol(tplot)"
      ],
      "metadata": {
        "id": "_aLJzyDIi0Ah",
        "outputId": "9098213c-d772-4d4a-dfd7-74c22ee0fa4d",
        "colab": {
          "base_uri": "https://localhost:8080/"
        }
      },
      "execution_count": 126,
      "outputs": [
        {
          "output_type": "execute_result",
          "data": {
            "text/plain": [
              "Array([[1.        , 1.        ],\n",
              "       [1.95603391, 0.90895665],\n",
              "       [2.82080613, 0.8220434 ],\n",
              "       [3.60288996, 0.74344069],\n",
              "       [4.31019196, 0.67235386],\n",
              "       [4.94986266, 0.60806426],\n",
              "       [5.52836889, 0.54992195],\n",
              "       [6.0515591 , 0.49733913],\n",
              "       [6.52472255, 0.44978421],\n",
              "       [6.95264273, 0.40677643],\n",
              "       [7.33964574, 0.367881  ]], dtype=float64)"
            ]
          },
          "metadata": {},
          "execution_count": 126
        }
      ]
    },
    {
      "cell_type": "code",
      "source": [],
      "metadata": {
        "id": "2v2wNLpvUkfK"
      },
      "execution_count": null,
      "outputs": []
    }
  ]
}