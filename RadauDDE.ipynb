{
  "nbformat": 4,
  "nbformat_minor": 0,
  "metadata": {
    "colab": {
      "provenance": [],
      "authorship_tag": "ABX9TyN2EUJXKYytTTAy29pGblb2",
      "include_colab_link": true
    },
    "kernelspec": {
      "name": "python3",
      "display_name": "Python 3"
    },
    "language_info": {
      "name": "python"
    }
  },
  "cells": [
    {
      "cell_type": "markdown",
      "metadata": {
        "id": "view-in-github",
        "colab_type": "text"
      },
      "source": [
        "<a href=\"https://colab.research.google.com/github/profteachkids/CHE5136_Fall2023/blob/main/RadauDDE.ipynb\" target=\"_parent\"><img src=\"https://colab.research.google.com/assets/colab-badge.svg\" alt=\"Open In Colab\"/></a>"
      ]
    },
    {
      "cell_type": "code",
      "execution_count": 7,
      "metadata": {
        "id": "MzCFhg5-KpFZ"
      },
      "outputs": [],
      "source": [
        "import numpy as np\n",
        "import jax.numpy as jnp\n",
        "import jax\n",
        "jax.config.update('jax_enable_x64', True)\n",
        "from plotly.subplots import make_subplots\n",
        "from scipy.integrate import solve_ivp, Radau\n",
        "from functools import partial"
      ]
    },
    {
      "cell_type": "code",
      "source": [
        "def rhs(t,y, ts,tf,ys,Qs):\n",
        "    yold=interpolate(t-0.01, ts, tf, ys, Qs)\n",
        "    print(ys[:10])\n",
        "    return jnp.array([y[1], -y[0]+yold[0]])\n",
        "\n",
        "tau=20\n",
        "n=10\n",
        "beta=0.25\n",
        "gamma=0.1\n",
        "\n",
        "@jax.jit\n",
        "def rhs2(t,y, ts,tf,ys,Qs):\n",
        "    yold=interpolate(t-tau, ts, tf, ys, Qs)\n",
        "    return beta*yold/(1+yold**n-gamma*y)\n",
        "\n",
        "@jax.jit\n",
        "def rhs3(t,y, ts,tf,ys,Qs):\n",
        "    yold=interpolate(t-tau, ts, tf, ys, Qs)\n",
        "    return jnp.sin(yold)\n",
        "\n",
        "\n",
        "jac=jax.jit(jax.jacobian(rhs3,1))\n",
        "t0=0.\n",
        "y0=jnp.array([0.00011])\n",
        "tf=500\n",
        "\n",
        "size=10000\n",
        "neq= y0.size\n",
        "ts=jnp.full(size,jnp.inf)\n",
        "ts=ts.at[0].set(t0)\n",
        "ys=jnp.full((size,neq),jnp.inf)\n",
        "ys=ys.at[0].set(y0)\n",
        "Qs=jnp.zeros((size,neq,3))"
      ],
      "metadata": {
        "id": "TBL4pjyJKrOf"
      },
      "execution_count": 203,
      "outputs": []
    },
    {
      "cell_type": "code",
      "source": [
        "\n",
        "def interpolate(t, ts, tf, ys, Qs):\n",
        "\n",
        "    def before0(t,ts,tf,ys,Qs):\n",
        "        return y0\n",
        "\n",
        "    def after0(t,ts,tf,ys,Qs):\n",
        "        i=jnp.searchsorted(ts,t, side='right')-1\n",
        "        h=ts[i+1]-ts[i]\n",
        "        x = (t-ts[i])/h\n",
        "        p = x**np.arange(1,4)\n",
        "        y= jnp.where(t<tf,Qs[i+1]@p+ys[i],ys[i])\n",
        "\n",
        "        return y\n",
        "\n",
        "    return jax.lax.cond(t<0,before0,after0, t,ts,tf,ys,Qs)"
      ],
      "metadata": {
        "id": "3YL_9FcEM727"
      },
      "execution_count": 204,
      "outputs": []
    },
    {
      "cell_type": "code",
      "source": [
        "t=t0\n",
        "nstep=0\n",
        "solver=Radau(lambda t,y: rhs3(t,y,ts,tf,ys,Qs), t0, y0, tf, jac=lambda t,y: jac(t,y,ts,tf,ys,Qs),rtol=1e-9,atol=1e-12)\n",
        "while t<tf:\n",
        "    solver.max_step=tau\n",
        "    solver.step()\n",
        "    nstep+=1\n",
        "    t=solver.t\n",
        "    print(nstep, solver.t, solver.y)\n",
        "    ts=ts.at[nstep].set(solver.t)\n",
        "    ys=ys.at[nstep].set(solver.y)\n",
        "    Qs=Qs.at[nstep].set(solver.sol.Q)"
      ],
      "metadata": {
        "id": "wdlmRMgEK2k_"
      },
      "execution_count": null,
      "outputs": []
    },
    {
      "cell_type": "code",
      "source": [
        "solver.step?"
      ],
      "metadata": {
        "id": "dBRcbxswpxZF"
      },
      "execution_count": 184,
      "outputs": []
    },
    {
      "cell_type": "code",
      "source": [
        "interpolate(.2,ts,tf,ys,Qs)"
      ],
      "metadata": {
        "colab": {
          "base_uri": "https://localhost:8080/"
        },
        "id": "dbD1_biwLjL3",
        "outputId": "5502abf2-fcbc-4ba5-ce8f-06e530c6f204"
      },
      "execution_count": 149,
      "outputs": [
        {
          "output_type": "execute_result",
          "data": {
            "text/plain": [
              "Array([0.19866933, 0.98006656], dtype=float64)"
            ]
          },
          "metadata": {},
          "execution_count": 149
        }
      ]
    },
    {
      "cell_type": "code",
      "source": [
        "np.sin(0.2)"
      ],
      "metadata": {
        "colab": {
          "base_uri": "https://localhost:8080/"
        },
        "id": "Zk6OQgUJL0NW",
        "outputId": "5159bba3-b728-40fc-b257-73266c9c85c5"
      },
      "execution_count": 142,
      "outputs": [
        {
          "output_type": "execute_result",
          "data": {
            "text/plain": [
              "0.19866933079506122"
            ]
          },
          "metadata": {},
          "execution_count": 142
        }
      ]
    },
    {
      "cell_type": "code",
      "source": [
        "ts[:5]"
      ],
      "metadata": {
        "colab": {
          "base_uri": "https://localhost:8080/"
        },
        "id": "-77p2fEcL14Z",
        "outputId": "64505952-5b82-4dc6-f9d1-7d06eeb80bde"
      },
      "execution_count": 67,
      "outputs": [
        {
          "output_type": "execute_result",
          "data": {
            "text/plain": [
              "Array([0.        , 0.000999  , 0.01098901, 0.11088911, 0.68699441],      dtype=float64, weak_type=True)"
            ]
          },
          "metadata": {},
          "execution_count": 67
        }
      ]
    },
    {
      "cell_type": "code",
      "source": [],
      "metadata": {
        "id": "Z844cSDbMIVe"
      },
      "execution_count": null,
      "outputs": []
    }
  ]
}