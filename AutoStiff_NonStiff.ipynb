{
  "nbformat": 4,
  "nbformat_minor": 0,
  "metadata": {
    "colab": {
      "provenance": [],
      "authorship_tag": "ABX9TyOQA1qbPj733cshCtu8xSBy",
      "include_colab_link": true
    },
    "kernelspec": {
      "name": "python3",
      "display_name": "Python 3"
    },
    "language_info": {
      "name": "python"
    }
  },
  "cells": [
    {
      "cell_type": "markdown",
      "metadata": {
        "id": "view-in-github",
        "colab_type": "text"
      },
      "source": [
        "<a href=\"https://colab.research.google.com/github/profteachkids/CHE5136_Fall2023/blob/main/AutoStiff_NonStiff.ipynb\" target=\"_parent\"><img src=\"https://colab.research.google.com/assets/colab-badge.svg\" alt=\"Open In Colab\"/></a>"
      ]
    },
    {
      "cell_type": "code",
      "execution_count": 1,
      "metadata": {
        "id": "5KkHti1-nKEu"
      },
      "outputs": [],
      "source": [
        "import jax\n",
        "import jax.numpy as jnp\n",
        "import numpy as np\n",
        "jax.config.update('jax_enable_x64',True)\n",
        "from scipy.integrate import solve_ivp\n",
        "from plotly.subplots import make_subplots\n",
        "from functools import partial"
      ]
    },
    {
      "cell_type": "code",
      "source": [
        "np.set_printoptions(precision=10,linewidth=200)\n",
        "jnp.set_printoptions(precision=10, linewidth=200)"
      ],
      "metadata": {
        "id": "eMlj5Z_iR0u7"
      },
      "execution_count": 2,
      "outputs": []
    },
    {
      "cell_type": "code",
      "source": [
        "def vdp(t,v,u):\n",
        "    return jnp.array([v[1], 100*(1 - v[0]**2)*v[1] - v[0]])\n",
        "\n"
      ],
      "metadata": {
        "id": "7T4L7mJUnjKI"
      },
      "execution_count": 3,
      "outputs": []
    },
    {
      "cell_type": "code",
      "source": [
        "#Lobatto IIIC\n",
        "a_lobatto=np.array([[1/6, -1/3, 1/6],\n",
        "                    [1/6, 5/12, -1/12],\n",
        "                    [1/6, 2/3, 1/6]])\n",
        "\n",
        "c_lobatto=np.array([0, 0.5, 1])\n",
        "b1_lobatto = np.array([1/6, 2/3, 1/6])\n",
        "b2_lobatto = np.array([-0.5, 2, -0.5])\n",
        "\n",
        "#https://arxiv.org/pdf/1306.2392.pdf, Hairer's embedded RADAU5\n",
        "\n",
        "s6=np.sqrt(6)\n",
        "a_radau= np.array([[(88-7*s6)/360,   (296-169*s6)/1800,      (-2+3*s6)/225],\n",
        "                   [(296+169*s6)/1800,  (88+7*s6)/360,      (-2-3*s6)/225],\n",
        "                   [(16-s6)/36,         (16+s6)/36,         1/9]])\n",
        "\n",
        "c_radau=np.array([(4-s6)/10, (4+s6)/10, 1])\n",
        "b1_radau = np.array([(16-s6)/36,         (16+s6)/36,         1/9])\n",
        "radau_g = 1/8\n",
        "b2_radau = np.r_[radau_g, b1_radau-radau_g*np.array([(2+3*s6)/6, (2-3*s6)/6, 1/3])]\n",
        "\n",
        "\n",
        "\n",
        "\n",
        "\n",
        "a_DormandPrince = np.array([[0,     0,      0,      0,      0,      0,      0],\n",
        "                            [1/5,   0,      0,      0,      0,      0,      0],\n",
        "                            [3/40,  9/40,   0,      0,      0,      0,      0],\n",
        "                            [44/45, -56/15, 32/9,   0,      0,      0,      0],\n",
        "                            [19372/6561,    -25360/2187,    64448/6561,     -212/729,   0,      0, 0],\n",
        "                            [9017/3168,     -355/33,        46732/5247,     49/176,     -5103/18656,    0, 0],\n",
        "                            [35/384,        0,          500/1113,       125/192,        -2187/6784,     11/84, 0]])\n",
        "c_DormandPrince = np.array([0, 1/5, 3/10, 4/5, 8/9, 1, 1.])\n",
        "b1_DormandPrince = np.array([35/384, 0, 500/1113, 125/192, -2187/6784, 11/84, 0])\n",
        "b2_DormandPrince = np.array([5179/57600, 0, 7571/16695, 393/640, -92097/339200, 187/2100, 1/40])\n",
        "\n",
        "def get_explicit_step(rhs, u=None, a=a_DormandPrince, b1=b1_DormandPrince, b2=b2_DormandPrince, c=c_DormandPrince):\n",
        "\n",
        "    def step(t0, y, h):\n",
        "        tvec = t0+c*h\n",
        "        Ny=y.size\n",
        "        def f_scan(ik, act):\n",
        "            i,k=ik\n",
        "            a,c,t = act\n",
        "            k=k.at[i].set(rhs(t,y+h*a@k, u))\n",
        "            return (i+1,k), None\n",
        "\n",
        "        (_,k),_= jax.lax.scan(f_scan, (0,jnp.zeros((c.shape[0], Ny))), (a, c, tvec))\n",
        "        return y + h*b1@k, y + h*b2@k\n",
        "\n",
        "    return jax.jit(step)"
      ],
      "metadata": {
        "id": "_tJfKoBfJzl4"
      },
      "execution_count": 4,
      "outputs": []
    },
    {
      "cell_type": "code",
      "source": [
        "def get_implicit_step(rhs, u=None, a=a_radau, b1=b1_radau, b2=b2_radau, c=c_radau):\n",
        "    Nstages = c.size\n",
        "    rhs_vec=jax.jit(jax.vmap(rhs,in_axes=(0,0,None),out_axes=0))\n",
        "    rhs_jac=jax.jacobian(rhs,1)\n",
        "\n",
        "    def k_func(tvec, y,h,k):\n",
        "        k=k.reshape(Nstages,y.size)\n",
        "        yvec = y + h*a@k\n",
        "        return (k-rhs_vec(tvec,yvec, u)).ravel()\n",
        "\n",
        "    k_func_jac=jax.jacobian(k_func,3)\n",
        "\n",
        "    def step(t0, y0, h):\n",
        "        Ny=y0.size\n",
        "        tvec = t0+c*h\n",
        "        rhs0=rhs(t0,y0,u)\n",
        "        k = jnp.tile(rhs0.reshape(1,-1),(Nstages,1)).ravel()\n",
        "        f0=k_func(tvec,y0,h,k)\n",
        "\n",
        "        def body_func_for(i, kf):\n",
        "            k,f=kf\n",
        "            f=k_func(tvec,y0,h,k)\n",
        "            dk = jnp.linalg.solve(k_func_jac(tvec,y0,h,k), -f)\n",
        "            k=k+dk\n",
        "            return k,f\n",
        "\n",
        "        def body_func_while(kfi):\n",
        "            k,f,i=kfi\n",
        "            f=k_func(tvec,y0,h,k)\n",
        "            dk = jnp.linalg.solve(k_func_jac(tvec,y0,h,k), -f)\n",
        "            k=k+dk\n",
        "            return k,f,i+1\n",
        "\n",
        "        def cond_func(kfi):\n",
        "            k,f,i=kfi\n",
        "            return jnp.logical_and(jnp.linalg.norm(f)>1e-12,i<50)\n",
        "\n",
        "        # k,f,i=jax.lax.while_loop(cond_func, body_func_while, (k, f0, 0))  #does not work with reverse mode\n",
        "        k,f=jax.lax.fori_loop(0,5, body_func_for, (k, f0))  #5 iterations should be enough\n",
        "        k=k.reshape(Nstages,Ny)\n",
        "        return y0+ h*(b1@k), y0 + h*(b2@ jnp.concatenate([rhs0.reshape(1,y0.size), k]))\n",
        "\n",
        "    def step2(t0, y0, h):\n",
        "        #Simplified Newton Method (less accurate)\n",
        "        tvec = t0+c*h\n",
        "        Ny=y0.size\n",
        "        mat=jnp.kron(jnp.eye(Nstages),jnp.eye(Ny)) - h*jnp.kron(a_radau,rhs_jac(t0,y0,u))\n",
        "        Z0=jnp.tile(jnp.zeros_like(y0),(Nstages,1))\n",
        "        Y0=Z0+y0\n",
        "        f0=Y0.reshape(-1,1)-jnp.tile(y0,(1,Nstages)).T-h*(a_radau @ rhs_vec(tvec,Y0,u)).reshape(-1,1)\n",
        "\n",
        "        def body_func(Zfi):\n",
        "            Z,f,i=Zfi\n",
        "            Y=Z+y0\n",
        "            f=Y.reshape(-1,1)-jnp.tile(y0,(1,Nstages)).T-h*(a_radau @ rhs_vec(tvec,Y,u)).reshape(-1,1)\n",
        "            dZ = jnp.linalg.solve(mat, -f)\n",
        "            Z=Z+dZ.reshape(Nstages,Ny)\n",
        "            return Z,f,i+1\n",
        "\n",
        "        def cond_func(Zfi):\n",
        "            _,f,i=Zfi\n",
        "            return jnp.logical_and(jnp.linalg.norm(f)>1e-12,i<50)\n",
        "\n",
        "        Z,f,i=jax.lax.while_loop(cond_func, body_func, (Z0, f0, 0))\n",
        "        Y=Z+y0\n",
        "        return y0+ h*(b1@Y),y0 + h*(b2@ jnp.concatenate([rhs(t0,y0,u).reshape(1,Ny), Y]))\n",
        "\n",
        "    return jax.jit(step)"
      ],
      "metadata": {
        "id": "7VWJT8lztPNc"
      },
      "execution_count": 42,
      "outputs": []
    },
    {
      "cell_type": "code",
      "source": [
        "def test(u):\n",
        "    step=get_implicit_step(vdp,u)\n",
        "    h=0.001\n",
        "    y0=jnp.array([1., 0.])\n",
        "    return step(0,y0,h)"
      ],
      "metadata": {
        "id": "sqlg7T8CSy-9"
      },
      "execution_count": 43,
      "outputs": []
    },
    {
      "cell_type": "code",
      "source": [
        "test(u)"
      ],
      "metadata": {
        "colab": {
          "base_uri": "https://localhost:8080/"
        },
        "id": "nbS3WHR9a0Ex",
        "outputId": "85efb912-0bec-40e4-ed50-eff707ef7efb"
      },
      "execution_count": 44,
      "outputs": [
        {
          "output_type": "execute_result",
          "data": {
            "text/plain": [
              "(Array([ 0.9999995   , -0.0009999999], dtype=float64),\n",
              " Array([ 0.9999995   , -0.0009999999], dtype=float64))"
            ]
          },
          "metadata": {},
          "execution_count": 44
        }
      ]
    },
    {
      "cell_type": "code",
      "source": [
        "res.sol(0.001)"
      ],
      "metadata": {
        "colab": {
          "base_uri": "https://localhost:8080/"
        },
        "id": "xHtW4UXKbSAG",
        "outputId": "e92badf8-cae4-4181-e6b0-0b1927e5d129"
      },
      "execution_count": 39,
      "outputs": [
        {
          "output_type": "execute_result",
          "data": {
            "text/plain": [
              "array([ 0.9999995   , -0.0009999999])"
            ]
          },
          "metadata": {},
          "execution_count": 39
        }
      ]
    },
    {
      "cell_type": "code",
      "source": [
        "@partial(jax.jit, static_argnums=(0,))\n",
        "def is_stiff(rhs, t0, y):\n",
        "    Ny=y.size\n",
        "    y, f_jvp = jax.linearize(lambda y: rhs(t0,y), y)\n",
        "    rand_v0 = jnp.array(np.random.uniform(size=Ny))\n",
        "\n",
        "    def f_scan(v0, _):\n",
        "        v = f_jvp(v0)\n",
        "        u = jnp.sum(v0*v)/jnp.sum(v0*v0)\n",
        "        v = v/jnp.linalg.norm(v)\n",
        "        return v, u\n",
        "\n",
        "    _, us = jax.lax.scan(f_scan, rand_v0, xs=None, length=10)\n",
        "\n",
        "    return jnp.any(us<-25)\n",
        "\n",
        "def auto_ivp(rhs, trange, y0, u=None, h=1, atol=1e-6, rtol=1e-3):\n",
        "    rhsty=jax.jit(lambda t,y: rhs(t,y,u))\n",
        "\n",
        "    Ny=y0.size\n",
        "    t0,tend= trange\n",
        "    step_exp=get_explicit_step(rhs,u)\n",
        "    step_imp=get_implicit_step(rhs,u)\n",
        "    t=t0\n",
        "    y=y0\n",
        "    ts=[t0]\n",
        "    ys=[y]\n",
        "    stiffs=[]\n",
        "    counts=[]\n",
        "    hs=[]\n",
        "    def h_ok(y1,y2,h):\n",
        "\n",
        "        ratio = jnp.max(jnp.abs(y1-y2)/(atol+rtol*jnp.abs(y1)))\n",
        "        if ratio>1:\n",
        "            hnew = h/2\n",
        "            return False, h/2, h/2\n",
        "        if ratio<0.5:\n",
        "            return True, h*1.5, h\n",
        "        return True, h, h\n",
        "\n",
        "    while t<tend:\n",
        "        stiff=0\n",
        "        count=0\n",
        "        hnew= h\n",
        "        if is_stiff(rhsty, t, y):\n",
        "            stiff=1\n",
        "            while True:\n",
        "                count+=1\n",
        "                yb1, yb2 = step_imp(t,y,hnew)\n",
        "                hok, hnew, h = h_ok(yb1, yb2, hnew)\n",
        "                if hok:\n",
        "                    break\n",
        "        else:\n",
        "            while True:\n",
        "                count+=1\n",
        "                yb1, yb2 = step_exp(t,y,hnew)\n",
        "                hok, hnew, h = h_ok(yb1, yb2, hnew)\n",
        "                if hok:\n",
        "                    break\n",
        "        t=t+h\n",
        "        y=yb1\n",
        "        ts.append(t)\n",
        "        ys.append(y)\n",
        "        stiffs.append(stiff)\n",
        "        counts.append(count)\n",
        "        hs.append(h)\n",
        "        h=hnew\n",
        "\n",
        "    return jnp.array(ts), jnp.stack(ys,axis=1),jnp.array(stiffs),jnp.array(counts),jnp.array(hs)\n"
      ],
      "metadata": {
        "id": "9nhCkrI4cgze"
      },
      "execution_count": 25,
      "outputs": []
    },
    {
      "cell_type": "code",
      "source": [
        "y0=jnp.array([1.,0.])\n",
        "u=jnp.array([1.,1.])\n",
        "ts, ys, stiffs, counts, hs=auto_ivp(vdp,(0,1.), y0, u=u, h=0.01, atol=1e-12,rtol=1e-10)"
      ],
      "metadata": {
        "id": "aWxk1wmfuuJP",
        "colab": {
          "base_uri": "https://localhost:8080/",
          "height": 332
        },
        "outputId": "9d9e0bd7-5641-4a00-8d1f-24cfdeb3f0c9"
      },
      "execution_count": 33,
      "outputs": [
        {
          "output_type": "error",
          "ename": "TypeError",
          "evalue": "ignored",
          "traceback": [
            "\u001b[0;31m---------------------------------------------------------------------------\u001b[0m",
            "\u001b[0;31mTypeError\u001b[0m                                 Traceback (most recent call last)",
            "\u001b[0;32m<ipython-input-33-c408e93f4c92>\u001b[0m in \u001b[0;36m<cell line: 3>\u001b[0;34m()\u001b[0m\n\u001b[1;32m      1\u001b[0m \u001b[0my0\u001b[0m\u001b[0;34m=\u001b[0m\u001b[0mjnp\u001b[0m\u001b[0;34m.\u001b[0m\u001b[0marray\u001b[0m\u001b[0;34m(\u001b[0m\u001b[0;34m[\u001b[0m\u001b[0;36m1.\u001b[0m\u001b[0;34m,\u001b[0m\u001b[0;36m0.\u001b[0m\u001b[0;34m]\u001b[0m\u001b[0;34m)\u001b[0m\u001b[0;34m\u001b[0m\u001b[0;34m\u001b[0m\u001b[0m\n\u001b[1;32m      2\u001b[0m \u001b[0mu\u001b[0m\u001b[0;34m=\u001b[0m\u001b[0mjnp\u001b[0m\u001b[0;34m.\u001b[0m\u001b[0marray\u001b[0m\u001b[0;34m(\u001b[0m\u001b[0;34m[\u001b[0m\u001b[0;36m1.\u001b[0m\u001b[0;34m,\u001b[0m\u001b[0;36m1.\u001b[0m\u001b[0;34m]\u001b[0m\u001b[0;34m)\u001b[0m\u001b[0;34m\u001b[0m\u001b[0;34m\u001b[0m\u001b[0m\n\u001b[0;32m----> 3\u001b[0;31m \u001b[0mts\u001b[0m\u001b[0;34m,\u001b[0m \u001b[0mys\u001b[0m\u001b[0;34m,\u001b[0m \u001b[0mstiffs\u001b[0m\u001b[0;34m,\u001b[0m \u001b[0mcounts\u001b[0m\u001b[0;34m,\u001b[0m \u001b[0mhs\u001b[0m\u001b[0;34m=\u001b[0m\u001b[0mauto_ivp\u001b[0m\u001b[0;34m(\u001b[0m\u001b[0mvdp\u001b[0m\u001b[0;34m,\u001b[0m\u001b[0;34m(\u001b[0m\u001b[0;36m0\u001b[0m\u001b[0;34m,\u001b[0m\u001b[0;36m1.\u001b[0m\u001b[0;34m)\u001b[0m\u001b[0;34m,\u001b[0m \u001b[0my0\u001b[0m\u001b[0;34m,\u001b[0m \u001b[0mu\u001b[0m\u001b[0;34m=\u001b[0m\u001b[0mu\u001b[0m\u001b[0;34m,\u001b[0m \u001b[0mh\u001b[0m\u001b[0;34m=\u001b[0m\u001b[0;36m0.01\u001b[0m\u001b[0;34m,\u001b[0m \u001b[0matol\u001b[0m\u001b[0;34m=\u001b[0m\u001b[0;36m1e-12\u001b[0m\u001b[0;34m,\u001b[0m\u001b[0mrtol\u001b[0m\u001b[0;34m=\u001b[0m\u001b[0;36m1e-10\u001b[0m\u001b[0;34m)\u001b[0m\u001b[0;34m\u001b[0m\u001b[0;34m\u001b[0m\u001b[0m\n\u001b[0m",
            "\u001b[0;32m<ipython-input-25-483f281f4dec>\u001b[0m in \u001b[0;36mauto_ivp\u001b[0;34m(rhs, trange, y0, u, h, atol, rtol)\u001b[0m\n\u001b[1;32m     47\u001b[0m             \u001b[0;32mwhile\u001b[0m \u001b[0;32mTrue\u001b[0m\u001b[0;34m:\u001b[0m\u001b[0;34m\u001b[0m\u001b[0;34m\u001b[0m\u001b[0m\n\u001b[1;32m     48\u001b[0m                 \u001b[0mcount\u001b[0m\u001b[0;34m+=\u001b[0m\u001b[0;36m1\u001b[0m\u001b[0;34m\u001b[0m\u001b[0;34m\u001b[0m\u001b[0m\n\u001b[0;32m---> 49\u001b[0;31m                 \u001b[0myb1\u001b[0m\u001b[0;34m,\u001b[0m \u001b[0myb2\u001b[0m \u001b[0;34m=\u001b[0m \u001b[0mstep_imp\u001b[0m\u001b[0;34m(\u001b[0m\u001b[0mt\u001b[0m\u001b[0;34m,\u001b[0m\u001b[0my\u001b[0m\u001b[0;34m,\u001b[0m\u001b[0mhnew\u001b[0m\u001b[0;34m)\u001b[0m\u001b[0;34m\u001b[0m\u001b[0;34m\u001b[0m\u001b[0m\n\u001b[0m\u001b[1;32m     50\u001b[0m                 \u001b[0mhok\u001b[0m\u001b[0;34m,\u001b[0m \u001b[0mhnew\u001b[0m\u001b[0;34m,\u001b[0m \u001b[0mh\u001b[0m \u001b[0;34m=\u001b[0m \u001b[0mh_ok\u001b[0m\u001b[0;34m(\u001b[0m\u001b[0myb1\u001b[0m\u001b[0;34m,\u001b[0m \u001b[0myb2\u001b[0m\u001b[0;34m,\u001b[0m \u001b[0mhnew\u001b[0m\u001b[0;34m)\u001b[0m\u001b[0;34m\u001b[0m\u001b[0;34m\u001b[0m\u001b[0m\n\u001b[1;32m     51\u001b[0m                 \u001b[0;32mif\u001b[0m \u001b[0mhok\u001b[0m\u001b[0;34m:\u001b[0m\u001b[0;34m\u001b[0m\u001b[0;34m\u001b[0m\u001b[0m\n",
            "\u001b[0;31mTypeError\u001b[0m: 'tuple' object is not callable"
          ]
        }
      ]
    },
    {
      "cell_type": "code",
      "source": [
        "stiffs.sum()/stiffs.size"
      ],
      "metadata": {
        "id": "vT9NDUavRh_z"
      },
      "execution_count": null,
      "outputs": []
    },
    {
      "cell_type": "code",
      "source": [
        "np.histogram(counts,bins=[0,1,2,3,4,5])"
      ],
      "metadata": {
        "id": "yWffyPQqRq_b"
      },
      "execution_count": null,
      "outputs": []
    },
    {
      "cell_type": "code",
      "source": [
        "np.histogram(hs)"
      ],
      "metadata": {
        "id": "N4QxMFkFR9ih"
      },
      "execution_count": null,
      "outputs": []
    },
    {
      "cell_type": "code",
      "source": [
        "\n",
        "tend=3000\n",
        "res=solve_ivp(jax.jit(vdp),(0,tend),y0,method='LSODA',args=(u,), dense_output=True,atol=1e-12,rtol=1e-10)"
      ],
      "metadata": {
        "id": "2Cz5QMJLqJE4"
      },
      "execution_count": 34,
      "outputs": []
    },
    {
      "cell_type": "code",
      "source": [
        "res.sol(ts)[:,-10:]"
      ],
      "metadata": {
        "id": "c6hUiBIs0V-i"
      },
      "execution_count": null,
      "outputs": []
    },
    {
      "cell_type": "code",
      "source": [
        "ys[:,-10:]"
      ],
      "metadata": {
        "id": "qXawl4v80kcJ"
      },
      "execution_count": null,
      "outputs": []
    },
    {
      "cell_type": "code",
      "source": [
        "res.t.size"
      ],
      "metadata": {
        "id": "ZKgjmOFh7yeU"
      },
      "execution_count": null,
      "outputs": []
    },
    {
      "cell_type": "code",
      "source": [
        "ts.size"
      ],
      "metadata": {
        "id": "TE05LePLNThm"
      },
      "execution_count": null,
      "outputs": []
    },
    {
      "cell_type": "code",
      "source": [],
      "metadata": {
        "id": "KBVJK2zyRUNY"
      },
      "execution_count": null,
      "outputs": []
    }
  ]
}