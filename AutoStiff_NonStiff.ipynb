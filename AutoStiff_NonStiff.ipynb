{
  "nbformat": 4,
  "nbformat_minor": 0,
  "metadata": {
    "colab": {
      "provenance": [],
      "authorship_tag": "ABX9TyNcdKsAwReTz0d0oTEiBy2Y",
      "include_colab_link": true
    },
    "kernelspec": {
      "name": "python3",
      "display_name": "Python 3"
    },
    "language_info": {
      "name": "python"
    }
  },
  "cells": [
    {
      "cell_type": "markdown",
      "metadata": {
        "id": "view-in-github",
        "colab_type": "text"
      },
      "source": [
        "<a href=\"https://colab.research.google.com/github/profteachkids/CHE5136_Fall2023/blob/main/AutoStiff_NonStiff.ipynb\" target=\"_parent\"><img src=\"https://colab.research.google.com/assets/colab-badge.svg\" alt=\"Open In Colab\"/></a>"
      ]
    },
    {
      "cell_type": "code",
      "execution_count": 1,
      "metadata": {
        "id": "5KkHti1-nKEu"
      },
      "outputs": [],
      "source": [
        "import jax\n",
        "import jax.numpy as jnp\n",
        "import numpy as np\n",
        "jax.config.update('jax_enable_x64',True)\n",
        "from scipy.integrate import solve_ivp\n",
        "from plotly.subplots import make_subplots"
      ]
    },
    {
      "cell_type": "code",
      "source": [
        "np.set_printoptions(precision=10,linewidth=200)\n",
        "jnp.set_printoptions(precision=10, linewidth=200)"
      ],
      "metadata": {
        "id": "eMlj5Z_iR0u7"
      },
      "execution_count": 2,
      "outputs": []
    },
    {
      "cell_type": "code",
      "source": [
        "def vdp(t,v,u):\n",
        "    return jnp.array([u[0]*v[1], u[1]*100*(1 - v[0]**2)*v[1] - v[0]])\n",
        "\n"
      ],
      "metadata": {
        "id": "7T4L7mJUnjKI"
      },
      "execution_count": 95,
      "outputs": []
    },
    {
      "cell_type": "code",
      "source": [
        "#Lobatto IIIC\n",
        "a_lobatto=np.array([[1/6, -1/3, 1/6],\n",
        "                    [1/6, 5/12, -1/12],\n",
        "                    [1/6, 2/3, 1/6]])\n",
        "\n",
        "c_lobatto=np.array([0, 0.5, 1])\n",
        "b1_lobatto = np.array([1/6, 2/3, 1/6])\n",
        "b2_lobatto = np.array([-0.5, 2, -0.5])\n",
        "\n",
        "#https://arxiv.org/pdf/1306.2392.pdf, Hairer's embedded RADAU5\n",
        "\n",
        "s6=np.sqrt(6)\n",
        "a_radau= np.array([[(88-7*s6)/360,   (296-169*s6)/1800,      (-2+3*s6)/225],\n",
        "                   [(296+169*s6)/1800,  (88+7*s6)/360,      (-2-3*s6)/225],\n",
        "                   [(16-s6)/36,         (16+s6)/36,         1/9]])\n",
        "\n",
        "c_radau=np.array([(4-s6)/10, (4+s6)/10, 1])\n",
        "b1_radau = np.array([(16-s6)/36,         (16+s6)/36,         1/9])\n",
        "radau_g = 1/8\n",
        "b2_radau = np.r_[radau_g, b1_radau-radau_g*np.array([(2+3*s6)/6, (2-3*s6)/6, 1/3])]\n",
        "\n",
        "\n",
        "\n",
        "\n",
        "\n",
        "a_DormandPrince = np.array([[0,     0,      0,      0,      0,      0,      0],\n",
        "                            [1/5,   0,      0,      0,      0,      0,      0],\n",
        "                            [3/40,  9/40,   0,      0,      0,      0,      0],\n",
        "                            [44/45, -56/15, 32/9,   0,      0,      0,      0],\n",
        "                            [19372/6561,    -25360/2187,    64448/6561,     -212/729,   0,      0, 0],\n",
        "                            [9017/3168,     -355/33,        46732/5247,     49/176,     -5103/18656,    0, 0],\n",
        "                            [35/384,        0,          500/1113,       125/192,        -2187/6784,     11/84, 0]])\n",
        "c_DormandPrince = np.array([0, 1/5, 3/10, 4/5, 8/9, 1, 1.])\n",
        "b1_DormandPrince = np.array([35/384, 0, 500/1113, 125/192, -2187/6784, 11/84, 0])\n",
        "b2_DormandPrince = np.array([5179/57600, 0, 7571/16695, 393/640, -92097/339200, 187/2100, 1/40])\n",
        "\n",
        "def get_explicit_step(rhs, u=None, a=a_DormandPrince, b1=b1_DormandPrince, b2=b2_DormandPrince, c=c_DormandPrince):\n",
        "\n",
        "    def step(t0, y0, h):\n",
        "        tvec = t0+c*h\n",
        "        Ny=y0.size\n",
        "        def f_scan(ik, act):\n",
        "            i,k=ik\n",
        "            a,c,t = act\n",
        "            k=k.at[i].set(rhs(t,y0+h*a@k, u))\n",
        "            return (i+1,k), None\n",
        "\n",
        "        (_,k),_= jax.lax.scan(f_scan, (0,jnp.zeros((c.shape[0], Ny))), (a, c, tvec))\n",
        "        return y0 + h*b1@k, y0 + h*b2@k\n",
        "\n",
        "    return jax.jit(step)"
      ],
      "metadata": {
        "id": "_tJfKoBfJzl4"
      },
      "execution_count": 96,
      "outputs": []
    },
    {
      "cell_type": "code",
      "source": [
        "def get_implicit_step(rhs, u=None, a=a_radau, b1=b1_radau, b2=b2_radau, c=c_radau):\n",
        "    Nstages = c.size\n",
        "    rhs_vec=jax.jit(jax.vmap(rhs,in_axes=(0,0,None),out_axes=0))\n",
        "    rhs_jac=jax.jacobian(rhs,1)\n",
        "\n",
        "    def k_func(tvec, y,h,k):\n",
        "        k=k.reshape(Nstages,y.size)\n",
        "        yvec = y + h*a@k\n",
        "        return (k-rhs_vec(tvec,yvec, u)).ravel()\n",
        "\n",
        "    k_func_jac=jax.jacobian(k_func,3)\n",
        "\n",
        "    def step(t0, y0, h):\n",
        "        Ny=y0.size\n",
        "        tvec = t0+c*h\n",
        "        rhs0=rhs(t0,y0,u)\n",
        "        k = jnp.tile(rhs0.reshape(1,-1),(Nstages,1)).ravel()\n",
        "        f0=k_func(tvec,y0,h,k)\n",
        "\n",
        "        def body_func_for(i, kf):\n",
        "            k,f=kf\n",
        "            f=k_func(tvec,y0,h,k)\n",
        "            dk = jnp.linalg.solve(k_func_jac(tvec,y0,h,k), -f)\n",
        "            k=k+dk\n",
        "            return k,f\n",
        "\n",
        "        def body_func_while(kfi):\n",
        "            k,f,i=kfi\n",
        "            f=k_func(tvec,y0,h,k)\n",
        "            dk = jnp.linalg.solve(k_func_jac(tvec,y0,h,k), -f)\n",
        "            k=k+dk\n",
        "            return k,f,i+1\n",
        "\n",
        "        def cond_func(kfi):\n",
        "            k,f,i=kfi\n",
        "            return jnp.logical_and(jnp.linalg.norm(f)>1e-12,i<50)\n",
        "\n",
        "        # k,f,i=jax.lax.while_loop(cond_func, body_func_while, (k, f0, 0))  #does not work with reverse mode\n",
        "        k,f=jax.lax.fori_loop(0,5, body_func_for, (k, f0))  #5 iterations should be enough\n",
        "        k=k.reshape(Nstages,Ny)\n",
        "        return y0+ h*(b1@k), y0 + h*(b2@ jnp.concatenate([rhs0.reshape(1,y0.size), k]))\n",
        "\n",
        "    def step2(t0, y0, h):\n",
        "        #Simplified Newton Method (less accurate)\n",
        "        tvec = t0+c*h\n",
        "        Ny=y0.size\n",
        "        mat=jnp.kron(jnp.eye(Nstages),jnp.eye(Ny)) - h*jnp.kron(a_radau,rhs_jac(t0,y0,u))\n",
        "        Y0=jnp.tile(y0,(Nstages,1))\n",
        "        f0=Y0.reshape(-1,1)-jnp.tile(y0,(1,Nstages)).T-h*(a_radau @ rhs_vec(tvec,Y0,u)).reshape(-1,1)\n",
        "\n",
        "        def body_func(Yfi):\n",
        "            Y,f,i=Yfi\n",
        "            f=Y.reshape(-1,1)-jnp.tile(y0,(1,Nstages)).T-h*(a_radau @ rhs_vec(tvec,Y,u)).reshape(-1,1)\n",
        "            dY = jnp.linalg.solve(mat, -f)\n",
        "            Y=Y+dY.reshape(Nstages,Ny)\n",
        "            return Y,f,i+1\n",
        "\n",
        "        def cond_func(Yfi):\n",
        "            _,f,i=Yfi\n",
        "            return jnp.logical_and(jnp.linalg.norm(f)>1e-12,i<50)\n",
        "\n",
        "        Y,f,i=jax.lax.while_loop(cond_func, body_func, (Y0, f0, 0))\n",
        "\n",
        "        return y0+ h*(b1@Y),y0 + h*(b2@ jnp.concatenate([rhs(t0,y0,u).reshape(1,Ny), Y]))\n",
        "\n",
        "    return jax.jit(step)"
      ],
      "metadata": {
        "id": "7VWJT8lztPNc"
      },
      "execution_count": 147,
      "outputs": []
    },
    {
      "cell_type": "code",
      "source": [
        "def test(u):\n",
        "    step=get_implicit_step(vdp,u)\n",
        "    h=0.01\n",
        "    y0=jnp.array([1.1, 0.1])\n",
        "    return step(0,y0,h)"
      ],
      "metadata": {
        "id": "sqlg7T8CSy-9"
      },
      "execution_count": 148,
      "outputs": []
    },
    {
      "cell_type": "code",
      "source": [
        "u=jnp.array([1.,1.])\n",
        "test(u)"
      ],
      "metadata": {
        "colab": {
          "base_uri": "https://localhost:8080/"
        },
        "id": "cuBbfOATYTzO",
        "outputId": "7e2547dc-d8ac-440a-99b0-4b6ce0cee03f"
      },
      "execution_count": 149,
      "outputs": [
        {
          "output_type": "execute_result",
          "data": {
            "text/plain": [
              "(Array([1.1008503481, 0.0710586368], dtype=float64),\n",
              " Array([1.1008503705, 0.0710583774], dtype=float64))"
            ]
          },
          "metadata": {},
          "execution_count": 149
        }
      ]
    },
    {
      "cell_type": "code",
      "source": [
        "test_jac=jax.jit(jax.jacrev(lambda u: test(u)[0]))\n",
        "test_jac(u)"
      ],
      "metadata": {
        "colab": {
          "base_uri": "https://localhost:8080/"
        },
        "id": "dlfnLtrVYax5",
        "outputId": "c3ce9776-4981-4601-d24e-b88e2356ea1e"
      },
      "execution_count": 151,
      "outputs": [
        {
          "output_type": "execute_result",
          "data": {
            "text/plain": [
              "Array([[ 8.5006043573e-04, -8.8140420406e-05],\n",
              "       [-7.7978785122e-05, -1.6069119335e-02]], dtype=float64)"
            ]
          },
          "metadata": {},
          "execution_count": 151
        }
      ]
    },
    {
      "cell_type": "code",
      "source": [
        "test_jac(u*2)"
      ],
      "metadata": {
        "colab": {
          "base_uri": "https://localhost:8080/"
        },
        "id": "oatbiYKjateh",
        "outputId": "7d33dc2b-309e-4494-b3ad-e3689cf1c8a2"
      },
      "execution_count": 152,
      "outputs": [
        {
          "output_type": "execute_result",
          "data": {
            "text/plain": [
              "Array([[ 0.0007666805, -0.0001537651],\n",
              "       [-0.0001144488, -0.0129675765]], dtype=float64)"
            ]
          },
          "metadata": {},
          "execution_count": 152
        }
      ]
    },
    {
      "cell_type": "code",
      "source": [],
      "metadata": {
        "id": "9nhCkrI4cgze"
      },
      "execution_count": null,
      "outputs": []
    },
    {
      "cell_type": "code",
      "source": [
        "step_exp=get_explicit_step(vdp,u)\n",
        "step_imp=get_implicit_step(vdp,u)\n",
        "h=0.01\n",
        "y0=jnp.array([1.1, 0.1])\n",
        "print(step_imp(0,y0,h))\n",
        "print(step_exp(0,y0,h))\n",
        "print(sol(h))"
      ],
      "metadata": {
        "colab": {
          "base_uri": "https://localhost:8080/"
        },
        "id": "fKbaqcq_y0iu",
        "outputId": "80a91dc1-1760-4da1-dbc3-fd5e6dd0597d"
      },
      "execution_count": 123,
      "outputs": [
        {
          "output_type": "stream",
          "name": "stdout",
          "text": [
            "(Array([1.1008503481, 0.0710586368], dtype=float64), Array([1.1008503705, 0.0710583774], dtype=float64))\n",
            "(Array([1.100850348 , 0.0710586379], dtype=float64), Array([1.1008503502, 0.0710585885], dtype=float64))\n",
            "[1.1008503481 0.0710586357]\n"
          ]
        }
      ]
    },
    {
      "cell_type": "code",
      "source": [
        "\n",
        "tend=2.\n",
        "res=solve_ivp(vdp,(0,tend),y0,method='Radau',dense_output=True,atol=1e-12,rtol=1e-10)\n",
        "sol=res.sol"
      ],
      "metadata": {
        "id": "2Cz5QMJLqJE4"
      },
      "execution_count": 7,
      "outputs": []
    },
    {
      "cell_type": "code",
      "source": [
        "res.t"
      ],
      "metadata": {
        "id": "HVKmNGLVVQj0"
      },
      "execution_count": null,
      "outputs": []
    },
    {
      "cell_type": "code",
      "source": [
        "sol(h)"
      ],
      "metadata": {
        "id": "D2PjBWBh-JXB"
      },
      "execution_count": null,
      "outputs": []
    },
    {
      "cell_type": "code",
      "source": [
        "np.linalg.eig(jac(0,y0))"
      ],
      "metadata": {
        "id": "ANFK6Si3-MsH"
      },
      "execution_count": null,
      "outputs": []
    },
    {
      "cell_type": "code",
      "source": [
        "y, f_jvp=jax.linearize(lambda v: rhs_sin(0,v), y0)"
      ],
      "metadata": {
        "id": "I-ynudT2-j5h"
      },
      "execution_count": null,
      "outputs": []
    },
    {
      "cell_type": "code",
      "source": [
        "bold=np.random.uniform(size=2)"
      ],
      "metadata": {
        "id": "LoHXB757_Zzl"
      },
      "execution_count": null,
      "outputs": []
    },
    {
      "cell_type": "code",
      "source": [
        "for i in range(10):\n",
        "    bnew= f_jvp(bold)\n",
        "    u = jnp.sum(bold*bnew)/jnp.sum(bold*bold)\n",
        "    bnew=bnew/jnp.linalg.norm(bnew)\n",
        "    bold=bnew\n",
        "    print(u)"
      ],
      "metadata": {
        "id": "NtdcyMzB_emE"
      },
      "execution_count": null,
      "outputs": []
    },
    {
      "cell_type": "code",
      "source": [
        "np.set_printoptions(precision=15)\n",
        "y=[y0]\n",
        "yprev=y0.copy()\n",
        "\n",
        "dt=0.01\n",
        "tplot = np.arange(0,tend*1.01,dt)\n",
        "for t in tplot:\n",
        "    ls, vs= np.linalg.eig(jac(0,yprev))\n",
        "    cs = np.linalg.solve(vs,yprev)\n",
        "    yprev=np.real(vs@(cs*jnp.exp(ls*dt)))\n",
        "    y.append(yprev)"
      ],
      "metadata": {
        "id": "QdGSiOhpwJv-"
      },
      "execution_count": null,
      "outputs": []
    },
    {
      "cell_type": "code",
      "source": [
        "linear_y=jnp.stack(y,axis=1)"
      ],
      "metadata": {
        "id": "OiN-_aqgwW8b"
      },
      "execution_count": null,
      "outputs": []
    },
    {
      "cell_type": "code",
      "source": [
        "fig=make_subplots()\n",
        "fig.add_scatter(x=tplot,y=linear_y[0])\n",
        "fig.add_scatter(x=tplot,y=sol(tplot)[0])"
      ],
      "metadata": {
        "id": "hnzNMai4MVoL"
      },
      "execution_count": null,
      "outputs": []
    },
    {
      "cell_type": "code",
      "source": [],
      "metadata": {
        "id": "BkoaNPP8JHkT"
      },
      "execution_count": null,
      "outputs": []
    }
  ]
}