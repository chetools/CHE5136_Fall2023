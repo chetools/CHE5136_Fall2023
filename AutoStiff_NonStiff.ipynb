{
  "nbformat": 4,
  "nbformat_minor": 0,
  "metadata": {
    "colab": {
      "provenance": [],
      "authorship_tag": "ABX9TyPgFNCSlR/3dq8F0GY02KN7",
      "include_colab_link": true
    },
    "kernelspec": {
      "name": "python3",
      "display_name": "Python 3"
    },
    "language_info": {
      "name": "python"
    }
  },
  "cells": [
    {
      "cell_type": "markdown",
      "metadata": {
        "id": "view-in-github",
        "colab_type": "text"
      },
      "source": [
        "<a href=\"https://colab.research.google.com/github/profteachkids/CHE5136_Fall2023/blob/main/AutoStiff_NonStiff.ipynb\" target=\"_parent\"><img src=\"https://colab.research.google.com/assets/colab-badge.svg\" alt=\"Open In Colab\"/></a>"
      ]
    },
    {
      "cell_type": "code",
      "execution_count": 180,
      "metadata": {
        "id": "5KkHti1-nKEu"
      },
      "outputs": [],
      "source": [
        "import jax\n",
        "import jax.numpy as jnp\n",
        "import numpy as np\n",
        "jax.config.update('jax_enable_x64',True)\n",
        "from scipy.integrate import solve_ivp\n",
        "from plotly.subplots import make_subplots\n",
        "from functools import partial"
      ]
    },
    {
      "cell_type": "code",
      "source": [
        "np.set_printoptions(precision=10,linewidth=200)\n",
        "jnp.set_printoptions(precision=10, linewidth=200)"
      ],
      "metadata": {
        "id": "eMlj5Z_iR0u7"
      },
      "execution_count": 2,
      "outputs": []
    },
    {
      "cell_type": "code",
      "source": [
        "def vdp(t,v,u):\n",
        "    return jnp.array([v[1], 100*(1 - v[0]**2)*v[1] - v[0]])\n",
        "\n"
      ],
      "metadata": {
        "id": "7T4L7mJUnjKI"
      },
      "execution_count": 385,
      "outputs": []
    },
    {
      "cell_type": "code",
      "source": [
        "#Lobatto IIIC\n",
        "a_lobatto=np.array([[1/6, -1/3, 1/6],\n",
        "                    [1/6, 5/12, -1/12],\n",
        "                    [1/6, 2/3, 1/6]])\n",
        "\n",
        "c_lobatto=np.array([0, 0.5, 1])\n",
        "b1_lobatto = np.array([1/6, 2/3, 1/6])\n",
        "b2_lobatto = np.array([-0.5, 2, -0.5])\n",
        "\n",
        "#https://arxiv.org/pdf/1306.2392.pdf, Hairer's embedded RADAU5\n",
        "\n",
        "s6=np.sqrt(6)\n",
        "a_radau= np.array([[(88-7*s6)/360,   (296-169*s6)/1800,      (-2+3*s6)/225],\n",
        "                   [(296+169*s6)/1800,  (88+7*s6)/360,      (-2-3*s6)/225],\n",
        "                   [(16-s6)/36,         (16+s6)/36,         1/9]])\n",
        "\n",
        "c_radau=np.array([(4-s6)/10, (4+s6)/10, 1])\n",
        "b1_radau = np.array([(16-s6)/36,         (16+s6)/36,         1/9])\n",
        "radau_g = 1/8\n",
        "b2_radau = np.r_[radau_g, b1_radau-radau_g*np.array([(2+3*s6)/6, (2-3*s6)/6, 1/3])]\n",
        "\n",
        "\n",
        "\n",
        "\n",
        "\n",
        "a_DormandPrince = np.array([[0,     0,      0,      0,      0,      0,      0],\n",
        "                            [1/5,   0,      0,      0,      0,      0,      0],\n",
        "                            [3/40,  9/40,   0,      0,      0,      0,      0],\n",
        "                            [44/45, -56/15, 32/9,   0,      0,      0,      0],\n",
        "                            [19372/6561,    -25360/2187,    64448/6561,     -212/729,   0,      0, 0],\n",
        "                            [9017/3168,     -355/33,        46732/5247,     49/176,     -5103/18656,    0, 0],\n",
        "                            [35/384,        0,          500/1113,       125/192,        -2187/6784,     11/84, 0]])\n",
        "c_DormandPrince = np.array([0, 1/5, 3/10, 4/5, 8/9, 1, 1.])\n",
        "b1_DormandPrince = np.array([35/384, 0, 500/1113, 125/192, -2187/6784, 11/84, 0])\n",
        "b2_DormandPrince = np.array([5179/57600, 0, 7571/16695, 393/640, -92097/339200, 187/2100, 1/40])\n",
        "\n",
        "def get_explicit_step(rhs, u=None, a=a_DormandPrince, b1=b1_DormandPrince, b2=b2_DormandPrince, c=c_DormandPrince):\n",
        "\n",
        "    def step(t0, y0, h):\n",
        "        tvec = t0+c*h\n",
        "        Ny=y0.size\n",
        "        def f_scan(ik, act):\n",
        "            i,k=ik\n",
        "            a,c,t = act\n",
        "            k=k.at[i].set(rhs(t,y0+h*a@k, u))\n",
        "            return (i+1,k), None\n",
        "\n",
        "        (_,k),_= jax.lax.scan(f_scan, (0,jnp.zeros((c.shape[0], Ny))), (a, c, tvec))\n",
        "        return y0 + h*b1@k, y0 + h*b2@k\n",
        "\n",
        "    return jax.jit(step)"
      ],
      "metadata": {
        "id": "_tJfKoBfJzl4"
      },
      "execution_count": 386,
      "outputs": []
    },
    {
      "cell_type": "code",
      "source": [
        "def get_implicit_step(rhs, u=None, a=a_radau, b1=b1_radau, b2=b2_radau, c=c_radau):\n",
        "    Nstages = c.size\n",
        "    rhs_vec=jax.jit(jax.vmap(rhs,in_axes=(0,0,None),out_axes=0))\n",
        "    rhs_jac=jax.jacobian(rhs,1)\n",
        "\n",
        "    def k_func(tvec, y,h,k):\n",
        "        k=k.reshape(Nstages,y.size)\n",
        "        yvec = y + h*a@k\n",
        "        return (k-rhs_vec(tvec,yvec, u)).ravel()\n",
        "\n",
        "    k_func_jac=jax.jacobian(k_func,3)\n",
        "\n",
        "    def step(t0, y0, h):\n",
        "        Ny=y0.size\n",
        "        tvec = t0+c*h\n",
        "        rhs0=rhs(t0,y0,u)\n",
        "        k = jnp.tile(rhs0.reshape(1,-1),(Nstages,1)).ravel()\n",
        "        f0=k_func(tvec,y0,h,k)\n",
        "\n",
        "        def body_func_for(i, kf):\n",
        "            k,f=kf\n",
        "            f=k_func(tvec,y0,h,k)\n",
        "            dk = jnp.linalg.solve(k_func_jac(tvec,y0,h,k), -f)\n",
        "            k=k+dk\n",
        "            return k,f\n",
        "\n",
        "        def body_func_while(kfi):\n",
        "            k,f,i=kfi\n",
        "            f=k_func(tvec,y0,h,k)\n",
        "            dk = jnp.linalg.solve(k_func_jac(tvec,y0,h,k), -f)\n",
        "            k=k+dk\n",
        "            return k,f,i+1\n",
        "\n",
        "        def cond_func(kfi):\n",
        "            k,f,i=kfi\n",
        "            return jnp.logical_and(jnp.linalg.norm(f)>1e-12,i<50)\n",
        "\n",
        "        # k,f,i=jax.lax.while_loop(cond_func, body_func_while, (k, f0, 0))  #does not work with reverse mode\n",
        "        k,f=jax.lax.fori_loop(0,5, body_func_for, (k, f0))  #5 iterations should be enough\n",
        "        k=k.reshape(Nstages,Ny)\n",
        "        return y0+ h*(b1@k), y0 + h*(b2@ jnp.concatenate([rhs0.reshape(1,y0.size), k]))\n",
        "\n",
        "    def step2(t0, y0, h):\n",
        "        #Simplified Newton Method (less accurate)\n",
        "        tvec = t0+c*h\n",
        "        Ny=y0.size\n",
        "        mat=jnp.kron(jnp.eye(Nstages),jnp.eye(Ny)) - h*jnp.kron(a_radau,rhs_jac(t0,y0,u))\n",
        "        Y0=jnp.tile(y0,(Nstages,1))\n",
        "        f0=Y0.reshape(-1,1)-jnp.tile(y0,(1,Nstages)).T-h*(a_radau @ rhs_vec(tvec,Y0,u)).reshape(-1,1)\n",
        "\n",
        "        def body_func(Yfi):\n",
        "            Y,f,i=Yfi\n",
        "            f=Y.reshape(-1,1)-jnp.tile(y0,(1,Nstages)).T-h*(a_radau @ rhs_vec(tvec,Y,u)).reshape(-1,1)\n",
        "            dY = jnp.linalg.solve(mat, -f)\n",
        "            Y=Y+dY.reshape(Nstages,Ny)\n",
        "            return Y,f,i+1\n",
        "\n",
        "        def cond_func(Yfi):\n",
        "            _,f,i=Yfi\n",
        "            return jnp.logical_and(jnp.linalg.norm(f)>1e-12,i<50)\n",
        "\n",
        "        Y,f,i=jax.lax.while_loop(cond_func, body_func, (Y0, f0, 0))\n",
        "\n",
        "        return y0+ h*(b1@Y),y0 + h*(b2@ jnp.concatenate([rhs(t0,y0,u).reshape(1,Ny), Y]))\n",
        "\n",
        "    return jax.jit(step)"
      ],
      "metadata": {
        "id": "7VWJT8lztPNc"
      },
      "execution_count": 387,
      "outputs": []
    },
    {
      "cell_type": "code",
      "source": [
        "def test(u):\n",
        "    step=get_implicit_step(vdp,u)\n",
        "    h=0.01\n",
        "    y0=jnp.array([1.1, 0.1])\n",
        "    return step(0,y0,h)"
      ],
      "metadata": {
        "id": "sqlg7T8CSy-9"
      },
      "execution_count": 388,
      "outputs": []
    },
    {
      "cell_type": "code",
      "source": [
        "@partial(jax.jit, static_argnums=(0,))\n",
        "def is_stiff(rhs, t0, y0):\n",
        "    Ny=y0.size\n",
        "    y, f_jvp = jax.linearize(lambda y: rhs(t0,y), y0)\n",
        "    rand_v0 = jnp.array(np.random.uniform(size=Ny))\n",
        "\n",
        "    def f_scan(v0, _):\n",
        "        v = f_jvp(v0)\n",
        "        u = jnp.sum(v0*v)/jnp.sum(v0*v0)\n",
        "        v = v/jnp.linalg.norm(v)\n",
        "        return v, u\n",
        "\n",
        "    _, us = jax.lax.scan(f_scan, rand_v0, xs=None, length=10)\n",
        "\n",
        "    return jnp.any(us<-25)\n",
        "\n",
        "def auto_ivp(rhs, trange, y0, u=None, h=1, atol=1e-6, rtol=1e-3):\n",
        "    rhsty=jax.jit(lambda t,y: rhs(t,y,u))\n",
        "\n",
        "    Ny=y0.size\n",
        "    t0,tend= trange\n",
        "    step_exp=get_explicit_step(rhs,u)\n",
        "    step_imp=get_implicit_step(rhs,u)\n",
        "    t=t0\n",
        "    y=y0\n",
        "    ts=[t0]\n",
        "    ys=[y0]\n",
        "    stiffs=[]\n",
        "    counts=[]\n",
        "    hs=[]\n",
        "    def h_ok(y1,y2,h):\n",
        "        ratio = jnp.max(jnp.abs(y1-y2)/(atol+rtol*jnp.abs(y1)))\n",
        "        if ratio>1:\n",
        "            h=h/2\n",
        "            return False, h\n",
        "        if ratio<0.5:\n",
        "            h=h*1.5\n",
        "        return True,h\n",
        "\n",
        "    while t<tend:\n",
        "        stiff=0\n",
        "        count=0\n",
        "        if is_stiff(rhsty, t, y):\n",
        "            stiff=1\n",
        "            while True:\n",
        "                count+=1\n",
        "                yb1, yb2 = step_imp(t,y,h)\n",
        "                hok, h = h_ok(yb1, yb2, h)\n",
        "                if hok:\n",
        "                    break\n",
        "        else:\n",
        "            while True:\n",
        "                count+=1\n",
        "                yb1, yb2 = step_exp(t,y,h)\n",
        "                hok, h = h_ok(yb1, yb2, h)\n",
        "                if hok:\n",
        "                    break\n",
        "        t=t+h\n",
        "        y=yb1\n",
        "        ts.append(t)\n",
        "        ys.append(y)\n",
        "        stiffs.append(stiff)\n",
        "        counts.append(count)\n",
        "        hs.append(h)\n",
        "\n",
        "    return jnp.array(ts), jnp.stack(ys,axis=1),jnp.array(stiffs),jnp.array(counts),jnp.array(hs)\n",
        ""
      ],
      "metadata": {
        "id": "9nhCkrI4cgze"
      },
      "execution_count": 448,
      "outputs": []
    },
    {
      "cell_type": "code",
      "source": [
        "y0=jnp.array([1.,0.])\n",
        "ts, ys, stiffs, counts, hs=auto_ivp(vdp,(0,10), y0, u=u, h=0.0001, atol=1e-12,rtol=1e-10)"
      ],
      "metadata": {
        "id": "aWxk1wmfuuJP"
      },
      "execution_count": 450,
      "outputs": []
    },
    {
      "cell_type": "code",
      "source": [
        "counts[:5]"
      ],
      "metadata": {
        "colab": {
          "base_uri": "https://localhost:8080/"
        },
        "id": "cy31UpkE1L-3",
        "outputId": "7b75ef88-a61e-4429-8d8d-75470186cec7"
      },
      "execution_count": 451,
      "outputs": [
        {
          "output_type": "execute_result",
          "data": {
            "text/plain": [
              "Array([1, 1, 1, 1, 1], dtype=int64)"
            ]
          },
          "metadata": {},
          "execution_count": 451
        }
      ]
    },
    {
      "cell_type": "code",
      "source": [
        "ts.size"
      ],
      "metadata": {
        "colab": {
          "base_uri": "https://localhost:8080/"
        },
        "id": "zzeC-dQ81ojy",
        "outputId": "05eeb856-6bd5-4c74-d67e-9e554beba3fb"
      },
      "execution_count": 452,
      "outputs": [
        {
          "output_type": "execute_result",
          "data": {
            "text/plain": [
              "1413"
            ]
          },
          "metadata": {},
          "execution_count": 452
        }
      ]
    },
    {
      "cell_type": "code",
      "source": [
        "np.histogram(hs)"
      ],
      "metadata": {
        "colab": {
          "base_uri": "https://localhost:8080/"
        },
        "id": "euKngvz5216x",
        "outputId": "7176b70c-635b-42b6-c26b-ac8b3e5fb0b1"
      },
      "execution_count": 453,
      "outputs": [
        {
          "output_type": "execute_result",
          "data": {
            "text/plain": [
              "(array([1398,    2,    1,    1,    1,    2,    1,    3,    2,    1]),\n",
              " array([4.1881212292e-05, 1.1926071003e-01, 2.3847953885e-01, 3.5769836767e-01, 4.7691719649e-01, 5.9613602531e-01, 7.1535485413e-01, 8.3457368295e-01, 9.5379251177e-01, 1.0730113406e+00,\n",
              "        1.1922301694e+00]))"
            ]
          },
          "metadata": {},
          "execution_count": 453
        }
      ]
    },
    {
      "cell_type": "code",
      "source": [
        "\n",
        "tend=12\n",
        "res=solve_ivp(jax.jit(vdp),(0,tend),y0,method='LSODA',args=(u,), t_eval=ts)\n",
        "sol=res.sol"
      ],
      "metadata": {
        "id": "2Cz5QMJLqJE4"
      },
      "execution_count": 454,
      "outputs": []
    },
    {
      "cell_type": "code",
      "source": [
        "res.t.size"
      ],
      "metadata": {
        "colab": {
          "base_uri": "https://localhost:8080/"
        },
        "id": "BkoaNPP8JHkT",
        "outputId": "feb50d11-df1b-4666-8a21-ac3fa48153ed"
      },
      "execution_count": 455,
      "outputs": [
        {
          "output_type": "execute_result",
          "data": {
            "text/plain": [
              "1413"
            ]
          },
          "metadata": {},
          "execution_count": 455
        }
      ]
    },
    {
      "cell_type": "code",
      "source": [
        "ts.size"
      ],
      "metadata": {
        "colab": {
          "base_uri": "https://localhost:8080/"
        },
        "id": "-kDiwEMg0IVI",
        "outputId": "3748c695-dd5f-4c05-c316-1c5e2d5f3b5e"
      },
      "execution_count": 456,
      "outputs": [
        {
          "output_type": "execute_result",
          "data": {
            "text/plain": [
              "1413"
            ]
          },
          "metadata": {},
          "execution_count": 456
        }
      ]
    },
    {
      "cell_type": "code",
      "source": [
        "res.y[:,:5]"
      ],
      "metadata": {
        "colab": {
          "base_uri": "https://localhost:8080/"
        },
        "id": "c6hUiBIs0V-i",
        "outputId": "b7292437-cf36-4402-b365-bbd124ef8641"
      },
      "execution_count": 457,
      "outputs": [
        {
          "output_type": "execute_result",
          "data": {
            "text/plain": [
              "array([[ 1.0000000000e+00,  9.9999998775e-01,  9.9999992869e-01,  9.9999974517e-01,  9.9999925632e-01],\n",
              "       [ 0.0000000000e+00, -1.4999999846e-04, -3.7499998406e-04, -7.1249993245e-04, -1.2187497325e-03]])"
            ]
          },
          "metadata": {},
          "execution_count": 457
        }
      ]
    },
    {
      "cell_type": "code",
      "source": [
        "ys[:,:5]"
      ],
      "metadata": {
        "colab": {
          "base_uri": "https://localhost:8080/"
        },
        "id": "qXawl4v80kcJ",
        "outputId": "5e7e1a2c-6db6-4527-ef73-ff5bac0e8d67"
      },
      "execution_count": 458,
      "outputs": [
        {
          "output_type": "execute_result",
          "data": {
            "text/plain": [
              "Array([[ 1.0000000000e+00,  9.9999999500e-01,  9.9999996875e-01,  9.9999988719e-01,  9.9999966992e-01],\n",
              "       [ 0.0000000000e+00, -9.9999999836e-05, -2.4999999749e-04, -4.7499998341e-04, -8.1249992150e-04]], dtype=float64)"
            ]
          },
          "metadata": {},
          "execution_count": 458
        }
      ]
    },
    {
      "cell_type": "code",
      "source": [
        "ts"
      ],
      "metadata": {
        "colab": {
          "base_uri": "https://localhost:8080/"
        },
        "id": "9BdYH-2w0ry7",
        "outputId": "867e6ea4-3bf7-401e-8be4-b5c3b1ed6b4a"
      },
      "execution_count": 426,
      "outputs": [
        {
          "output_type": "execute_result",
          "data": {
            "text/plain": [
              "Array([0.0000000000e+00, 2.3437500000e-03, 4.1015625000e-03, ..., 8.3604719483e+00, 9.4530392138e+00, 1.0272464663e+01], dtype=float64)"
            ]
          },
          "metadata": {},
          "execution_count": 426
        }
      ]
    },
    {
      "cell_type": "code",
      "source": [
        "res.t"
      ],
      "metadata": {
        "colab": {
          "base_uri": "https://localhost:8080/"
        },
        "id": "KQ9kZA2Y7lHO",
        "outputId": "de36ecc6-a764-43aa-803e-97cdda01c3b0"
      },
      "execution_count": 427,
      "outputs": [
        {
          "output_type": "execute_result",
          "data": {
            "text/plain": [
              "array([0.0000000000e+00, 2.3437500000e-03, 4.1015625000e-03, ..., 8.3604719483e+00, 9.4530392138e+00, 1.0272464663e+01])"
            ]
          },
          "metadata": {},
          "execution_count": 427
        }
      ]
    },
    {
      "cell_type": "code",
      "source": [],
      "metadata": {
        "id": "ZKgjmOFh7yeU"
      },
      "execution_count": null,
      "outputs": []
    }
  ]
}