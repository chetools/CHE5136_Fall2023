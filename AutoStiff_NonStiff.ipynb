{
  "nbformat": 4,
  "nbformat_minor": 0,
  "metadata": {
    "colab": {
      "provenance": [],
      "authorship_tag": "ABX9TyMbwfX/ZJZSMr9Pz0H6Mfpz",
      "include_colab_link": true
    },
    "kernelspec": {
      "name": "python3",
      "display_name": "Python 3"
    },
    "language_info": {
      "name": "python"
    }
  },
  "cells": [
    {
      "cell_type": "markdown",
      "metadata": {
        "id": "view-in-github",
        "colab_type": "text"
      },
      "source": [
        "<a href=\"https://colab.research.google.com/github/profteachkids/CHE5136_Fall2023/blob/main/AutoStiff_NonStiff.ipynb\" target=\"_parent\"><img src=\"https://colab.research.google.com/assets/colab-badge.svg\" alt=\"Open In Colab\"/></a>"
      ]
    },
    {
      "cell_type": "code",
      "execution_count": 1,
      "metadata": {
        "id": "5KkHti1-nKEu"
      },
      "outputs": [],
      "source": [
        "import jax\n",
        "import jax.numpy as jnp\n",
        "import numpy as np\n",
        "jax.config.update('jax_enable_x64',True)\n",
        "from scipy.integrate import solve_ivp\n",
        "from plotly.subplots import make_subplots"
      ]
    },
    {
      "cell_type": "code",
      "source": [
        "np.set_printoptions(precision=10,linewidth=200)\n",
        "jnp.set_printoptions(precision=10, linewidth=200)"
      ],
      "metadata": {
        "id": "eMlj5Z_iR0u7"
      },
      "execution_count": 102,
      "outputs": []
    },
    {
      "cell_type": "code",
      "source": [
        "def vdp(t,v):\n",
        "    return jnp.array([v[1], 100*(1 - v[0]**2)*v[1] - v[0]])\n",
        "\n"
      ],
      "metadata": {
        "id": "7T4L7mJUnjKI"
      },
      "execution_count": 96,
      "outputs": []
    },
    {
      "cell_type": "code",
      "source": [
        "#Lobatto IIIC\n",
        "a_lobatto=np.array([[1/6, -1/3, 1/6],\n",
        "                    [1/6, 5/12, -1/12],\n",
        "                    [1/6, 2/3, 1/6]])\n",
        "\n",
        "c_lobatto=np.array([0, 0.5, 1])\n",
        "b1_lobatto = np.array([1/6, 2/3, 1/6])\n",
        "b2_lobatto = np.array([-0.5, 2, -0.5])\n",
        "\n",
        "a_DormandPrince = np.array([[0,     0,      0,      0,      0,      0,      0],\n",
        "                            [1/5,   0,      0,      0,      0,      0,      0],\n",
        "                            [3/40,  9/40,   0,      0,      0,      0,      0],\n",
        "                            [44/45, -56/15, 32/9,   0,      0,      0,      0],\n",
        "                            [19372/6561,    -25360/2187,    64448/6561,     -212/729,   0,      0, 0],\n",
        "                            [9017/3168,     -355/33,        46732/5247,     49/176,     -5103/18656,    0, 0],\n",
        "                            [35/384,        0,          500/1113,       125/192,        -2187/6784,     11/84, 0]])\n",
        "c_DormandPrince = np.array([0, 1/5, 3/10, 4/5, 8/9, 1, 1.])\n",
        "b1_DormandPrince = np.array([35/384, 0, 500/1113, 125/192, -2187/6784, 11/84, 0])\n",
        "b2_DormandPrince = np.array([5179/57600, 0, 7571/16695, 393/640, -92097/339200, 187/2100, 1/40])\n",
        "\n",
        "def get_explicit_step(rhs, a=a_DormandPrince, b1=b1_DormandPrince, b2=b2_DormandPrince, c=c_DormandPrince):\n",
        "\n",
        "    def step(t0, y0, h):\n",
        "        tvec = t0+c*h\n",
        "        Ny=y0.size\n",
        "        def f_scan(ik, act):\n",
        "            i,k=ik\n",
        "            a,c,t = act\n",
        "            k=k.at[i].set(rhs(t,y0+h*a@k))\n",
        "            return (i+1,k), None\n",
        "\n",
        "        (_,k),_= jax.lax.scan(f_scan, (0,jnp.zeros((c.shape[0], Ny))), (a, c, tvec))\n",
        "        return y0 + h*b1@k, y0 + h*b2@k\n",
        "\n",
        "    return jax.jit(step)"
      ],
      "metadata": {
        "id": "_tJfKoBfJzl4"
      },
      "execution_count": 140,
      "outputs": []
    },
    {
      "cell_type": "code",
      "source": [
        "def get_implicit_step(rhs, a=a_lobatto, b1=b1_lobatto, b2=b2_lobatto, c=c_lobatto):\n",
        "    Nstages = c.size\n",
        "    rhs_vec=jax.jit(jax.vmap(rhs,in_axes=(0,0),out_axes=0))\n",
        "\n",
        "    def k_func(tvec, y,h,k):\n",
        "        k=k.reshape(Nstages,y.size)\n",
        "        yvec = y + h*a@k\n",
        "        return (k-rhs_vec(tvec,yvec)).ravel()\n",
        "\n",
        "    k_func_jac=jax.jacobian(k_func,3)\n",
        "\n",
        "    def step(t0, y0, h):\n",
        "        tvec = t0+c*h\n",
        "        k = jnp.tile(rhs(t0,y0).reshape(1,-1),(Nstages,1)).ravel()\n",
        "        f=k_func(tvec,y0,h,k)\n",
        "\n",
        "        def body_func(kfi):\n",
        "            k,f,i=kfi\n",
        "            f=k_func(tvec,y0,h,k)\n",
        "            dk = jnp.linalg.solve(k_func_jac(tvec,y0,h,k), -f)\n",
        "            k=k+dk\n",
        "            return k,f, i+1\n",
        "\n",
        "        def cond_func(kfi):\n",
        "            k,f,i=kfi\n",
        "            return jnp.logical_and(jnp.linalg.norm(f)<1e-12,i<50)\n",
        "\n",
        "        k,*_=jax.lax.while_loop(cond_func, body_func, (k, f, 0))\n",
        "        k=k.reshape(3,y0.size)\n",
        "        return y0+ h*(b1@k), y0 + h*(b2@k)\n",
        "\n",
        "\n",
        "    return step"
      ],
      "metadata": {
        "id": "7VWJT8lztPNc"
      },
      "execution_count": 141,
      "outputs": []
    },
    {
      "cell_type": "code",
      "source": [
        "step_exp=get_explicit_step(vdp)\n",
        "step_imp=get_implicit_step(vdp)\n",
        "h=0.001\n",
        "y0=jnp.array([0.51123413,0.5431234341])\n",
        "print(step_imp(0,y0,h))\n",
        "print(step_exp(0,y0,h))\n",
        "print(sol(h))"
      ],
      "metadata": {
        "colab": {
          "base_uri": "https://localhost:8080/"
        },
        "id": "fKbaqcq_y0iu",
        "outputId": "fd92ed3e-8204-4b88-b4e7-60efba50053e"
      },
      "execution_count": 142,
      "outputs": [
        {
          "output_type": "stream",
          "name": "stdout",
          "text": [
            "(Array([0.5117772534, 0.5827294511], dtype=float64), Array([0.5117772534, 0.5827294511], dtype=float64))\n",
            "(Array([0.5117975477, 0.5842119497], dtype=float64), Array([0.5117975477, 0.5842119506], dtype=float64))\n",
            "[0.5117975477 0.5842119497]\n"
          ]
        }
      ]
    },
    {
      "cell_type": "code",
      "source": [
        "\n",
        "tend=2.\n",
        "res=solve_ivp(vdp,(0,tend),y0,method='Radau',dense_output=True,atol=1e-12,rtol=1e-10)\n",
        "sol=res.sol"
      ],
      "metadata": {
        "id": "2Cz5QMJLqJE4"
      },
      "execution_count": 137,
      "outputs": []
    },
    {
      "cell_type": "code",
      "source": [],
      "metadata": {
        "colab": {
          "base_uri": "https://localhost:8080/"
        },
        "id": "HVKmNGLVVQj0",
        "outputId": "f0e92009-3024-4455-af54-ba081a13cae6"
      },
      "execution_count": 135,
      "outputs": [
        {
          "output_type": "execute_result",
          "data": {
            "text/plain": [
              "array([0.5115107033, 0.5632926404])"
            ]
          },
          "metadata": {},
          "execution_count": 135
        }
      ]
    },
    {
      "cell_type": "code",
      "source": [
        "sol(h)"
      ],
      "metadata": {
        "colab": {
          "base_uri": "https://localhost:8080/"
        },
        "id": "D2PjBWBh-JXB",
        "outputId": "e8d2b23e-62f4-4c30-b2e1-f1ead094ef96"
      },
      "execution_count": 9,
      "outputs": [
        {
          "output_type": "execute_result",
          "data": {
            "text/plain": [
              "array([0.50137312, 0.60163823])"
            ]
          },
          "metadata": {},
          "execution_count": 9
        }
      ]
    },
    {
      "cell_type": "code",
      "source": [
        "np.linalg.eig(jac(0,y0))"
      ],
      "metadata": {
        "colab": {
          "base_uri": "https://localhost:8080/",
          "height": 176
        },
        "id": "ANFK6Si3-MsH",
        "outputId": "b86f9fc0-5d77-4793-d77a-1c2083bd5ee6"
      },
      "execution_count": 10,
      "outputs": [
        {
          "output_type": "error",
          "ename": "NameError",
          "evalue": "ignored",
          "traceback": [
            "\u001b[0;31m---------------------------------------------------------------------------\u001b[0m",
            "\u001b[0;31mNameError\u001b[0m                                 Traceback (most recent call last)",
            "\u001b[0;32m<ipython-input-10-f047bf67c8d6>\u001b[0m in \u001b[0;36m<cell line: 1>\u001b[0;34m()\u001b[0m\n\u001b[0;32m----> 1\u001b[0;31m \u001b[0mnp\u001b[0m\u001b[0;34m.\u001b[0m\u001b[0mlinalg\u001b[0m\u001b[0;34m.\u001b[0m\u001b[0meig\u001b[0m\u001b[0;34m(\u001b[0m\u001b[0mjac\u001b[0m\u001b[0;34m(\u001b[0m\u001b[0;36m0\u001b[0m\u001b[0;34m,\u001b[0m\u001b[0my0\u001b[0m\u001b[0;34m)\u001b[0m\u001b[0;34m)\u001b[0m\u001b[0;34m\u001b[0m\u001b[0;34m\u001b[0m\u001b[0m\n\u001b[0m",
            "\u001b[0;31mNameError\u001b[0m: name 'jac' is not defined"
          ]
        }
      ]
    },
    {
      "cell_type": "code",
      "source": [
        "y, f_jvp=jax.linearize(lambda v: rhs_sin(0,v), y0)"
      ],
      "metadata": {
        "id": "I-ynudT2-j5h"
      },
      "execution_count": null,
      "outputs": []
    },
    {
      "cell_type": "code",
      "source": [
        "bold=np.random.uniform(size=2)"
      ],
      "metadata": {
        "id": "LoHXB757_Zzl"
      },
      "execution_count": null,
      "outputs": []
    },
    {
      "cell_type": "code",
      "source": [
        "for i in range(10):\n",
        "    bnew= f_jvp(bold)\n",
        "    u = jnp.sum(bold*bnew)/jnp.sum(bold*bold)\n",
        "    bnew=bnew/jnp.linalg.norm(bnew)\n",
        "    bold=bnew\n",
        "    print(u)"
      ],
      "metadata": {
        "id": "NtdcyMzB_emE"
      },
      "execution_count": null,
      "outputs": []
    },
    {
      "cell_type": "code",
      "source": [
        "np.set_printoptions(precision=15)\n",
        "y=[y0]\n",
        "yprev=y0.copy()\n",
        "\n",
        "dt=0.01\n",
        "tplot = np.arange(0,tend*1.01,dt)\n",
        "for t in tplot:\n",
        "    ls, vs= np.linalg.eig(jac(0,yprev))\n",
        "    cs = np.linalg.solve(vs,yprev)\n",
        "    yprev=np.real(vs@(cs*jnp.exp(ls*dt)))\n",
        "    y.append(yprev)"
      ],
      "metadata": {
        "id": "QdGSiOhpwJv-"
      },
      "execution_count": null,
      "outputs": []
    },
    {
      "cell_type": "code",
      "source": [
        "linear_y=jnp.stack(y,axis=1)"
      ],
      "metadata": {
        "id": "OiN-_aqgwW8b"
      },
      "execution_count": null,
      "outputs": []
    },
    {
      "cell_type": "code",
      "source": [
        "fig=make_subplots()\n",
        "fig.add_scatter(x=tplot,y=linear_y[0])\n",
        "fig.add_scatter(x=tplot,y=sol(tplot)[0])"
      ],
      "metadata": {
        "id": "hnzNMai4MVoL"
      },
      "execution_count": null,
      "outputs": []
    },
    {
      "cell_type": "code",
      "source": [],
      "metadata": {
        "id": "l_81xqCSMy-C"
      },
      "execution_count": null,
      "outputs": []
    }
  ]
}