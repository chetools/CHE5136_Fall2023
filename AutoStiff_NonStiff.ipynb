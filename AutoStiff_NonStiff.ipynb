{
  "nbformat": 4,
  "nbformat_minor": 0,
  "metadata": {
    "colab": {
      "provenance": [],
      "authorship_tag": "ABX9TyNU9YiLPbt8yfI4oNOL29zg",
      "include_colab_link": true
    },
    "kernelspec": {
      "name": "python3",
      "display_name": "Python 3"
    },
    "language_info": {
      "name": "python"
    }
  },
  "cells": [
    {
      "cell_type": "markdown",
      "metadata": {
        "id": "view-in-github",
        "colab_type": "text"
      },
      "source": [
        "<a href=\"https://colab.research.google.com/github/profteachkids/CHE5136_Fall2023/blob/main/AutoStiff_NonStiff.ipynb\" target=\"_parent\"><img src=\"https://colab.research.google.com/assets/colab-badge.svg\" alt=\"Open In Colab\"/></a>"
      ]
    },
    {
      "cell_type": "code",
      "execution_count": 1,
      "metadata": {
        "id": "5KkHti1-nKEu"
      },
      "outputs": [],
      "source": [
        "import jax\n",
        "import jax.numpy as jnp\n",
        "import numpy as np\n",
        "jax.config.update('jax_enable_x64',True)\n",
        "from scipy.integrate import solve_ivp\n",
        "from plotly.subplots import make_subplots\n",
        "from functools import partial"
      ]
    },
    {
      "cell_type": "code",
      "source": [
        "np.set_printoptions(precision=10,linewidth=200)\n",
        "jnp.set_printoptions(precision=10, linewidth=200)"
      ],
      "metadata": {
        "id": "eMlj5Z_iR0u7"
      },
      "execution_count": 2,
      "outputs": []
    },
    {
      "cell_type": "code",
      "source": [
        "def vdp(t,v,u):\n",
        "    return jnp.array([v[1], 100*(1 - v[0]**2)*v[1] - v[0]])\n",
        "\n"
      ],
      "metadata": {
        "id": "7T4L7mJUnjKI"
      },
      "execution_count": 3,
      "outputs": []
    },
    {
      "cell_type": "code",
      "source": [
        "#Lobatto IIIC\n",
        "a_lobatto=np.array([[1/6, -1/3, 1/6],\n",
        "                    [1/6, 5/12, -1/12],\n",
        "                    [1/6, 2/3, 1/6]])\n",
        "\n",
        "c_lobatto=np.array([0, 0.5, 1])\n",
        "b1_lobatto = np.array([1/6, 2/3, 1/6])\n",
        "b2_lobatto = np.array([-0.5, 2, -0.5])\n",
        "\n",
        "#https://arxiv.org/pdf/1306.2392.pdf, Hairer's embedded RADAU5\n",
        "\n",
        "s6=np.sqrt(6)\n",
        "a_radau= np.array([[(88-7*s6)/360,   (296-169*s6)/1800,      (-2+3*s6)/225],\n",
        "                   [(296+169*s6)/1800,  (88+7*s6)/360,      (-2-3*s6)/225],\n",
        "                   [(16-s6)/36,         (16+s6)/36,         1/9]])\n",
        "\n",
        "c_radau=np.array([(4-s6)/10, (4+s6)/10, 1])\n",
        "b1_radau = np.array([(16-s6)/36,         (16+s6)/36,         1/9])\n",
        "radau_g = 1/8\n",
        "b2_radau = np.r_[radau_g, b1_radau-radau_g*np.array([(2+3*s6)/6, (2-3*s6)/6, 1/3])]\n",
        "\n",
        "\n",
        "\n",
        "\n",
        "\n",
        "a_DormandPrince = np.array([[0,     0,      0,      0,      0,      0,      0],\n",
        "                            [1/5,   0,      0,      0,      0,      0,      0],\n",
        "                            [3/40,  9/40,   0,      0,      0,      0,      0],\n",
        "                            [44/45, -56/15, 32/9,   0,      0,      0,      0],\n",
        "                            [19372/6561,    -25360/2187,    64448/6561,     -212/729,   0,      0, 0],\n",
        "                            [9017/3168,     -355/33,        46732/5247,     49/176,     -5103/18656,    0, 0],\n",
        "                            [35/384,        0,          500/1113,       125/192,        -2187/6784,     11/84, 0]])\n",
        "c_DormandPrince = np.array([0, 1/5, 3/10, 4/5, 8/9, 1, 1.])\n",
        "b1_DormandPrince = np.array([35/384, 0, 500/1113, 125/192, -2187/6784, 11/84, 0])\n",
        "b2_DormandPrince = np.array([5179/57600, 0, 7571/16695, 393/640, -92097/339200, 187/2100, 1/40])\n",
        "\n",
        "def get_explicit_step(rhs, u=None, a=a_DormandPrince, b1=b1_DormandPrince, b2=b2_DormandPrince, c=c_DormandPrince):\n",
        "\n",
        "    def step(t0, y, h):\n",
        "        tvec = t0+c*h\n",
        "        Ny=y.size\n",
        "        def f_scan(ik, act):\n",
        "            i,k=ik\n",
        "            a,c,t = act\n",
        "            k=k.at[i].set(rhs(t,y+h*a@k, u))\n",
        "            return (i+1,k), None\n",
        "\n",
        "        (_,k),_= jax.lax.scan(f_scan, (0,jnp.zeros((c.shape[0], Ny))), (a, c, tvec))\n",
        "        return y + h*b1@k, y + h*b2@k\n",
        "\n",
        "    return jax.jit(step)"
      ],
      "metadata": {
        "id": "_tJfKoBfJzl4"
      },
      "execution_count": 4,
      "outputs": []
    },
    {
      "cell_type": "code",
      "source": [
        "def get_implicit_step(rhs, u=None, a=a_radau, b1=b1_radau, b2=b2_radau, c=c_radau):\n",
        "    Nstages = c.size\n",
        "    rhs_vec=jax.jit(jax.vmap(rhs,in_axes=(0,0,None),out_axes=0))\n",
        "    rhs_jac=jax.jacobian(rhs,1)\n",
        "\n",
        "    def k_func(tvec, y,h,k):\n",
        "        k=k.reshape(Nstages,y.size)\n",
        "        yvec = y + h*a@k\n",
        "        return (k-rhs_vec(tvec,yvec, u)).ravel()\n",
        "\n",
        "    k_func_jac=jax.jacobian(k_func,3)\n",
        "\n",
        "    def step(t0, y0, h):\n",
        "        Ny=y0.size\n",
        "        tvec = t0+c*h\n",
        "        rhs0=rhs(t0,y0,u)\n",
        "        k = jnp.tile(rhs0.reshape(1,-1),(Nstages,1)).ravel()\n",
        "        f0=k_func(tvec,y0,h,k)\n",
        "\n",
        "        def body_func_for(i, kf):\n",
        "            k,f=kf\n",
        "            f=k_func(tvec,y0,h,k)\n",
        "            dk = jnp.linalg.solve(k_func_jac(tvec,y0,h,k), -f)\n",
        "            k=k+dk\n",
        "            return k,f\n",
        "\n",
        "        def body_func_while(kfi):\n",
        "            k,f,i=kfi\n",
        "            f=k_func(tvec,y0,h,k)\n",
        "            dk = jnp.linalg.solve(k_func_jac(tvec,y0,h,k), -f)\n",
        "            k=k+dk\n",
        "            return k,f,i+1\n",
        "\n",
        "        def cond_func(kfi):\n",
        "            k,f,i=kfi\n",
        "            return jnp.logical_and(jnp.linalg.norm(f)>1e-12,i<50)\n",
        "\n",
        "        # k,f,i=jax.lax.while_loop(cond_func, body_func_while, (k, f0, 0))  #does not work with reverse mode\n",
        "        k,f=jax.lax.fori_loop(0,5, body_func_for, (k, f0))  #5 iterations should be enough\n",
        "        k=k.reshape(Nstages,Ny)\n",
        "        return y0+ h*(b1@k), y0 + h*(b2@ jnp.concatenate([rhs0.reshape(1,y0.size), k]))\n",
        "\n",
        "    def step2(t0, y0, h):\n",
        "        #Simplified Newton Method (less accurate)\n",
        "        tvec = t0+c*h\n",
        "        Ny=y0.size\n",
        "        mat=jnp.kron(jnp.eye(Nstages),jnp.eye(Ny)) - h*jnp.kron(a_radau,rhs_jac(t0,y0,u))\n",
        "        Y0=jnp.tile(y0,(Nstages,1))\n",
        "        f0=Y0.reshape(-1,1)-jnp.tile(y0,(1,Nstages)).T-h*(a_radau @ rhs_vec(tvec,Y0,u)).reshape(-1,1)\n",
        "\n",
        "        def body_func(Yfi):\n",
        "            Y,f,i=Yfi\n",
        "            f=Y.reshape(-1,1)-jnp.tile(y0,(1,Nstages)).T-h*(a_radau @ rhs_vec(tvec,Y,u)).reshape(-1,1)\n",
        "            dY = jnp.linalg.solve(mat, -f)\n",
        "            Y=Y+dY.reshape(Nstages,Ny)\n",
        "            return Y,f,i+1\n",
        "\n",
        "        def cond_func(Yfi):\n",
        "            _,f,i=Yfi\n",
        "            return jnp.logical_and(jnp.linalg.norm(f)>1e-12,i<50)\n",
        "\n",
        "        Y,f,i=jax.lax.while_loop(cond_func, body_func, (Y0, f0, 0))\n",
        "\n",
        "        return y0+ h*(b1@Y),y0 + h*(b2@ jnp.concatenate([rhs(t0,y0,u).reshape(1,Ny), Y]))\n",
        "\n",
        "    return jax.jit(step)"
      ],
      "metadata": {
        "id": "7VWJT8lztPNc"
      },
      "execution_count": 5,
      "outputs": []
    },
    {
      "cell_type": "code",
      "source": [
        "def test(u):\n",
        "    step=get_implicit_step(vdp,u)\n",
        "    h=0.01\n",
        "    y0=jnp.array([1.1, 0.1])\n",
        "    return step(0,y0,h)"
      ],
      "metadata": {
        "id": "sqlg7T8CSy-9"
      },
      "execution_count": 6,
      "outputs": []
    },
    {
      "cell_type": "code",
      "source": [
        "@partial(jax.jit, static_argnums=(0,))\n",
        "def is_stiff(rhs, t0, y):\n",
        "    Ny=y.size\n",
        "    y, f_jvp = jax.linearize(lambda y: rhs(t0,y), y)\n",
        "    rand_v0 = jnp.array(np.random.uniform(size=Ny))\n",
        "\n",
        "    def f_scan(v0, _):\n",
        "        v = f_jvp(v0)\n",
        "        u = jnp.sum(v0*v)/jnp.sum(v0*v0)\n",
        "        v = v/jnp.linalg.norm(v)\n",
        "        return v, u\n",
        "\n",
        "    _, us = jax.lax.scan(f_scan, rand_v0, xs=None, length=10)\n",
        "\n",
        "    return jnp.any(us<-25)\n",
        "\n",
        "def auto_ivp(rhs, trange, y0, u=None, h=1, atol=1e-6, rtol=1e-3):\n",
        "    rhsty=jax.jit(lambda t,y: rhs(t,y,u))\n",
        "\n",
        "    Ny=y0.size\n",
        "    t0,tend= trange\n",
        "    step_exp=get_explicit_step(rhs,u)\n",
        "    step_imp=get_implicit_step(rhs,u)\n",
        "    t=t0\n",
        "    y=y0\n",
        "    ts=[t0]\n",
        "    ys=[y]\n",
        "    stiffs=[]\n",
        "    counts=[]\n",
        "    hs=[]\n",
        "    def h_ok(y1,y2,h):\n",
        "\n",
        "        ratio = jnp.max(jnp.abs(y1-y2)/(atol+rtol*jnp.abs(y1)))\n",
        "        if ratio>1:\n",
        "            hnew = h/2\n",
        "            return False, h/2, h/2\n",
        "        if ratio<0.5:\n",
        "            return True, h*1.5, h\n",
        "        return True, h, h\n",
        "\n",
        "    while t<tend:\n",
        "        stiff=0\n",
        "        count=0\n",
        "        hnew= h\n",
        "        if is_stiff(rhsty, t, y):\n",
        "            stiff=1\n",
        "            while True:\n",
        "                count+=1\n",
        "                yb1, yb2 = step_imp(t,y,hnew)\n",
        "                hok, hnew, h = h_ok(yb1, yb2, hnew)\n",
        "                if hok:\n",
        "                    break\n",
        "        else:\n",
        "            while True:\n",
        "                count+=1\n",
        "                yb1, yb2 = step_exp(t,y,hnew)\n",
        "                hok, hnew, h = h_ok(yb1, yb2, hnew)\n",
        "                if hok:\n",
        "                    break\n",
        "        t=t+h\n",
        "        y=yb1\n",
        "        ts.append(t)\n",
        "        ys.append(y)\n",
        "        stiffs.append(stiff)\n",
        "        counts.append(count)\n",
        "        hs.append(h)\n",
        "        h=hnew\n",
        "\n",
        "    return jnp.array(ts), jnp.stack(ys,axis=1),jnp.array(stiffs),jnp.array(counts),jnp.array(hs)\n",
        ""
      ],
      "metadata": {
        "id": "9nhCkrI4cgze"
      },
      "execution_count": 130,
      "outputs": []
    },
    {
      "cell_type": "code",
      "source": [
        "y0=jnp.array([1.,0.])\n",
        "u=jnp.array([1.,1.])\n",
        "ts, ys, stiffs, counts, hs=auto_ivp(vdp,(0,3000.), y0, u=u, h=0.01, atol=1e-12,rtol=1e-10)"
      ],
      "metadata": {
        "id": "aWxk1wmfuuJP"
      },
      "execution_count": 140,
      "outputs": []
    },
    {
      "cell_type": "code",
      "source": [
        "stiffs.sum()/stiffs.size"
      ],
      "metadata": {
        "colab": {
          "base_uri": "https://localhost:8080/"
        },
        "id": "vT9NDUavRh_z",
        "outputId": "44083c8d-4fb0-4cdc-d567-364b8836a177"
      },
      "execution_count": 141,
      "outputs": [
        {
          "output_type": "execute_result",
          "data": {
            "text/plain": [
              "Array(0.8070432179, dtype=float64)"
            ]
          },
          "metadata": {},
          "execution_count": 141
        }
      ]
    },
    {
      "cell_type": "code",
      "source": [
        "np.histogram(counts,bins=[0,1,2,3,4,5])"
      ],
      "metadata": {
        "colab": {
          "base_uri": "https://localhost:8080/"
        },
        "id": "yWffyPQqRq_b",
        "outputId": "d64ca64a-26f8-4871-f3d5-e52eb62a404f"
      },
      "execution_count": 142,
      "outputs": [
        {
          "output_type": "execute_result",
          "data": {
            "text/plain": [
              "(array([    0, 65034,  9412,    23,    14]), array([0, 1, 2, 3, 4, 5]))"
            ]
          },
          "metadata": {},
          "execution_count": 142
        }
      ]
    },
    {
      "cell_type": "code",
      "source": [
        "np.histogram(hs)"
      ],
      "metadata": {
        "colab": {
          "base_uri": "https://localhost:8080/"
        },
        "id": "N4QxMFkFR9ih",
        "outputId": "cdfdad50-bab9-4f36-ddd2-d60a083a9055"
      },
      "execution_count": 143,
      "outputs": [
        {
          "output_type": "execute_result",
          "data": {
            "text/plain": [
              "(array([66706,  3051,  1585,  1102,   864,   542,   333,   174,   100,    26]),\n",
              " array([2.4827023059e-05, 1.0787707276e-01, 2.1572931850e-01, 3.2358156424e-01, 4.3143380998e-01, 5.3928605572e-01, 6.4713830146e-01, 7.5499054720e-01, 8.6284279293e-01, 9.7069503867e-01,\n",
              "        1.0785472844e+00]))"
            ]
          },
          "metadata": {},
          "execution_count": 143
        }
      ]
    },
    {
      "cell_type": "code",
      "source": [
        "\n",
        "tend=3000\n",
        "res=solve_ivp(jax.jit(vdp),(0,tend),y0,method='LSODA',args=(u,), dense_output=True,atol=1e-12,rtol=1e-10)"
      ],
      "metadata": {
        "id": "2Cz5QMJLqJE4"
      },
      "execution_count": 144,
      "outputs": []
    },
    {
      "cell_type": "code",
      "source": [
        "res.sol(ts)[:,-10:]"
      ],
      "metadata": {
        "colab": {
          "base_uri": "https://localhost:8080/"
        },
        "id": "c6hUiBIs0V-i",
        "outputId": "d6fa25e9-e1ed-41c8-874d-4734fc1affa9"
      },
      "execution_count": 145,
      "outputs": [
        {
          "output_type": "execute_result",
          "data": {
            "text/plain": [
              "array([[-1.3852584286, -1.3831675457, -1.3815927517, -1.3792197423, -1.3780283067, -1.3762349068, -1.374884884 , -1.3728517526, -1.3713204478, -1.3690129585],\n",
              "       [ 0.0150688518,  0.015141387 ,  0.0151965307,  0.0152804696,  0.0153230014,  0.0153875181,  0.0154364822,  0.0155108755,  0.0155674321,  0.0156535219]])"
            ]
          },
          "metadata": {},
          "execution_count": 145
        }
      ]
    },
    {
      "cell_type": "code",
      "source": [
        "ys[:,-10:]"
      ],
      "metadata": {
        "colab": {
          "base_uri": "https://localhost:8080/"
        },
        "id": "qXawl4v80kcJ",
        "outputId": "415ba747-966a-4cdc-ad09-9d01046a1c38"
      },
      "execution_count": 146,
      "outputs": [
        {
          "output_type": "execute_result",
          "data": {
            "text/plain": [
              "Array([[-1.3852584816, -1.383167599 , -1.3815928052, -1.3792197961, -1.3780283607, -1.376234961 , -1.3748849383, -1.3728518072, -1.3713205026, -1.3690130136],\n",
              "       [ 0.0150688499,  0.0151413851,  0.0151965288,  0.0152804677,  0.0153229995,  0.0153875162,  0.0154364803,  0.0155108735,  0.01556743  ,  0.0156535198]], dtype=float64)"
            ]
          },
          "metadata": {},
          "execution_count": 146
        }
      ]
    },
    {
      "cell_type": "code",
      "source": [
        "res.t.size"
      ],
      "metadata": {
        "colab": {
          "base_uri": "https://localhost:8080/"
        },
        "id": "ZKgjmOFh7yeU",
        "outputId": "1e94b250-a973-4274-a31b-8975bdfb5840"
      },
      "execution_count": 147,
      "outputs": [
        {
          "output_type": "execute_result",
          "data": {
            "text/plain": [
              "42206"
            ]
          },
          "metadata": {},
          "execution_count": 147
        }
      ]
    },
    {
      "cell_type": "code",
      "source": [
        "ts.size"
      ],
      "metadata": {
        "colab": {
          "base_uri": "https://localhost:8080/"
        },
        "id": "TE05LePLNThm",
        "outputId": "69c98265-3141-425f-9ca7-db8e795aa0d3"
      },
      "execution_count": 148,
      "outputs": [
        {
          "output_type": "execute_result",
          "data": {
            "text/plain": [
              "74484"
            ]
          },
          "metadata": {},
          "execution_count": 148
        }
      ]
    },
    {
      "cell_type": "code",
      "source": [],
      "metadata": {
        "id": "KBVJK2zyRUNY"
      },
      "execution_count": null,
      "outputs": []
    }
  ]
}