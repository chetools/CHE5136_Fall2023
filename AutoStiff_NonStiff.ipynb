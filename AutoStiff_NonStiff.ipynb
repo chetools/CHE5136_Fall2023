{
  "nbformat": 4,
  "nbformat_minor": 0,
  "metadata": {
    "colab": {
      "provenance": [],
      "authorship_tag": "ABX9TyNH+LASf67vjF72mYVWcOoo",
      "include_colab_link": true
    },
    "kernelspec": {
      "name": "python3",
      "display_name": "Python 3"
    },
    "language_info": {
      "name": "python"
    }
  },
  "cells": [
    {
      "cell_type": "markdown",
      "metadata": {
        "id": "view-in-github",
        "colab_type": "text"
      },
      "source": [
        "<a href=\"https://colab.research.google.com/github/profteachkids/CHE5136_Fall2023/blob/main/AutoStiff_NonStiff.ipynb\" target=\"_parent\"><img src=\"https://colab.research.google.com/assets/colab-badge.svg\" alt=\"Open In Colab\"/></a>"
      ]
    },
    {
      "cell_type": "code",
      "execution_count": 1,
      "metadata": {
        "id": "5KkHti1-nKEu"
      },
      "outputs": [],
      "source": [
        "import jax\n",
        "import jax.numpy as jnp\n",
        "import numpy as np\n",
        "jax.config.update('jax_enable_x64',True)\n",
        "from scipy.integrate import solve_ivp\n",
        "from plotly.subplots import make_subplots"
      ]
    },
    {
      "cell_type": "code",
      "source": [
        "np.set_printoptions(linewidth=200)"
      ],
      "metadata": {
        "id": "eMlj5Z_iR0u7"
      },
      "execution_count": 98,
      "outputs": []
    },
    {
      "cell_type": "code",
      "source": [
        "def vdp(t,v):\n",
        "    return jnp.array([v[1], 100*(1 - v[0]**2)*v[1] - v[0]])\n",
        "\n",
        "y0=jnp.array([0.5,0.5])\n",
        "tend=2."
      ],
      "metadata": {
        "id": "7T4L7mJUnjKI"
      },
      "execution_count": 99,
      "outputs": []
    },
    {
      "cell_type": "code",
      "source": [
        "#Lobatto IIIC\n",
        "f16=1/6\n",
        "f13=1/3\n",
        "f23=2/3\n",
        "f512=5/12\n",
        "f112=1/12\n",
        "\n",
        "a_lobatto=np.array([[f16, -f13, f16],\n",
        "                    [f16, f512, -f112],\n",
        "                    [f16, f23, f16]])\n",
        "\n",
        "c_lobatto=np.array([0, 0.5, 1])\n",
        "b1_lobatto = np.array([f16, f23, f16])\n",
        "b2_lobatto = np.array([-0.5, 2, -0.5])\n",
        "\n",
        "a_DormandPrince = np.array([[0,     0,      0,      0,      0,      0,      0],\n",
        "                            [1/5,   0,      0,      0,      0,      0,      0],\n",
        "                            [3/40,  9/40,   0,      0,      0,      0,      0],\n",
        "                            [44/45, -56/15, 32/9,   0,      0,      0,      0],\n",
        "                            [19372/6561,    -25360/2187,    64448/6561,     -212/729,   0,      0, 0],\n",
        "                            [9017/3168,     -355/33,        46732/5247,     49/176,     -5103/18656,    0, 0],\n",
        "                            [35/384,        0,          500/1113,       125/192,        -2187/6784,     11/84, 0]])\n",
        "c_DormandPrince = np.array([0, 1/5, 3/10, 4/5, 8/9, 1, 1.])\n",
        "b1_DormandPrince = np.array([35/384, 0, 500/1113, 125/192, -2187/6784, 11/84, 0])\n",
        "b2_DormandPrince = np.array([5179/57600, 0, 7571/16695, 393/640, -92097/339200, 187/2100, 1/40])\n",
        "\n",
        "def get_ks(rhs, Ny, t0, y0, h, a, c):\n",
        "    tvec = t0+c*h\n",
        "\n",
        "    def f_scan(ik, act):\n",
        "        i,k=ik\n",
        "        a,c,t = act\n",
        "        k=k.at[i].set(rhs(t,y0+h*a@k))\n",
        "        return (i+1,k), None\n",
        "\n",
        "    return jax.lax.scan(f_scan, (0,jnp.zeros((c.shape[0], Ny))), (a, c, tvec))\n",
        "\n",
        "h=0.0025\n",
        "(_,k),_=get_ks(vdp, y0.size, 0., y0, h, a_DormandPrince, c_DormandPrince)\n",
        "y0 + h*b1_DormandPrince@k, y0 + h*b2_DormandPrince@k"
      ],
      "metadata": {
        "colab": {
          "base_uri": "https://localhost:8080/"
        },
        "id": "_tJfKoBfJzl4",
        "outputId": "02a9ddd2-b39d-40f2-f30a-9d6544b70c0e"
      },
      "execution_count": 208,
      "outputs": [
        {
          "output_type": "execute_result",
          "data": {
            "text/plain": [
              "(Array([0.50137312, 0.60163824], dtype=float64),\n",
              " Array([0.50137312, 0.60163832], dtype=float64))"
            ]
          },
          "metadata": {},
          "execution_count": 208
        }
      ]
    },
    {
      "cell_type": "code",
      "source": [
        "def get_k_func(rhs, Ny, a, c):\n",
        "    Nstages = c.size\n",
        "    rhs_vec=jax.vmap(rhs,in_axes=(0,0),out_axes=0)\n",
        "\n",
        "    def k_func(t,y,h,k):\n",
        "        k=k.reshape(Nstages,Ny)\n",
        "        tvec = t+c*h\n",
        "        yvec = y + h*a@k\n",
        "        return (k-rhs_vec(tvec,yvec)).ravel()\n",
        "\n",
        "    return jax.jit(k_func)\n",
        "\n",
        "k_func=get_k_func(vdp, y0.size, a_lobatto, c_lobatto)\n",
        "t0=0\n",
        "kguess = jnp.tile( vdp(0,y0).reshape(1,-1),(3,1)).ravel()\n",
        "k_func(0,y0,h,kguess)  #3 x Ny\n",
        "k_func_jac=jax.jit(jax.jacobian(k_func,3))\n",
        "k=kguess\n",
        "yold=y0\n",
        "for i in range(10):\n",
        "    f=k_func(0,y0,h,k)\n",
        "    if jnp.linalg.norm(f)<1e-12:\n",
        "        break\n",
        "    dk = jnp.linalg.solve(k_func_jac(0,y0,h,kguess), -f)\n",
        "    k=k+dk\n",
        "k=k.reshape(3,y0.size)\n",
        "ynew1 = yold + h*(b1_lobatto@k)\n",
        "ynew2 = yold + h*(b2_lobatto@k)\n",
        "ynew1, ynew2"
      ],
      "metadata": {
        "colab": {
          "base_uri": "https://localhost:8080/"
        },
        "id": "iO4HgpNNLzVV",
        "outputId": "61bbeeec-ddc8-4a9b-c457-d2747f09cd3f"
      },
      "execution_count": 174,
      "outputs": [
        {
          "output_type": "execute_result",
          "data": {
            "text/plain": [
              "(Array([0.50020425, 0.51511551], dtype=float64),\n",
              " Array([0.50020422, 0.51511329], dtype=float64))"
            ]
          },
          "metadata": {},
          "execution_count": 174
        }
      ]
    },
    {
      "cell_type": "code",
      "source": [
        "\n",
        "res=solve_ivp(vdp,(0,tend),y0,method='Radau',dense_output=True,atol=1e-10,rtol=1e-8)\n",
        "sol=res.sol"
      ],
      "metadata": {
        "id": "2Cz5QMJLqJE4"
      },
      "execution_count": 160,
      "outputs": []
    },
    {
      "cell_type": "code",
      "source": [
        "sol(res.t[1])"
      ],
      "metadata": {
        "colab": {
          "base_uri": "https://localhost:8080/"
        },
        "id": "HVKmNGLVVQj0",
        "outputId": "bbb48a74-2a0c-488f-c47c-460e7467c994"
      },
      "execution_count": 169,
      "outputs": [
        {
          "output_type": "execute_result",
          "data": {
            "text/plain": [
              "array([0.50020425, 0.51511551])"
            ]
          },
          "metadata": {},
          "execution_count": 169
        }
      ]
    },
    {
      "cell_type": "code",
      "source": [
        "sol(h)"
      ],
      "metadata": {
        "colab": {
          "base_uri": "https://localhost:8080/"
        },
        "id": "D2PjBWBh-JXB",
        "outputId": "0a42acae-427a-4c13-ede6-589b44b7182d"
      },
      "execution_count": 153,
      "outputs": [
        {
          "output_type": "execute_result",
          "data": {
            "text/plain": [
              "array([0.50005019, 0.50371378])"
            ]
          },
          "metadata": {},
          "execution_count": 153
        }
      ]
    },
    {
      "cell_type": "code",
      "source": [
        "np.linalg.eig(jac(0,y0))"
      ],
      "metadata": {
        "colab": {
          "base_uri": "https://localhost:8080/"
        },
        "id": "ANFK6Si3-MsH",
        "outputId": "913bf08a-0ae5-48fa-db59-c29da5456639"
      },
      "execution_count": 47,
      "outputs": [
        {
          "output_type": "execute_result",
          "data": {
            "text/plain": [
              "(array([ 0.68627973, 74.31372027]),\n",
              " array([[-0.82451134, -0.01345525],\n",
              "        [-0.56584542, -0.99990947]]))"
            ]
          },
          "metadata": {},
          "execution_count": 47
        }
      ]
    },
    {
      "cell_type": "code",
      "source": [
        "y, f_jvp=jax.linearize(lambda v: rhs_sin(0,v), y0)"
      ],
      "metadata": {
        "id": "I-ynudT2-j5h"
      },
      "execution_count": 48,
      "outputs": []
    },
    {
      "cell_type": "code",
      "source": [
        "bold=np.random.uniform(size=2)"
      ],
      "metadata": {
        "id": "LoHXB757_Zzl"
      },
      "execution_count": 52,
      "outputs": []
    },
    {
      "cell_type": "code",
      "source": [
        "for i in range(10):\n",
        "    bnew= f_jvp(bold)\n",
        "    u = jnp.sum(bold*bnew)/jnp.sum(bold*bold)\n",
        "    bnew=bnew/jnp.linalg.norm(bnew)\n",
        "    bold=bnew\n",
        "    print(u)"
      ],
      "metadata": {
        "colab": {
          "base_uri": "https://localhost:8080/"
        },
        "id": "NtdcyMzB_emE",
        "outputId": "8634a836-00dc-4f21-ddbb-1066e2a13ccc"
      },
      "execution_count": 53,
      "outputs": [
        {
          "output_type": "stream",
          "name": "stdout",
          "text": [
            "-0.5105499729765429\n",
            "-0.44862685393586843\n",
            "-0.38985779374212254\n",
            "-0.37186965013939727\n",
            "-0.36555942435890987\n",
            "-0.3632254153489002\n",
            "-0.36234473167396125\n",
            "-0.36200990370770625\n",
            "-0.36188223796252467\n",
            "-0.3618335070777532\n"
          ]
        }
      ]
    },
    {
      "cell_type": "code",
      "source": [
        "np.set_printoptions(precision=15)\n",
        "y=[y0]\n",
        "yprev=y0.copy()\n",
        "\n",
        "dt=0.01\n",
        "tplot = np.arange(0,tend*1.01,dt)\n",
        "for t in tplot:\n",
        "    ls, vs= np.linalg.eig(jac(0,yprev))\n",
        "    cs = np.linalg.solve(vs,yprev)\n",
        "    yprev=np.real(vs@(cs*jnp.exp(ls*dt)))\n",
        "    y.append(yprev)"
      ],
      "metadata": {
        "id": "QdGSiOhpwJv-"
      },
      "execution_count": null,
      "outputs": []
    },
    {
      "cell_type": "code",
      "source": [
        "linear_y=jnp.stack(y,axis=1)"
      ],
      "metadata": {
        "id": "OiN-_aqgwW8b"
      },
      "execution_count": null,
      "outputs": []
    },
    {
      "cell_type": "code",
      "source": [
        "fig=make_subplots()\n",
        "fig.add_scatter(x=tplot,y=linear_y[0])\n",
        "fig.add_scatter(x=tplot,y=sol(tplot)[0])"
      ],
      "metadata": {
        "id": "hnzNMai4MVoL"
      },
      "execution_count": null,
      "outputs": []
    },
    {
      "cell_type": "code",
      "source": [],
      "metadata": {
        "id": "l_81xqCSMy-C"
      },
      "execution_count": null,
      "outputs": []
    }
  ]
}