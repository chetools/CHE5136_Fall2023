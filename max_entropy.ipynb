{
  "nbformat": 4,
  "nbformat_minor": 0,
  "metadata": {
    "colab": {
      "provenance": [],
      "authorship_tag": "ABX9TyMr9nCMY93dSm0oIM/Me5wX",
      "include_colab_link": true
    },
    "kernelspec": {
      "name": "python3",
      "display_name": "Python 3"
    },
    "language_info": {
      "name": "python"
    }
  },
  "cells": [
    {
      "cell_type": "markdown",
      "metadata": {
        "id": "view-in-github",
        "colab_type": "text"
      },
      "source": [
        "<a href=\"https://colab.research.google.com/github/profteachkids/CHE5136_Fall2023/blob/main/max_entropy.ipynb\" target=\"_parent\"><img src=\"https://colab.research.google.com/assets/colab-badge.svg\" alt=\"Open In Colab\"/></a>"
      ]
    },
    {
      "cell_type": "code",
      "execution_count": 1,
      "metadata": {
        "id": "si23QG3VVleB"
      },
      "outputs": [],
      "source": [
        "import numpy as np\n",
        "import jax\n",
        "jax.config.update('jax_enable_x64',True)\n",
        "import jax.numpy as jnp\n",
        "from plotly.subplots import make_subplots\n",
        "from scipy.optimize import minimize\n",
        "import scipy as sp"
      ]
    },
    {
      "cell_type": "code",
      "source": [
        "Np = 11\n",
        "x = np.arange(Np)\n",
        "p_guess = np.full(Np, 1./Np)"
      ],
      "metadata": {
        "id": "bf8FsbFTWQBl"
      },
      "execution_count": 4,
      "outputs": []
    },
    {
      "cell_type": "code",
      "source": [
        "def neg_entropy(p):\n",
        "    return np.sum(p*np.log(p))"
      ],
      "metadata": {
        "id": "wsh45DZ0Vmj-"
      },
      "execution_count": 6,
      "outputs": []
    },
    {
      "cell_type": "code",
      "source": [
        "def psum1(p):\n",
        "    return np.sum(p)-1."
      ],
      "metadata": {
        "id": "VosTeohXW0mS"
      },
      "execution_count": 7,
      "outputs": []
    },
    {
      "cell_type": "code",
      "source": [],
      "metadata": {
        "id": "P4Zk4_bqXAir"
      },
      "execution_count": null,
      "outputs": []
    }
  ]
}