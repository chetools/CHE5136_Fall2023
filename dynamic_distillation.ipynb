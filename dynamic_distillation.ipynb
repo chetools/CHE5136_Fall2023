{
  "nbformat": 4,
  "nbformat_minor": 0,
  "metadata": {
    "colab": {
      "provenance": [],
      "authorship_tag": "ABX9TyOhbfwvNdYIedqogpLkQGVL",
      "include_colab_link": true
    },
    "kernelspec": {
      "name": "python3",
      "display_name": "Python 3"
    },
    "language_info": {
      "name": "python"
    }
  },
  "cells": [
    {
      "cell_type": "markdown",
      "metadata": {
        "id": "view-in-github",
        "colab_type": "text"
      },
      "source": [
        "<a href=\"https://colab.research.google.com/github/profteachkids/CHE5136_Fall2023/blob/main/dynamic_distillation.ipynb\" target=\"_parent\"><img src=\"https://colab.research.google.com/assets/colab-badge.svg\" alt=\"Open In Colab\"/></a>"
      ]
    },
    {
      "cell_type": "code",
      "execution_count": 1,
      "metadata": {
        "id": "P80iQistnGuJ"
      },
      "outputs": [],
      "source": [
        "import numpy as np\n",
        "from scipy.integrate import solve_ivp\n"
      ]
    },
    {
      "cell_type": "code",
      "source": [
        "NT=3\n",
        "NF=2\n",
        "weir_constant = 0.1\n",
        "F = 1.\n",
        "zF = 0.6\n",
        "q = 0.5\n",
        "\n",
        "D = 0.55\n",
        "R = 2\n",
        "\n",
        "tray_m = 0.1  #molar holdup on tray\n",
        "reboiler_m = 0.5\n",
        "condenser_m = 0.5\n",
        "\n",
        "Vrec = (R+1)*D\n",
        "Vstrip = Vrec- (1-q)*F\n",
        "V=np.r_[np.repeat(Vstrip,NF), np.repeat(Vrec, NT-NF+1), 0.] #total condenser"
      ],
      "metadata": {
        "id": "ynF8uRS-ykFK"
      },
      "execution_count": 8,
      "outputs": []
    },
    {
      "cell_type": "code",
      "source": [],
      "metadata": {
        "colab": {
          "base_uri": "https://localhost:8080/"
        },
        "id": "hbsR03nW0U18",
        "outputId": "0f104439-8106-4d5e-8583-224772ce2204"
      },
      "execution_count": 6,
      "outputs": [
        {
          "output_type": "execute_result",
          "data": {
            "text/plain": [
              "array([1.15, 1.15, 1.65, 1.65, 0.  ])"
            ]
          },
          "metadata": {},
          "execution_count": 6
        }
      ]
    },
    {
      "cell_type": "code",
      "source": [],
      "metadata": {
        "id": "PlDRQD9g0u-8"
      },
      "execution_count": null,
      "outputs": []
    },
    {
      "cell_type": "code",
      "source": [
        "def rhs(t,vec):\n",
        "    m, x = np.split(vec,2)\n",
        "    dm ="
      ],
      "metadata": {
        "id": "ZodNmCAwy0sh"
      },
      "execution_count": null,
      "outputs": []
    }
  ]
}