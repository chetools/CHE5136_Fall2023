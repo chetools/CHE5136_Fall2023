{
  "nbformat": 4,
  "nbformat_minor": 0,
  "metadata": {
    "colab": {
      "provenance": [],
      "authorship_tag": "ABX9TyM/HSOUxHFWW6NhX3fNAVaa",
      "include_colab_link": true
    },
    "kernelspec": {
      "name": "python3",
      "display_name": "Python 3"
    },
    "language_info": {
      "name": "python"
    }
  },
  "cells": [
    {
      "cell_type": "markdown",
      "metadata": {
        "id": "view-in-github",
        "colab_type": "text"
      },
      "source": [
        "<a href=\"https://colab.research.google.com/github/profteachkids/CHE5136_Fall2023/blob/main/TFFeedbackControlLoop.ipynb\" target=\"_parent\"><img src=\"https://colab.research.google.com/assets/colab-badge.svg\" alt=\"Open In Colab\"/></a>"
      ]
    },
    {
      "cell_type": "code",
      "execution_count": 14,
      "metadata": {
        "id": "ClIwiY5HyByh"
      },
      "outputs": [],
      "source": [
        "import numpy as np\n",
        "import jax\n",
        "jax.config.update('jax_enable_x64',True)\n",
        "import jax.numpy as jnp\n",
        "from plotly.subplots import make_subplots\n",
        "from scipy.optimize import root\n",
        "import scipy.signal as sig\n",
        "from numpy.polynomial import Polynomial as P\n",
        "from scipy.signal import TransferFunction as TF"
      ]
    },
    {
      "cell_type": "code",
      "source": [
        "P([1.,3.,5,7.2]) * P([2,3.,4.])"
      ],
      "metadata": {
        "colab": {
          "base_uri": "https://localhost:8080/",
          "height": 39
        },
        "id": "aqJz45yeydAr",
        "outputId": "17af30bd-0be5-40e6-83fc-888cb4f4b58f"
      },
      "execution_count": 11,
      "outputs": [
        {
          "output_type": "execute_result",
          "data": {
            "text/plain": [
              "Polynomial([ 2. ,  9. , 23. , 41.4, 41.6, 28.8], domain=[-1.,  1.], window=[-1.,  1.])"
            ],
            "text/latex": "$x \\mapsto \\text{2.0} + \\text{9.0}\\,x + \\text{23.0}\\,x^{2} + \\text{41.4}\\,x^{3} + \\text{41.6}\\,x^{4} + \\text{28.8}\\,x^{5}$"
          },
          "metadata": {},
          "execution_count": 11
        }
      ]
    },
    {
      "cell_type": "code",
      "source": [
        "def TF2poly(tf):\n",
        "    return P(tf.num[::-1]), P(tf.den[::-1])\n",
        "\n",
        "def poly2TF(n,d):\n",
        "    return TF(n.coef[::-1],d.coef[::-1])\n",
        "\n",
        "def TFmult(tf1, tf2):\n",
        "    n1, d1 = TF2poly(tf1)\n",
        "    n2, d2 = TF2poly(tf2)\n",
        "\n",
        "    return poly2TF(n1*n2, d1*d2)\n",
        "\n",
        "def pid(Kc, taui, taud):\n",
        "    return TF([Kc*taud*taui, Kc*taui, Kc],[taui,0.])\n"
      ],
      "metadata": {
        "id": "iLu7i_cL_79x"
      },
      "execution_count": 48,
      "outputs": []
    },
    {
      "cell_type": "code",
      "source": [
        "tf1=TF([1., 2],[1., 3., 4])\n",
        "tf2=TF([1.],[1., -3., 1.])"
      ],
      "metadata": {
        "id": "VmhomeHYA_uw"
      },
      "execution_count": 46,
      "outputs": []
    },
    {
      "cell_type": "code",
      "source": [
        "A1=1.\n",
        "R1=2.\n",
        "A2 = 1.\n",
        "R2=2.\n",
        "QctoQ2 = TF([1],[A1*R1, 1.])\n",
        "Q2toH2 = TF([R2],[A2*R2,1.])"
      ],
      "metadata": {
        "id": "YOfYd65pB5HM"
      },
      "execution_count": 51,
      "outputs": []
    },
    {
      "cell_type": "code",
      "source": [
        "Kc=1.\n",
        "taui=10.\n",
        "taud=0.1\n",
        "TF_fwd = TFmult(pid(Kc,taui, taud),TFmult(QctoQ2, Q2toH2))"
      ],
      "metadata": {
        "id": "HXdT20CFCCBW"
      },
      "execution_count": 54,
      "outputs": []
    },
    {
      "cell_type": "code",
      "source": [],
      "metadata": {
        "id": "ZyTYf41hC1fY"
      },
      "execution_count": null,
      "outputs": []
    }
  ]
}