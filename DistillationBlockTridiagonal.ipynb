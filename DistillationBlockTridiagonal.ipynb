{
  "nbformat": 4,
  "nbformat_minor": 0,
  "metadata": {
    "colab": {
      "provenance": [],
      "authorship_tag": "ABX9TyNgBYzXoS/cxtJEpoIc6eyt",
      "include_colab_link": true
    },
    "kernelspec": {
      "name": "python3",
      "display_name": "Python 3"
    },
    "language_info": {
      "name": "python"
    }
  },
  "cells": [
    {
      "cell_type": "markdown",
      "metadata": {
        "id": "view-in-github",
        "colab_type": "text"
      },
      "source": [
        "<a href=\"https://colab.research.google.com/github/profteachkids/CHE5136_Fall2023/blob/main/DistillationBlockTridiagonal.ipynb\" target=\"_parent\"><img src=\"https://colab.research.google.com/assets/colab-badge.svg\" alt=\"Open In Colab\"/></a>"
      ]
    },
    {
      "cell_type": "code",
      "source": [
        "!wget -N -q https://raw.githubusercontent.com/profteachkids/chetools/main/tools/che5.ipynb -O che5.ipynb\n",
        "!pip install importnb"
      ],
      "metadata": {
        "colab": {
          "base_uri": "https://localhost:8080/"
        },
        "id": "vfbfP7OvpY8u",
        "outputId": "26e45da7-ceb8-4b4a-e46d-3919a23ec83f"
      },
      "execution_count": 1,
      "outputs": [
        {
          "output_type": "stream",
          "name": "stdout",
          "text": [
            "Collecting importnb\n",
            "  Downloading importnb-2023.1.7-py3-none-any.whl (42 kB)\n",
            "\u001b[?25l     \u001b[90m━━━━━━━━━━━━━━━━━━━━━━━━━━━━━━━━━━━━━━━━\u001b[0m \u001b[32m0.0/42.9 kB\u001b[0m \u001b[31m?\u001b[0m eta \u001b[36m-:--:--\u001b[0m\r\u001b[2K     \u001b[90m━━━━━━━━━━━━━━━━━━━━━━━━━━━━━━━━━━━━━━━━\u001b[0m \u001b[32m42.9/42.9 kB\u001b[0m \u001b[31m1.3 MB/s\u001b[0m eta \u001b[36m0:00:00\u001b[0m\n",
            "\u001b[?25hInstalling collected packages: importnb\n",
            "Successfully installed importnb-2023.1.7\n"
          ]
        }
      ]
    },
    {
      "cell_type": "code",
      "execution_count": 2,
      "metadata": {
        "id": "krgz_MgppEFR"
      },
      "outputs": [],
      "source": [
        "import jax\n",
        "jax.config.update('jax_enable_x64',True)\n",
        "import jax.numpy as jnp\n",
        "import numpy as np\n",
        "from scipy.optimize import root, root_scalar, minimize, bracket, minimize_scalar\n",
        "from functools import partial\n",
        "from plotly.subplots import make_subplots\n",
        "np.set_printoptions(precision=4, linewidth=200)\n",
        "jnp.set_printoptions(precision=4, linewidth=200)"
      ]
    },
    {
      "cell_type": "code",
      "source": [
        "from importnb import Notebook\n",
        "with Notebook():\n",
        "    from che5 import Props"
      ],
      "metadata": {
        "id": "3VwvbqqApJcL",
        "colab": {
          "base_uri": "https://localhost:8080/"
        },
        "outputId": "c244b54b-a444-4974-b56a-f065d7d0af05"
      },
      "execution_count": 3,
      "outputs": [
        {
          "output_type": "stream",
          "name": "stderr",
          "text": [
            "WARNING:jax._src.xla_bridge:No GPU/TPU found, falling back to CPU. (Set TF_CPP_MIN_LOG_LEVEL=0 and rerun for more info.)\n"
          ]
        }
      ]
    },
    {
      "cell_type": "code",
      "source": [
        "@jax.jit\n",
        "def bubbleT_eq(T, x, P):\n",
        "    return jnp.sum(x*p.NRTL_gamma(x,T)*p.Pvap(T)/P) - 1.\n",
        "\n",
        "bubbleT_gradT=jax.jit(jax.grad(bubbleT_eq, 0))\n",
        "bubbleT_gradT2=jax.jit(jax.grad(bubbleT_gradT, 0))\n",
        "\n",
        "def bubbleT_calc(x,P):\n",
        "    Tguess = jnp.sum(x*p.Tb(P))\n",
        "\n",
        "    res=root_scalar(lambda T: bubbleT_eq(T,x,P), x0=Tguess,\n",
        "                    fprime=lambda T: bubbleT_gradT(T,x,P),\n",
        "                    fprime2=lambda T: bubbleT_gradT2(T,x,P), method='halley')\n",
        "    if not(res.converged):\n",
        "        print(res)\n",
        "    bubbleT=res.root\n",
        "    return bubbleT, x*p.NRTL_gamma(x,bubbleT)*p.Pvap(bubbleT)/P\n",
        "\n",
        "\n",
        "\n",
        "@jax.jit\n",
        "def dewT_eq(vec, y, P):\n",
        "    T=vec[0]\n",
        "    x=vec[1:]\n",
        "    return jnp.r_[jnp.sum(y*P/p.NRTL_gamma(x,T)/p.Pvap(T))-1.,\n",
        "                            jnp.sum(x)-1.]\n",
        "\n",
        "dewT_jac=jax.jit(jax.jacobian(dewT_eq,0))\n",
        "\n",
        "def dewT_calc(y,P):\n",
        "\n",
        "    bubbleT = bubbleT_calc(y,P)[0]\n",
        "\n",
        "    res=minimize(lambda x: 0., x0=np.r_[bubbleT*1.05, y], method='SLSQP',\n",
        "                 bounds=np.r_[ np.c_[bubbleT, None], np.c_[jnp.zeros_like(y), jnp.ones_like(y)]],\n",
        "                 constraints=dict(type='eq', fun=lambda vec: dewT_eq(vec, y, P), jac=lambda vec: dewT_jac(vec, y,P)),\n",
        "                 tol=1e-12,\n",
        "                 options=dict(maxiter=1000))\n",
        "    if not(res.success):\n",
        "        print(res)\n",
        "    return res.x[0], res.x[1:]\n",
        "\n",
        "@jax.jit\n",
        "def flash_eq(vec, z, q, P):\n",
        "    T=vec[0]\n",
        "    x=vec[1:]\n",
        "    K = p.NRTL_gamma(x,T)*p.Pvap(T)/P\n",
        "    return jnp.r_[z/x - (q+K*(1-q)),\n",
        "                    jnp.sum(x)-1.]\n",
        "\n",
        "flash_eq_jac=jax.jit(jax.jacobian(flash_eq))\n",
        "\n",
        "def flash(F, q, P):\n",
        "\n",
        "    Ftot=jnp.sum(F)\n",
        "    z=F/Ftot\n",
        "\n",
        "    bubbleT=bubbleT_calc(z,P)[0]\n",
        "    dewT=dewT_calc(z,P)[0]\n",
        "\n",
        "    res=minimize(lambda x: 0., x0=np.r_[(bubbleT+dewT)/2,z], method='SLSQP',\n",
        "                 bounds=np.r_[np.c_[bubbleT,dewT], np.c_[np.zeros_like(F), np.ones_like(F)]],\n",
        "                 constraints=dict(type='eq', fun=lambda vec: flash_eq(vec, z, q, P), jac=lambda vec: flash_eq_jac(vec, z, q,P)),\n",
        "                 options=dict(maxiter=10000))\n",
        "    if not(res.success):\n",
        "        print(res)\n",
        "    return res.x[0], q*Ftot*res.x[1:]"
      ],
      "metadata": {
        "id": "JGeFY-iHLX8x"
      },
      "execution_count": 17,
      "outputs": []
    },
    {
      "cell_type": "code",
      "source": [
        "@partial(jax.jit, static_argnums=(6,))\n",
        "def eq(vec2, vec, vec1, F, FH=0, Q=0.,kind=3):\n",
        "    T1 = vec1[0] #tray below\n",
        "    T2 = vec2[0] #tray above\n",
        "    T = vec[0]\n",
        "    v1, l1 = jnp.split(vec1[1:],2)\n",
        "    v2, l2 = jnp.split(vec2[1:],2)\n",
        "    v, l = jnp.split(vec[1:],2)\n",
        "\n",
        "    vtot, ltot = jnp.sum(v), jnp.sum(l)\n",
        "\n",
        "    x, y = l/ltot, v/vtot\n",
        "\n",
        "    EQUIL = x*p.NRTL_gamma(x,T)*p.Pvap(T)/P - y\n",
        "\n",
        "    if kind==1: #reboiler\n",
        "        ENTHALPY = ltot-B\n",
        "        MB = (l2 - l - v)\n",
        "    elif kind==2: #condenser\n",
        "        ENTHALPY = ltot-R*D\n",
        "        MB = (v1 - l - v - x*D)\n",
        "\n",
        "    elif kind==3:  #tray\n",
        "        ENTHALPY = (FH + Q + p.Hl(l2, T2) + p.Hv(v1, T1) - p.Hl(l, T) - p.Hv(v, T))/1e5\n",
        "        MB = (F + v1 + l2 - l - v)\n",
        "\n",
        "    return jnp.r_[jnp.atleast_1d(ENTHALPY), MB, EQUIL]\n",
        "\n",
        "eq_reboiler=partial(eq, kind=1)\n",
        "eq_condenser=partial(eq, kind=2)\n",
        "eq_tray=partial(eq, kind=3)\n",
        "eq_condenser_jac = jax.jacobian(eq_condenser,(0,1,2))\n",
        "eq_reboiler_jac = jax.jacobian(eq_reboiler,(0,1,2))\n",
        "eq_tray_jac = jax.jacobian(eq_tray, (0,1,2))"
      ],
      "metadata": {
        "id": "I05Gtsl93iik"
      },
      "execution_count": 18,
      "outputs": []
    },
    {
      "cell_type": "code",
      "source": [
        "p=Props(['Ethanol','Water'])\n",
        "P=101325.\n",
        "NT=10\n",
        "NF=2\n",
        "F = jnp.array([1., 1.])\n",
        "NC=F.size\n",
        "Fzeros = jnp.zeros(NC)\n",
        "Ftot = jnp.sum(F)\n",
        "z=F/Ftot\n",
        "\n",
        "q = 0.999\n",
        "FT, FL=flash(F,q,P)\n",
        "FV = F-FL\n",
        "FH = p.Hl(FL,FT)+p.Hv(FV,FT)\n",
        "\n",
        "D = Ftot/2\n",
        "B = Ftot-D\n",
        "R = 2\n",
        "\n",
        "Vtot_rec = (R+1)*D\n",
        "Ltot_rec = R*D\n",
        "\n",
        "Vtot_strip = Vtot_rec - jnp.sum(FV)\n",
        "Ltot_strip = Ltot_rec + jnp.sum(FL)\n",
        "\n",
        "vec_zeros = jnp.zeros(NC*2+1)\n",
        "Vtot = np.r_[np.repeat(Vtot_strip,NF),np.repeat(Vtot_rec,NT-NF+1),0.]\n",
        "Ltot = np.r_[B, np.repeat(Ltot_strip,NF), np.repeat(Ltot_rec,NT-NF+1)]\n",
        "\n",
        "dewT, dewx=dewT_calc(z,P)\n",
        "bubbleT, bubbley=bubbleT_calc(z,P)"
      ],
      "metadata": {
        "id": "w3OwWl_h3lZE"
      },
      "execution_count": 19,
      "outputs": []
    },
    {
      "cell_type": "code",
      "source": [
        "TFR = np.zeros(NT+2)\n",
        "TFR=np.linspace(dewT,bubbleT,NT+2)\n",
        "Lguess=np.zeros((NT+2,NC))\n",
        "\n",
        "Lguess[:NF+1] = dewx*Ltot[:NF+1,None]\n",
        "Lguess[NF+1:] = bubbley*Ltot[NF+1:,None]\n",
        "Vguess=np.zeros_like(Lguess)\n",
        "\n",
        "Vguess[:NF+1]= Lguess[:NF+1]-B*dewx\n",
        "Vguess[NF+1:]=Lguess[NF+1:]+D*bubbley\n",
        "Vguess[0]=Vguess[1]\n",
        "Vguess[-1]=1e-6*Vguess[-2]\n",
        "\n",
        "vecguess = jnp.c_[TFR, Vguess, Lguess]\n",
        "\n",
        "\n",
        "Fs = np.zeros((NT+2,2*NC+1))\n",
        "Cs = np.zeros((NT+2,2*NC+1,2*NC+1))\n",
        "dvec = jnp.zeros((NT+2,2*NC+1))\n",
        "mask = np.ones_like(vecguess)\n",
        "mask[-1,1:NC+1]=0"
      ],
      "metadata": {
        "id": "yhyKIdAUdEZn"
      },
      "execution_count": 20,
      "outputs": []
    },
    {
      "cell_type": "code",
      "source": [
        "@jax.jit\n",
        "def evalF(vecguess):\n",
        "    eqFs = jnp.zeros((NT+2,2*NC+1))\n",
        "    eqFs=eqFs.at[NT+1].set(eq_condenser(vec_zeros,vecguess[NT+1],vecguess[NT], Fzeros))\n",
        "    for i in range(NT,NF,-1):\n",
        "        eqFs=eqFs.at[i].set(eq_tray(vecguess[i+1], vecguess[i], vecguess[i-1], F=Fzeros))\n",
        "    eqFs=eqFs.at[NF].set(eq_tray(vecguess[NF+1], vecguess[NF], vecguess[NF-1], F=F, FH=FH))\n",
        "    for i in range(NF-1,0,-1):\n",
        "        eqFs=eqFs.at[i].set(eq_tray(vecguess[i+1], vecguess[i], vecguess[i-1], F=Fzeros))\n",
        "    eqFs=eqFs.at[0].set(eq_reboiler(vecguess[1],vecguess[0], vec_zeros, F=Fzeros))\n",
        "\n",
        "    return eqFs\n",
        "\n",
        "@jax.jit\n",
        "def norm_evalF_t(t, vecguess, dvec):\n",
        "    return jnp.linalg.norm(evalF(vecguess + t*dvec))"
      ],
      "metadata": {
        "id": "FzA8zxQgQdIl"
      },
      "execution_count": 21,
      "outputs": []
    },
    {
      "cell_type": "code",
      "source": [
        "\n",
        "for iter in range(25):\n",
        "    eqFs=evalF(vecguess)\n",
        "    print(np.linalg.norm(eqFs))\n",
        "    _,eqB,eqC = eq_condenser_jac(vec_zeros,vecguess[NT+1],vecguess[NT], Fzeros)\n",
        "\n",
        "    Binv = np.linalg.inv(eqB)\n",
        "    Cs[NT+1]=Binv @ eqC\n",
        "    Fs[NT+1]=Binv @ eqFs[NT+1]\n",
        "\n",
        "    for i in range(NT,NF,-1):\n",
        "        eqA,eqB,eqC=eq_tray_jac(vecguess[i+1], vecguess[i], vecguess[i-1], F=Fzeros)\n",
        "        bacinv = np.linalg.inv(eqB-eqA @ Cs[i+1])\n",
        "        Cs[i]=bacinv @ eqC\n",
        "        Fs[i]=bacinv @ (eqFs[i] - eqA @ Fs[i+1])\n",
        "\n",
        "    eqA,eqB,eqC=eq_tray_jac(vecguess[NF+1], vecguess[NF], vecguess[NF-1], F=F, FH=FH)\n",
        "    bacinv = np.linalg.inv(eqB-eqA @ Cs[NF+1])\n",
        "    Cs[NF]=bacinv @ eqC\n",
        "    Fs[NF]=bacinv @ (eqFs[NF] - eqA @ Fs[NF+1])\n",
        "\n",
        "    for i in range(NF-1,0,-1):\n",
        "        eqA,eqB,eqC=eq_tray_jac(vecguess[i+1], vecguess[i], vecguess[i-1], F=Fzeros)\n",
        "        bacinv = np.linalg.inv(eqB-eqA @ Cs[i+1])\n",
        "        Cs[i]=bacinv @ eqC\n",
        "        Fs[i]=bacinv @ (eqFs[i] - eqA @ Fs[i+1])\n",
        "\n",
        "    eqA,eqB,_ = eq_reboiler_jac(vecguess[1],vecguess[0], vec_zeros, F=Fzeros)\n",
        "    bacinv = np.linalg.inv(eqB-eqA @ Cs[1])\n",
        "    Fs[0]=bacinv @ (eqFs[0] - eqA @ Fs[1])\n",
        "\n",
        "    dvec=dvec.at[0].set(-Fs[0])\n",
        "    for i in range(1,NT+2):\n",
        "        Fs[i] = (Fs[i]-Cs[i]@Fs[i-1])\n",
        "        dvec=dvec.at[i].set(-Fs[i])\n",
        "\n",
        "    xa,xb,xc, *_=bracket(lambda t: norm_evalF_t(t, vecguess, dvec), 0., 1.)\n",
        "    t=minimize_scalar(lambda t: norm_evalF_t(t, vecguess, dvec), bracket=(xa, xb, xc)).x\n",
        "\n",
        "    vecguess = vecguess + t*dvec\n",
        "\n",
        "\n"
      ],
      "metadata": {
        "colab": {
          "base_uri": "https://localhost:8080/"
        },
        "id": "30GKZobm3Jwz",
        "outputId": "662e47ae-2338-43ff-ea83-8f170465b838"
      },
      "execution_count": 22,
      "outputs": [
        {
          "output_type": "stream",
          "name": "stdout",
          "text": [
            "3.9218822148758257\n",
            "1.6232126073990911\n",
            "1.1754123306949806\n",
            "0.5297224707234198\n",
            "0.2632056873054013\n",
            "0.07166137895090846\n",
            "0.036328079169354446\n",
            "0.017598616429873565\n",
            "0.00483360043414416\n",
            "0.0026393657800259894\n",
            "0.0011718260356895444\n",
            "0.000315784952163071\n",
            "0.0001742700442984663\n",
            "7.477912654767694e-05\n",
            "2.0029709612557243e-05\n",
            "1.1078759752997807e-05\n",
            "4.710188633267591e-06\n",
            "1.2587417576874842e-06\n",
            "6.970138172222347e-07\n",
            "2.954272712465792e-07\n",
            "7.825314786464824e-08\n",
            "4.389492741739652e-08\n",
            "2.9343801760269073e-08\n",
            "3.979933270627616e-09\n",
            "7.863573065204904e-10\n"
          ]
        }
      ]
    },
    {
      "cell_type": "code",
      "source": [
        "x=vecguess[:,-NC:]/np.sum(vecguess[:,-NC:],axis=1)[:,None]\n",
        "y=vecguess[:,1:NC+1]/np.sum(vecguess[:,1:NC+1],axis=1)[:,None]\n",
        "print(x)\n",
        "print()\n",
        "print(y)"
      ],
      "metadata": {
        "colab": {
          "base_uri": "https://localhost:8080/"
        },
        "id": "XJTqS5zUJ452",
        "outputId": "432b73f7-addc-4f98-8257-ad6bc55515c6"
      },
      "execution_count": 23,
      "outputs": [
        {
          "output_type": "stream",
          "name": "stdout",
          "text": [
            "[[0.1892 0.8108]\n",
            " [0.4429 0.5571]\n",
            " [0.5198 0.4802]\n",
            " [0.5864 0.4136]\n",
            " [0.6319 0.3681]\n",
            " [0.6666 0.3334]\n",
            " [0.6951 0.3049]\n",
            " [0.72   0.28  ]\n",
            " [0.7429 0.2571]\n",
            " [0.765  0.235 ]\n",
            " [0.7873 0.2127]\n",
            " [0.8108 0.1892]]\n",
            "\n",
            "[[0.5296 0.4704]\n",
            " [0.6316 0.3684]\n",
            " [0.6621 0.3379]\n",
            " [0.6921 0.3079]\n",
            " [0.715  0.285 ]\n",
            " [0.7339 0.2661]\n",
            " [0.7504 0.2496]\n",
            " [0.7656 0.2344]\n",
            " [0.7803 0.2197]\n",
            " [0.7952 0.2048]\n",
            " [0.8108 0.1892]\n",
            " [0.828  0.172 ]]\n"
          ]
        }
      ]
    },
    {
      "cell_type": "code",
      "source": [
        "McCabeXY=np.c_[np.repeat(x[:-1,0],2),np.repeat(y[:-1,0],2)]\n",
        "McCabeXY[1:,1]=McCabeXY[:-1,1]\n",
        "McCabeXY[0,1]=McCabeXY[0,0]\n",
        "McCabeXY=np.r_[McCabeXY, np.atleast_2d(np.repeat(McCabeXY[-1,1],2))]"
      ],
      "metadata": {
        "id": "fJcUSDsWEw9O"
      },
      "execution_count": 24,
      "outputs": []
    },
    {
      "cell_type": "code",
      "source": [
        "xplot=np.linspace(0,1,50)\n",
        "yplot=[]\n",
        "for x in xplot:\n",
        "    T,y=bubbleT_calc( np.array([x,1-x]),P)\n",
        "    yplot.append(y[0])"
      ],
      "metadata": {
        "id": "RADu0RX-H_dX"
      },
      "execution_count": 25,
      "outputs": []
    },
    {
      "cell_type": "code",
      "source": [
        "fig=make_subplots()\n",
        "fig.add_scatter(x=McCabeXY[:,0],y=McCabeXY[:,1],mode='lines')\n",
        "fig.add_scatter(x=xplot, y=yplot, mode='lines',line_color='gray')\n",
        "fig.add_scatter(x=McCabeXY[::2,0],y=McCabeXY[::2,1],mode='lines',line_color='gray')\n",
        "fig.update_xaxes(range=(0,1))\n",
        "fig.update_yaxes(range=(0,1))\n",
        "fig.update_layout(width=600,height=600,template='plotly_dark', showlegend=False)"
      ],
      "metadata": {
        "colab": {
          "base_uri": "https://localhost:8080/",
          "height": 617
        },
        "id": "FvjBcTRKFDxc",
        "outputId": "972c52bf-b312-407a-b92b-b6c4efde953b"
      },
      "execution_count": 26,
      "outputs": [
        {
          "output_type": "display_data",
          "data": {
            "text/html": [
              "<html>\n",
              "<head><meta charset=\"utf-8\" /></head>\n",
              "<body>\n",
              "    <div>            <script src=\"https://cdnjs.cloudflare.com/ajax/libs/mathjax/2.7.5/MathJax.js?config=TeX-AMS-MML_SVG\"></script><script type=\"text/javascript\">if (window.MathJax && window.MathJax.Hub && window.MathJax.Hub.Config) {window.MathJax.Hub.Config({SVG: {font: \"STIX-Web\"}});}</script>                <script type=\"text/javascript\">window.PlotlyConfig = {MathJaxConfig: 'local'};</script>\n",
              "        <script charset=\"utf-8\" src=\"https://cdn.plot.ly/plotly-2.24.1.min.js\"></script>                <div id=\"42193322-d13b-4f2d-82dc-efa26bd0a916\" class=\"plotly-graph-div\" style=\"height:600px; width:600px;\"></div>            <script type=\"text/javascript\">                                    window.PLOTLYENV=window.PLOTLYENV || {};                                    if (document.getElementById(\"42193322-d13b-4f2d-82dc-efa26bd0a916\")) {                    Plotly.newPlot(                        \"42193322-d13b-4f2d-82dc-efa26bd0a916\",                        [{\"mode\":\"lines\",\"x\":[0.18921022159555934,0.18921022159555934,0.4429159583178651,0.4429159583178651,0.5197635125120246,0.5197635125120246,0.5864015209702066,0.5864015209702066,0.6319454316029065,0.6319454316029065,0.6665799769470548,0.6665799769470548,0.6950553019491986,0.6950553019491986,0.7199543952240977,0.7199543952240977,0.7428889157536426,0.7428889157536426,0.7650186929229492,0.7650186929229492,0.7873238785510169,0.7873238785510169,0.8107897784040212],\"y\":[0.18921022159555934,0.5295813388972368,0.5295813388972368,0.6316028585388713,0.6316028585388713,0.6620743515740721,0.6620743515740721,0.692112202051812,0.692112202051812,0.7150073055140438,0.7150073055140438,0.7338632276264493,0.7338632276264493,0.7503743282911607,0.7503743282911607,0.7656016261253501,0.7656016261253501,0.7803117043474984,0.7803117043474984,0.795155322175002,0.795155322175002,0.8107897784040212,0.8107897784040212],\"type\":\"scatter\"},{\"line\":{\"color\":\"gray\"},\"mode\":\"lines\",\"x\":[0.0,0.02040816326530612,0.04081632653061224,0.061224489795918366,0.08163265306122448,0.1020408163265306,0.12244897959183673,0.14285714285714285,0.16326530612244897,0.18367346938775508,0.2040816326530612,0.22448979591836732,0.24489795918367346,0.26530612244897955,0.2857142857142857,0.3061224489795918,0.32653061224489793,0.3469387755102041,0.36734693877551017,0.3877551020408163,0.4081632653061224,0.42857142857142855,0.44897959183673464,0.4693877551020408,0.4897959183673469,0.5102040816326531,0.5306122448979591,0.5510204081632653,0.5714285714285714,0.5918367346938775,0.6122448979591836,0.6326530612244897,0.6530612244897959,0.673469387755102,0.6938775510204082,0.7142857142857142,0.7346938775510203,0.7551020408163265,0.7755102040816326,0.7959183673469387,0.8163265306122448,0.836734693877551,0.8571428571428571,0.8775510204081632,0.8979591836734693,0.9183673469387754,0.9387755102040816,0.9591836734693877,0.9795918367346939,1.0],\"y\":[0.0,0.17885624407358058,0.28762580485659384,0.35913087361653145,0.40895964961766856,0.4453065777293359,0.47283548429171673,0.49437351023428355,0.5117239103231495,0.5260859264564843,0.5382853557395749,0.5489078240977627,0.5583792473721579,0.5670162558810791,0.5750588342682613,0.5826920553172217,0.5900609169482615,0.597280697512798,0.6044443274540772,0.6116277312023912,0.6188937611124956,0.6262951374933668,0.6338766758109414,0.6416769952673266,0.64972984511985,0.6580651459247352,0.6667098159291763,0.6756884340093399,0.6850237772285751,0.6947372615434377,0.7048493072666144,0.7153796458290467,0.7263475806376037,0.7377722120318454,0.7496726342455083,0.7620681106927545,0.7749782326958718,0.7884230658546738,0.8024232875607681,0.817000318631843,0.8321764516442949,0.8479749782519864,0.8644203175718389,0.881538147581973,0.899355541401952,0.9179011103031378,0.9372051553229725,0.9572998294306777,0.9782193123109644,0.9999999999999999],\"type\":\"scatter\"},{\"line\":{\"color\":\"gray\"},\"mode\":\"lines\",\"x\":[0.18921022159555934,0.4429159583178651,0.5197635125120246,0.5864015209702066,0.6319454316029065,0.6665799769470548,0.6950553019491986,0.7199543952240977,0.7428889157536426,0.7650186929229492,0.7873238785510169,0.8107897784040212],\"y\":[0.18921022159555934,0.5295813388972368,0.6316028585388713,0.6620743515740721,0.692112202051812,0.7150073055140438,0.7338632276264493,0.7503743282911607,0.7656016261253501,0.7803117043474984,0.795155322175002,0.8107897784040212],\"type\":\"scatter\"}],                        {\"template\":{\"data\":{\"barpolar\":[{\"marker\":{\"line\":{\"color\":\"rgb(17,17,17)\",\"width\":0.5},\"pattern\":{\"fillmode\":\"overlay\",\"size\":10,\"solidity\":0.2}},\"type\":\"barpolar\"}],\"bar\":[{\"error_x\":{\"color\":\"#f2f5fa\"},\"error_y\":{\"color\":\"#f2f5fa\"},\"marker\":{\"line\":{\"color\":\"rgb(17,17,17)\",\"width\":0.5},\"pattern\":{\"fillmode\":\"overlay\",\"size\":10,\"solidity\":0.2}},\"type\":\"bar\"}],\"carpet\":[{\"aaxis\":{\"endlinecolor\":\"#A2B1C6\",\"gridcolor\":\"#506784\",\"linecolor\":\"#506784\",\"minorgridcolor\":\"#506784\",\"startlinecolor\":\"#A2B1C6\"},\"baxis\":{\"endlinecolor\":\"#A2B1C6\",\"gridcolor\":\"#506784\",\"linecolor\":\"#506784\",\"minorgridcolor\":\"#506784\",\"startlinecolor\":\"#A2B1C6\"},\"type\":\"carpet\"}],\"choropleth\":[{\"colorbar\":{\"outlinewidth\":0,\"ticks\":\"\"},\"type\":\"choropleth\"}],\"contourcarpet\":[{\"colorbar\":{\"outlinewidth\":0,\"ticks\":\"\"},\"type\":\"contourcarpet\"}],\"contour\":[{\"colorbar\":{\"outlinewidth\":0,\"ticks\":\"\"},\"colorscale\":[[0.0,\"#0d0887\"],[0.1111111111111111,\"#46039f\"],[0.2222222222222222,\"#7201a8\"],[0.3333333333333333,\"#9c179e\"],[0.4444444444444444,\"#bd3786\"],[0.5555555555555556,\"#d8576b\"],[0.6666666666666666,\"#ed7953\"],[0.7777777777777778,\"#fb9f3a\"],[0.8888888888888888,\"#fdca26\"],[1.0,\"#f0f921\"]],\"type\":\"contour\"}],\"heatmapgl\":[{\"colorbar\":{\"outlinewidth\":0,\"ticks\":\"\"},\"colorscale\":[[0.0,\"#0d0887\"],[0.1111111111111111,\"#46039f\"],[0.2222222222222222,\"#7201a8\"],[0.3333333333333333,\"#9c179e\"],[0.4444444444444444,\"#bd3786\"],[0.5555555555555556,\"#d8576b\"],[0.6666666666666666,\"#ed7953\"],[0.7777777777777778,\"#fb9f3a\"],[0.8888888888888888,\"#fdca26\"],[1.0,\"#f0f921\"]],\"type\":\"heatmapgl\"}],\"heatmap\":[{\"colorbar\":{\"outlinewidth\":0,\"ticks\":\"\"},\"colorscale\":[[0.0,\"#0d0887\"],[0.1111111111111111,\"#46039f\"],[0.2222222222222222,\"#7201a8\"],[0.3333333333333333,\"#9c179e\"],[0.4444444444444444,\"#bd3786\"],[0.5555555555555556,\"#d8576b\"],[0.6666666666666666,\"#ed7953\"],[0.7777777777777778,\"#fb9f3a\"],[0.8888888888888888,\"#fdca26\"],[1.0,\"#f0f921\"]],\"type\":\"heatmap\"}],\"histogram2dcontour\":[{\"colorbar\":{\"outlinewidth\":0,\"ticks\":\"\"},\"colorscale\":[[0.0,\"#0d0887\"],[0.1111111111111111,\"#46039f\"],[0.2222222222222222,\"#7201a8\"],[0.3333333333333333,\"#9c179e\"],[0.4444444444444444,\"#bd3786\"],[0.5555555555555556,\"#d8576b\"],[0.6666666666666666,\"#ed7953\"],[0.7777777777777778,\"#fb9f3a\"],[0.8888888888888888,\"#fdca26\"],[1.0,\"#f0f921\"]],\"type\":\"histogram2dcontour\"}],\"histogram2d\":[{\"colorbar\":{\"outlinewidth\":0,\"ticks\":\"\"},\"colorscale\":[[0.0,\"#0d0887\"],[0.1111111111111111,\"#46039f\"],[0.2222222222222222,\"#7201a8\"],[0.3333333333333333,\"#9c179e\"],[0.4444444444444444,\"#bd3786\"],[0.5555555555555556,\"#d8576b\"],[0.6666666666666666,\"#ed7953\"],[0.7777777777777778,\"#fb9f3a\"],[0.8888888888888888,\"#fdca26\"],[1.0,\"#f0f921\"]],\"type\":\"histogram2d\"}],\"histogram\":[{\"marker\":{\"pattern\":{\"fillmode\":\"overlay\",\"size\":10,\"solidity\":0.2}},\"type\":\"histogram\"}],\"mesh3d\":[{\"colorbar\":{\"outlinewidth\":0,\"ticks\":\"\"},\"type\":\"mesh3d\"}],\"parcoords\":[{\"line\":{\"colorbar\":{\"outlinewidth\":0,\"ticks\":\"\"}},\"type\":\"parcoords\"}],\"pie\":[{\"automargin\":true,\"type\":\"pie\"}],\"scatter3d\":[{\"line\":{\"colorbar\":{\"outlinewidth\":0,\"ticks\":\"\"}},\"marker\":{\"colorbar\":{\"outlinewidth\":0,\"ticks\":\"\"}},\"type\":\"scatter3d\"}],\"scattercarpet\":[{\"marker\":{\"colorbar\":{\"outlinewidth\":0,\"ticks\":\"\"}},\"type\":\"scattercarpet\"}],\"scattergeo\":[{\"marker\":{\"colorbar\":{\"outlinewidth\":0,\"ticks\":\"\"}},\"type\":\"scattergeo\"}],\"scattergl\":[{\"marker\":{\"line\":{\"color\":\"#283442\"}},\"type\":\"scattergl\"}],\"scattermapbox\":[{\"marker\":{\"colorbar\":{\"outlinewidth\":0,\"ticks\":\"\"}},\"type\":\"scattermapbox\"}],\"scatterpolargl\":[{\"marker\":{\"colorbar\":{\"outlinewidth\":0,\"ticks\":\"\"}},\"type\":\"scatterpolargl\"}],\"scatterpolar\":[{\"marker\":{\"colorbar\":{\"outlinewidth\":0,\"ticks\":\"\"}},\"type\":\"scatterpolar\"}],\"scatter\":[{\"marker\":{\"line\":{\"color\":\"#283442\"}},\"type\":\"scatter\"}],\"scatterternary\":[{\"marker\":{\"colorbar\":{\"outlinewidth\":0,\"ticks\":\"\"}},\"type\":\"scatterternary\"}],\"surface\":[{\"colorbar\":{\"outlinewidth\":0,\"ticks\":\"\"},\"colorscale\":[[0.0,\"#0d0887\"],[0.1111111111111111,\"#46039f\"],[0.2222222222222222,\"#7201a8\"],[0.3333333333333333,\"#9c179e\"],[0.4444444444444444,\"#bd3786\"],[0.5555555555555556,\"#d8576b\"],[0.6666666666666666,\"#ed7953\"],[0.7777777777777778,\"#fb9f3a\"],[0.8888888888888888,\"#fdca26\"],[1.0,\"#f0f921\"]],\"type\":\"surface\"}],\"table\":[{\"cells\":{\"fill\":{\"color\":\"#506784\"},\"line\":{\"color\":\"rgb(17,17,17)\"}},\"header\":{\"fill\":{\"color\":\"#2a3f5f\"},\"line\":{\"color\":\"rgb(17,17,17)\"}},\"type\":\"table\"}]},\"layout\":{\"annotationdefaults\":{\"arrowcolor\":\"#f2f5fa\",\"arrowhead\":0,\"arrowwidth\":1},\"autotypenumbers\":\"strict\",\"coloraxis\":{\"colorbar\":{\"outlinewidth\":0,\"ticks\":\"\"}},\"colorscale\":{\"diverging\":[[0,\"#8e0152\"],[0.1,\"#c51b7d\"],[0.2,\"#de77ae\"],[0.3,\"#f1b6da\"],[0.4,\"#fde0ef\"],[0.5,\"#f7f7f7\"],[0.6,\"#e6f5d0\"],[0.7,\"#b8e186\"],[0.8,\"#7fbc41\"],[0.9,\"#4d9221\"],[1,\"#276419\"]],\"sequential\":[[0.0,\"#0d0887\"],[0.1111111111111111,\"#46039f\"],[0.2222222222222222,\"#7201a8\"],[0.3333333333333333,\"#9c179e\"],[0.4444444444444444,\"#bd3786\"],[0.5555555555555556,\"#d8576b\"],[0.6666666666666666,\"#ed7953\"],[0.7777777777777778,\"#fb9f3a\"],[0.8888888888888888,\"#fdca26\"],[1.0,\"#f0f921\"]],\"sequentialminus\":[[0.0,\"#0d0887\"],[0.1111111111111111,\"#46039f\"],[0.2222222222222222,\"#7201a8\"],[0.3333333333333333,\"#9c179e\"],[0.4444444444444444,\"#bd3786\"],[0.5555555555555556,\"#d8576b\"],[0.6666666666666666,\"#ed7953\"],[0.7777777777777778,\"#fb9f3a\"],[0.8888888888888888,\"#fdca26\"],[1.0,\"#f0f921\"]]},\"colorway\":[\"#636efa\",\"#EF553B\",\"#00cc96\",\"#ab63fa\",\"#FFA15A\",\"#19d3f3\",\"#FF6692\",\"#B6E880\",\"#FF97FF\",\"#FECB52\"],\"font\":{\"color\":\"#f2f5fa\"},\"geo\":{\"bgcolor\":\"rgb(17,17,17)\",\"lakecolor\":\"rgb(17,17,17)\",\"landcolor\":\"rgb(17,17,17)\",\"showlakes\":true,\"showland\":true,\"subunitcolor\":\"#506784\"},\"hoverlabel\":{\"align\":\"left\"},\"hovermode\":\"closest\",\"mapbox\":{\"style\":\"dark\"},\"paper_bgcolor\":\"rgb(17,17,17)\",\"plot_bgcolor\":\"rgb(17,17,17)\",\"polar\":{\"angularaxis\":{\"gridcolor\":\"#506784\",\"linecolor\":\"#506784\",\"ticks\":\"\"},\"bgcolor\":\"rgb(17,17,17)\",\"radialaxis\":{\"gridcolor\":\"#506784\",\"linecolor\":\"#506784\",\"ticks\":\"\"}},\"scene\":{\"xaxis\":{\"backgroundcolor\":\"rgb(17,17,17)\",\"gridcolor\":\"#506784\",\"gridwidth\":2,\"linecolor\":\"#506784\",\"showbackground\":true,\"ticks\":\"\",\"zerolinecolor\":\"#C8D4E3\"},\"yaxis\":{\"backgroundcolor\":\"rgb(17,17,17)\",\"gridcolor\":\"#506784\",\"gridwidth\":2,\"linecolor\":\"#506784\",\"showbackground\":true,\"ticks\":\"\",\"zerolinecolor\":\"#C8D4E3\"},\"zaxis\":{\"backgroundcolor\":\"rgb(17,17,17)\",\"gridcolor\":\"#506784\",\"gridwidth\":2,\"linecolor\":\"#506784\",\"showbackground\":true,\"ticks\":\"\",\"zerolinecolor\":\"#C8D4E3\"}},\"shapedefaults\":{\"line\":{\"color\":\"#f2f5fa\"}},\"sliderdefaults\":{\"bgcolor\":\"#C8D4E3\",\"bordercolor\":\"rgb(17,17,17)\",\"borderwidth\":1,\"tickwidth\":0},\"ternary\":{\"aaxis\":{\"gridcolor\":\"#506784\",\"linecolor\":\"#506784\",\"ticks\":\"\"},\"baxis\":{\"gridcolor\":\"#506784\",\"linecolor\":\"#506784\",\"ticks\":\"\"},\"bgcolor\":\"rgb(17,17,17)\",\"caxis\":{\"gridcolor\":\"#506784\",\"linecolor\":\"#506784\",\"ticks\":\"\"}},\"title\":{\"x\":0.05},\"updatemenudefaults\":{\"bgcolor\":\"#506784\",\"borderwidth\":0},\"xaxis\":{\"automargin\":true,\"gridcolor\":\"#283442\",\"linecolor\":\"#506784\",\"ticks\":\"\",\"title\":{\"standoff\":15},\"zerolinecolor\":\"#283442\",\"zerolinewidth\":2},\"yaxis\":{\"automargin\":true,\"gridcolor\":\"#283442\",\"linecolor\":\"#506784\",\"ticks\":\"\",\"title\":{\"standoff\":15},\"zerolinecolor\":\"#283442\",\"zerolinewidth\":2}}},\"xaxis\":{\"anchor\":\"y\",\"domain\":[0.0,1.0],\"range\":[0,1]},\"yaxis\":{\"anchor\":\"x\",\"domain\":[0.0,1.0],\"range\":[0,1]},\"width\":600,\"height\":600,\"showlegend\":false},                        {\"responsive\": true}                    ).then(function(){\n",
              "                            \n",
              "var gd = document.getElementById('42193322-d13b-4f2d-82dc-efa26bd0a916');\n",
              "var x = new MutationObserver(function (mutations, observer) {{\n",
              "        var display = window.getComputedStyle(gd).display;\n",
              "        if (!display || display === 'none') {{\n",
              "            console.log([gd, 'removed!']);\n",
              "            Plotly.purge(gd);\n",
              "            observer.disconnect();\n",
              "        }}\n",
              "}});\n",
              "\n",
              "// Listen for the removal of the full notebook cells\n",
              "var notebookContainer = gd.closest('#notebook-container');\n",
              "if (notebookContainer) {{\n",
              "    x.observe(notebookContainer, {childList: true});\n",
              "}}\n",
              "\n",
              "// Listen for the clearing of the current output cell\n",
              "var outputEl = gd.closest('.output');\n",
              "if (outputEl) {{\n",
              "    x.observe(outputEl, {childList: true});\n",
              "}}\n",
              "\n",
              "                        })                };                            </script>        </div>\n",
              "</body>\n",
              "</html>"
            ]
          },
          "metadata": {}
        }
      ]
    },
    {
      "cell_type": "code",
      "source": [],
      "metadata": {
        "id": "HVc5ruhpJHG6"
      },
      "execution_count": 13,
      "outputs": []
    }
  ]
}